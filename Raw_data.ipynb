{
 "cells": [
  {
   "cell_type": "markdown",
   "id": "9b1e72fc",
   "metadata": {},
   "source": [
    "**1. Importing Necessary libraries**"
   ]
  },
  {
   "cell_type": "code",
   "execution_count": 1,
   "id": "6721f396",
   "metadata": {},
   "outputs": [],
   "source": [
    "import pandas as pd\n",
    "import os\n",
    "import glob\n",
    "import numpy as np\n",
    "import math\n",
    "import matplotlib.pyplot as plt\n",
    "from matplotlib.pyplot import figure\n",
    "from sklearn.preprocessing import StandardScaler\n",
    "sc = StandardScaler() "
   ]
  },
  {
   "cell_type": "code",
   "execution_count": 2,
   "id": "82ad020b",
   "metadata": {},
   "outputs": [
    {
     "data": {
      "text/html": [
       "<div>\n",
       "<style scoped>\n",
       "    .dataframe tbody tr th:only-of-type {\n",
       "        vertical-align: middle;\n",
       "    }\n",
       "\n",
       "    .dataframe tbody tr th {\n",
       "        vertical-align: top;\n",
       "    }\n",
       "\n",
       "    .dataframe thead th {\n",
       "        text-align: right;\n",
       "    }\n",
       "</style>\n",
       "<table border=\"1\" class=\"dataframe\">\n",
       "  <thead>\n",
       "    <tr style=\"text-align: right;\">\n",
       "      <th></th>\n",
       "      <th>#&lt;Time(ms)&gt;</th>\n",
       "      <th>&lt;True Range(m)&gt;</th>\n",
       "      <th>&lt;Est. Range(m)&gt;</th>\n",
       "      <th>&lt;Std dev(m)&gt;</th>\n",
       "      <th>&lt;Successes#&gt;</th>\n",
       "      <th>&lt;Burst#&gt;</th>\n",
       "      <th>&lt;RSSI(dBm)&gt;</th>\n",
       "      <th>&lt;Ch-MHz&gt;</th>\n",
       "      <th>&lt;AP-SSID&gt;</th>\n",
       "      <th>&lt;RTT AP?&gt;</th>\n",
       "    </tr>\n",
       "  </thead>\n",
       "  <tbody>\n",
       "    <tr>\n",
       "      <th>0</th>\n",
       "      <td>14011119</td>\n",
       "      <td>10</td>\n",
       "      <td>10.178</td>\n",
       "      <td>0.674</td>\n",
       "      <td>7</td>\n",
       "      <td>8</td>\n",
       "      <td>-72</td>\n",
       "      <td>5180</td>\n",
       "      <td>GoogleWiFi_AP03</td>\n",
       "      <td>1</td>\n",
       "    </tr>\n",
       "    <tr>\n",
       "      <th>1</th>\n",
       "      <td>14011501</td>\n",
       "      <td>10</td>\n",
       "      <td>10.452</td>\n",
       "      <td>0.142</td>\n",
       "      <td>7</td>\n",
       "      <td>8</td>\n",
       "      <td>-67</td>\n",
       "      <td>5180</td>\n",
       "      <td>GoogleWiFi_AP03</td>\n",
       "      <td>1</td>\n",
       "    </tr>\n",
       "    <tr>\n",
       "      <th>2</th>\n",
       "      <td>14011877</td>\n",
       "      <td>10</td>\n",
       "      <td>10.803</td>\n",
       "      <td>0.077</td>\n",
       "      <td>7</td>\n",
       "      <td>8</td>\n",
       "      <td>-72</td>\n",
       "      <td>5180</td>\n",
       "      <td>GoogleWiFi_AP03</td>\n",
       "      <td>1</td>\n",
       "    </tr>\n",
       "    <tr>\n",
       "      <th>3</th>\n",
       "      <td>14012262</td>\n",
       "      <td>10</td>\n",
       "      <td>10.530</td>\n",
       "      <td>0.194</td>\n",
       "      <td>7</td>\n",
       "      <td>8</td>\n",
       "      <td>-71</td>\n",
       "      <td>5180</td>\n",
       "      <td>GoogleWiFi_AP03</td>\n",
       "      <td>1</td>\n",
       "    </tr>\n",
       "    <tr>\n",
       "      <th>4</th>\n",
       "      <td>14012646</td>\n",
       "      <td>10</td>\n",
       "      <td>10.647</td>\n",
       "      <td>0.083</td>\n",
       "      <td>7</td>\n",
       "      <td>8</td>\n",
       "      <td>-67</td>\n",
       "      <td>5180</td>\n",
       "      <td>GoogleWiFi_AP03</td>\n",
       "      <td>1</td>\n",
       "    </tr>\n",
       "    <tr>\n",
       "      <th>...</th>\n",
       "      <td>...</td>\n",
       "      <td>...</td>\n",
       "      <td>...</td>\n",
       "      <td>...</td>\n",
       "      <td>...</td>\n",
       "      <td>...</td>\n",
       "      <td>...</td>\n",
       "      <td>...</td>\n",
       "      <td>...</td>\n",
       "      <td>...</td>\n",
       "    </tr>\n",
       "    <tr>\n",
       "      <th>294</th>\n",
       "      <td>13946465</td>\n",
       "      <td>9</td>\n",
       "      <td>8.655</td>\n",
       "      <td>0.125</td>\n",
       "      <td>7</td>\n",
       "      <td>8</td>\n",
       "      <td>-60</td>\n",
       "      <td>5180</td>\n",
       "      <td>GoogleWiFi_AP03</td>\n",
       "      <td>1</td>\n",
       "    </tr>\n",
       "    <tr>\n",
       "      <th>295</th>\n",
       "      <td>13946848</td>\n",
       "      <td>9</td>\n",
       "      <td>8.538</td>\n",
       "      <td>0.173</td>\n",
       "      <td>7</td>\n",
       "      <td>8</td>\n",
       "      <td>-60</td>\n",
       "      <td>5180</td>\n",
       "      <td>GoogleWiFi_AP03</td>\n",
       "      <td>1</td>\n",
       "    </tr>\n",
       "    <tr>\n",
       "      <th>296</th>\n",
       "      <td>13947235</td>\n",
       "      <td>9</td>\n",
       "      <td>8.420</td>\n",
       "      <td>0.182</td>\n",
       "      <td>7</td>\n",
       "      <td>8</td>\n",
       "      <td>-60</td>\n",
       "      <td>5180</td>\n",
       "      <td>GoogleWiFi_AP03</td>\n",
       "      <td>1</td>\n",
       "    </tr>\n",
       "    <tr>\n",
       "      <th>297</th>\n",
       "      <td>13947621</td>\n",
       "      <td>9</td>\n",
       "      <td>8.655</td>\n",
       "      <td>0.112</td>\n",
       "      <td>7</td>\n",
       "      <td>8</td>\n",
       "      <td>-60</td>\n",
       "      <td>5180</td>\n",
       "      <td>GoogleWiFi_AP03</td>\n",
       "      <td>1</td>\n",
       "    </tr>\n",
       "    <tr>\n",
       "      <th>298</th>\n",
       "      <td>13948008</td>\n",
       "      <td>9</td>\n",
       "      <td>8.733</td>\n",
       "      <td>0.111</td>\n",
       "      <td>7</td>\n",
       "      <td>8</td>\n",
       "      <td>-61</td>\n",
       "      <td>5180</td>\n",
       "      <td>GoogleWiFi_AP03</td>\n",
       "      <td>1</td>\n",
       "    </tr>\n",
       "  </tbody>\n",
       "</table>\n",
       "<p>7472 rows × 10 columns</p>\n",
       "</div>"
      ],
      "text/plain": [
       "     #<Time(ms)>  <True Range(m)>  <Est. Range(m)>  <Std dev(m)>  \\\n",
       "0       14011119               10           10.178         0.674   \n",
       "1       14011501               10           10.452         0.142   \n",
       "2       14011877               10           10.803         0.077   \n",
       "3       14012262               10           10.530         0.194   \n",
       "4       14012646               10           10.647         0.083   \n",
       "..           ...              ...              ...           ...   \n",
       "294     13946465                9            8.655         0.125   \n",
       "295     13946848                9            8.538         0.173   \n",
       "296     13947235                9            8.420         0.182   \n",
       "297     13947621                9            8.655         0.112   \n",
       "298     13948008                9            8.733         0.111   \n",
       "\n",
       "     <Successes#>  <Burst#>  <RSSI(dBm)>  <Ch-MHz>        <AP-SSID>  <RTT AP?>  \n",
       "0               7         8          -72      5180  GoogleWiFi_AP03          1  \n",
       "1               7         8          -67      5180  GoogleWiFi_AP03          1  \n",
       "2               7         8          -72      5180  GoogleWiFi_AP03          1  \n",
       "3               7         8          -71      5180  GoogleWiFi_AP03          1  \n",
       "4               7         8          -67      5180  GoogleWiFi_AP03          1  \n",
       "..            ...       ...          ...       ...              ...        ...  \n",
       "294             7         8          -60      5180  GoogleWiFi_AP03          1  \n",
       "295             7         8          -60      5180  GoogleWiFi_AP03          1  \n",
       "296             7         8          -60      5180  GoogleWiFi_AP03          1  \n",
       "297             7         8          -60      5180  GoogleWiFi_AP03          1  \n",
       "298             7         8          -61      5180  GoogleWiFi_AP03          1  \n",
       "\n",
       "[7472 rows x 10 columns]"
      ]
     },
     "execution_count": 2,
     "metadata": {},
     "output_type": "execute_result"
    }
   ],
   "source": [
    "os.chdir('C:/Users/LILA/RTT-RSS with Kalman/raw_dataset')\n",
    "extension='csv'\n",
    "\n",
    "all_filenames=[i for i in glob.glob('*.{}'.format(extension))]\n",
    "\n",
    "combined_csv=pd.concat([pd.read_csv(f) for f in all_filenames])\n",
    "dfff=combined_csv\n",
    "dfff"
   ]
  },
  {
   "cell_type": "code",
   "execution_count": 3,
   "id": "f082a0ee",
   "metadata": {},
   "outputs": [],
   "source": [
    "dfff.drop(['#<Time(ms)>','<Ch-MHz>','<Burst#>','<AP-SSID>','<Successes#>','<Std dev(m)>','<RTT AP?>'],axis=1,inplace=True)"
   ]
  },
  {
   "cell_type": "code",
   "execution_count": 4,
   "id": "8e345f91",
   "metadata": {},
   "outputs": [
    {
     "data": {
      "text/html": [
       "<div>\n",
       "<style scoped>\n",
       "    .dataframe tbody tr th:only-of-type {\n",
       "        vertical-align: middle;\n",
       "    }\n",
       "\n",
       "    .dataframe tbody tr th {\n",
       "        vertical-align: top;\n",
       "    }\n",
       "\n",
       "    .dataframe thead th {\n",
       "        text-align: right;\n",
       "    }\n",
       "</style>\n",
       "<table border=\"1\" class=\"dataframe\">\n",
       "  <thead>\n",
       "    <tr style=\"text-align: right;\">\n",
       "      <th></th>\n",
       "      <th>True_Range</th>\n",
       "      <th>Est_Range</th>\n",
       "      <th>RSSI</th>\n",
       "    </tr>\n",
       "  </thead>\n",
       "  <tbody>\n",
       "    <tr>\n",
       "      <th>0</th>\n",
       "      <td>10</td>\n",
       "      <td>10.178</td>\n",
       "      <td>-72</td>\n",
       "    </tr>\n",
       "    <tr>\n",
       "      <th>1</th>\n",
       "      <td>10</td>\n",
       "      <td>10.452</td>\n",
       "      <td>-67</td>\n",
       "    </tr>\n",
       "    <tr>\n",
       "      <th>2</th>\n",
       "      <td>10</td>\n",
       "      <td>10.803</td>\n",
       "      <td>-72</td>\n",
       "    </tr>\n",
       "    <tr>\n",
       "      <th>3</th>\n",
       "      <td>10</td>\n",
       "      <td>10.530</td>\n",
       "      <td>-71</td>\n",
       "    </tr>\n",
       "    <tr>\n",
       "      <th>4</th>\n",
       "      <td>10</td>\n",
       "      <td>10.647</td>\n",
       "      <td>-67</td>\n",
       "    </tr>\n",
       "    <tr>\n",
       "      <th>...</th>\n",
       "      <td>...</td>\n",
       "      <td>...</td>\n",
       "      <td>...</td>\n",
       "    </tr>\n",
       "    <tr>\n",
       "      <th>294</th>\n",
       "      <td>9</td>\n",
       "      <td>8.655</td>\n",
       "      <td>-60</td>\n",
       "    </tr>\n",
       "    <tr>\n",
       "      <th>295</th>\n",
       "      <td>9</td>\n",
       "      <td>8.538</td>\n",
       "      <td>-60</td>\n",
       "    </tr>\n",
       "    <tr>\n",
       "      <th>296</th>\n",
       "      <td>9</td>\n",
       "      <td>8.420</td>\n",
       "      <td>-60</td>\n",
       "    </tr>\n",
       "    <tr>\n",
       "      <th>297</th>\n",
       "      <td>9</td>\n",
       "      <td>8.655</td>\n",
       "      <td>-60</td>\n",
       "    </tr>\n",
       "    <tr>\n",
       "      <th>298</th>\n",
       "      <td>9</td>\n",
       "      <td>8.733</td>\n",
       "      <td>-61</td>\n",
       "    </tr>\n",
       "  </tbody>\n",
       "</table>\n",
       "<p>7472 rows × 3 columns</p>\n",
       "</div>"
      ],
      "text/plain": [
       "     True_Range  Est_Range  RSSI\n",
       "0            10     10.178   -72\n",
       "1            10     10.452   -67\n",
       "2            10     10.803   -72\n",
       "3            10     10.530   -71\n",
       "4            10     10.647   -67\n",
       "..          ...        ...   ...\n",
       "294           9      8.655   -60\n",
       "295           9      8.538   -60\n",
       "296           9      8.420   -60\n",
       "297           9      8.655   -60\n",
       "298           9      8.733   -61\n",
       "\n",
       "[7472 rows x 3 columns]"
      ]
     },
     "execution_count": 4,
     "metadata": {},
     "output_type": "execute_result"
    }
   ],
   "source": [
    "dfff.rename(columns={'<True Range(m)>': 'True_Range', '<Est. Range(m)>': 'Est_Range','<RSSI(dBm)>': 'RSSI'}, inplace=True)\n",
    "dfff"
   ]
  },
  {
   "cell_type": "markdown",
   "id": "0f8d5c93",
   "metadata": {},
   "source": [
    "**2. Extracting input and output data from Dataframe**"
   ]
  },
  {
   "cell_type": "code",
   "execution_count": 5,
   "id": "835dfffb",
   "metadata": {},
   "outputs": [
    {
     "data": {
      "text/plain": [
       "array([[ 10.178, -72.   ],\n",
       "       [ 10.452, -67.   ],\n",
       "       [ 10.803, -72.   ],\n",
       "       ...,\n",
       "       [  8.42 , -60.   ],\n",
       "       [  8.655, -60.   ],\n",
       "       [  8.733, -61.   ]])"
      ]
     },
     "execution_count": 5,
     "metadata": {},
     "output_type": "execute_result"
    }
   ],
   "source": [
    "X_valid = dfff.iloc[:,-2:].values\n",
    "y_valid = dfff['True_Range'].values\n",
    "X_valid"
   ]
  },
  {
   "cell_type": "code",
   "execution_count": 6,
   "id": "5c952e8d",
   "metadata": {},
   "outputs": [],
   "source": [
    "X_valid = sc.fit_transform(X_valid)\n"
   ]
  },
  {
   "cell_type": "code",
   "execution_count": 7,
   "id": "295d418b",
   "metadata": {},
   "outputs": [],
   "source": [
    "input_data=X_valid\n",
    "output_data=y_valid"
   ]
  },
  {
   "cell_type": "code",
   "execution_count": 8,
   "id": "7ee52a9d",
   "metadata": {},
   "outputs": [
    {
     "data": {
      "text/plain": [
       "(7472,)"
      ]
     },
     "execution_count": 8,
     "metadata": {},
     "output_type": "execute_result"
    }
   ],
   "source": [
    "\n",
    "output_data = np.array(output_data)\n",
    "output_data.shape"
   ]
  },
  {
   "cell_type": "code",
   "execution_count": 9,
   "id": "e5df4cb5",
   "metadata": {},
   "outputs": [],
   "source": [
    "# input_data = input_data.values #conversting dataframe format to array format\n",
    "# input_data = input_data.reshape(-1,1)\n",
    "X=input_data"
   ]
  },
  {
   "cell_type": "code",
   "execution_count": 10,
   "id": "37432f87",
   "metadata": {},
   "outputs": [
    {
     "data": {
      "text/plain": [
       "array([10, 10, 10, ...,  9,  9,  9], dtype=int64)"
      ]
     },
     "execution_count": 10,
     "metadata": {},
     "output_type": "execute_result"
    }
   ],
   "source": [
    "output_data"
   ]
  },
  {
   "cell_type": "markdown",
   "id": "05f022f6",
   "metadata": {},
   "source": [
    "**3. Creating Multiple class using Onehot Encoder of output**"
   ]
  },
  {
   "cell_type": "code",
   "execution_count": 11,
   "id": "534b1e19",
   "metadata": {},
   "outputs": [],
   "source": [
    "\n",
    "from sklearn.preprocessing import OneHotEncoder\n",
    "# Create a one-hot encoder object\n",
    "one_hot_encoder = OneHotEncoder()\n",
    "\n",
    "# Fit and transform the one-hot encoder on your output data\n",
    "output_data = np.array(output_data)\n",
    "encoded_output = one_hot_encoder.fit_transform(output_data.reshape(-1,1))\n",
    "# Convert the encoded output data to a NumPy array format\n",
    "#encoded_output = np.array(encoded_output)\n",
    "encoded_output = encoded_output.toarray()\n",
    "y=encoded_output\n"
   ]
  },
  {
   "cell_type": "code",
   "execution_count": 12,
   "id": "80b9bc5e",
   "metadata": {},
   "outputs": [],
   "source": [
    "#output_data=output_data.values"
   ]
  },
  {
   "cell_type": "code",
   "execution_count": 13,
   "id": "fa3246ab",
   "metadata": {},
   "outputs": [
    {
     "data": {
      "text/plain": [
       "array([[-0.35552044, -0.67798808],\n",
       "       [-0.31896348, -0.03801146],\n",
       "       [-0.27213322, -0.67798808],\n",
       "       ...,\n",
       "       [-0.590072  ,  0.85795581],\n",
       "       [-0.55871841,  0.85795581],\n",
       "       [-0.54831168,  0.72996048]])"
      ]
     },
     "execution_count": 13,
     "metadata": {},
     "output_type": "execute_result"
    }
   ],
   "source": [
    "input_data"
   ]
  },
  {
   "cell_type": "markdown",
   "id": "d69b03cc",
   "metadata": {},
   "source": [
    "**4. Importing necessary libraries and create the DNN model**"
   ]
  },
  {
   "cell_type": "code",
   "execution_count": 14,
   "id": "42e5d1ff",
   "metadata": {},
   "outputs": [
    {
     "name": "stdout",
     "output_type": "stream",
     "text": [
      "Model: \"sequential\"\n",
      "_________________________________________________________________\n",
      " Layer (type)                Output Shape              Param #   \n",
      "=================================================================\n",
      " dense (Dense)               (None, 64)                192       \n",
      "                                                                 \n",
      " dense_1 (Dense)             (None, 128)               8320      \n",
      "                                                                 \n",
      " dense_2 (Dense)             (None, 128)               16512     \n",
      "                                                                 \n",
      " dense_3 (Dense)             (None, 25)                3225      \n",
      "                                                                 \n",
      "=================================================================\n",
      "Total params: 28,249\n",
      "Trainable params: 28,249\n",
      "Non-trainable params: 0\n",
      "_________________________________________________________________\n"
     ]
    }
   ],
   "source": [
    "from keras.models import Sequential\n",
    "from keras.layers import Dense\n",
    "from tensorflow import keras\n",
    "from keras.optimizers import Adam\n",
    "from keras.layers import Dropout\n",
    "\n",
    "optimizer = Adam(learning_rate=0.0001)\n",
    "\n",
    "# Initialize the model\n",
    "model = Sequential()\n",
    "\n",
    "# Add the first hidden layer with 64 neurons and input shape as the shape of the input data\n",
    "model.add(Dense(64, activation='relu', input_shape=(2,)))\n",
    "\n",
    "# Add the second hidden layer with 128 neurons\n",
    "model.add(Dense(128, activation='relu'))\n",
    "#model.add(Dropout(0.2))\n",
    "\n",
    "# Add the third hidden layer with 128 neurons\n",
    "model.add(Dense(128, activation='relu'))\n",
    "#model.add(Dropout(0.2))\n",
    "\n",
    "# Add the fourth hidden layer with 32 neurons\n",
    "#model.add(Dense(32, activation='relu'))\n",
    "#model.add(Dropout(0.2))\n",
    "\n",
    "# Add the output layer with 25 neurons for the 25 categories, and use softmax activation for multiclass classification\n",
    "model.add(Dense(25, activation='softmax'))\n",
    "\n",
    "# Compile the model, using categorical_crossentropy loss for multiclass classification, and 'adam' optimizer\n",
    "#model.compile(loss='categorical_crossentropy', optimizer='adam', metrics=['accuracy'])\n",
    "model.compile(loss='categorical_crossentropy', optimizer=optimizer, metrics=['accuracy'])\n",
    "model.summary()"
   ]
  },
  {
   "cell_type": "code",
   "execution_count": 15,
   "id": "4afd74d8",
   "metadata": {},
   "outputs": [],
   "source": [
    "from sklearn.model_selection import train_test_split\n",
    "\n",
    "# assuming your data is in X and y variables\n",
    "#X_train_val, X_test, y_train_val, y_test = train_test_split(X, y, test_size=0.2, random_state=42)\n",
    "#X_train, X_val, y_train, y_val = train_test_split(X_train_val, y_train_val, test_size=0.25, random_state=42)\n",
    "X_train, X_test, y_train, y_test = train_test_split(input_data, encoded_output, test_size=0.3, random_state=42)"
   ]
  },
  {
   "cell_type": "code",
   "execution_count": 16,
   "id": "95ebf308",
   "metadata": {},
   "outputs": [
    {
     "data": {
      "text/plain": [
       "array([[-0.54310832,  0.72996048],\n",
       "       [ 1.10382257, -1.18996937],\n",
       "       [-0.37113052,  0.08998386],\n",
       "       ...,\n",
       "       [-1.28452074,  0.85795581],\n",
       "       [-0.08441192,  0.60196516],\n",
       "       [-0.53790496,  1.24194178]])"
      ]
     },
     "execution_count": 16,
     "metadata": {},
     "output_type": "execute_result"
    }
   ],
   "source": [
    "X_train"
   ]
  },
  {
   "cell_type": "markdown",
   "id": "5eaa3039",
   "metadata": {},
   "source": [
    "**5. Standarizing the data- Preprocessing**"
   ]
  },
  {
   "cell_type": "code",
   "execution_count": 17,
   "id": "e5ced5cb",
   "metadata": {},
   "outputs": [
    {
     "data": {
      "text/plain": [
       "(5230, 2)"
      ]
     },
     "execution_count": 17,
     "metadata": {},
     "output_type": "execute_result"
    }
   ],
   "source": [
    "from sklearn.preprocessing import StandardScaler\n",
    "sc = StandardScaler() \n",
    "X_train = sc.fit_transform(X_train)\n",
    "X_test = sc.fit_transform(X_test)\n",
    "#X_val = sc.fit_transform(X_val)\n",
    "X_train.shape"
   ]
  },
  {
   "cell_type": "code",
   "execution_count": 18,
   "id": "166d7c7e",
   "metadata": {},
   "outputs": [
    {
     "data": {
      "text/plain": [
       "array([[-0.54690047,  0.7255474 ],\n",
       "       [ 1.11779034, -1.17619645],\n",
       "       [-0.37306812,  0.09163278],\n",
       "       ...,\n",
       "       [-1.29630802,  0.85233032],\n",
       "       [-0.08325764,  0.59876447],\n",
       "       [-0.54164099,  1.23267909]])"
      ]
     },
     "execution_count": 18,
     "metadata": {},
     "output_type": "execute_result"
    }
   ],
   "source": [
    "X_train"
   ]
  },
  {
   "cell_type": "code",
   "execution_count": 19,
   "id": "c8c29d35",
   "metadata": {},
   "outputs": [
    {
     "data": {
      "text/plain": [
       "array([[0., 0., 0., ..., 0., 0., 0.],\n",
       "       [0., 0., 0., ..., 0., 0., 0.],\n",
       "       [0., 0., 0., ..., 0., 0., 0.],\n",
       "       ...,\n",
       "       [0., 0., 1., ..., 0., 0., 0.],\n",
       "       [0., 0., 0., ..., 0., 0., 0.],\n",
       "       [0., 0., 0., ..., 0., 0., 0.]])"
      ]
     },
     "execution_count": 19,
     "metadata": {},
     "output_type": "execute_result"
    }
   ],
   "source": [
    "y_train"
   ]
  },
  {
   "cell_type": "code",
   "execution_count": 20,
   "id": "af4d2146",
   "metadata": {},
   "outputs": [
    {
     "data": {
      "text/plain": [
       "array([[0., 0., 0., ..., 0., 1., 0.],\n",
       "       [0., 0., 0., ..., 0., 0., 0.],\n",
       "       [0., 0., 0., ..., 1., 0., 0.],\n",
       "       ...,\n",
       "       [0., 0., 0., ..., 0., 0., 0.],\n",
       "       [0., 0., 0., ..., 0., 0., 0.],\n",
       "       [0., 0., 0., ..., 0., 0., 0.]])"
      ]
     },
     "execution_count": 20,
     "metadata": {},
     "output_type": "execute_result"
    }
   ],
   "source": [
    "y_test"
   ]
  },
  {
   "cell_type": "code",
   "execution_count": 21,
   "id": "9de4d0fb",
   "metadata": {},
   "outputs": [
    {
     "name": "stdout",
     "output_type": "stream",
     "text": [
      "Epoch 1/500\n",
      "164/164 [==============================] - 0s 2ms/step - loss: 3.1140 - accuracy: 0.1379 - val_loss: 2.9822 - val_accuracy: 0.1722\n",
      "Epoch 2/500\n",
      "164/164 [==============================] - 0s 968us/step - loss: 2.7511 - accuracy: 0.2084 - val_loss: 2.5331 - val_accuracy: 0.2190\n",
      "Epoch 3/500\n",
      "164/164 [==============================] - 0s 967us/step - loss: 2.2792 - accuracy: 0.2574 - val_loss: 2.1132 - val_accuracy: 0.2493\n",
      "Epoch 4/500\n",
      "164/164 [==============================] - 0s 969us/step - loss: 1.9111 - accuracy: 0.3315 - val_loss: 1.8190 - val_accuracy: 0.3194\n",
      "Epoch 5/500\n",
      "164/164 [==============================] - 0s 980us/step - loss: 1.6636 - accuracy: 0.4163 - val_loss: 1.6112 - val_accuracy: 0.4202\n",
      "Epoch 6/500\n",
      "164/164 [==============================] - 0s 986us/step - loss: 1.4804 - accuracy: 0.5132 - val_loss: 1.4459 - val_accuracy: 0.5549\n",
      "Epoch 7/500\n",
      "164/164 [==============================] - 0s 902us/step - loss: 1.3367 - accuracy: 0.6027 - val_loss: 1.3186 - val_accuracy: 0.5789\n",
      "Epoch 8/500\n",
      "164/164 [==============================] - 0s 1ms/step - loss: 1.2195 - accuracy: 0.6327 - val_loss: 1.2118 - val_accuracy: 0.6227\n",
      "Epoch 9/500\n",
      "164/164 [==============================] - 0s 939us/step - loss: 1.1212 - accuracy: 0.6786 - val_loss: 1.1214 - val_accuracy: 0.6543\n",
      "Epoch 10/500\n",
      "164/164 [==============================] - 0s 962us/step - loss: 1.0424 - accuracy: 0.6927 - val_loss: 1.0610 - val_accuracy: 0.6360\n",
      "Epoch 11/500\n",
      "164/164 [==============================] - 0s 945us/step - loss: 0.9764 - accuracy: 0.7111 - val_loss: 1.0060 - val_accuracy: 0.6731\n",
      "Epoch 12/500\n",
      "164/164 [==============================] - 0s 928us/step - loss: 0.9251 - accuracy: 0.7237 - val_loss: 0.9486 - val_accuracy: 0.6998\n",
      "Epoch 13/500\n",
      "164/164 [==============================] - 0s 960us/step - loss: 0.8786 - accuracy: 0.7432 - val_loss: 0.9080 - val_accuracy: 0.7181\n",
      "Epoch 14/500\n",
      "164/164 [==============================] - 0s 969us/step - loss: 0.8419 - accuracy: 0.7528 - val_loss: 0.8827 - val_accuracy: 0.7302\n",
      "Epoch 15/500\n",
      "164/164 [==============================] - 0s 948us/step - loss: 0.8088 - accuracy: 0.7641 - val_loss: 0.8446 - val_accuracy: 0.7417\n",
      "Epoch 16/500\n",
      "164/164 [==============================] - 0s 941us/step - loss: 0.7806 - accuracy: 0.7686 - val_loss: 0.8217 - val_accuracy: 0.7203\n",
      "Epoch 17/500\n",
      "164/164 [==============================] - 0s 955us/step - loss: 0.7545 - accuracy: 0.7822 - val_loss: 0.7934 - val_accuracy: 0.7542\n",
      "Epoch 18/500\n",
      "164/164 [==============================] - 0s 945us/step - loss: 0.7333 - accuracy: 0.7857 - val_loss: 0.7683 - val_accuracy: 0.7645\n",
      "Epoch 19/500\n",
      "164/164 [==============================] - 0s 945us/step - loss: 0.7124 - accuracy: 0.7914 - val_loss: 0.7641 - val_accuracy: 0.7426\n",
      "Epoch 20/500\n",
      "164/164 [==============================] - 0s 950us/step - loss: 0.6925 - accuracy: 0.7987 - val_loss: 0.7421 - val_accuracy: 0.7779\n",
      "Epoch 21/500\n",
      "164/164 [==============================] - 0s 1ms/step - loss: 0.6746 - accuracy: 0.8082 - val_loss: 0.7373 - val_accuracy: 0.7609\n",
      "Epoch 22/500\n",
      "164/164 [==============================] - 0s 1ms/step - loss: 0.6582 - accuracy: 0.8055 - val_loss: 0.7031 - val_accuracy: 0.7832\n",
      "Epoch 23/500\n",
      "164/164 [==============================] - 0s 974us/step - loss: 0.6450 - accuracy: 0.8088 - val_loss: 0.6866 - val_accuracy: 0.7935\n",
      "Epoch 24/500\n",
      "164/164 [==============================] - 0s 957us/step - loss: 0.6287 - accuracy: 0.8149 - val_loss: 0.6932 - val_accuracy: 0.7774\n",
      "Epoch 25/500\n",
      "164/164 [==============================] - 0s 937us/step - loss: 0.6146 - accuracy: 0.8201 - val_loss: 0.6691 - val_accuracy: 0.7886\n",
      "Epoch 26/500\n",
      "164/164 [==============================] - 0s 939us/step - loss: 0.6017 - accuracy: 0.8235 - val_loss: 0.6540 - val_accuracy: 0.7975\n",
      "Epoch 27/500\n",
      "164/164 [==============================] - 0s 943us/step - loss: 0.5896 - accuracy: 0.8270 - val_loss: 0.6369 - val_accuracy: 0.8104\n",
      "Epoch 28/500\n",
      "164/164 [==============================] - 0s 957us/step - loss: 0.5768 - accuracy: 0.8294 - val_loss: 0.6331 - val_accuracy: 0.8011\n",
      "Epoch 29/500\n",
      "164/164 [==============================] - 0s 902us/step - loss: 0.5670 - accuracy: 0.8319 - val_loss: 0.6166 - val_accuracy: 0.8046\n",
      "Epoch 30/500\n",
      "164/164 [==============================] - 0s 927us/step - loss: 0.5549 - accuracy: 0.8361 - val_loss: 0.6270 - val_accuracy: 0.7939\n",
      "Epoch 31/500\n",
      "164/164 [==============================] - 0s 930us/step - loss: 0.5431 - accuracy: 0.8424 - val_loss: 0.6155 - val_accuracy: 0.7899\n",
      "Epoch 32/500\n",
      "164/164 [==============================] - 0s 952us/step - loss: 0.5358 - accuracy: 0.8407 - val_loss: 0.6017 - val_accuracy: 0.8051\n",
      "Epoch 33/500\n",
      "164/164 [==============================] - 0s 984us/step - loss: 0.5271 - accuracy: 0.8424 - val_loss: 0.5809 - val_accuracy: 0.8091\n",
      "Epoch 34/500\n",
      "164/164 [==============================] - 0s 920us/step - loss: 0.5168 - accuracy: 0.8488 - val_loss: 0.5838 - val_accuracy: 0.8207\n",
      "Epoch 35/500\n",
      "164/164 [==============================] - 0s 940us/step - loss: 0.5086 - accuracy: 0.8497 - val_loss: 0.5610 - val_accuracy: 0.8260\n",
      "Epoch 36/500\n",
      "164/164 [==============================] - 0s 941us/step - loss: 0.4999 - accuracy: 0.8488 - val_loss: 0.5675 - val_accuracy: 0.8171\n",
      "Epoch 37/500\n",
      "164/164 [==============================] - 0s 963us/step - loss: 0.4910 - accuracy: 0.8554 - val_loss: 0.5454 - val_accuracy: 0.8336\n",
      "Epoch 38/500\n",
      "164/164 [==============================] - 0s 967us/step - loss: 0.4853 - accuracy: 0.8549 - val_loss: 0.5499 - val_accuracy: 0.8216\n",
      "Epoch 39/500\n",
      "164/164 [==============================] - 0s 1ms/step - loss: 0.4775 - accuracy: 0.8566 - val_loss: 0.5646 - val_accuracy: 0.7939\n",
      "Epoch 40/500\n",
      "164/164 [==============================] - 0s 957us/step - loss: 0.4695 - accuracy: 0.8614 - val_loss: 0.5195 - val_accuracy: 0.8332\n",
      "Epoch 41/500\n",
      "164/164 [==============================] - 0s 968us/step - loss: 0.4632 - accuracy: 0.8633 - val_loss: 0.5304 - val_accuracy: 0.8412\n",
      "Epoch 42/500\n",
      "164/164 [==============================] - 0s 939us/step - loss: 0.4553 - accuracy: 0.8675 - val_loss: 0.5329 - val_accuracy: 0.8104\n",
      "Epoch 43/500\n",
      "164/164 [==============================] - 0s 980us/step - loss: 0.4506 - accuracy: 0.8656 - val_loss: 0.5053 - val_accuracy: 0.8479\n",
      "Epoch 44/500\n",
      "164/164 [==============================] - 0s 959us/step - loss: 0.4434 - accuracy: 0.8707 - val_loss: 0.5016 - val_accuracy: 0.8336\n",
      "Epoch 45/500\n",
      "164/164 [==============================] - 0s 960us/step - loss: 0.4376 - accuracy: 0.8704 - val_loss: 0.5013 - val_accuracy: 0.8430\n",
      "Epoch 46/500\n",
      "164/164 [==============================] - 0s 955us/step - loss: 0.4326 - accuracy: 0.8717 - val_loss: 0.5018 - val_accuracy: 0.8399\n",
      "Epoch 47/500\n",
      "164/164 [==============================] - 0s 945us/step - loss: 0.4275 - accuracy: 0.8723 - val_loss: 0.5089 - val_accuracy: 0.8336\n",
      "Epoch 48/500\n",
      "164/164 [==============================] - 0s 951us/step - loss: 0.4226 - accuracy: 0.8769 - val_loss: 0.4840 - val_accuracy: 0.8492\n",
      "Epoch 49/500\n",
      "164/164 [==============================] - 0s 924us/step - loss: 0.4161 - accuracy: 0.8750 - val_loss: 0.4994 - val_accuracy: 0.8488\n",
      "Epoch 50/500\n",
      "164/164 [==============================] - 0s 940us/step - loss: 0.4122 - accuracy: 0.8772 - val_loss: 0.4708 - val_accuracy: 0.8555\n",
      "Epoch 51/500\n",
      "164/164 [==============================] - 0s 914us/step - loss: 0.4075 - accuracy: 0.8793 - val_loss: 0.4755 - val_accuracy: 0.8483\n",
      "Epoch 52/500\n",
      "164/164 [==============================] - 0s 972us/step - loss: 0.4028 - accuracy: 0.8805 - val_loss: 0.4745 - val_accuracy: 0.8461\n",
      "Epoch 53/500\n",
      "164/164 [==============================] - 0s 969us/step - loss: 0.3986 - accuracy: 0.8811 - val_loss: 0.4828 - val_accuracy: 0.8452\n",
      "Epoch 54/500\n",
      "164/164 [==============================] - 0s 967us/step - loss: 0.3933 - accuracy: 0.8809 - val_loss: 0.4574 - val_accuracy: 0.8684\n",
      "Epoch 55/500\n",
      "164/164 [==============================] - 0s 957us/step - loss: 0.3889 - accuracy: 0.8864 - val_loss: 0.4842 - val_accuracy: 0.8417\n",
      "Epoch 56/500\n",
      "164/164 [==============================] - 0s 956us/step - loss: 0.3836 - accuracy: 0.8868 - val_loss: 0.4526 - val_accuracy: 0.8671\n",
      "Epoch 57/500\n",
      "164/164 [==============================] - 0s 968us/step - loss: 0.3830 - accuracy: 0.8830 - val_loss: 0.4618 - val_accuracy: 0.8613\n",
      "Epoch 58/500\n",
      "164/164 [==============================] - 0s 963us/step - loss: 0.3783 - accuracy: 0.8874 - val_loss: 0.4395 - val_accuracy: 0.8653\n",
      "Epoch 59/500\n",
      "164/164 [==============================] - 0s 949us/step - loss: 0.3734 - accuracy: 0.8912 - val_loss: 0.4329 - val_accuracy: 0.8644\n",
      "Epoch 60/500\n",
      "164/164 [==============================] - 0s 932us/step - loss: 0.3697 - accuracy: 0.8918 - val_loss: 0.4506 - val_accuracy: 0.8488\n",
      "Epoch 61/500\n",
      "164/164 [==============================] - 0s 951us/step - loss: 0.3675 - accuracy: 0.8939 - val_loss: 0.4262 - val_accuracy: 0.8640\n",
      "Epoch 62/500\n",
      "164/164 [==============================] - 0s 922us/step - loss: 0.3630 - accuracy: 0.8908 - val_loss: 0.4202 - val_accuracy: 0.8733\n",
      "Epoch 63/500\n",
      "164/164 [==============================] - 0s 955us/step - loss: 0.3599 - accuracy: 0.8962 - val_loss: 0.4263 - val_accuracy: 0.8595\n",
      "Epoch 64/500\n",
      "164/164 [==============================] - 0s 942us/step - loss: 0.3580 - accuracy: 0.8946 - val_loss: 0.4349 - val_accuracy: 0.8666\n",
      "Epoch 65/500\n",
      "164/164 [==============================] - 0s 963us/step - loss: 0.3516 - accuracy: 0.8952 - val_loss: 0.4146 - val_accuracy: 0.8742\n",
      "Epoch 66/500\n",
      "164/164 [==============================] - 0s 982us/step - loss: 0.3504 - accuracy: 0.8967 - val_loss: 0.4147 - val_accuracy: 0.8617\n",
      "Epoch 67/500\n",
      "164/164 [==============================] - 0s 948us/step - loss: 0.3477 - accuracy: 0.8964 - val_loss: 0.4532 - val_accuracy: 0.8448\n",
      "Epoch 68/500\n",
      "164/164 [==============================] - 0s 936us/step - loss: 0.3447 - accuracy: 0.8973 - val_loss: 0.4165 - val_accuracy: 0.8617\n",
      "Epoch 69/500\n",
      "164/164 [==============================] - 0s 960us/step - loss: 0.3403 - accuracy: 0.9002 - val_loss: 0.4085 - val_accuracy: 0.8698\n",
      "Epoch 70/500\n",
      "164/164 [==============================] - 0s 948us/step - loss: 0.3372 - accuracy: 0.9010 - val_loss: 0.4148 - val_accuracy: 0.8707\n",
      "Epoch 71/500\n",
      "164/164 [==============================] - 0s 978us/step - loss: 0.3351 - accuracy: 0.9019 - val_loss: 0.3885 - val_accuracy: 0.8809\n",
      "Epoch 72/500\n",
      "164/164 [==============================] - 0s 954us/step - loss: 0.3325 - accuracy: 0.9033 - val_loss: 0.4107 - val_accuracy: 0.8613\n",
      "Epoch 73/500\n",
      "164/164 [==============================] - 0s 1ms/step - loss: 0.3290 - accuracy: 0.9002 - val_loss: 0.3985 - val_accuracy: 0.8684\n",
      "Epoch 74/500\n",
      "164/164 [==============================] - 0s 927us/step - loss: 0.3284 - accuracy: 0.9046 - val_loss: 0.4108 - val_accuracy: 0.8573\n",
      "Epoch 75/500\n",
      "164/164 [==============================] - 0s 948us/step - loss: 0.3230 - accuracy: 0.9069 - val_loss: 0.3907 - val_accuracy: 0.8756\n",
      "Epoch 76/500\n",
      "164/164 [==============================] - 0s 942us/step - loss: 0.3224 - accuracy: 0.9075 - val_loss: 0.3858 - val_accuracy: 0.8747\n",
      "Epoch 77/500\n",
      "164/164 [==============================] - 0s 968us/step - loss: 0.3205 - accuracy: 0.9042 - val_loss: 0.3820 - val_accuracy: 0.8791\n",
      "Epoch 78/500\n",
      "164/164 [==============================] - 0s 905us/step - loss: 0.3172 - accuracy: 0.9063 - val_loss: 0.3977 - val_accuracy: 0.8715\n",
      "Epoch 79/500\n",
      "164/164 [==============================] - 0s 893us/step - loss: 0.3158 - accuracy: 0.9076 - val_loss: 0.3942 - val_accuracy: 0.8649\n",
      "Epoch 80/500\n",
      "164/164 [==============================] - 0s 911us/step - loss: 0.3124 - accuracy: 0.9084 - val_loss: 0.3864 - val_accuracy: 0.8622\n",
      "Epoch 81/500\n",
      "164/164 [==============================] - 0s 912us/step - loss: 0.3095 - accuracy: 0.9105 - val_loss: 0.3662 - val_accuracy: 0.8818\n",
      "Epoch 82/500\n",
      "164/164 [==============================] - 0s 923us/step - loss: 0.3080 - accuracy: 0.9075 - val_loss: 0.3557 - val_accuracy: 0.8934\n",
      "Epoch 83/500\n",
      "164/164 [==============================] - 0s 917us/step - loss: 0.3055 - accuracy: 0.9103 - val_loss: 0.3762 - val_accuracy: 0.8822\n",
      "Epoch 84/500\n",
      "164/164 [==============================] - 0s 929us/step - loss: 0.3029 - accuracy: 0.9076 - val_loss: 0.3511 - val_accuracy: 0.8979\n",
      "Epoch 85/500\n",
      "164/164 [==============================] - 0s 923us/step - loss: 0.3016 - accuracy: 0.9094 - val_loss: 0.3624 - val_accuracy: 0.8800\n",
      "Epoch 86/500\n",
      "164/164 [==============================] - 0s 905us/step - loss: 0.3012 - accuracy: 0.9090 - val_loss: 0.4050 - val_accuracy: 0.8452\n",
      "Epoch 87/500\n",
      "164/164 [==============================] - 0s 905us/step - loss: 0.2978 - accuracy: 0.9098 - val_loss: 0.3833 - val_accuracy: 0.8524\n",
      "Epoch 88/500\n",
      "164/164 [==============================] - 0s 929us/step - loss: 0.2964 - accuracy: 0.9122 - val_loss: 0.3644 - val_accuracy: 0.8796\n",
      "Epoch 89/500\n",
      "164/164 [==============================] - 0s 923us/step - loss: 0.2947 - accuracy: 0.9096 - val_loss: 0.3751 - val_accuracy: 0.8715\n"
     ]
    }
   ],
   "source": [
    "from keras.callbacks import EarlyStopping\n",
    "early_stopping = EarlyStopping(patience=5, monitor='val_loss')\n",
    "\n",
    "history = model.fit(X_train, y_train, validation_data=(X_test, y_test), epochs=500, callbacks=[early_stopping])"
   ]
  },
  {
   "cell_type": "code",
   "execution_count": 22,
   "id": "9305d142",
   "metadata": {},
   "outputs": [
    {
     "name": "stdout",
     "output_type": "stream",
     "text": [
      "71/71 [==============================] - 0s 498us/step - loss: 0.3751 - accuracy: 0.8715\n",
      "Test loss: 0.3751157820224762\n",
      "Test accuracy: 0.871543288230896\n"
     ]
    }
   ],
   "source": [
    "## evaluate the model on the test set\n",
    "loss, accuracy = model.evaluate(X_test, y_test)\n",
    "print('Test loss:', loss)\n",
    "print('Test accuracy:', accuracy)"
   ]
  },
  {
   "cell_type": "code",
   "execution_count": 23,
   "id": "9e0e85b5",
   "metadata": {},
   "outputs": [
    {
     "data": {
      "image/png": "[encoded data removed]",
      "text/plain": [
       "<Figure size 640x480 with 1 Axes>"
      ]
     },
     "metadata": {},
     "output_type": "display_data"
    },
    {
     "data": {
      "image/png": "[encoded data removed]",
      "text/plain": [
       "<Figure size 640x480 with 1 Axes>"
      ]
     },
     "metadata": {},
     "output_type": "display_data"
    }
   ],
   "source": [
    "# Plot the loss curve\n",
    "plt.plot(history.history['loss'], 'r', label='Training loss')\n",
    "plt.plot(history.history['val_loss'], 'b', label='Validation loss' )\n",
    "plt.legend()\n",
    "plt.show()\n",
    "\n",
    "# Plot the accuracy curve\n",
    "plt.plot(history.history['accuracy'], 'r', label='Training accuracy')\n",
    "plt.plot(history.history['val_accuracy'], 'b', label='Validation accuracy')\n",
    "plt.legend()\n",
    "plt.show()"
   ]
  },
  {
   "cell_type": "code",
   "execution_count": 24,
   "id": "447c957f",
   "metadata": {},
   "outputs": [
    {
     "name": "stdout",
     "output_type": "stream",
     "text": [
      "71/71 [==============================] - 0s 408us/step\n"
     ]
    }
   ],
   "source": [
    "y_pred = model.predict(X_test)"
   ]
  },
  {
   "cell_type": "code",
   "execution_count": 25,
   "id": "4a15bbad",
   "metadata": {},
   "outputs": [
    {
     "data": {
      "text/plain": [
       "array([[1.2304417e-27, 4.3352694e-35, 0.0000000e+00, ..., 4.6251106e-01,\n",
       "        5.3480065e-01, 9.7043253e-09],\n",
       "       [2.1418097e-34, 1.4570907e-29, 5.1552603e-23, ..., 1.0527843e-27,\n",
       "        0.0000000e+00, 0.0000000e+00],\n",
       "       [4.0570207e-26, 4.6823746e-33, 7.0050021e-36, ..., 9.5459527e-01,\n",
       "        2.2311067e-02, 1.8859948e-08],\n",
       "       ...,\n",
       "       [6.0088597e-21, 4.6234617e-26, 3.4498161e-24, ..., 1.0957948e-07,\n",
       "        1.1157800e-13, 7.3786416e-10],\n",
       "       [8.0376894e-22, 4.3179041e-28, 3.0868560e-28, ..., 8.6766743e-04,\n",
       "        7.9411798e-08, 2.0773527e-05],\n",
       "       [1.4481135e-32, 1.6771953e-26, 2.8905608e-17, ..., 6.0070741e-32,\n",
       "        0.0000000e+00, 0.0000000e+00]], dtype=float32)"
      ]
     },
     "execution_count": 25,
     "metadata": {},
     "output_type": "execute_result"
    }
   ],
   "source": [
    "y_pred"
   ]
  },
  {
   "cell_type": "code",
   "execution_count": 26,
   "id": "3c1480b4",
   "metadata": {},
   "outputs": [
    {
     "data": {
      "text/plain": [
       "(2242, 25)"
      ]
     },
     "execution_count": 26,
     "metadata": {},
     "output_type": "execute_result"
    }
   ],
   "source": [
    "y_pred.shape"
   ]
  },
  {
   "cell_type": "code",
   "execution_count": 27,
   "id": "201c8d5d",
   "metadata": {},
   "outputs": [
    {
     "name": "stdout",
     "output_type": "stream",
     "text": [
      "[23 10 22 ... 20 20  6]\n"
     ]
    }
   ],
   "source": [
    "# Decode the one-hot encoded data\n",
    "#y_pred= one_hot_encoder.inverse_transform(y_pred)\n",
    "y_pred= np.argmax(y_pred, axis=1)\n",
    "# Convert the decoded output data to a NumPy array format\n",
    "y_pred = np.array(y_pred)\n",
    "\n",
    "# Print the decoded output data\n",
    "print(y_pred)"
   ]
  },
  {
   "cell_type": "code",
   "execution_count": 28,
   "id": "5844e0f8",
   "metadata": {},
   "outputs": [
    {
     "data": {
      "text/plain": [
       "array([23, 10, 22, ..., 20, 20,  6], dtype=int64)"
      ]
     },
     "execution_count": 28,
     "metadata": {},
     "output_type": "execute_result"
    }
   ],
   "source": [
    "y_pred=y_pred.flatten()\n",
    "y_pred"
   ]
  },
  {
   "cell_type": "code",
   "execution_count": 29,
   "id": "ae597927",
   "metadata": {},
   "outputs": [
    {
     "data": {
      "text/plain": [
       "array([[0., 0., 0., ..., 0., 1., 0.],\n",
       "       [0., 0., 0., ..., 0., 0., 0.],\n",
       "       [0., 0., 0., ..., 1., 0., 0.],\n",
       "       ...,\n",
       "       [0., 0., 0., ..., 0., 0., 0.],\n",
       "       [0., 0., 0., ..., 0., 0., 0.],\n",
       "       [0., 0., 0., ..., 0., 0., 0.]])"
      ]
     },
     "execution_count": 29,
     "metadata": {},
     "output_type": "execute_result"
    }
   ],
   "source": [
    "y_test"
   ]
  },
  {
   "cell_type": "code",
   "execution_count": 30,
   "id": "2edb1d4f",
   "metadata": {},
   "outputs": [
    {
     "name": "stdout",
     "output_type": "stream",
     "text": [
      "[23 10 22 ... 20 21  6]\n"
     ]
    }
   ],
   "source": [
    "# Decode the one-hot encoded data\n",
    "#y_test= one_hot_encoder.inverse_transform(y_test)\n",
    "y_test=np.argmax(y_test, axis=1)\n",
    "# Convert the decoded output data to a NumPy array format\n",
    "y_test = np.array(y_test)\n",
    "\n",
    "# Print the decoded output data\n",
    "print(y_test)"
   ]
  },
  {
   "cell_type": "code",
   "execution_count": 31,
   "id": "dfef252b",
   "metadata": {},
   "outputs": [
    {
     "data": {
      "text/plain": [
       "array([23, 10, 22, ..., 20, 21,  6], dtype=int64)"
      ]
     },
     "execution_count": 31,
     "metadata": {},
     "output_type": "execute_result"
    }
   ],
   "source": [
    "y_test = y_test.flatten()\n",
    "y_test"
   ]
  },
  {
   "cell_type": "markdown",
   "id": "c2ffd617",
   "metadata": {},
   "source": [
    "**6. Confusion Matrix and Classification Report**"
   ]
  },
  {
   "cell_type": "code",
   "execution_count": 32,
   "id": "c7a24aa2",
   "metadata": {},
   "outputs": [
    {
     "data": {
      "image/png": "[encoded data removed]",
      "text/plain": [
       "<Figure size 1200x800 with 2 Axes>"
      ]
     },
     "metadata": {},
     "output_type": "display_data"
    },
    {
     "name": "stdout",
     "output_type": "stream",
     "text": [
      "Accuracy of Model with Kalman Filter:  0.8715432649420161\n"
     ]
    }
   ],
   "source": [
    "from sklearn.metrics import confusion_matrix, accuracy_score, mean_squared_error, classification_report\n",
    "import seaborn as sns\n",
    "\n",
    "# Calculate the confusion matrix\n",
    "conf_mat = confusion_matrix(y_test, y_pred)\n",
    "array=np.array(conf_mat)\n",
    "df_cm = pd.DataFrame(array, index = [str(i)+\"m\" for i in range(1,26)],\n",
    "                  columns = [str(i)+\"m\" for i in range(1,26)])\n",
    "\n",
    "plt.figure(figsize = (12,8))\n",
    "\n",
    "# import seaborn as sns\n",
    "# sns.heatmap(df_cm, annot=True)\n",
    "\n",
    "a=sns.heatmap(df_cm, annot=True, fmt='d')\n",
    "a.set_xlabel('Predicted distance label in m', fontsize=15)\n",
    "a.set_ylabel('Trude distance label in m', fontsize=15)\n",
    "plt.title('Confusion Matrix', fontsize=16)\n",
    "plt.show()\n",
    "accuracy = accuracy_score(y_test, y_pred)\n",
    "print('Accuracy of Model with Kalman Filter: ', accuracy)"
   ]
  },
  {
   "cell_type": "code",
   "execution_count": 33,
   "id": "68999199",
   "metadata": {},
   "outputs": [
    {
     "name": "stdout",
     "output_type": "stream",
     "text": [
      "              precision    recall  f1-score   support\n",
      "\n",
      "          1m       0.96      0.98      0.97        91\n",
      "          2m       0.97      0.92      0.95        79\n",
      "          3m       0.84      0.86      0.85        94\n",
      "          4m       0.81      0.70      0.75        80\n",
      "          5m       0.86      0.97      0.91        91\n",
      "          6m       0.97      0.96      0.97       104\n",
      "          7m       0.78      0.94      0.85        77\n",
      "          8m       0.89      0.64      0.74        88\n",
      "          9m       0.86      0.97      0.91        87\n",
      "         10m       0.75      0.73      0.74       102\n",
      "         11m       0.68      0.57      0.62       101\n",
      "         12m       0.90      0.99      0.94        84\n",
      "         13m       0.78      0.90      0.83        92\n",
      "         14m       0.91      0.95      0.93        97\n",
      "         15m       1.00      0.91      0.95        97\n",
      "         16m       0.98      1.00      0.99        80\n",
      "         17m       0.96      0.98      0.97        91\n",
      "         18m       0.96      0.92      0.94        95\n",
      "         19m       0.91      0.84      0.87        82\n",
      "         20m       0.78      0.98      0.87        82\n",
      "         21m       0.72      0.79      0.75        76\n",
      "         22m       0.99      0.74      0.85        93\n",
      "         23m       0.74      1.00      0.85       101\n",
      "         24m       1.00      0.63      0.77        95\n",
      "         25m       0.98      0.99      0.98        83\n",
      "\n",
      "    accuracy                           0.87      2242\n",
      "   macro avg       0.88      0.87      0.87      2242\n",
      "weighted avg       0.88      0.87      0.87      2242\n",
      "\n"
     ]
    }
   ],
   "source": [
    "# Create a custom label for each class\n",
    "labels = [f\"{i + 1}m\" for i in range(25)]\n",
    "\n",
    "# Generate the classification report\n",
    "print(classification_report(y_test, y_pred, target_names=labels))\n",
    "\n",
    "\n"
   ]
  },
  {
   "cell_type": "markdown",
   "id": "6b322222",
   "metadata": {},
   "source": [
    "Precision: number of true positives divided by the number of true positives and false positives\n",
    "\n",
    "Recall: number of true positives divided by the number of true positives and false negatives\n",
    "\n",
    "F1-score: the harmonic mean of precision and recall\n",
    "\n",
    "Support: number of samples in the corresponding class.\n",
    "\n"
   ]
  }
 ],
 "metadata": {
  "kernelspec": {
   "display_name": "Python 3 (ipykernel)",
   "language": "python",
   "name": "python3"
  },
  "language_info": {
   "codemirror_mode": {
    "name": "ipython",
    "version": 3
   },
   "file_extension": ".py",
   "mimetype": "text/x-python",
   "name": "python",
   "nbconvert_exporter": "python",
   "pygments_lexer": "ipython3",
   "version": "3.10.10"
  }
 },
 "nbformat": 4,
 "nbformat_minor": 5
}
