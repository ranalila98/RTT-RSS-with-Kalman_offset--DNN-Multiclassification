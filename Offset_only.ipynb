{
 "cells": [
  {
   "cell_type": "markdown",
   "id": "9b1e72fc",
   "metadata": {},
   "source": [
    "**1. Importing Necessary libraries**"
   ]
  },
  {
   "cell_type": "code",
   "execution_count": 1,
   "id": "6721f396",
   "metadata": {},
   "outputs": [],
   "source": [
    "import pandas as pd\n",
    "import os\n",
    "import glob\n",
    "import numpy as np\n",
    "import math\n",
    "import matplotlib.pyplot as plt\n",
    "from matplotlib.pyplot import figure"
   ]
  },
  {
   "cell_type": "code",
   "execution_count": 2,
   "id": "82ad020b",
   "metadata": {},
   "outputs": [
    {
     "data": {
      "text/html": [
       "<div>\n",
       "<style scoped>\n",
       "    .dataframe tbody tr th:only-of-type {\n",
       "        vertical-align: middle;\n",
       "    }\n",
       "\n",
       "    .dataframe tbody tr th {\n",
       "        vertical-align: top;\n",
       "    }\n",
       "\n",
       "    .dataframe thead th {\n",
       "        text-align: right;\n",
       "    }\n",
       "</style>\n",
       "<table border=\"1\" class=\"dataframe\">\n",
       "  <thead>\n",
       "    <tr style=\"text-align: right;\">\n",
       "      <th></th>\n",
       "      <th>True_Range</th>\n",
       "      <th>RSSI</th>\n",
       "      <th>Final_range</th>\n",
       "    </tr>\n",
       "  </thead>\n",
       "  <tbody>\n",
       "    <tr>\n",
       "      <th>0</th>\n",
       "      <td>10</td>\n",
       "      <td>-72</td>\n",
       "      <td>9.718131</td>\n",
       "    </tr>\n",
       "    <tr>\n",
       "      <th>1</th>\n",
       "      <td>10</td>\n",
       "      <td>-67</td>\n",
       "      <td>9.992131</td>\n",
       "    </tr>\n",
       "    <tr>\n",
       "      <th>2</th>\n",
       "      <td>10</td>\n",
       "      <td>-72</td>\n",
       "      <td>10.343131</td>\n",
       "    </tr>\n",
       "    <tr>\n",
       "      <th>3</th>\n",
       "      <td>10</td>\n",
       "      <td>-71</td>\n",
       "      <td>10.070131</td>\n",
       "    </tr>\n",
       "    <tr>\n",
       "      <th>4</th>\n",
       "      <td>10</td>\n",
       "      <td>-67</td>\n",
       "      <td>10.187131</td>\n",
       "    </tr>\n",
       "    <tr>\n",
       "      <th>...</th>\n",
       "      <td>...</td>\n",
       "      <td>...</td>\n",
       "      <td>...</td>\n",
       "    </tr>\n",
       "    <tr>\n",
       "      <th>291</th>\n",
       "      <td>9</td>\n",
       "      <td>-60</td>\n",
       "      <td>9.060139</td>\n",
       "    </tr>\n",
       "    <tr>\n",
       "      <th>292</th>\n",
       "      <td>9</td>\n",
       "      <td>-60</td>\n",
       "      <td>8.943139</td>\n",
       "    </tr>\n",
       "    <tr>\n",
       "      <th>293</th>\n",
       "      <td>9</td>\n",
       "      <td>-60</td>\n",
       "      <td>8.825139</td>\n",
       "    </tr>\n",
       "    <tr>\n",
       "      <th>294</th>\n",
       "      <td>9</td>\n",
       "      <td>-60</td>\n",
       "      <td>9.060139</td>\n",
       "    </tr>\n",
       "    <tr>\n",
       "      <th>295</th>\n",
       "      <td>9</td>\n",
       "      <td>-61</td>\n",
       "      <td>9.138139</td>\n",
       "    </tr>\n",
       "  </tbody>\n",
       "</table>\n",
       "<p>7394 rows × 3 columns</p>\n",
       "</div>"
      ],
      "text/plain": [
       "     True_Range  RSSI  Final_range\n",
       "0            10   -72     9.718131\n",
       "1            10   -67     9.992131\n",
       "2            10   -72    10.343131\n",
       "3            10   -71    10.070131\n",
       "4            10   -67    10.187131\n",
       "..          ...   ...          ...\n",
       "291           9   -60     9.060139\n",
       "292           9   -60     8.943139\n",
       "293           9   -60     8.825139\n",
       "294           9   -60     9.060139\n",
       "295           9   -61     9.138139\n",
       "\n",
       "[7394 rows x 3 columns]"
      ]
     },
     "execution_count": 2,
     "metadata": {},
     "output_type": "execute_result"
    }
   ],
   "source": [
    "#combining no of csv file into one file with name combine_csv\n",
    "#os.chdir('C:\\Users\\LILA\\Desktop\\RTT-RSS with Kalman_offset\\Kalman_offset')\n",
    "#os.chdir('C:/Users/LILA/Desktop/RTT-RSS with Kalman_offset/Kalman_offset')\n",
    "os.chdir('C:/Users/LILA/Desktop/RTT-RSS with Kalman_offset/Offset new')\n",
    "extension='csv'\n",
    "\n",
    "all_filenames=[i for i in glob.glob('*.{}'.format(extension))]\n",
    "\n",
    "combined_csv=pd.concat([pd.read_csv(f) for f in all_filenames])\n",
    "df=combined_csv\n",
    "df.drop(['Error_before_offset','Error_after_offset','stdev','Est_Range'],axis=1,inplace=True)\n",
    "df"
   ]
  },
  {
   "cell_type": "markdown",
   "id": "0f8d5c93",
   "metadata": {},
   "source": [
    "**2. Extracting input and output data from Dataframe**"
   ]
  },
  {
   "cell_type": "code",
   "execution_count": 3,
   "id": "7ee52a9d",
   "metadata": {},
   "outputs": [
    {
     "data": {
      "text/plain": [
       "array([10, 10, 10, ...,  9,  9,  9], dtype=int64)"
      ]
     },
     "execution_count": 3,
     "metadata": {},
     "output_type": "execute_result"
    }
   ],
   "source": [
    "input_data = df.iloc[:, -2:]\n",
    "# output_data = df['TRUE'].values\n",
    "output_data = df['True_Range'].values\n",
    "output_data = np.array(output_data)\n",
    "output_data"
   ]
  },
  {
   "cell_type": "code",
   "execution_count": 4,
   "id": "e5df4cb5",
   "metadata": {},
   "outputs": [
    {
     "data": {
      "text/plain": [
       "array([[-72.        ,   9.71813087],\n",
       "       [-67.        ,   9.99213087],\n",
       "       [-72.        ,  10.34313087],\n",
       "       ...,\n",
       "       [-60.        ,   8.82513851],\n",
       "       [-60.        ,   9.06013851],\n",
       "       [-61.        ,   9.13813851]])"
      ]
     },
     "execution_count": 4,
     "metadata": {},
     "output_type": "execute_result"
    }
   ],
   "source": [
    "input_data = input_data.values #conversting dataframe format to array format\n",
    "#input_data = input_data.reshape(-1,1)\n",
    "X=input_data\n",
    "X"
   ]
  },
  {
   "cell_type": "code",
   "execution_count": 5,
   "id": "37432f87",
   "metadata": {},
   "outputs": [
    {
     "data": {
      "text/plain": [
       "array([10, 10, 10, ...,  9,  9,  9], dtype=int64)"
      ]
     },
     "execution_count": 5,
     "metadata": {},
     "output_type": "execute_result"
    }
   ],
   "source": [
    "output_data"
   ]
  },
  {
   "cell_type": "markdown",
   "id": "05f022f6",
   "metadata": {},
   "source": [
    "**3. Creating Multiple class using Onehot Encoder of output**"
   ]
  },
  {
   "cell_type": "code",
   "execution_count": 6,
   "id": "534b1e19",
   "metadata": {},
   "outputs": [],
   "source": [
    "\n",
    "from sklearn.preprocessing import OneHotEncoder\n",
    "# Create a one-hot encoder object\n",
    "one_hot_encoder = OneHotEncoder()\n",
    "\n",
    "# Fit and transform the one-hot encoder on your output data\n",
    "output_data = np.array(output_data)\n",
    "encoded_output = one_hot_encoder.fit_transform(output_data.reshape(-1,1))\n",
    "# Convert the encoded output data to a NumPy array format\n",
    "#encoded_output = np.array(encoded_output)\n",
    "encoded_output = encoded_output.toarray()\n",
    "y=encoded_output\n"
   ]
  },
  {
   "cell_type": "code",
   "execution_count": 7,
   "id": "80b9bc5e",
   "metadata": {},
   "outputs": [],
   "source": [
    "#output_data=output_data.values"
   ]
  },
  {
   "cell_type": "code",
   "execution_count": 8,
   "id": "fa3246ab",
   "metadata": {},
   "outputs": [
    {
     "data": {
      "text/plain": [
       "array([[-72.        ,   9.71813087],\n",
       "       [-67.        ,   9.99213087],\n",
       "       [-72.        ,  10.34313087],\n",
       "       ...,\n",
       "       [-60.        ,   8.82513851],\n",
       "       [-60.        ,   9.06013851],\n",
       "       [-61.        ,   9.13813851]])"
      ]
     },
     "execution_count": 8,
     "metadata": {},
     "output_type": "execute_result"
    }
   ],
   "source": [
    "input_data"
   ]
  },
  {
   "cell_type": "markdown",
   "id": "d69b03cc",
   "metadata": {},
   "source": [
    "**4. Importing necessary libraries and create the DNN model**"
   ]
  },
  {
   "cell_type": "code",
   "execution_count": 9,
   "id": "42e5d1ff",
   "metadata": {},
   "outputs": [
    {
     "name": "stdout",
     "output_type": "stream",
     "text": [
      "Model: \"sequential\"\n",
      "_________________________________________________________________\n",
      " Layer (type)                Output Shape              Param #   \n",
      "=================================================================\n",
      " dense (Dense)               (None, 64)                192       \n",
      "                                                                 \n",
      " dense_1 (Dense)             (None, 128)               8320      \n",
      "                                                                 \n",
      " dense_2 (Dense)             (None, 256)               33024     \n",
      "                                                                 \n",
      " dense_3 (Dense)             (None, 64)                16448     \n",
      "                                                                 \n",
      " dense_4 (Dense)             (None, 25)                1625      \n",
      "                                                                 \n",
      "=================================================================\n",
      "Total params: 59,609\n",
      "Trainable params: 59,609\n",
      "Non-trainable params: 0\n",
      "_________________________________________________________________\n"
     ]
    }
   ],
   "source": [
    "from keras.models import Sequential\n",
    "from keras.layers import Dense\n",
    "from tensorflow import keras\n",
    "from keras.optimizers import Adam\n",
    "from keras.layers import Dropout\n",
    "\n",
    "optimizer = Adam(learning_rate=0.0001)\n",
    "\n",
    "# Initialize the model\n",
    "model = Sequential()\n",
    "\n",
    "# Add the first hidden layer with 64 neurons and input shape as the shape of the input data\n",
    "model.add(Dense(64, activation='relu', input_shape=(2,)))\n",
    "\n",
    "# Add the second hidden layer with 128 neurons\n",
    "model.add(Dense(128, activation='relu'))\n",
    "#model.add(Dropout(0.3))\n",
    "\n",
    "# Add the third hidden layer with 128 neurons\n",
    "model.add(Dense(256, activation='relu'))\n",
    "#model.add(Dropout(0.2))\n",
    "\n",
    "# Add the fourth hidden layer with 32 neurons\n",
    "model.add(Dense(64, activation='relu'))\n",
    "# model.add(Dropout(0.2))\n",
    "\n",
    "# Add the output layer with 25 neurons for the 25 categories, and use softmax activation for multiclass classification\n",
    "model.add(Dense(25, activation='softmax'))\n",
    "\n",
    "# Compile the model, using categorical_crossentropy loss for multiclass classification, and 'adam' optimizer\n",
    "#model.compile(loss='categorical_crossentropy', optimizer='adam', metrics=['accuracy'])\n",
    "model.compile(loss='categorical_crossentropy', optimizer=optimizer, metrics=['accuracy'])\n",
    "model.summary()"
   ]
  },
  {
   "cell_type": "code",
   "execution_count": 10,
   "id": "4afd74d8",
   "metadata": {},
   "outputs": [],
   "source": [
    "from sklearn.model_selection import train_test_split\n",
    "\n",
    "# assuming your data is in X and y variables\n",
    "#X_train_val, X_test, y_train_val, y_test = train_test_split(X, y, test_size=0.2, random_state=42)\n",
    "#X_train, X_val, y_train, y_val = train_test_split(X_train_val, y_train_val, test_size=0.25, random_state=42)\n",
    "X_train, X_test, y_train, y_test = train_test_split(input_data, encoded_output, test_size=0.3, random_state=42)"
   ]
  },
  {
   "cell_type": "code",
   "execution_count": 11,
   "id": "95ebf308",
   "metadata": {},
   "outputs": [
    {
     "data": {
      "text/plain": [
       "array([[-79.        ,  22.0546431 ],\n",
       "       [-63.        ,   7.78647782],\n",
       "       [-62.        ,   7.70847782],\n",
       "       ...,\n",
       "       [-58.        ,   2.99634576],\n",
       "       [-63.        ,  12.16895189],\n",
       "       [-61.        ,   9.27413851]])"
      ]
     },
     "execution_count": 11,
     "metadata": {},
     "output_type": "execute_result"
    }
   ],
   "source": [
    "X_train"
   ]
  },
  {
   "cell_type": "markdown",
   "id": "5eaa3039",
   "metadata": {},
   "source": [
    "**5. Standarizing the data- Preprocessing**"
   ]
  },
  {
   "cell_type": "code",
   "execution_count": 12,
   "id": "e5ced5cb",
   "metadata": {},
   "outputs": [
    {
     "data": {
      "text/plain": [
       "(5175, 2)"
      ]
     },
     "execution_count": 12,
     "metadata": {},
     "output_type": "execute_result"
    }
   ],
   "source": [
    "from sklearn.preprocessing import StandardScaler\n",
    "sc = StandardScaler() \n",
    "X_train = sc.fit_transform(X_train)\n",
    "X_test = sc.fit_transform(X_test)\n",
    "#X_val = sc.fit_transform(X_val)\n",
    "X_train.shape"
   ]
  },
  {
   "cell_type": "code",
   "execution_count": 13,
   "id": "166d7c7e",
   "metadata": {},
   "outputs": [
    {
     "data": {
      "text/plain": [
       "array([[-1.56488567,  1.24855305],\n",
       "       [ 0.47283483, -0.71980071],\n",
       "       [ 0.60019236, -0.73056114],\n",
       "       ...,\n",
       "       [ 1.10962249, -1.38061968],\n",
       "       [ 0.47283483, -0.11521987],\n",
       "       [ 0.72754989, -0.51457162]])"
      ]
     },
     "execution_count": 13,
     "metadata": {},
     "output_type": "execute_result"
    }
   ],
   "source": [
    "X_train"
   ]
  },
  {
   "cell_type": "code",
   "execution_count": 14,
   "id": "c8c29d35",
   "metadata": {},
   "outputs": [
    {
     "data": {
      "text/plain": [
       "array([[0., 0., 0., ..., 0., 0., 0.],\n",
       "       [0., 0., 0., ..., 0., 0., 0.],\n",
       "       [0., 0., 0., ..., 0., 0., 0.],\n",
       "       ...,\n",
       "       [0., 0., 1., ..., 0., 0., 0.],\n",
       "       [0., 0., 0., ..., 0., 0., 0.],\n",
       "       [0., 0., 0., ..., 0., 0., 0.]])"
      ]
     },
     "execution_count": 14,
     "metadata": {},
     "output_type": "execute_result"
    }
   ],
   "source": [
    "y_train"
   ]
  },
  {
   "cell_type": "code",
   "execution_count": 15,
   "id": "1a0458f9",
   "metadata": {},
   "outputs": [
    {
     "data": {
      "text/plain": [
       "array([[0., 1., 0., ..., 0., 0., 0.],\n",
       "       [0., 1., 0., ..., 0., 0., 0.],\n",
       "       [0., 0., 0., ..., 0., 0., 0.],\n",
       "       ...,\n",
       "       [0., 0., 0., ..., 0., 0., 1.],\n",
       "       [0., 0., 0., ..., 0., 0., 0.],\n",
       "       [0., 0., 0., ..., 0., 0., 0.]])"
      ]
     },
     "execution_count": 15,
     "metadata": {},
     "output_type": "execute_result"
    }
   ],
   "source": [
    "y_test"
   ]
  },
  {
   "cell_type": "code",
   "execution_count": 16,
   "id": "9de4d0fb",
   "metadata": {},
   "outputs": [
    {
     "name": "stdout",
     "output_type": "stream",
     "text": [
      "Epoch 1/500\n",
      "162/162 [==============================] - 1s 2ms/step - loss: 3.0351 - accuracy: 0.1563 - val_loss: 2.8227 - val_accuracy: 0.1681\n",
      "Epoch 2/500\n",
      "162/162 [==============================] - 0s 1ms/step - loss: 2.4924 - accuracy: 0.2184 - val_loss: 2.1782 - val_accuracy: 0.2681\n",
      "Epoch 3/500\n",
      "162/162 [==============================] - 0s 1ms/step - loss: 1.9245 - accuracy: 0.3171 - val_loss: 1.7343 - val_accuracy: 0.3799\n",
      "Epoch 4/500\n",
      "162/162 [==============================] - 0s 1ms/step - loss: 1.5839 - accuracy: 0.4524 - val_loss: 1.4746 - val_accuracy: 0.5034\n",
      "Epoch 5/500\n",
      "162/162 [==============================] - 0s 1ms/step - loss: 1.3754 - accuracy: 0.5449 - val_loss: 1.2922 - val_accuracy: 0.5741\n",
      "Epoch 6/500\n",
      "162/162 [==============================] - 0s 1ms/step - loss: 1.2289 - accuracy: 0.6048 - val_loss: 1.1599 - val_accuracy: 0.6336\n",
      "Epoch 7/500\n",
      "162/162 [==============================] - 0s 1ms/step - loss: 1.1101 - accuracy: 0.6558 - val_loss: 1.0426 - val_accuracy: 0.6746\n",
      "Epoch 8/500\n",
      "162/162 [==============================] - 0s 1ms/step - loss: 1.0086 - accuracy: 0.6949 - val_loss: 0.9537 - val_accuracy: 0.7377\n",
      "Epoch 9/500\n",
      "162/162 [==============================] - 0s 1ms/step - loss: 0.9269 - accuracy: 0.7190 - val_loss: 0.8815 - val_accuracy: 0.6972\n",
      "Epoch 10/500\n",
      "162/162 [==============================] - 0s 1ms/step - loss: 0.8637 - accuracy: 0.7391 - val_loss: 0.8252 - val_accuracy: 0.7075\n",
      "Epoch 11/500\n",
      "162/162 [==============================] - 0s 1ms/step - loss: 0.8074 - accuracy: 0.7424 - val_loss: 0.7634 - val_accuracy: 0.7625\n",
      "Epoch 12/500\n",
      "162/162 [==============================] - 0s 1ms/step - loss: 0.7598 - accuracy: 0.7565 - val_loss: 0.7170 - val_accuracy: 0.7765\n",
      "Epoch 13/500\n",
      "162/162 [==============================] - 0s 1ms/step - loss: 0.7214 - accuracy: 0.7666 - val_loss: 0.6852 - val_accuracy: 0.7661\n",
      "Epoch 14/500\n",
      "162/162 [==============================] - 0s 1ms/step - loss: 0.6865 - accuracy: 0.7733 - val_loss: 0.6494 - val_accuracy: 0.7864\n",
      "Epoch 15/500\n",
      "162/162 [==============================] - 0s 1ms/step - loss: 0.6538 - accuracy: 0.7927 - val_loss: 0.6172 - val_accuracy: 0.8103\n",
      "Epoch 16/500\n",
      "162/162 [==============================] - 0s 1ms/step - loss: 0.6243 - accuracy: 0.8062 - val_loss: 0.5930 - val_accuracy: 0.8229\n",
      "Epoch 17/500\n",
      "162/162 [==============================] - 0s 1ms/step - loss: 0.5953 - accuracy: 0.8189 - val_loss: 0.5674 - val_accuracy: 0.8269\n",
      "Epoch 18/500\n",
      "162/162 [==============================] - 0s 1ms/step - loss: 0.5721 - accuracy: 0.8214 - val_loss: 0.5401 - val_accuracy: 0.8387\n",
      "Epoch 19/500\n",
      "162/162 [==============================] - 0s 1ms/step - loss: 0.5457 - accuracy: 0.8303 - val_loss: 0.5227 - val_accuracy: 0.8414\n",
      "Epoch 20/500\n",
      "162/162 [==============================] - 0s 1ms/step - loss: 0.5250 - accuracy: 0.8309 - val_loss: 0.4992 - val_accuracy: 0.8671\n",
      "Epoch 21/500\n",
      "162/162 [==============================] - 0s 1ms/step - loss: 0.5057 - accuracy: 0.8433 - val_loss: 0.4978 - val_accuracy: 0.8540\n",
      "Epoch 22/500\n",
      "162/162 [==============================] - 0s 1ms/step - loss: 0.4855 - accuracy: 0.8489 - val_loss: 0.4676 - val_accuracy: 0.8621\n",
      "Epoch 23/500\n",
      "162/162 [==============================] - 0s 1ms/step - loss: 0.4666 - accuracy: 0.8564 - val_loss: 0.4453 - val_accuracy: 0.8680\n",
      "Epoch 24/500\n",
      "162/162 [==============================] - 0s 1ms/step - loss: 0.4477 - accuracy: 0.8632 - val_loss: 0.4322 - val_accuracy: 0.8752\n",
      "Epoch 25/500\n",
      "162/162 [==============================] - 0s 1ms/step - loss: 0.4315 - accuracy: 0.8680 - val_loss: 0.4180 - val_accuracy: 0.8684\n",
      "Epoch 26/500\n",
      "162/162 [==============================] - 0s 1ms/step - loss: 0.4182 - accuracy: 0.8746 - val_loss: 0.4019 - val_accuracy: 0.8860\n",
      "Epoch 27/500\n",
      "162/162 [==============================] - 0s 1ms/step - loss: 0.4055 - accuracy: 0.8757 - val_loss: 0.3873 - val_accuracy: 0.8815\n",
      "Epoch 28/500\n",
      "162/162 [==============================] - 0s 1ms/step - loss: 0.3902 - accuracy: 0.8775 - val_loss: 0.3830 - val_accuracy: 0.8815\n",
      "Epoch 29/500\n",
      "162/162 [==============================] - 0s 1ms/step - loss: 0.3790 - accuracy: 0.8860 - val_loss: 0.3667 - val_accuracy: 0.8891\n",
      "Epoch 30/500\n",
      "162/162 [==============================] - 0s 1ms/step - loss: 0.3662 - accuracy: 0.8922 - val_loss: 0.3521 - val_accuracy: 0.8945\n",
      "Epoch 31/500\n",
      "162/162 [==============================] - 0s 1ms/step - loss: 0.3564 - accuracy: 0.8941 - val_loss: 0.3515 - val_accuracy: 0.8909\n",
      "Epoch 32/500\n",
      "162/162 [==============================] - 0s 1ms/step - loss: 0.3465 - accuracy: 0.8931 - val_loss: 0.3285 - val_accuracy: 0.8986\n",
      "Epoch 33/500\n",
      "162/162 [==============================] - 0s 1ms/step - loss: 0.3346 - accuracy: 0.8958 - val_loss: 0.3218 - val_accuracy: 0.9018\n",
      "Epoch 34/500\n",
      "162/162 [==============================] - 0s 1ms/step - loss: 0.3251 - accuracy: 0.9011 - val_loss: 0.3329 - val_accuracy: 0.8945\n",
      "Epoch 35/500\n",
      "162/162 [==============================] - 0s 1ms/step - loss: 0.3200 - accuracy: 0.9022 - val_loss: 0.3101 - val_accuracy: 0.9085\n",
      "Epoch 36/500\n",
      "162/162 [==============================] - 0s 1ms/step - loss: 0.3075 - accuracy: 0.9080 - val_loss: 0.3032 - val_accuracy: 0.9121\n",
      "Epoch 37/500\n",
      "162/162 [==============================] - 0s 1ms/step - loss: 0.3005 - accuracy: 0.9084 - val_loss: 0.2974 - val_accuracy: 0.9058\n",
      "Epoch 38/500\n",
      "162/162 [==============================] - 0s 1ms/step - loss: 0.2921 - accuracy: 0.9105 - val_loss: 0.2876 - val_accuracy: 0.9049\n",
      "Epoch 39/500\n",
      "162/162 [==============================] - 0s 1ms/step - loss: 0.2880 - accuracy: 0.9144 - val_loss: 0.2857 - val_accuracy: 0.9094\n",
      "Epoch 40/500\n",
      "162/162 [==============================] - 0s 1ms/step - loss: 0.2781 - accuracy: 0.9169 - val_loss: 0.2646 - val_accuracy: 0.9238\n",
      "Epoch 41/500\n",
      "162/162 [==============================] - 0s 1ms/step - loss: 0.2692 - accuracy: 0.9188 - val_loss: 0.2710 - val_accuracy: 0.9112\n",
      "Epoch 42/500\n",
      "162/162 [==============================] - 0s 1ms/step - loss: 0.2672 - accuracy: 0.9169 - val_loss: 0.2708 - val_accuracy: 0.9121\n",
      "Epoch 43/500\n",
      "162/162 [==============================] - 0s 1ms/step - loss: 0.2587 - accuracy: 0.9227 - val_loss: 0.2505 - val_accuracy: 0.9265\n",
      "Epoch 44/500\n",
      "162/162 [==============================] - 0s 1ms/step - loss: 0.2521 - accuracy: 0.9244 - val_loss: 0.2479 - val_accuracy: 0.9347\n",
      "Epoch 45/500\n",
      "162/162 [==============================] - 0s 1ms/step - loss: 0.2470 - accuracy: 0.9262 - val_loss: 0.2473 - val_accuracy: 0.9252\n",
      "Epoch 46/500\n",
      "162/162 [==============================] - 0s 1ms/step - loss: 0.2415 - accuracy: 0.9271 - val_loss: 0.2532 - val_accuracy: 0.9157\n",
      "Epoch 47/500\n",
      "162/162 [==============================] - 0s 1ms/step - loss: 0.2358 - accuracy: 0.9324 - val_loss: 0.2278 - val_accuracy: 0.9401\n",
      "Epoch 48/500\n",
      "162/162 [==============================] - 0s 1ms/step - loss: 0.2294 - accuracy: 0.9320 - val_loss: 0.2255 - val_accuracy: 0.9306\n",
      "Epoch 49/500\n",
      "162/162 [==============================] - 0s 1ms/step - loss: 0.2261 - accuracy: 0.9351 - val_loss: 0.2256 - val_accuracy: 0.9256\n",
      "Epoch 50/500\n",
      "162/162 [==============================] - 0s 1ms/step - loss: 0.2212 - accuracy: 0.9358 - val_loss: 0.2296 - val_accuracy: 0.9270\n",
      "Epoch 51/500\n",
      "162/162 [==============================] - 0s 1ms/step - loss: 0.2188 - accuracy: 0.9343 - val_loss: 0.2304 - val_accuracy: 0.9265\n"
     ]
    }
   ],
   "source": [
    "early_stopping = keras.callbacks.EarlyStopping(patience=3, monitor='val_loss')\n",
    "history = model.fit(X_train, y_train, validation_data=(X_test, y_test), epochs=500, callbacks=[early_stopping])"
   ]
  },
  {
   "cell_type": "code",
   "execution_count": 17,
   "id": "9305d142",
   "metadata": {},
   "outputs": [
    {
     "name": "stdout",
     "output_type": "stream",
     "text": [
      "70/70 [==============================] - 0s 549us/step - loss: 0.2304 - accuracy: 0.9265\n",
      "Test loss: 0.23039981722831726\n",
      "Test accuracy: 0.9265434741973877\n"
     ]
    }
   ],
   "source": [
    "## evaluate the model on the test set\n",
    "loss, accuracy = model.evaluate(X_test, y_test)\n",
    "print('Test loss:', loss)\n",
    "print('Test accuracy:', accuracy)"
   ]
  },
  {
   "cell_type": "code",
   "execution_count": 18,
   "id": "9e0e85b5",
   "metadata": {},
   "outputs": [
    {
     "data": {
      "image/png": "[encoded data removed]",
      "text/plain": [
       "<Figure size 640x480 with 1 Axes>"
      ]
     },
     "metadata": {},
     "output_type": "display_data"
    },
    {
     "data": {
      "image/png": "[encoded data removed]",
      "text/plain": [
       "<Figure size 640x480 with 1 Axes>"
      ]
     },
     "metadata": {},
     "output_type": "display_data"
    }
   ],
   "source": [
    "# Plot the loss curve\n",
    "plt.plot(history.history['loss'], 'r', label='Training loss')\n",
    "plt.plot(history.history['val_loss'], 'b', label='Validation loss' )\n",
    "plt.title('Loss Curve')\n",
    "plt.xlabel('Number of training Epochs')\n",
    "plt.ylabel('Loss (m)')\n",
    "plt.legend()\n",
    "plt.show()\n",
    "\n",
    "# Plot the accuracy curve\n",
    "plt.plot(history.history['accuracy'], 'r', label='Training accuracy')\n",
    "plt.plot(history.history['val_accuracy'], 'b', label='Validation accuracy')\n",
    "plt.title('Accuracy Curve')\n",
    "plt.xlabel('Number of training Epochs')\n",
    "plt.ylabel('Accuracy')\n",
    "plt.legend()\n",
    "plt.show()"
   ]
  },
  {
   "cell_type": "code",
   "execution_count": 19,
   "id": "447c957f",
   "metadata": {},
   "outputs": [
    {
     "name": "stdout",
     "output_type": "stream",
     "text": [
      "70/70 [==============================] - 0s 578us/step\n"
     ]
    }
   ],
   "source": [
    "y_pred = model.predict(X_test)"
   ]
  },
  {
   "cell_type": "code",
   "execution_count": 20,
   "id": "4a15bbad",
   "metadata": {},
   "outputs": [
    {
     "data": {
      "text/plain": [
       "array([[9.69298959e-01, 3.06889303e-02, 7.11768422e-08, ...,\n",
       "        8.85820804e-33, 1.87344612e-31, 1.09434493e-37],\n",
       "       [1.51965041e-02, 9.78518367e-01, 5.28634293e-03, ...,\n",
       "        2.49164177e-31, 6.71421405e-28, 5.75295246e-34],\n",
       "       [3.17069847e-04, 2.04244465e-01, 1.32937863e-01, ...,\n",
       "        1.00417201e-24, 3.84120167e-23, 1.17119735e-29],\n",
       "       ...,\n",
       "       [3.56316321e-20, 9.10967524e-16, 1.31508106e-21, ...,\n",
       "        7.37390292e-13, 4.19325897e-14, 9.93587494e-01],\n",
       "       [4.95365309e-21, 8.60842986e-20, 8.36864590e-24, ...,\n",
       "        2.40668360e-05, 1.45470875e-11, 7.44114515e-19],\n",
       "       [0.00000000e+00, 1.31053872e-30, 3.71990170e-37, ...,\n",
       "        1.20912152e-24, 4.80340079e-29, 0.00000000e+00]], dtype=float32)"
      ]
     },
     "execution_count": 20,
     "metadata": {},
     "output_type": "execute_result"
    }
   ],
   "source": [
    "y_pred"
   ]
  },
  {
   "cell_type": "code",
   "execution_count": 21,
   "id": "3c1480b4",
   "metadata": {},
   "outputs": [
    {
     "data": {
      "text/plain": [
       "(2219, 25)"
      ]
     },
     "execution_count": 21,
     "metadata": {},
     "output_type": "execute_result"
    }
   ],
   "source": [
    "y_pred.shape"
   ]
  },
  {
   "cell_type": "code",
   "execution_count": 22,
   "id": "201c8d5d",
   "metadata": {},
   "outputs": [
    {
     "name": "stdout",
     "output_type": "stream",
     "text": [
      "[ 0  1  3 ... 24 17 12]\n"
     ]
    }
   ],
   "source": [
    "# Decode the one-hot encoded data\n",
    "#y_pred= one_hot_encoder.inverse_transform(y_pred)\n",
    "y_pred= np.argmax(y_pred, axis=1)\n",
    "# Convert the decoded output data to a NumPy array format\n",
    "y_pred = np.array(y_pred)\n",
    "\n",
    "# Print the decoded output data\n",
    "print(y_pred)"
   ]
  },
  {
   "cell_type": "code",
   "execution_count": 23,
   "id": "5844e0f8",
   "metadata": {},
   "outputs": [
    {
     "data": {
      "text/plain": [
       "array([ 0,  1,  3, ..., 24, 17, 12], dtype=int64)"
      ]
     },
     "execution_count": 23,
     "metadata": {},
     "output_type": "execute_result"
    }
   ],
   "source": [
    "y_pred=y_pred.flatten()\n",
    "y_pred"
   ]
  },
  {
   "cell_type": "code",
   "execution_count": 24,
   "id": "ae597927",
   "metadata": {},
   "outputs": [
    {
     "data": {
      "text/plain": [
       "array([[0., 1., 0., ..., 0., 0., 0.],\n",
       "       [0., 1., 0., ..., 0., 0., 0.],\n",
       "       [0., 0., 0., ..., 0., 0., 0.],\n",
       "       ...,\n",
       "       [0., 0., 0., ..., 0., 0., 1.],\n",
       "       [0., 0., 0., ..., 0., 0., 0.],\n",
       "       [0., 0., 0., ..., 0., 0., 0.]])"
      ]
     },
     "execution_count": 24,
     "metadata": {},
     "output_type": "execute_result"
    }
   ],
   "source": [
    "y_test"
   ]
  },
  {
   "cell_type": "code",
   "execution_count": 25,
   "id": "2edb1d4f",
   "metadata": {},
   "outputs": [
    {
     "name": "stdout",
     "output_type": "stream",
     "text": [
      "[ 1  1  3 ... 24 17 12]\n"
     ]
    }
   ],
   "source": [
    "# Decode the one-hot encoded data\n",
    "#y_test= one_hot_encoder.inverse_transform(y_test)\n",
    "y_test=np.argmax(y_test, axis=1)\n",
    "# Convert the decoded output data to a NumPy array format\n",
    "y_test = np.array(y_test)\n",
    "\n",
    "# Print the decoded output data\n",
    "print(y_test)"
   ]
  },
  {
   "cell_type": "code",
   "execution_count": 26,
   "id": "dfef252b",
   "metadata": {},
   "outputs": [
    {
     "data": {
      "text/plain": [
       "array([ 1,  1,  3, ..., 24, 17, 12], dtype=int64)"
      ]
     },
     "execution_count": 26,
     "metadata": {},
     "output_type": "execute_result"
    }
   ],
   "source": [
    "y_test = y_test.flatten()\n",
    "y_test"
   ]
  },
  {
   "cell_type": "markdown",
   "id": "c2ffd617",
   "metadata": {},
   "source": [
    "**6. Confusion Matrix and Classification Report**"
   ]
  },
  {
   "cell_type": "code",
   "execution_count": 27,
   "id": "c7a24aa2",
   "metadata": {},
   "outputs": [
    {
     "data": {
      "image/png": "[encoded data removed]",
      "text/plain": [
       "<Figure size 1200x800 with 2 Axes>"
      ]
     },
     "metadata": {},
     "output_type": "display_data"
    },
    {
     "name": "stdout",
     "output_type": "stream",
     "text": [
      "Accuracy of Model with Calibrated data:  0.9265434880576836\n"
     ]
    }
   ],
   "source": [
    "from sklearn.metrics import confusion_matrix, accuracy_score, mean_squared_error, classification_report\n",
    "import seaborn as sns\n",
    "\n",
    "# Calculate the confusion matrix\n",
    "conf_mat = confusion_matrix(y_test, y_pred)\n",
    "array=np.array(conf_mat)\n",
    "df_cm = pd.DataFrame(array, index = [str(i)+\"m\" for i in range(1,26)],\n",
    "                  columns = [str(i)+\"m\" for i in range(1,26)])\n",
    "\n",
    "plt.figure(figsize = (12,8))\n",
    "\n",
    "# import seaborn as sns\n",
    "# sns.heatmap(df_cm, annot=True)\n",
    "\n",
    "a=sns.heatmap(df_cm, annot=True, fmt='d')\n",
    "a.set_xlabel('Predicted distance label in m', fontsize=15)\n",
    "a.set_ylabel('Trude distance label in m', fontsize=15)\n",
    "plt.title('Confusion Matrix', fontsize=16)\n",
    "plt.show()\n",
    "accuracy = accuracy_score(y_test, y_pred)\n",
    "print('Accuracy of Model with Calibrated data: ', accuracy)"
   ]
  },
  {
   "cell_type": "code",
   "execution_count": 28,
   "id": "68999199",
   "metadata": {},
   "outputs": [
    {
     "name": "stdout",
     "output_type": "stream",
     "text": [
      "              precision    recall  f1-score   support\n",
      "\n",
      "          1m       0.97      0.95      0.96        87\n",
      "          2m       0.93      0.95      0.94        81\n",
      "          3m       0.98      0.95      0.96        95\n",
      "          4m       0.89      0.99      0.93        78\n",
      "          5m       0.88      0.80      0.84        90\n",
      "          6m       0.95      0.95      0.95        94\n",
      "          7m       0.83      0.89      0.86        83\n",
      "          8m       0.92      0.86      0.89        88\n",
      "          9m       0.96      0.94      0.95        90\n",
      "         10m       0.88      0.97      0.92       103\n",
      "         11m       0.96      0.71      0.82       101\n",
      "         12m       0.99      1.00      0.99        79\n",
      "         13m       0.81      0.99      0.89        88\n",
      "         14m       1.00      0.96      0.98        96\n",
      "         15m       0.99      0.98      0.98        94\n",
      "         16m       0.95      0.99      0.97        81\n",
      "         17m       0.99      0.98      0.98        91\n",
      "         18m       0.99      0.93      0.96        89\n",
      "         19m       0.89      0.97      0.92        89\n",
      "         20m       0.96      0.83      0.89        86\n",
      "         21m       0.90      0.91      0.90        76\n",
      "         22m       0.90      0.98      0.94        96\n",
      "         23m       0.97      0.75      0.85        96\n",
      "         24m       0.79      0.99      0.88        83\n",
      "         25m       1.00      1.00      1.00        85\n",
      "\n",
      "    accuracy                           0.93      2219\n",
      "   macro avg       0.93      0.93      0.93      2219\n",
      "weighted avg       0.93      0.93      0.93      2219\n",
      "\n"
     ]
    }
   ],
   "source": [
    "# Create a custom label for each class\n",
    "labels = [f\"{i + 1}m\" for i in range(25)]\n",
    "\n",
    "# Generate the classification report\n",
    "print(classification_report(y_test, y_pred, target_names=labels))\n"
   ]
  },
  {
   "cell_type": "code",
   "execution_count": 1601,
   "id": "3817bd00",
   "metadata": {},
   "outputs": [],
   "source": [
    "model.save('model.h5')"
   ]
  },
  {
   "cell_type": "code",
   "execution_count": 1602,
   "id": "111d8a60",
   "metadata": {},
   "outputs": [],
   "source": [
    "from tensorflow.keras.models import load_model\n",
    "\n",
    "trained_model = load_model('model.h5')"
   ]
  },
  {
   "cell_type": "markdown",
   "id": "6b322222",
   "metadata": {},
   "source": [
    "Precision: number of true positives divided by the number of true positives and false positives\n",
    "\n",
    "Recall: number of true positives divided by the number of true positives and false negatives\n",
    "\n",
    "F1-score: the harmonic mean of precision and recall\n",
    "\n",
    "Support: number of samples in the corresponding class.\n",
    "\n"
   ]
  }
 ],
 "metadata": {
  "kernelspec": {
   "display_name": "Python 3 (ipykernel)",
   "language": "python",
   "name": "python3"
  },
  "language_info": {
   "codemirror_mode": {
    "name": "ipython",
    "version": 3
   },
   "file_extension": ".py",
   "mimetype": "text/x-python",
   "name": "python",
   "nbconvert_exporter": "python",
   "pygments_lexer": "ipython3",
   "version": "3.10.10"
  }
 },
 "nbformat": 4,
 "nbformat_minor": 5
}
