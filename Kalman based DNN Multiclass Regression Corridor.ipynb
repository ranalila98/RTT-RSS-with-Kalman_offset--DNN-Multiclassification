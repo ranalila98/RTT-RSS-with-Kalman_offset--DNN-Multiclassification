{
 "cells": [
  {
   "cell_type": "markdown",
   "id": "9b1e72fc",
   "metadata": {},
   "source": [
    "**1. Importing Necessary libraries**"
   ]
  },
  {
   "cell_type": "code",
   "execution_count": 188,
   "id": "6721f396",
   "metadata": {},
   "outputs": [],
   "source": [
    "import pandas as pd\n",
    "import os\n",
    "import glob\n",
    "import numpy as np\n",
    "import math\n",
    "import matplotlib.pyplot as plt\n",
    "from matplotlib.pyplot import figure"
   ]
  },
  {
   "cell_type": "code",
   "execution_count": 189,
   "id": "82ad020b",
   "metadata": {},
   "outputs": [
    {
     "data": {
      "text/html": [
       "<div>\n",
       "<style scoped>\n",
       "    .dataframe tbody tr th:only-of-type {\n",
       "        vertical-align: middle;\n",
       "    }\n",
       "\n",
       "    .dataframe tbody tr th {\n",
       "        vertical-align: top;\n",
       "    }\n",
       "\n",
       "    .dataframe thead th {\n",
       "        text-align: right;\n",
       "    }\n",
       "</style>\n",
       "<table border=\"1\" class=\"dataframe\">\n",
       "  <thead>\n",
       "    <tr style=\"text-align: right;\">\n",
       "      <th></th>\n",
       "      <th>RTT</th>\n",
       "      <th>RSS</th>\n",
       "      <th>TRUE</th>\n",
       "    </tr>\n",
       "  </thead>\n",
       "  <tbody>\n",
       "    <tr>\n",
       "      <th>0</th>\n",
       "      <td>9.892809</td>\n",
       "      <td>-72.000000</td>\n",
       "      <td>10</td>\n",
       "    </tr>\n",
       "    <tr>\n",
       "      <th>1</th>\n",
       "      <td>10.037249</td>\n",
       "      <td>-69.494567</td>\n",
       "      <td>10</td>\n",
       "    </tr>\n",
       "    <tr>\n",
       "      <th>2</th>\n",
       "      <td>10.225143</td>\n",
       "      <td>-70.335750</td>\n",
       "      <td>10</td>\n",
       "    </tr>\n",
       "    <tr>\n",
       "      <th>3</th>\n",
       "      <td>10.231749</td>\n",
       "      <td>-70.504328</td>\n",
       "      <td>10</td>\n",
       "    </tr>\n",
       "    <tr>\n",
       "      <th>4</th>\n",
       "      <td>10.272160</td>\n",
       "      <td>-69.785318</td>\n",
       "      <td>10</td>\n",
       "    </tr>\n",
       "    <tr>\n",
       "      <th>...</th>\n",
       "      <td>...</td>\n",
       "      <td>...</td>\n",
       "      <td>...</td>\n",
       "    </tr>\n",
       "    <tr>\n",
       "      <th>291</th>\n",
       "      <td>8.150844</td>\n",
       "      <td>-61.387418</td>\n",
       "      <td>9</td>\n",
       "    </tr>\n",
       "    <tr>\n",
       "      <th>292</th>\n",
       "      <td>8.144316</td>\n",
       "      <td>-61.276177</td>\n",
       "      <td>9</td>\n",
       "    </tr>\n",
       "    <tr>\n",
       "      <th>293</th>\n",
       "      <td>8.104251</td>\n",
       "      <td>-61.173856</td>\n",
       "      <td>9</td>\n",
       "    </tr>\n",
       "    <tr>\n",
       "      <th>294</th>\n",
       "      <td>8.146940</td>\n",
       "      <td>-61.079739</td>\n",
       "      <td>9</td>\n",
       "    </tr>\n",
       "    <tr>\n",
       "      <th>295</th>\n",
       "      <td>8.200252</td>\n",
       "      <td>-61.073345</td>\n",
       "      <td>9</td>\n",
       "    </tr>\n",
       "  </tbody>\n",
       "</table>\n",
       "<p>7394 rows × 3 columns</p>\n",
       "</div>"
      ],
      "text/plain": [
       "           RTT        RSS  TRUE\n",
       "0     9.892809 -72.000000    10\n",
       "1    10.037249 -69.494567    10\n",
       "2    10.225143 -70.335750    10\n",
       "3    10.231749 -70.504328    10\n",
       "4    10.272160 -69.785318    10\n",
       "..         ...        ...   ...\n",
       "291   8.150844 -61.387418     9\n",
       "292   8.144316 -61.276177     9\n",
       "293   8.104251 -61.173856     9\n",
       "294   8.146940 -61.079739     9\n",
       "295   8.200252 -61.073345     9\n",
       "\n",
       "[7394 rows x 3 columns]"
      ]
     },
     "execution_count": 189,
     "metadata": {},
     "output_type": "execute_result"
    }
   ],
   "source": [
    "#combining no of csv file into one file with name combine_csv\n",
    "#os.chdir('C:\\Users\\LILA\\Desktop\\RTT-RSS with Kalman_offset\\Kalman_offset')\n",
    "os.chdir('C:/Users/LILA/Desktop/RTT-RSS with Kalman_offset/Kalman_offset')\n",
    "\n",
    "extension='csv'\n",
    "\n",
    "all_filenames=[i for i in glob.glob('*.{}'.format(extension))]\n",
    "\n",
    "combined_csv=pd.concat([pd.read_csv(f) for f in all_filenames])\n",
    "df=combined_csv\n",
    "df"
   ]
  },
  {
   "cell_type": "markdown",
   "id": "0f8d5c93",
   "metadata": {},
   "source": [
    "**2. Extracting input and output data from Dataframe**"
   ]
  },
  {
   "cell_type": "code",
   "execution_count": 190,
   "id": "7ee52a9d",
   "metadata": {},
   "outputs": [
    {
     "data": {
      "text/plain": [
       "(7394,)"
      ]
     },
     "execution_count": 190,
     "metadata": {},
     "output_type": "execute_result"
    }
   ],
   "source": [
    "input_data = df.iloc[:, :2]\n",
    "output_data = df['TRUE'].values\n",
    "output_data = np.array(output_data)\n",
    "output_data.shape"
   ]
  },
  {
   "cell_type": "code",
   "execution_count": 191,
   "id": "e5df4cb5",
   "metadata": {},
   "outputs": [],
   "source": [
    "input_data = input_data.values #conversting dataframe format to array format\n",
    "#input_data = input_data.reshape(-1,1)\n",
    "X=input_data"
   ]
  },
  {
   "cell_type": "code",
   "execution_count": 192,
   "id": "37432f87",
   "metadata": {},
   "outputs": [
    {
     "data": {
      "text/plain": [
       "array([10, 10, 10, ...,  9,  9,  9], dtype=int64)"
      ]
     },
     "execution_count": 192,
     "metadata": {},
     "output_type": "execute_result"
    }
   ],
   "source": [
    "output_data"
   ]
  },
  {
   "cell_type": "markdown",
   "id": "05f022f6",
   "metadata": {},
   "source": [
    "**3. Creating Multiple class using Onehot Encoder of output**"
   ]
  },
  {
   "cell_type": "code",
   "execution_count": 193,
   "id": "534b1e19",
   "metadata": {},
   "outputs": [],
   "source": [
    "\n",
    "from sklearn.preprocessing import OneHotEncoder\n",
    "# Create a one-hot encoder object\n",
    "one_hot_encoder = OneHotEncoder()\n",
    "\n",
    "# Fit and transform the one-hot encoder on your output data\n",
    "output_data = np.array(output_data)\n",
    "encoded_output = one_hot_encoder.fit_transform(output_data.reshape(-1,1))\n",
    "# Convert the encoded output data to a NumPy array format\n",
    "#encoded_output = np.array(encoded_output)\n",
    "encoded_output = encoded_output.toarray()\n",
    "y=encoded_output\n"
   ]
  },
  {
   "cell_type": "code",
   "execution_count": 194,
   "id": "80b9bc5e",
   "metadata": {},
   "outputs": [],
   "source": [
    "#output_data=output_data.values"
   ]
  },
  {
   "cell_type": "code",
   "execution_count": 195,
   "id": "fa3246ab",
   "metadata": {},
   "outputs": [
    {
     "data": {
      "text/plain": [
       "array([[  9.89280872, -72.        ],\n",
       "       [ 10.03724892, -69.49456676],\n",
       "       [ 10.22514268, -70.33574986],\n",
       "       ...,\n",
       "       [  8.10425144, -61.17385598],\n",
       "       [  8.14694009, -61.0797385 ],\n",
       "       [  8.20025215, -61.07334523]])"
      ]
     },
     "execution_count": 195,
     "metadata": {},
     "output_type": "execute_result"
    }
   ],
   "source": [
    "input_data"
   ]
  },
  {
   "cell_type": "markdown",
   "id": "d69b03cc",
   "metadata": {},
   "source": [
    "**4. Importing necessary libraries and create the DNN model**"
   ]
  },
  {
   "cell_type": "code",
   "execution_count": 196,
   "id": "42e5d1ff",
   "metadata": {},
   "outputs": [
    {
     "name": "stdout",
     "output_type": "stream",
     "text": [
      "Model: \"sequential_5\"\n",
      "_________________________________________________________________\n",
      " Layer (type)                Output Shape              Param #   \n",
      "=================================================================\n",
      " dense_20 (Dense)            (None, 64)                192       \n",
      "                                                                 \n",
      " dense_21 (Dense)            (None, 128)               8320      \n",
      "                                                                 \n",
      " dense_22 (Dense)            (None, 128)               16512     \n",
      "                                                                 \n",
      " dense_23 (Dense)            (None, 25)                3225      \n",
      "                                                                 \n",
      "=================================================================\n",
      "Total params: 28,249\n",
      "Trainable params: 28,249\n",
      "Non-trainable params: 0\n",
      "_________________________________________________________________\n"
     ]
    }
   ],
   "source": [
    "from keras.models import Sequential\n",
    "from keras.layers import Dense\n",
    "from tensorflow import keras\n",
    "from keras.optimizers import Adam\n",
    "from keras.layers import Dropout\n",
    "\n",
    "optimizer = Adam(learning_rate=0.0001)\n",
    "\n",
    "# Initialize the model\n",
    "model = Sequential()\n",
    "\n",
    "# Add the first hidden layer with 64 neurons and input shape as the shape of the input data\n",
    "model.add(Dense(64, activation='relu', input_shape=(2,)))\n",
    "\n",
    "# Add the second hidden layer with 128 neurons\n",
    "model.add(Dense(128, activation='relu'))\n",
    "#model.add(Dropout(0.2))\n",
    "\n",
    "# Add the third hidden layer with 128 neurons\n",
    "model.add(Dense(128, activation='relu'))\n",
    "#model.add(Dropout(0.2))\n",
    "\n",
    "# Add the fourth hidden layer with 32 neurons\n",
    "#model.add(Dense(32, activation='relu'))\n",
    "#model.add(Dropout(0.2))\n",
    "\n",
    "# Add the output layer with 25 neurons for the 25 categories, and use softmax activation for multiclass classification\n",
    "model.add(Dense(25, activation='softmax'))\n",
    "\n",
    "# Compile the model, using categorical_crossentropy loss for multiclass classification, and 'adam' optimizer\n",
    "#model.compile(loss='categorical_crossentropy', optimizer='adam', metrics=['accuracy'])\n",
    "model.compile(loss='categorical_crossentropy', optimizer=optimizer, metrics=['accuracy'])\n",
    "model.summary()"
   ]
  },
  {
   "cell_type": "code",
   "execution_count": 197,
   "id": "4afd74d8",
   "metadata": {},
   "outputs": [],
   "source": [
    "from sklearn.model_selection import train_test_split\n",
    "\n",
    "# assuming your data is in X and y variables\n",
    "#X_train_val, X_test, y_train_val, y_test = train_test_split(X, y, test_size=0.2, random_state=42)\n",
    "#X_train, X_val, y_train, y_val = train_test_split(X_train_val, y_train_val, test_size=0.25, random_state=42)\n",
    "X_train, X_test, y_train, y_test = train_test_split(input_data, encoded_output, test_size=0.3, random_state=42)"
   ]
  },
  {
   "cell_type": "code",
   "execution_count": 198,
   "id": "95ebf308",
   "metadata": {},
   "outputs": [
    {
     "data": {
      "text/plain": [
       "array([[ 22.09791381, -78.39659914],\n",
       "       [  6.67610286, -62.70303998],\n",
       "       [  6.69791407, -62.64872476],\n",
       "       ...,\n",
       "       [  2.79402896, -59.98608869],\n",
       "       [ 11.90158149, -62.02017815],\n",
       "       [  8.41902744, -60.63309277]])"
      ]
     },
     "execution_count": 198,
     "metadata": {},
     "output_type": "execute_result"
    }
   ],
   "source": [
    "X_train"
   ]
  },
  {
   "cell_type": "markdown",
   "id": "5eaa3039",
   "metadata": {},
   "source": [
    "**5. Standarizing the data- Preprocessing**"
   ]
  },
  {
   "cell_type": "code",
   "execution_count": 199,
   "id": "e5ced5cb",
   "metadata": {},
   "outputs": [
    {
     "data": {
      "text/plain": [
       "(5175, 2)"
      ]
     },
     "execution_count": 199,
     "metadata": {},
     "output_type": "execute_result"
    }
   ],
   "source": [
    "from sklearn.preprocessing import StandardScaler\n",
    "sc = StandardScaler() \n",
    "X_train = sc.fit_transform(X_train)\n",
    "X_test = sc.fit_transform(X_test)\n",
    "#X_val = sc.fit_transform(X_val)\n",
    "X_train.shape"
   ]
  },
  {
   "cell_type": "code",
   "execution_count": 200,
   "id": "166d7c7e",
   "metadata": {},
   "outputs": [
    {
     "data": {
      "text/plain": [
       "array([[ 1.3110432 , -1.53346284],\n",
       "       [-0.77980056,  0.52470931],\n",
       "       [-0.77684346,  0.53183262],\n",
       "       ...,\n",
       "       [-1.30612072,  0.88103087],\n",
       "       [-0.07134554,  0.61426498],\n",
       "       [-0.54349997,  0.79617786]])"
      ]
     },
     "execution_count": 200,
     "metadata": {},
     "output_type": "execute_result"
    }
   ],
   "source": [
    "X_train"
   ]
  },
  {
   "cell_type": "code",
   "execution_count": 201,
   "id": "c8c29d35",
   "metadata": {},
   "outputs": [
    {
     "data": {
      "text/plain": [
       "array([[0., 0., 0., ..., 0., 0., 0.],\n",
       "       [0., 0., 0., ..., 0., 0., 0.],\n",
       "       [0., 0., 0., ..., 0., 0., 0.],\n",
       "       ...,\n",
       "       [0., 0., 1., ..., 0., 0., 0.],\n",
       "       [0., 0., 0., ..., 0., 0., 0.],\n",
       "       [0., 0., 0., ..., 0., 0., 0.]])"
      ]
     },
     "execution_count": 201,
     "metadata": {},
     "output_type": "execute_result"
    }
   ],
   "source": [
    "y_train"
   ]
  },
  {
   "cell_type": "code",
   "execution_count": 202,
   "id": "1a0458f9",
   "metadata": {},
   "outputs": [
    {
     "data": {
      "text/plain": [
       "array([[0., 1., 0., ..., 0., 0., 0.],\n",
       "       [0., 1., 0., ..., 0., 0., 0.],\n",
       "       [0., 0., 0., ..., 0., 0., 0.],\n",
       "       ...,\n",
       "       [0., 0., 0., ..., 0., 0., 1.],\n",
       "       [0., 0., 0., ..., 0., 0., 0.],\n",
       "       [0., 0., 0., ..., 0., 0., 0.]])"
      ]
     },
     "execution_count": 202,
     "metadata": {},
     "output_type": "execute_result"
    }
   ],
   "source": [
    "y_test"
   ]
  },
  {
   "cell_type": "code",
   "execution_count": 203,
   "id": "9de4d0fb",
   "metadata": {},
   "outputs": [
    {
     "name": "stdout",
     "output_type": "stream",
     "text": [
      "Epoch 1/500\n",
      "162/162 [==============================] - 1s 2ms/step - loss: 3.1025 - accuracy: 0.1697 - val_loss: 2.9523 - val_accuracy: 0.1627\n",
      "Epoch 2/500\n",
      "162/162 [==============================] - 0s 1ms/step - loss: 2.7156 - accuracy: 0.1814 - val_loss: 2.4818 - val_accuracy: 0.2195\n",
      "Epoch 3/500\n",
      "162/162 [==============================] - 0s 1ms/step - loss: 2.2436 - accuracy: 0.3014 - val_loss: 2.0568 - val_accuracy: 0.3303\n",
      "Epoch 4/500\n",
      "162/162 [==============================] - 0s 1ms/step - loss: 1.8458 - accuracy: 0.3606 - val_loss: 1.6872 - val_accuracy: 0.3844\n",
      "Epoch 5/500\n",
      "162/162 [==============================] - 0s 2ms/step - loss: 1.5144 - accuracy: 0.4895 - val_loss: 1.3929 - val_accuracy: 0.5291\n",
      "Epoch 6/500\n",
      "162/162 [==============================] - 0s 2ms/step - loss: 1.2632 - accuracy: 0.6435 - val_loss: 1.1685 - val_accuracy: 0.7053\n",
      "Epoch 7/500\n",
      "162/162 [==============================] - 0s 2ms/step - loss: 1.0691 - accuracy: 0.7513 - val_loss: 0.9936 - val_accuracy: 0.7796\n",
      "Epoch 8/500\n",
      "162/162 [==============================] - 0s 1ms/step - loss: 0.9185 - accuracy: 0.8060 - val_loss: 0.8573 - val_accuracy: 0.8157\n",
      "Epoch 9/500\n",
      "162/162 [==============================] - 0s 1ms/step - loss: 0.7986 - accuracy: 0.8363 - val_loss: 0.7499 - val_accuracy: 0.8319\n",
      "Epoch 10/500\n",
      "162/162 [==============================] - 0s 2ms/step - loss: 0.7026 - accuracy: 0.8475 - val_loss: 0.6614 - val_accuracy: 0.8459\n",
      "Epoch 11/500\n",
      "162/162 [==============================] - 0s 1ms/step - loss: 0.6233 - accuracy: 0.8566 - val_loss: 0.5814 - val_accuracy: 0.8580\n",
      "Epoch 12/500\n",
      "162/162 [==============================] - 0s 1ms/step - loss: 0.5595 - accuracy: 0.8663 - val_loss: 0.5272 - val_accuracy: 0.8855\n",
      "Epoch 13/500\n",
      "162/162 [==============================] - 0s 2ms/step - loss: 0.5103 - accuracy: 0.8831 - val_loss: 0.4860 - val_accuracy: 0.8765\n",
      "Epoch 14/500\n",
      "162/162 [==============================] - 0s 2ms/step - loss: 0.4713 - accuracy: 0.8788 - val_loss: 0.4452 - val_accuracy: 0.8959\n",
      "Epoch 15/500\n",
      "162/162 [==============================] - 0s 1ms/step - loss: 0.4404 - accuracy: 0.8875 - val_loss: 0.4175 - val_accuracy: 0.9018\n",
      "Epoch 16/500\n",
      "162/162 [==============================] - 0s 1ms/step - loss: 0.4130 - accuracy: 0.8987 - val_loss: 0.3996 - val_accuracy: 0.8743\n",
      "Epoch 17/500\n",
      "162/162 [==============================] - 0s 1ms/step - loss: 0.3904 - accuracy: 0.8957 - val_loss: 0.3705 - val_accuracy: 0.8986\n",
      "Epoch 18/500\n",
      "162/162 [==============================] - 0s 1ms/step - loss: 0.3721 - accuracy: 0.9020 - val_loss: 0.3571 - val_accuracy: 0.9085\n",
      "Epoch 19/500\n",
      "162/162 [==============================] - 0s 1ms/step - loss: 0.3547 - accuracy: 0.9134 - val_loss: 0.3392 - val_accuracy: 0.9153\n",
      "Epoch 20/500\n",
      "162/162 [==============================] - 0s 1ms/step - loss: 0.3401 - accuracy: 0.9076 - val_loss: 0.3261 - val_accuracy: 0.9144\n",
      "Epoch 21/500\n",
      "162/162 [==============================] - 0s 1ms/step - loss: 0.3254 - accuracy: 0.9150 - val_loss: 0.3133 - val_accuracy: 0.9112\n",
      "Epoch 22/500\n",
      "162/162 [==============================] - 0s 1ms/step - loss: 0.3143 - accuracy: 0.9183 - val_loss: 0.2999 - val_accuracy: 0.9234\n",
      "Epoch 23/500\n",
      "162/162 [==============================] - 0s 1ms/step - loss: 0.3039 - accuracy: 0.9202 - val_loss: 0.2878 - val_accuracy: 0.9202\n",
      "Epoch 24/500\n",
      "162/162 [==============================] - 0s 960us/step - loss: 0.2950 - accuracy: 0.9196 - val_loss: 0.2808 - val_accuracy: 0.9274\n",
      "Epoch 25/500\n",
      "162/162 [==============================] - 0s 993us/step - loss: 0.2842 - accuracy: 0.9260 - val_loss: 0.2708 - val_accuracy: 0.9265\n",
      "Epoch 26/500\n",
      "162/162 [==============================] - 0s 973us/step - loss: 0.2758 - accuracy: 0.9271 - val_loss: 0.2678 - val_accuracy: 0.9315\n",
      "Epoch 27/500\n",
      "162/162 [==============================] - 0s 973us/step - loss: 0.2673 - accuracy: 0.9314 - val_loss: 0.2558 - val_accuracy: 0.9229\n",
      "Epoch 28/500\n",
      "162/162 [==============================] - 0s 938us/step - loss: 0.2612 - accuracy: 0.9300 - val_loss: 0.2515 - val_accuracy: 0.9347\n",
      "Epoch 29/500\n",
      "162/162 [==============================] - 0s 993us/step - loss: 0.2533 - accuracy: 0.9347 - val_loss: 0.2461 - val_accuracy: 0.9396\n",
      "Epoch 30/500\n",
      "162/162 [==============================] - 0s 987us/step - loss: 0.2461 - accuracy: 0.9364 - val_loss: 0.2428 - val_accuracy: 0.9333\n",
      "Epoch 31/500\n",
      "162/162 [==============================] - 0s 949us/step - loss: 0.2419 - accuracy: 0.9374 - val_loss: 0.2334 - val_accuracy: 0.9383\n",
      "Epoch 32/500\n",
      "162/162 [==============================] - 0s 975us/step - loss: 0.2349 - accuracy: 0.9386 - val_loss: 0.2242 - val_accuracy: 0.9365\n",
      "Epoch 33/500\n",
      "162/162 [==============================] - 0s 985us/step - loss: 0.2291 - accuracy: 0.9386 - val_loss: 0.2242 - val_accuracy: 0.9392\n",
      "Epoch 34/500\n",
      "162/162 [==============================] - 0s 986us/step - loss: 0.2234 - accuracy: 0.9399 - val_loss: 0.2164 - val_accuracy: 0.9378\n",
      "Epoch 35/500\n",
      "162/162 [==============================] - 0s 957us/step - loss: 0.2189 - accuracy: 0.9414 - val_loss: 0.2095 - val_accuracy: 0.9401\n",
      "Epoch 36/500\n",
      "162/162 [==============================] - 0s 949us/step - loss: 0.2149 - accuracy: 0.9405 - val_loss: 0.2055 - val_accuracy: 0.9482\n",
      "Epoch 37/500\n",
      "162/162 [==============================] - 0s 950us/step - loss: 0.2098 - accuracy: 0.9426 - val_loss: 0.2056 - val_accuracy: 0.9365\n",
      "Epoch 38/500\n",
      "162/162 [==============================] - 0s 969us/step - loss: 0.2043 - accuracy: 0.9445 - val_loss: 0.1997 - val_accuracy: 0.9473\n",
      "Epoch 39/500\n",
      "162/162 [==============================] - 0s 1ms/step - loss: 0.2021 - accuracy: 0.9443 - val_loss: 0.1924 - val_accuracy: 0.9482\n",
      "Epoch 40/500\n",
      "162/162 [==============================] - 0s 963us/step - loss: 0.1968 - accuracy: 0.9461 - val_loss: 0.1903 - val_accuracy: 0.9491\n",
      "Epoch 41/500\n",
      "162/162 [==============================] - 0s 943us/step - loss: 0.1916 - accuracy: 0.9478 - val_loss: 0.1895 - val_accuracy: 0.9477\n",
      "Epoch 42/500\n",
      "162/162 [==============================] - 0s 951us/step - loss: 0.1890 - accuracy: 0.9480 - val_loss: 0.1846 - val_accuracy: 0.9446\n",
      "Epoch 43/500\n",
      "162/162 [==============================] - 0s 961us/step - loss: 0.1851 - accuracy: 0.9471 - val_loss: 0.1818 - val_accuracy: 0.9518\n",
      "Epoch 44/500\n",
      "162/162 [==============================] - 0s 938us/step - loss: 0.1808 - accuracy: 0.9484 - val_loss: 0.1811 - val_accuracy: 0.9473\n",
      "Epoch 45/500\n",
      "162/162 [==============================] - 0s 974us/step - loss: 0.1792 - accuracy: 0.9476 - val_loss: 0.1718 - val_accuracy: 0.9509\n",
      "Epoch 46/500\n",
      "162/162 [==============================] - 0s 1ms/step - loss: 0.1754 - accuracy: 0.9500 - val_loss: 0.1718 - val_accuracy: 0.9500\n",
      "Epoch 47/500\n",
      "162/162 [==============================] - 0s 993us/step - loss: 0.1718 - accuracy: 0.9505 - val_loss: 0.1740 - val_accuracy: 0.9468\n",
      "Epoch 48/500\n",
      "162/162 [==============================] - 0s 937us/step - loss: 0.1692 - accuracy: 0.9517 - val_loss: 0.1658 - val_accuracy: 0.9468\n",
      "Epoch 49/500\n",
      "162/162 [==============================] - 0s 944us/step - loss: 0.1660 - accuracy: 0.9509 - val_loss: 0.1640 - val_accuracy: 0.9504\n",
      "Epoch 50/500\n",
      "162/162 [==============================] - 0s 986us/step - loss: 0.1631 - accuracy: 0.9513 - val_loss: 0.1592 - val_accuracy: 0.9527\n",
      "Epoch 51/500\n",
      "162/162 [==============================] - 0s 955us/step - loss: 0.1595 - accuracy: 0.9534 - val_loss: 0.1582 - val_accuracy: 0.9540\n",
      "Epoch 52/500\n",
      "162/162 [==============================] - 0s 944us/step - loss: 0.1578 - accuracy: 0.9529 - val_loss: 0.1543 - val_accuracy: 0.9509\n",
      "Epoch 53/500\n",
      "162/162 [==============================] - 0s 938us/step - loss: 0.1556 - accuracy: 0.9544 - val_loss: 0.1509 - val_accuracy: 0.9540\n",
      "Epoch 54/500\n",
      "162/162 [==============================] - 0s 1ms/step - loss: 0.1527 - accuracy: 0.9538 - val_loss: 0.1500 - val_accuracy: 0.9522\n",
      "Epoch 55/500\n",
      "162/162 [==============================] - 0s 938us/step - loss: 0.1502 - accuracy: 0.9546 - val_loss: 0.1475 - val_accuracy: 0.9567\n",
      "Epoch 56/500\n",
      "162/162 [==============================] - 0s 948us/step - loss: 0.1471 - accuracy: 0.9546 - val_loss: 0.1484 - val_accuracy: 0.9518\n",
      "Epoch 57/500\n",
      "162/162 [==============================] - 0s 896us/step - loss: 0.1447 - accuracy: 0.9557 - val_loss: 0.1433 - val_accuracy: 0.9567\n",
      "Epoch 58/500\n",
      "162/162 [==============================] - 0s 950us/step - loss: 0.1424 - accuracy: 0.9552 - val_loss: 0.1415 - val_accuracy: 0.9590\n",
      "Epoch 59/500\n",
      "162/162 [==============================] - 0s 981us/step - loss: 0.1412 - accuracy: 0.9571 - val_loss: 0.1392 - val_accuracy: 0.9576\n",
      "Epoch 60/500\n",
      "162/162 [==============================] - 0s 974us/step - loss: 0.1376 - accuracy: 0.9571 - val_loss: 0.1373 - val_accuracy: 0.9576\n",
      "Epoch 61/500\n",
      "162/162 [==============================] - 0s 950us/step - loss: 0.1365 - accuracy: 0.9585 - val_loss: 0.1368 - val_accuracy: 0.9603\n",
      "Epoch 62/500\n",
      "162/162 [==============================] - 0s 979us/step - loss: 0.1347 - accuracy: 0.9579 - val_loss: 0.1341 - val_accuracy: 0.9549\n",
      "Epoch 63/500\n",
      "162/162 [==============================] - 0s 1ms/step - loss: 0.1318 - accuracy: 0.9577 - val_loss: 0.1316 - val_accuracy: 0.9612\n",
      "Epoch 64/500\n",
      "162/162 [==============================] - 0s 1ms/step - loss: 0.1311 - accuracy: 0.9588 - val_loss: 0.1296 - val_accuracy: 0.9635\n",
      "Epoch 65/500\n",
      "162/162 [==============================] - 0s 992us/step - loss: 0.1294 - accuracy: 0.9602 - val_loss: 0.1288 - val_accuracy: 0.9599\n",
      "Epoch 66/500\n",
      "162/162 [==============================] - 0s 984us/step - loss: 0.1267 - accuracy: 0.9583 - val_loss: 0.1251 - val_accuracy: 0.9608\n",
      "Epoch 67/500\n",
      "162/162 [==============================] - 0s 971us/step - loss: 0.1256 - accuracy: 0.9586 - val_loss: 0.1233 - val_accuracy: 0.9621\n",
      "Epoch 68/500\n",
      "162/162 [==============================] - 0s 1ms/step - loss: 0.1233 - accuracy: 0.9590 - val_loss: 0.1243 - val_accuracy: 0.9612\n",
      "Epoch 69/500\n",
      "162/162 [==============================] - 0s 1ms/step - loss: 0.1222 - accuracy: 0.9598 - val_loss: 0.1204 - val_accuracy: 0.9648\n",
      "Epoch 70/500\n",
      "162/162 [==============================] - 0s 937us/step - loss: 0.1208 - accuracy: 0.9604 - val_loss: 0.1214 - val_accuracy: 0.9576\n",
      "Epoch 71/500\n",
      "162/162 [==============================] - 0s 904us/step - loss: 0.1203 - accuracy: 0.9590 - val_loss: 0.1166 - val_accuracy: 0.9639\n",
      "Epoch 72/500\n",
      "162/162 [==============================] - 0s 939us/step - loss: 0.1174 - accuracy: 0.9625 - val_loss: 0.1153 - val_accuracy: 0.9653\n",
      "Epoch 73/500\n",
      "162/162 [==============================] - 0s 928us/step - loss: 0.1150 - accuracy: 0.9606 - val_loss: 0.1163 - val_accuracy: 0.9662\n",
      "Epoch 74/500\n",
      "162/162 [==============================] - 0s 917us/step - loss: 0.1139 - accuracy: 0.9619 - val_loss: 0.1130 - val_accuracy: 0.9621\n",
      "Epoch 75/500\n",
      "162/162 [==============================] - 0s 960us/step - loss: 0.1118 - accuracy: 0.9625 - val_loss: 0.1124 - val_accuracy: 0.9648\n",
      "Epoch 76/500\n",
      "162/162 [==============================] - 0s 947us/step - loss: 0.1110 - accuracy: 0.9627 - val_loss: 0.1125 - val_accuracy: 0.9648\n",
      "Epoch 77/500\n",
      "162/162 [==============================] - 0s 929us/step - loss: 0.1087 - accuracy: 0.9646 - val_loss: 0.1101 - val_accuracy: 0.9626\n",
      "Epoch 78/500\n",
      "162/162 [==============================] - 0s 941us/step - loss: 0.1084 - accuracy: 0.9639 - val_loss: 0.1096 - val_accuracy: 0.9639\n",
      "Epoch 79/500\n",
      "162/162 [==============================] - 0s 929us/step - loss: 0.1066 - accuracy: 0.9658 - val_loss: 0.1080 - val_accuracy: 0.9662\n",
      "Epoch 80/500\n",
      "162/162 [==============================] - 0s 916us/step - loss: 0.1051 - accuracy: 0.9648 - val_loss: 0.1053 - val_accuracy: 0.9676\n",
      "Epoch 81/500\n",
      "162/162 [==============================] - 0s 916us/step - loss: 0.1043 - accuracy: 0.9662 - val_loss: 0.1032 - val_accuracy: 0.9676\n",
      "Epoch 82/500\n",
      "162/162 [==============================] - 0s 922us/step - loss: 0.1033 - accuracy: 0.9668 - val_loss: 0.1020 - val_accuracy: 0.9671\n",
      "Epoch 83/500\n",
      "162/162 [==============================] - 0s 916us/step - loss: 0.1011 - accuracy: 0.9658 - val_loss: 0.1022 - val_accuracy: 0.9648\n",
      "Epoch 84/500\n",
      "162/162 [==============================] - 0s 916us/step - loss: 0.1003 - accuracy: 0.9660 - val_loss: 0.1006 - val_accuracy: 0.9676\n",
      "Epoch 85/500\n",
      "162/162 [==============================] - 0s 969us/step - loss: 0.0993 - accuracy: 0.9654 - val_loss: 0.1014 - val_accuracy: 0.9653\n",
      "Epoch 86/500\n",
      "162/162 [==============================] - 0s 966us/step - loss: 0.0963 - accuracy: 0.9679 - val_loss: 0.0989 - val_accuracy: 0.9635\n",
      "Epoch 87/500\n",
      "162/162 [==============================] - 0s 941us/step - loss: 0.0961 - accuracy: 0.9666 - val_loss: 0.0979 - val_accuracy: 0.9703\n",
      "Epoch 88/500\n",
      "162/162 [==============================] - 0s 940us/step - loss: 0.0952 - accuracy: 0.9685 - val_loss: 0.0957 - val_accuracy: 0.9698\n",
      "Epoch 89/500\n",
      "162/162 [==============================] - 0s 947us/step - loss: 0.0936 - accuracy: 0.9683 - val_loss: 0.0954 - val_accuracy: 0.9694\n",
      "Epoch 90/500\n",
      "162/162 [==============================] - 0s 922us/step - loss: 0.0944 - accuracy: 0.9681 - val_loss: 0.0945 - val_accuracy: 0.9694\n",
      "Epoch 91/500\n",
      "162/162 [==============================] - 0s 960us/step - loss: 0.0912 - accuracy: 0.9691 - val_loss: 0.0907 - val_accuracy: 0.9721\n",
      "Epoch 92/500\n",
      "162/162 [==============================] - 0s 966us/step - loss: 0.0921 - accuracy: 0.9700 - val_loss: 0.0919 - val_accuracy: 0.9671\n",
      "Epoch 93/500\n",
      "162/162 [==============================] - 0s 976us/step - loss: 0.0924 - accuracy: 0.9699 - val_loss: 0.0932 - val_accuracy: 0.9712\n",
      "Epoch 94/500\n",
      "162/162 [==============================] - 0s 1ms/step - loss: 0.0892 - accuracy: 0.9722 - val_loss: 0.0911 - val_accuracy: 0.9685\n",
      "Epoch 95/500\n",
      "162/162 [==============================] - 0s 954us/step - loss: 0.0886 - accuracy: 0.9697 - val_loss: 0.0909 - val_accuracy: 0.9698\n",
      "Epoch 96/500\n",
      "162/162 [==============================] - 0s 978us/step - loss: 0.0879 - accuracy: 0.9716 - val_loss: 0.0911 - val_accuracy: 0.9721\n"
     ]
    }
   ],
   "source": [
    "early_stopping = keras.callbacks.EarlyStopping(patience=5, monitor='val_loss')\n",
    "history = model.fit(X_train, y_train, validation_data=(X_test, y_test), epochs=500, callbacks=[early_stopping])"
   ]
  },
  {
   "cell_type": "code",
   "execution_count": 204,
   "id": "9305d142",
   "metadata": {},
   "outputs": [
    {
     "name": "stdout",
     "output_type": "stream",
     "text": [
      "70/70 [==============================] - 0s 520us/step - loss: 0.0911 - accuracy: 0.9721\n",
      "Test loss: 0.09111291170120239\n",
      "Test accuracy: 0.9720594882965088\n"
     ]
    }
   ],
   "source": [
    "## evaluate the model on the test set\n",
    "loss, accuracy = model.evaluate(X_test, y_test)\n",
    "print('Test loss:', loss)\n",
    "print('Test accuracy:', accuracy)"
   ]
  },
  {
   "cell_type": "code",
   "execution_count": 205,
   "id": "9e0e85b5",
   "metadata": {},
   "outputs": [
    {
     "data": {
      "image/png": "[encoded data removed]",
      "text/plain": [
       "<Figure size 640x480 with 1 Axes>"
      ]
     },
     "metadata": {},
     "output_type": "display_data"
    },
    {
     "data": {
      "image/png": "[encoded data removed]",
      "text/plain": [
       "<Figure size 640x480 with 1 Axes>"
      ]
     },
     "metadata": {},
     "output_type": "display_data"
    }
   ],
   "source": [
    "# Plot the loss curve\n",
    "plt.plot(history.history['loss'], 'r', label='Training loss')\n",
    "plt.plot(history.history['val_loss'], 'b', label='Validation loss' )\n",
    "plt.title('Loss Curve')\n",
    "plt.xlabel('Number of training Epochs')\n",
    "plt.ylabel('Loss (m)')\n",
    "plt.legend()\n",
    "plt.show()\n",
    "\n",
    "# Plot the accuracy curve\n",
    "plt.plot(history.history['accuracy'], 'r', label='Training accuracy')\n",
    "plt.plot(history.history['val_accuracy'], 'b', label='Validation accuracy')\n",
    "plt.title('Accuracy Curve')\n",
    "plt.xlabel('Number of training Epochs')\n",
    "plt.ylabel('Accuracy')\n",
    "plt.legend()\n",
    "plt.show()"
   ]
  },
  {
   "cell_type": "code",
   "execution_count": 206,
   "id": "447c957f",
   "metadata": {},
   "outputs": [
    {
     "name": "stdout",
     "output_type": "stream",
     "text": [
      "70/70 [==============================] - 0s 433us/step\n"
     ]
    }
   ],
   "source": [
    "y_pred = model.predict(X_test)"
   ]
  },
  {
   "cell_type": "code",
   "execution_count": 207,
   "id": "4a15bbad",
   "metadata": {},
   "outputs": [
    {
     "data": {
      "text/plain": [
       "array([[3.02962516e-03, 9.96970057e-01, 2.09176818e-07, ...,\n",
       "        6.37696568e-25, 5.86818952e-27, 3.52365383e-34],\n",
       "       [1.79951065e-04, 9.99816835e-01, 2.49265645e-06, ...,\n",
       "        1.01337004e-25, 3.07668638e-27, 1.85963838e-34],\n",
       "       [7.96756619e-11, 3.76460725e-03, 7.17500865e-01, ...,\n",
       "        1.58446423e-25, 3.47107426e-25, 1.76401260e-34],\n",
       "       ...,\n",
       "       [3.69720922e-30, 1.36059915e-38, 0.00000000e+00, ...,\n",
       "        5.88829512e-17, 1.86635211e-20, 9.99587357e-01],\n",
       "       [3.77936302e-20, 4.40569879e-27, 3.44362753e-37, ...,\n",
       "        4.38853185e-08, 1.23839632e-13, 4.11183418e-25],\n",
       "       [2.17808539e-25, 2.22242578e-25, 2.25167688e-34, ...,\n",
       "        1.56709491e-23, 3.25930228e-28, 0.00000000e+00]], dtype=float32)"
      ]
     },
     "execution_count": 207,
     "metadata": {},
     "output_type": "execute_result"
    }
   ],
   "source": [
    "y_pred"
   ]
  },
  {
   "cell_type": "code",
   "execution_count": 208,
   "id": "3c1480b4",
   "metadata": {},
   "outputs": [
    {
     "data": {
      "text/plain": [
       "(2219, 25)"
      ]
     },
     "execution_count": 208,
     "metadata": {},
     "output_type": "execute_result"
    }
   ],
   "source": [
    "y_pred.shape"
   ]
  },
  {
   "cell_type": "code",
   "execution_count": 209,
   "id": "201c8d5d",
   "metadata": {},
   "outputs": [
    {
     "name": "stdout",
     "output_type": "stream",
     "text": [
      "[ 1  1  2 ... 24 17 12]\n"
     ]
    }
   ],
   "source": [
    "# Decode the one-hot encoded data\n",
    "#y_pred= one_hot_encoder.inverse_transform(y_pred)\n",
    "y_pred= np.argmax(y_pred, axis=1)\n",
    "# Convert the decoded output data to a NumPy array format\n",
    "y_pred = np.array(y_pred)\n",
    "\n",
    "# Print the decoded output data\n",
    "print(y_pred)"
   ]
  },
  {
   "cell_type": "code",
   "execution_count": 210,
   "id": "5844e0f8",
   "metadata": {},
   "outputs": [
    {
     "data": {
      "text/plain": [
       "array([ 1,  1,  2, ..., 24, 17, 12], dtype=int64)"
      ]
     },
     "execution_count": 210,
     "metadata": {},
     "output_type": "execute_result"
    }
   ],
   "source": [
    "y_pred=y_pred.flatten()\n",
    "y_pred"
   ]
  },
  {
   "cell_type": "code",
   "execution_count": 211,
   "id": "ae597927",
   "metadata": {},
   "outputs": [
    {
     "data": {
      "text/plain": [
       "array([[0., 1., 0., ..., 0., 0., 0.],\n",
       "       [0., 1., 0., ..., 0., 0., 0.],\n",
       "       [0., 0., 0., ..., 0., 0., 0.],\n",
       "       ...,\n",
       "       [0., 0., 0., ..., 0., 0., 1.],\n",
       "       [0., 0., 0., ..., 0., 0., 0.],\n",
       "       [0., 0., 0., ..., 0., 0., 0.]])"
      ]
     },
     "execution_count": 211,
     "metadata": {},
     "output_type": "execute_result"
    }
   ],
   "source": [
    "y_test"
   ]
  },
  {
   "cell_type": "code",
   "execution_count": 212,
   "id": "2edb1d4f",
   "metadata": {},
   "outputs": [
    {
     "name": "stdout",
     "output_type": "stream",
     "text": [
      "[ 1  1  3 ... 24 17 12]\n"
     ]
    }
   ],
   "source": [
    "# Decode the one-hot encoded data\n",
    "#y_test= one_hot_encoder.inverse_transform(y_test)\n",
    "y_test=np.argmax(y_test, axis=1)\n",
    "# Convert the decoded output data to a NumPy array format\n",
    "y_test = np.array(y_test)\n",
    "\n",
    "# Print the decoded output data\n",
    "print(y_test)"
   ]
  },
  {
   "cell_type": "code",
   "execution_count": 213,
   "id": "dfef252b",
   "metadata": {},
   "outputs": [
    {
     "data": {
      "text/plain": [
       "array([ 1,  1,  3, ..., 24, 17, 12], dtype=int64)"
      ]
     },
     "execution_count": 213,
     "metadata": {},
     "output_type": "execute_result"
    }
   ],
   "source": [
    "y_test = y_test.flatten()\n",
    "y_test"
   ]
  },
  {
   "cell_type": "markdown",
   "id": "c2ffd617",
   "metadata": {},
   "source": [
    "**6. Confusion Matrix and Classification Report**"
   ]
  },
  {
   "cell_type": "code",
   "execution_count": 214,
   "id": "c7a24aa2",
   "metadata": {},
   "outputs": [
    {
     "data": {
      "image/png": "[encoded data removed]",
      "text/plain": [
       "<Figure size 1200x800 with 2 Axes>"
      ]
     },
     "metadata": {},
     "output_type": "display_data"
    },
    {
     "name": "stdout",
     "output_type": "stream",
     "text": [
      "Accuracy of Model with Kalman Filter:  0.9720594862550699\n"
     ]
    }
   ],
   "source": [
    "from sklearn.metrics import confusion_matrix, accuracy_score, mean_squared_error, classification_report\n",
    "import seaborn as sns\n",
    "\n",
    "# Calculate the confusion matrix\n",
    "conf_mat = confusion_matrix(y_test, y_pred)\n",
    "array=np.array(conf_mat)\n",
    "df_cm = pd.DataFrame(array, index = [str(i)+\"m\" for i in range(1,26)],\n",
    "                  columns = [str(i)+\"m\" for i in range(1,26)])\n",
    "\n",
    "plt.figure(figsize = (12,8))\n",
    "\n",
    "# import seaborn as sns\n",
    "# sns.heatmap(df_cm, annot=True)\n",
    "\n",
    "a=sns.heatmap(df_cm, annot=True, fmt='d')\n",
    "a.set_xlabel('Predicted distance label in m', fontsize=15)\n",
    "a.set_ylabel('Trude distance label in m', fontsize=15)\n",
    "plt.title('Confusion Matrix After using Kalman Filter', fontsize=16)\n",
    "plt.show()\n",
    "accuracy = accuracy_score(y_test, y_pred)\n",
    "print('Accuracy of Model with Kalman Filter: ', accuracy)"
   ]
  },
  {
   "cell_type": "code",
   "execution_count": 215,
   "id": "68999199",
   "metadata": {},
   "outputs": [
    {
     "name": "stdout",
     "output_type": "stream",
     "text": [
      "              precision    recall  f1-score   support\n",
      "\n",
      "          1m       1.00      1.00      1.00        87\n",
      "          2m       1.00      1.00      1.00        81\n",
      "          3m       0.81      0.97      0.88        95\n",
      "          4m       0.88      0.72      0.79        78\n",
      "          5m       1.00      0.94      0.97        90\n",
      "          6m       1.00      1.00      1.00        94\n",
      "          7m       0.94      1.00      0.97        83\n",
      "          8m       1.00      0.94      0.97        88\n",
      "          9m       1.00      1.00      1.00        90\n",
      "         10m       0.98      0.85      0.91       103\n",
      "         11m       0.87      0.98      0.92       101\n",
      "         12m       1.00      1.00      1.00        79\n",
      "         13m       1.00      1.00      1.00        88\n",
      "         14m       1.00      0.99      0.99        96\n",
      "         15m       0.99      1.00      0.99        94\n",
      "         16m       0.99      1.00      0.99        81\n",
      "         17m       1.00      0.99      0.99        91\n",
      "         18m       1.00      1.00      1.00        89\n",
      "         19m       1.00      0.99      0.99        89\n",
      "         20m       1.00      0.99      0.99        86\n",
      "         21m       0.97      1.00      0.99        76\n",
      "         22m       1.00      1.00      1.00        96\n",
      "         23m       0.99      0.95      0.97        96\n",
      "         24m       0.94      0.99      0.96        83\n",
      "         25m       1.00      1.00      1.00        85\n",
      "\n",
      "    accuracy                           0.97      2219\n",
      "   macro avg       0.97      0.97      0.97      2219\n",
      "weighted avg       0.97      0.97      0.97      2219\n",
      "\n"
     ]
    }
   ],
   "source": [
    "# Create a custom label for each class\n",
    "labels = [f\"{i + 1}m\" for i in range(25)]\n",
    "\n",
    "# Generate the classification report\n",
    "print(classification_report(y_test, y_pred, target_names=labels))\n",
    "\n",
    "\n"
   ]
  },
  {
   "cell_type": "markdown",
   "id": "6b322222",
   "metadata": {},
   "source": [
    "Precision: number of true positives divided by the number of true positives and false positives\n",
    "\n",
    "Recall: number of true positives divided by the number of true positives and false negatives\n",
    "\n",
    "F1-score: the harmonic mean of precision and recall\n",
    "\n",
    "Support: number of samples in the corresponding class.\n",
    "\n"
   ]
  },
  {
   "cell_type": "markdown",
   "id": "1ccd42f3",
   "metadata": {},
   "source": [
    " **7.Predicting without Kalman Filter data**\n",
    " "
   ]
  },
  {
   "cell_type": "code",
   "execution_count": 216,
   "id": "67e9e7c6",
   "metadata": {},
   "outputs": [
    {
     "data": {
      "text/html": [
       "<div>\n",
       "<style scoped>\n",
       "    .dataframe tbody tr th:only-of-type {\n",
       "        vertical-align: middle;\n",
       "    }\n",
       "\n",
       "    .dataframe tbody tr th {\n",
       "        vertical-align: top;\n",
       "    }\n",
       "\n",
       "    .dataframe thead th {\n",
       "        text-align: right;\n",
       "    }\n",
       "</style>\n",
       "<table border=\"1\" class=\"dataframe\">\n",
       "  <thead>\n",
       "    <tr style=\"text-align: right;\">\n",
       "      <th></th>\n",
       "      <th>True_Range</th>\n",
       "      <th>Est_Range</th>\n",
       "      <th>stdev</th>\n",
       "      <th>RSSI</th>\n",
       "      <th>Final_range</th>\n",
       "      <th>Raw_error</th>\n",
       "      <th>Callibrated_data_error</th>\n",
       "    </tr>\n",
       "  </thead>\n",
       "  <tbody>\n",
       "    <tr>\n",
       "      <th>0</th>\n",
       "      <td>10</td>\n",
       "      <td>10.178</td>\n",
       "      <td>0.674</td>\n",
       "      <td>-72</td>\n",
       "      <td>9.892809</td>\n",
       "      <td>-0.178</td>\n",
       "      <td>0.107191</td>\n",
       "    </tr>\n",
       "    <tr>\n",
       "      <th>1</th>\n",
       "      <td>10</td>\n",
       "      <td>10.452</td>\n",
       "      <td>0.142</td>\n",
       "      <td>-67</td>\n",
       "      <td>10.166809</td>\n",
       "      <td>-0.452</td>\n",
       "      <td>-0.166809</td>\n",
       "    </tr>\n",
       "    <tr>\n",
       "      <th>2</th>\n",
       "      <td>10</td>\n",
       "      <td>10.803</td>\n",
       "      <td>0.077</td>\n",
       "      <td>-72</td>\n",
       "      <td>10.517809</td>\n",
       "      <td>-0.803</td>\n",
       "      <td>-0.517809</td>\n",
       "    </tr>\n",
       "    <tr>\n",
       "      <th>3</th>\n",
       "      <td>10</td>\n",
       "      <td>10.530</td>\n",
       "      <td>0.194</td>\n",
       "      <td>-71</td>\n",
       "      <td>10.244809</td>\n",
       "      <td>-0.530</td>\n",
       "      <td>-0.244809</td>\n",
       "    </tr>\n",
       "    <tr>\n",
       "      <th>4</th>\n",
       "      <td>10</td>\n",
       "      <td>10.647</td>\n",
       "      <td>0.083</td>\n",
       "      <td>-67</td>\n",
       "      <td>10.361809</td>\n",
       "      <td>-0.647</td>\n",
       "      <td>-0.361809</td>\n",
       "    </tr>\n",
       "    <tr>\n",
       "      <th>...</th>\n",
       "      <td>...</td>\n",
       "      <td>...</td>\n",
       "      <td>...</td>\n",
       "      <td>...</td>\n",
       "      <td>...</td>\n",
       "      <td>...</td>\n",
       "      <td>...</td>\n",
       "    </tr>\n",
       "    <tr>\n",
       "      <th>291</th>\n",
       "      <td>9</td>\n",
       "      <td>8.655</td>\n",
       "      <td>0.125</td>\n",
       "      <td>-60</td>\n",
       "      <td>8.246145</td>\n",
       "      <td>0.345</td>\n",
       "      <td>0.753855</td>\n",
       "    </tr>\n",
       "    <tr>\n",
       "      <th>292</th>\n",
       "      <td>9</td>\n",
       "      <td>8.538</td>\n",
       "      <td>0.173</td>\n",
       "      <td>-60</td>\n",
       "      <td>8.129145</td>\n",
       "      <td>0.462</td>\n",
       "      <td>0.870855</td>\n",
       "    </tr>\n",
       "    <tr>\n",
       "      <th>293</th>\n",
       "      <td>9</td>\n",
       "      <td>8.420</td>\n",
       "      <td>0.182</td>\n",
       "      <td>-60</td>\n",
       "      <td>8.011145</td>\n",
       "      <td>0.580</td>\n",
       "      <td>0.988855</td>\n",
       "    </tr>\n",
       "    <tr>\n",
       "      <th>294</th>\n",
       "      <td>9</td>\n",
       "      <td>8.655</td>\n",
       "      <td>0.112</td>\n",
       "      <td>-60</td>\n",
       "      <td>8.246145</td>\n",
       "      <td>0.345</td>\n",
       "      <td>0.753855</td>\n",
       "    </tr>\n",
       "    <tr>\n",
       "      <th>295</th>\n",
       "      <td>9</td>\n",
       "      <td>8.733</td>\n",
       "      <td>0.111</td>\n",
       "      <td>-61</td>\n",
       "      <td>8.324145</td>\n",
       "      <td>0.267</td>\n",
       "      <td>0.675855</td>\n",
       "    </tr>\n",
       "  </tbody>\n",
       "</table>\n",
       "<p>7394 rows × 7 columns</p>\n",
       "</div>"
      ],
      "text/plain": [
       "     True_Range  Est_Range  stdev  RSSI  Final_range  Raw_error  \\\n",
       "0            10     10.178  0.674   -72     9.892809     -0.178   \n",
       "1            10     10.452  0.142   -67    10.166809     -0.452   \n",
       "2            10     10.803  0.077   -72    10.517809     -0.803   \n",
       "3            10     10.530  0.194   -71    10.244809     -0.530   \n",
       "4            10     10.647  0.083   -67    10.361809     -0.647   \n",
       "..          ...        ...    ...   ...          ...        ...   \n",
       "291           9      8.655  0.125   -60     8.246145      0.345   \n",
       "292           9      8.538  0.173   -60     8.129145      0.462   \n",
       "293           9      8.420  0.182   -60     8.011145      0.580   \n",
       "294           9      8.655  0.112   -60     8.246145      0.345   \n",
       "295           9      8.733  0.111   -61     8.324145      0.267   \n",
       "\n",
       "     Callibrated_data_error  \n",
       "0                  0.107191  \n",
       "1                 -0.166809  \n",
       "2                 -0.517809  \n",
       "3                 -0.244809  \n",
       "4                 -0.361809  \n",
       "..                      ...  \n",
       "291                0.753855  \n",
       "292                0.870855  \n",
       "293                0.988855  \n",
       "294                0.753855  \n",
       "295                0.675855  \n",
       "\n",
       "[7394 rows x 7 columns]"
      ]
     },
     "execution_count": 216,
     "metadata": {},
     "output_type": "execute_result"
    }
   ],
   "source": [
    "#os.chdir('C:/Users/LILA/RTT-RSS with Kalman/raw_dataset')\n",
    "os.chdir('C:/Users/LILA/Desktop/RTT-RSS with Kalman_offset/Offset new')\n",
    "extension='csv'\n",
    "\n",
    "all_filenames=[i for i in glob.glob('*.{}'.format(extension))]\n",
    "\n",
    "combined_csv=pd.concat([pd.read_csv(f) for f in all_filenames])\n",
    "dfff=combined_csv\n",
    "dfff"
   ]
  },
  {
   "cell_type": "code",
   "execution_count": 217,
   "id": "aa078baa",
   "metadata": {},
   "outputs": [
    {
     "data": {
      "text/html": [
       "<div>\n",
       "<style scoped>\n",
       "    .dataframe tbody tr th:only-of-type {\n",
       "        vertical-align: middle;\n",
       "    }\n",
       "\n",
       "    .dataframe tbody tr th {\n",
       "        vertical-align: top;\n",
       "    }\n",
       "\n",
       "    .dataframe thead th {\n",
       "        text-align: right;\n",
       "    }\n",
       "</style>\n",
       "<table border=\"1\" class=\"dataframe\">\n",
       "  <thead>\n",
       "    <tr style=\"text-align: right;\">\n",
       "      <th></th>\n",
       "      <th>True_Range</th>\n",
       "      <th>RSSI</th>\n",
       "      <th>Final_range</th>\n",
       "    </tr>\n",
       "  </thead>\n",
       "  <tbody>\n",
       "    <tr>\n",
       "      <th>0</th>\n",
       "      <td>10</td>\n",
       "      <td>-72</td>\n",
       "      <td>9.892809</td>\n",
       "    </tr>\n",
       "    <tr>\n",
       "      <th>1</th>\n",
       "      <td>10</td>\n",
       "      <td>-67</td>\n",
       "      <td>10.166809</td>\n",
       "    </tr>\n",
       "    <tr>\n",
       "      <th>2</th>\n",
       "      <td>10</td>\n",
       "      <td>-72</td>\n",
       "      <td>10.517809</td>\n",
       "    </tr>\n",
       "    <tr>\n",
       "      <th>3</th>\n",
       "      <td>10</td>\n",
       "      <td>-71</td>\n",
       "      <td>10.244809</td>\n",
       "    </tr>\n",
       "    <tr>\n",
       "      <th>4</th>\n",
       "      <td>10</td>\n",
       "      <td>-67</td>\n",
       "      <td>10.361809</td>\n",
       "    </tr>\n",
       "    <tr>\n",
       "      <th>...</th>\n",
       "      <td>...</td>\n",
       "      <td>...</td>\n",
       "      <td>...</td>\n",
       "    </tr>\n",
       "    <tr>\n",
       "      <th>291</th>\n",
       "      <td>9</td>\n",
       "      <td>-60</td>\n",
       "      <td>8.246145</td>\n",
       "    </tr>\n",
       "    <tr>\n",
       "      <th>292</th>\n",
       "      <td>9</td>\n",
       "      <td>-60</td>\n",
       "      <td>8.129145</td>\n",
       "    </tr>\n",
       "    <tr>\n",
       "      <th>293</th>\n",
       "      <td>9</td>\n",
       "      <td>-60</td>\n",
       "      <td>8.011145</td>\n",
       "    </tr>\n",
       "    <tr>\n",
       "      <th>294</th>\n",
       "      <td>9</td>\n",
       "      <td>-60</td>\n",
       "      <td>8.246145</td>\n",
       "    </tr>\n",
       "    <tr>\n",
       "      <th>295</th>\n",
       "      <td>9</td>\n",
       "      <td>-61</td>\n",
       "      <td>8.324145</td>\n",
       "    </tr>\n",
       "  </tbody>\n",
       "</table>\n",
       "<p>7394 rows × 3 columns</p>\n",
       "</div>"
      ],
      "text/plain": [
       "     True_Range  RSSI  Final_range\n",
       "0            10   -72     9.892809\n",
       "1            10   -67    10.166809\n",
       "2            10   -72    10.517809\n",
       "3            10   -71    10.244809\n",
       "4            10   -67    10.361809\n",
       "..          ...   ...          ...\n",
       "291           9   -60     8.246145\n",
       "292           9   -60     8.129145\n",
       "293           9   -60     8.011145\n",
       "294           9   -60     8.246145\n",
       "295           9   -61     8.324145\n",
       "\n",
       "[7394 rows x 3 columns]"
      ]
     },
     "execution_count": 217,
     "metadata": {},
     "output_type": "execute_result"
    }
   ],
   "source": [
    "dfff.drop(['Raw_error','Callibrated_data_error','stdev','Est_Range'],axis=1,inplace=True)\n",
    "dfff"
   ]
  },
  {
   "cell_type": "code",
   "execution_count": 218,
   "id": "8971cbda",
   "metadata": {},
   "outputs": [
    {
     "data": {
      "text/plain": [
       "array([[-72.        ,   9.89280872],\n",
       "       [-67.        ,  10.16680872],\n",
       "       [-72.        ,  10.51780872],\n",
       "       ...,\n",
       "       [-60.        ,   8.01114527],\n",
       "       [-60.        ,   8.24614527],\n",
       "       [-61.        ,   8.32414527]])"
      ]
     },
     "execution_count": 218,
     "metadata": {},
     "output_type": "execute_result"
    }
   ],
   "source": [
    "X_valid = dfff.iloc[:,-2:].values\n",
    "y_valid = dfff['True_Range'].values\n",
    "X_valid"
   ]
  },
  {
   "cell_type": "code",
   "execution_count": 219,
   "id": "00e2354c",
   "metadata": {},
   "outputs": [],
   "source": [
    "X_valid = sc.fit_transform(X_valid)"
   ]
  },
  {
   "cell_type": "code",
   "execution_count": 220,
   "id": "ebafbe77",
   "metadata": {},
   "outputs": [],
   "source": [
    "# Fit and transform the one-hot encoder on your output data\n",
    "output_data = np.array(y_valid)\n",
    "encoded_output = one_hot_encoder.fit_transform(output_data.reshape(-1,1))\n",
    "# Convert the encoded output data to a NumPy array format\n",
    "#encoded_output = np.array(encoded_output)\n",
    "encoded_output = encoded_output.toarray()\n",
    "y=encoded_output"
   ]
  },
  {
   "cell_type": "code",
   "execution_count": 221,
   "id": "d64067e8",
   "metadata": {},
   "outputs": [
    {
     "data": {
      "text/plain": [
       "array([[0., 1., 0., ..., 0., 0., 0.],\n",
       "       [0., 1., 0., ..., 0., 0., 0.],\n",
       "       [0., 0., 0., ..., 0., 0., 0.],\n",
       "       ...,\n",
       "       [0., 0., 0., ..., 0., 0., 1.],\n",
       "       [0., 0., 0., ..., 0., 0., 0.],\n",
       "       [0., 0., 0., ..., 0., 0., 0.]])"
      ]
     },
     "execution_count": 221,
     "metadata": {},
     "output_type": "execute_result"
    }
   ],
   "source": [
    "XX_train, XX_test, yy_train, yy_test = train_test_split(X_valid, y, test_size=0.3, random_state=42)\n",
    "XX_train.shape\n",
    "yy_test"
   ]
  },
  {
   "cell_type": "code",
   "execution_count": 222,
   "id": "aa2e72b1",
   "metadata": {},
   "outputs": [
    {
     "data": {
      "text/plain": [
       "(2219, 25)"
      ]
     },
     "execution_count": 222,
     "metadata": {},
     "output_type": "execute_result"
    }
   ],
   "source": [
    "yy_test.shape"
   ]
  },
  {
   "cell_type": "code",
   "execution_count": 223,
   "id": "76aadc19",
   "metadata": {},
   "outputs": [
    {
     "name": "stdout",
     "output_type": "stream",
     "text": [
      "Epoch 1/500\n",
      "162/162 [==============================] - 0s 1ms/step - loss: 13.6195 - accuracy: 0.1712 - val_loss: 3.0530 - val_accuracy: 0.3312\n",
      "Epoch 2/500\n",
      "162/162 [==============================] - 0s 1ms/step - loss: 1.8116 - accuracy: 0.5146 - val_loss: 1.1744 - val_accuracy: 0.6652\n",
      "Epoch 3/500\n",
      "162/162 [==============================] - 0s 962us/step - loss: 1.0364 - accuracy: 0.7071 - val_loss: 0.9444 - val_accuracy: 0.7274\n",
      "Epoch 4/500\n",
      "162/162 [==============================] - 0s 968us/step - loss: 0.8931 - accuracy: 0.7498 - val_loss: 0.8445 - val_accuracy: 0.7598\n",
      "Epoch 5/500\n",
      "162/162 [==============================] - 0s 968us/step - loss: 0.8194 - accuracy: 0.7712 - val_loss: 0.7858 - val_accuracy: 0.7715\n",
      "Epoch 6/500\n",
      "162/162 [==============================] - 0s 979us/step - loss: 0.7674 - accuracy: 0.7822 - val_loss: 0.7420 - val_accuracy: 0.7810\n",
      "Epoch 7/500\n",
      "162/162 [==============================] - 0s 969us/step - loss: 0.7282 - accuracy: 0.7930 - val_loss: 0.7032 - val_accuracy: 0.8013\n",
      "Epoch 8/500\n",
      "162/162 [==============================] - 0s 986us/step - loss: 0.6949 - accuracy: 0.8064 - val_loss: 0.6721 - val_accuracy: 0.8044\n",
      "Epoch 9/500\n",
      "162/162 [==============================] - 0s 1ms/step - loss: 0.6675 - accuracy: 0.8052 - val_loss: 0.6442 - val_accuracy: 0.8197\n",
      "Epoch 10/500\n",
      "162/162 [==============================] - 0s 950us/step - loss: 0.6433 - accuracy: 0.8099 - val_loss: 0.6185 - val_accuracy: 0.8170\n",
      "Epoch 11/500\n",
      "162/162 [==============================] - 0s 973us/step - loss: 0.6212 - accuracy: 0.8226 - val_loss: 0.6055 - val_accuracy: 0.8238\n",
      "Epoch 12/500\n",
      "162/162 [==============================] - 0s 957us/step - loss: 0.6016 - accuracy: 0.8263 - val_loss: 0.5807 - val_accuracy: 0.8324\n",
      "Epoch 13/500\n",
      "162/162 [==============================] - 0s 993us/step - loss: 0.5858 - accuracy: 0.8317 - val_loss: 0.5647 - val_accuracy: 0.8346\n",
      "Epoch 14/500\n",
      "162/162 [==============================] - 0s 955us/step - loss: 0.5690 - accuracy: 0.8336 - val_loss: 0.5495 - val_accuracy: 0.8319\n",
      "Epoch 15/500\n",
      "162/162 [==============================] - 0s 950us/step - loss: 0.5544 - accuracy: 0.8375 - val_loss: 0.5411 - val_accuracy: 0.8364\n",
      "Epoch 16/500\n",
      "162/162 [==============================] - 0s 963us/step - loss: 0.5409 - accuracy: 0.8419 - val_loss: 0.5228 - val_accuracy: 0.8409\n",
      "Epoch 17/500\n",
      "162/162 [==============================] - 0s 986us/step - loss: 0.5266 - accuracy: 0.8475 - val_loss: 0.5084 - val_accuracy: 0.8499\n",
      "Epoch 18/500\n",
      "162/162 [==============================] - 0s 950us/step - loss: 0.5144 - accuracy: 0.8555 - val_loss: 0.4961 - val_accuracy: 0.8526\n",
      "Epoch 19/500\n",
      "162/162 [==============================] - 0s 962us/step - loss: 0.5020 - accuracy: 0.8564 - val_loss: 0.4830 - val_accuracy: 0.8603\n",
      "Epoch 20/500\n",
      "162/162 [==============================] - 0s 980us/step - loss: 0.4907 - accuracy: 0.8589 - val_loss: 0.4728 - val_accuracy: 0.8540\n",
      "Epoch 21/500\n",
      "162/162 [==============================] - 0s 1ms/step - loss: 0.4794 - accuracy: 0.8638 - val_loss: 0.4658 - val_accuracy: 0.8495\n",
      "Epoch 22/500\n",
      "162/162 [==============================] - 0s 946us/step - loss: 0.4673 - accuracy: 0.8622 - val_loss: 0.4574 - val_accuracy: 0.8612\n",
      "Epoch 23/500\n",
      "162/162 [==============================] - 0s 955us/step - loss: 0.4577 - accuracy: 0.8647 - val_loss: 0.4416 - val_accuracy: 0.8662\n",
      "Epoch 24/500\n",
      "162/162 [==============================] - 0s 956us/step - loss: 0.4455 - accuracy: 0.8723 - val_loss: 0.4301 - val_accuracy: 0.8680\n",
      "Epoch 25/500\n",
      "162/162 [==============================] - 0s 980us/step - loss: 0.4364 - accuracy: 0.8732 - val_loss: 0.4235 - val_accuracy: 0.8648\n",
      "Epoch 26/500\n",
      "162/162 [==============================] - 0s 957us/step - loss: 0.4270 - accuracy: 0.8727 - val_loss: 0.4149 - val_accuracy: 0.8698\n",
      "Epoch 27/500\n",
      "162/162 [==============================] - 0s 961us/step - loss: 0.4186 - accuracy: 0.8773 - val_loss: 0.4077 - val_accuracy: 0.8734\n",
      "Epoch 28/500\n",
      "162/162 [==============================] - 0s 963us/step - loss: 0.4092 - accuracy: 0.8790 - val_loss: 0.3954 - val_accuracy: 0.8720\n",
      "Epoch 29/500\n",
      "162/162 [==============================] - 0s 967us/step - loss: 0.4004 - accuracy: 0.8821 - val_loss: 0.3926 - val_accuracy: 0.8711\n",
      "Epoch 30/500\n",
      "162/162 [==============================] - 0s 962us/step - loss: 0.3938 - accuracy: 0.8804 - val_loss: 0.3828 - val_accuracy: 0.8837\n",
      "Epoch 31/500\n",
      "162/162 [==============================] - 0s 999us/step - loss: 0.3851 - accuracy: 0.8883 - val_loss: 0.3831 - val_accuracy: 0.8756\n",
      "Epoch 32/500\n",
      "162/162 [==============================] - 0s 1ms/step - loss: 0.3780 - accuracy: 0.8856 - val_loss: 0.3711 - val_accuracy: 0.8860\n",
      "Epoch 33/500\n",
      "162/162 [==============================] - 0s 1ms/step - loss: 0.3718 - accuracy: 0.8852 - val_loss: 0.3651 - val_accuracy: 0.8891\n",
      "Epoch 34/500\n",
      "162/162 [==============================] - 0s 1ms/step - loss: 0.3644 - accuracy: 0.8929 - val_loss: 0.3596 - val_accuracy: 0.8882\n",
      "Epoch 35/500\n",
      "162/162 [==============================] - 0s 1ms/step - loss: 0.3587 - accuracy: 0.8920 - val_loss: 0.3529 - val_accuracy: 0.8900\n",
      "Epoch 36/500\n",
      "162/162 [==============================] - 0s 1ms/step - loss: 0.3526 - accuracy: 0.8924 - val_loss: 0.3494 - val_accuracy: 0.8891\n",
      "Epoch 37/500\n",
      "162/162 [==============================] - 0s 1ms/step - loss: 0.3465 - accuracy: 0.8962 - val_loss: 0.3497 - val_accuracy: 0.8824\n",
      "Epoch 38/500\n",
      "162/162 [==============================] - 0s 1ms/step - loss: 0.3410 - accuracy: 0.8993 - val_loss: 0.3383 - val_accuracy: 0.8950\n",
      "Epoch 39/500\n",
      "162/162 [==============================] - 0s 1ms/step - loss: 0.3365 - accuracy: 0.8976 - val_loss: 0.3372 - val_accuracy: 0.8923\n",
      "Epoch 40/500\n",
      "162/162 [==============================] - 0s 1ms/step - loss: 0.3319 - accuracy: 0.8997 - val_loss: 0.3302 - val_accuracy: 0.8995\n",
      "Epoch 41/500\n",
      "162/162 [==============================] - 0s 1ms/step - loss: 0.3255 - accuracy: 0.9018 - val_loss: 0.3244 - val_accuracy: 0.9031\n",
      "Epoch 42/500\n",
      "162/162 [==============================] - 0s 1ms/step - loss: 0.3201 - accuracy: 0.9051 - val_loss: 0.3234 - val_accuracy: 0.8968\n",
      "Epoch 43/500\n",
      "162/162 [==============================] - 0s 1ms/step - loss: 0.3155 - accuracy: 0.9047 - val_loss: 0.3188 - val_accuracy: 0.9018\n",
      "Epoch 44/500\n",
      "162/162 [==============================] - 0s 1ms/step - loss: 0.3106 - accuracy: 0.9065 - val_loss: 0.3143 - val_accuracy: 0.9031\n",
      "Epoch 45/500\n",
      "162/162 [==============================] - 0s 993us/step - loss: 0.3059 - accuracy: 0.9092 - val_loss: 0.3089 - val_accuracy: 0.9081\n",
      "Epoch 46/500\n",
      "162/162 [==============================] - 0s 988us/step - loss: 0.3022 - accuracy: 0.9098 - val_loss: 0.3103 - val_accuracy: 0.9072\n",
      "Epoch 47/500\n",
      "162/162 [==============================] - 0s 1ms/step - loss: 0.2998 - accuracy: 0.9080 - val_loss: 0.3003 - val_accuracy: 0.9063\n",
      "Epoch 48/500\n",
      "162/162 [==============================] - 0s 1ms/step - loss: 0.2937 - accuracy: 0.9129 - val_loss: 0.2987 - val_accuracy: 0.9031\n",
      "Epoch 49/500\n",
      "162/162 [==============================] - 0s 1ms/step - loss: 0.2895 - accuracy: 0.9127 - val_loss: 0.2935 - val_accuracy: 0.9094\n",
      "Epoch 50/500\n",
      "162/162 [==============================] - 0s 1ms/step - loss: 0.2849 - accuracy: 0.9163 - val_loss: 0.2917 - val_accuracy: 0.9081\n",
      "Epoch 51/500\n",
      "162/162 [==============================] - 0s 1ms/step - loss: 0.2814 - accuracy: 0.9132 - val_loss: 0.2889 - val_accuracy: 0.9094\n",
      "Epoch 52/500\n",
      "162/162 [==============================] - 0s 985us/step - loss: 0.2765 - accuracy: 0.9167 - val_loss: 0.2832 - val_accuracy: 0.9117\n",
      "Epoch 53/500\n",
      "162/162 [==============================] - 0s 1ms/step - loss: 0.2733 - accuracy: 0.9169 - val_loss: 0.2800 - val_accuracy: 0.9049\n",
      "Epoch 54/500\n",
      "162/162 [==============================] - 0s 998us/step - loss: 0.2698 - accuracy: 0.9206 - val_loss: 0.2749 - val_accuracy: 0.9117\n",
      "Epoch 55/500\n",
      "162/162 [==============================] - 0s 975us/step - loss: 0.2672 - accuracy: 0.9192 - val_loss: 0.2760 - val_accuracy: 0.9171\n",
      "Epoch 56/500\n",
      "162/162 [==============================] - 0s 1ms/step - loss: 0.2662 - accuracy: 0.9185 - val_loss: 0.2747 - val_accuracy: 0.9193\n",
      "Epoch 57/500\n",
      "162/162 [==============================] - 0s 1ms/step - loss: 0.2623 - accuracy: 0.9173 - val_loss: 0.2694 - val_accuracy: 0.9126\n",
      "Epoch 58/500\n",
      "162/162 [==============================] - 0s 1ms/step - loss: 0.2601 - accuracy: 0.9235 - val_loss: 0.2662 - val_accuracy: 0.9189\n",
      "Epoch 59/500\n",
      "162/162 [==============================] - 0s 966us/step - loss: 0.2552 - accuracy: 0.9221 - val_loss: 0.2654 - val_accuracy: 0.9166\n",
      "Epoch 60/500\n",
      "162/162 [==============================] - 0s 961us/step - loss: 0.2538 - accuracy: 0.9190 - val_loss: 0.2642 - val_accuracy: 0.9130\n",
      "Epoch 61/500\n",
      "162/162 [==============================] - 0s 969us/step - loss: 0.2508 - accuracy: 0.9219 - val_loss: 0.2636 - val_accuracy: 0.9108\n",
      "Epoch 62/500\n",
      "162/162 [==============================] - 0s 1ms/step - loss: 0.2502 - accuracy: 0.9208 - val_loss: 0.2608 - val_accuracy: 0.9139\n",
      "Epoch 63/500\n",
      "162/162 [==============================] - 0s 984us/step - loss: 0.2495 - accuracy: 0.9223 - val_loss: 0.2562 - val_accuracy: 0.9166\n",
      "Epoch 64/500\n",
      "162/162 [==============================] - 0s 978us/step - loss: 0.2454 - accuracy: 0.9206 - val_loss: 0.2528 - val_accuracy: 0.9184\n",
      "Epoch 65/500\n",
      "162/162 [==============================] - 0s 1ms/step - loss: 0.2442 - accuracy: 0.9196 - val_loss: 0.2507 - val_accuracy: 0.9126\n",
      "Epoch 66/500\n",
      "162/162 [==============================] - 0s 1ms/step - loss: 0.2400 - accuracy: 0.9254 - val_loss: 0.2478 - val_accuracy: 0.9162\n",
      "Epoch 67/500\n",
      "162/162 [==============================] - 0s 1ms/step - loss: 0.2380 - accuracy: 0.9237 - val_loss: 0.2478 - val_accuracy: 0.9252\n",
      "Epoch 68/500\n",
      "162/162 [==============================] - 0s 1ms/step - loss: 0.2386 - accuracy: 0.9258 - val_loss: 0.2487 - val_accuracy: 0.9103\n",
      "Epoch 69/500\n",
      "162/162 [==============================] - 0s 997us/step - loss: 0.2340 - accuracy: 0.9254 - val_loss: 0.2427 - val_accuracy: 0.9220\n",
      "Epoch 70/500\n",
      "162/162 [==============================] - 0s 984us/step - loss: 0.2314 - accuracy: 0.9252 - val_loss: 0.2421 - val_accuracy: 0.9198\n",
      "Epoch 71/500\n",
      "162/162 [==============================] - 0s 965us/step - loss: 0.2291 - accuracy: 0.9289 - val_loss: 0.2441 - val_accuracy: 0.9202\n",
      "Epoch 72/500\n",
      "162/162 [==============================] - 0s 947us/step - loss: 0.2284 - accuracy: 0.9273 - val_loss: 0.2413 - val_accuracy: 0.9229\n",
      "Epoch 73/500\n",
      "162/162 [==============================] - 0s 963us/step - loss: 0.2277 - accuracy: 0.9256 - val_loss: 0.2366 - val_accuracy: 0.9211\n",
      "Epoch 74/500\n",
      "162/162 [==============================] - 0s 1ms/step - loss: 0.2250 - accuracy: 0.9275 - val_loss: 0.2366 - val_accuracy: 0.9238\n",
      "Epoch 75/500\n",
      "162/162 [==============================] - 0s 978us/step - loss: 0.2247 - accuracy: 0.9270 - val_loss: 0.2374 - val_accuracy: 0.9207\n",
      "Epoch 76/500\n",
      "162/162 [==============================] - 0s 975us/step - loss: 0.2228 - accuracy: 0.9279 - val_loss: 0.2377 - val_accuracy: 0.9162\n",
      "Epoch 77/500\n",
      "162/162 [==============================] - 0s 990us/step - loss: 0.2214 - accuracy: 0.9258 - val_loss: 0.2350 - val_accuracy: 0.9225\n",
      "Epoch 78/500\n",
      "162/162 [==============================] - 0s 997us/step - loss: 0.2198 - accuracy: 0.9287 - val_loss: 0.2325 - val_accuracy: 0.9265\n",
      "Epoch 79/500\n",
      "162/162 [==============================] - 0s 1ms/step - loss: 0.2181 - accuracy: 0.9281 - val_loss: 0.2285 - val_accuracy: 0.9270\n",
      "Epoch 80/500\n",
      "162/162 [==============================] - 0s 1ms/step - loss: 0.2168 - accuracy: 0.9310 - val_loss: 0.2302 - val_accuracy: 0.9216\n",
      "Epoch 81/500\n",
      "162/162 [==============================] - 0s 987us/step - loss: 0.2167 - accuracy: 0.9275 - val_loss: 0.2253 - val_accuracy: 0.9216\n",
      "Epoch 82/500\n",
      "162/162 [==============================] - 0s 966us/step - loss: 0.2136 - accuracy: 0.9283 - val_loss: 0.2274 - val_accuracy: 0.9261\n",
      "Epoch 83/500\n",
      "162/162 [==============================] - 0s 997us/step - loss: 0.2119 - accuracy: 0.9318 - val_loss: 0.2226 - val_accuracy: 0.9243\n",
      "Epoch 84/500\n",
      "162/162 [==============================] - 0s 993us/step - loss: 0.2106 - accuracy: 0.9285 - val_loss: 0.2220 - val_accuracy: 0.9274\n",
      "Epoch 85/500\n",
      "162/162 [==============================] - 0s 1ms/step - loss: 0.2107 - accuracy: 0.9297 - val_loss: 0.2221 - val_accuracy: 0.9261\n",
      "Epoch 86/500\n",
      "162/162 [==============================] - 0s 1ms/step - loss: 0.2082 - accuracy: 0.9328 - val_loss: 0.2224 - val_accuracy: 0.9234\n",
      "Epoch 87/500\n",
      "162/162 [==============================] - 0s 997us/step - loss: 0.2077 - accuracy: 0.9324 - val_loss: 0.2209 - val_accuracy: 0.9225\n",
      "Epoch 88/500\n",
      "162/162 [==============================] - 0s 1ms/step - loss: 0.2072 - accuracy: 0.9293 - val_loss: 0.2230 - val_accuracy: 0.9202\n",
      "Epoch 89/500\n",
      "162/162 [==============================] - 0s 1ms/step - loss: 0.2056 - accuracy: 0.9328 - val_loss: 0.2158 - val_accuracy: 0.9243\n",
      "Epoch 90/500\n",
      "162/162 [==============================] - 0s 1ms/step - loss: 0.2051 - accuracy: 0.9314 - val_loss: 0.2156 - val_accuracy: 0.9256\n",
      "Epoch 91/500\n",
      "162/162 [==============================] - 0s 1ms/step - loss: 0.2045 - accuracy: 0.9322 - val_loss: 0.2148 - val_accuracy: 0.9297\n",
      "Epoch 92/500\n",
      "162/162 [==============================] - 0s 997us/step - loss: 0.2005 - accuracy: 0.9329 - val_loss: 0.2150 - val_accuracy: 0.9270\n",
      "Epoch 93/500\n",
      "162/162 [==============================] - 0s 1ms/step - loss: 0.2011 - accuracy: 0.9326 - val_loss: 0.2131 - val_accuracy: 0.9292\n",
      "Epoch 94/500\n",
      "162/162 [==============================] - 0s 1ms/step - loss: 0.1992 - accuracy: 0.9324 - val_loss: 0.2111 - val_accuracy: 0.9292\n",
      "Epoch 95/500\n",
      "162/162 [==============================] - 0s 1ms/step - loss: 0.1997 - accuracy: 0.9316 - val_loss: 0.2117 - val_accuracy: 0.9279\n",
      "Epoch 96/500\n",
      "162/162 [==============================] - 0s 1ms/step - loss: 0.1985 - accuracy: 0.9326 - val_loss: 0.2146 - val_accuracy: 0.9211\n",
      "Epoch 97/500\n",
      "162/162 [==============================] - 0s 1ms/step - loss: 0.1998 - accuracy: 0.9318 - val_loss: 0.2119 - val_accuracy: 0.9243\n",
      "Epoch 98/500\n",
      "162/162 [==============================] - 0s 990us/step - loss: 0.1971 - accuracy: 0.9339 - val_loss: 0.2154 - val_accuracy: 0.9216\n",
      "Epoch 99/500\n",
      "162/162 [==============================] - 0s 998us/step - loss: 0.1954 - accuracy: 0.9337 - val_loss: 0.2107 - val_accuracy: 0.9216\n",
      "Epoch 100/500\n",
      "162/162 [==============================] - 0s 1ms/step - loss: 0.1942 - accuracy: 0.9341 - val_loss: 0.2158 - val_accuracy: 0.9238\n",
      "Epoch 101/500\n",
      "162/162 [==============================] - 0s 966us/step - loss: 0.1935 - accuracy: 0.9329 - val_loss: 0.2102 - val_accuracy: 0.9234\n",
      "Epoch 102/500\n",
      "162/162 [==============================] - 0s 990us/step - loss: 0.1930 - accuracy: 0.9333 - val_loss: 0.2089 - val_accuracy: 0.9229\n",
      "Epoch 103/500\n",
      "162/162 [==============================] - 0s 953us/step - loss: 0.1919 - accuracy: 0.9353 - val_loss: 0.2097 - val_accuracy: 0.9243\n",
      "Epoch 104/500\n",
      "162/162 [==============================] - 0s 984us/step - loss: 0.1908 - accuracy: 0.9347 - val_loss: 0.2110 - val_accuracy: 0.9207\n",
      "Epoch 105/500\n",
      "162/162 [==============================] - 0s 997us/step - loss: 0.1912 - accuracy: 0.9339 - val_loss: 0.2063 - val_accuracy: 0.9283\n",
      "Epoch 106/500\n",
      "162/162 [==============================] - 0s 958us/step - loss: 0.1920 - accuracy: 0.9326 - val_loss: 0.2086 - val_accuracy: 0.9256\n",
      "Epoch 107/500\n",
      "162/162 [==============================] - 0s 957us/step - loss: 0.1881 - accuracy: 0.9335 - val_loss: 0.2096 - val_accuracy: 0.9234\n",
      "Epoch 108/500\n",
      "162/162 [==============================] - 0s 1ms/step - loss: 0.1891 - accuracy: 0.9337 - val_loss: 0.2048 - val_accuracy: 0.9297\n",
      "Epoch 109/500\n",
      "162/162 [==============================] - 0s 960us/step - loss: 0.1878 - accuracy: 0.9358 - val_loss: 0.1998 - val_accuracy: 0.9288\n",
      "Epoch 110/500\n",
      "162/162 [==============================] - 0s 929us/step - loss: 0.1896 - accuracy: 0.9326 - val_loss: 0.2053 - val_accuracy: 0.9220\n",
      "Epoch 111/500\n",
      "162/162 [==============================] - 0s 922us/step - loss: 0.1877 - accuracy: 0.9318 - val_loss: 0.2022 - val_accuracy: 0.9288\n",
      "Epoch 112/500\n",
      "162/162 [==============================] - 0s 964us/step - loss: 0.1876 - accuracy: 0.9339 - val_loss: 0.2051 - val_accuracy: 0.9315\n",
      "Epoch 113/500\n",
      "162/162 [==============================] - 0s 966us/step - loss: 0.1851 - accuracy: 0.9345 - val_loss: 0.2000 - val_accuracy: 0.9315\n",
      "Epoch 114/500\n",
      "162/162 [==============================] - 0s 997us/step - loss: 0.1840 - accuracy: 0.9384 - val_loss: 0.2022 - val_accuracy: 0.9265\n"
     ]
    }
   ],
   "source": [
    "early_stopping = keras.callbacks.EarlyStopping(patience=5, monitor='val_loss')\n",
    "historyy = model.fit(XX_train, yy_train, validation_data=(XX_test, yy_test), epochs=500, callbacks=[early_stopping]) "
   ]
  },
  {
   "cell_type": "code",
   "execution_count": 224,
   "id": "39ce2be7",
   "metadata": {},
   "outputs": [
    {
     "name": "stdout",
     "output_type": "stream",
     "text": [
      "70/70 [==============================] - 0s 390us/step\n"
     ]
    },
    {
     "data": {
      "text/plain": [
       "array([[9.7031367e-01, 2.9659983e-02, 2.8927711e-06, ..., 2.1176347e-26,\n",
       "        1.0219909e-28, 1.4373569e-20],\n",
       "       [5.2035591e-03, 9.9026102e-01, 3.0369693e-03, ..., 2.4451590e-29,\n",
       "        1.1506551e-33, 1.7555980e-25],\n",
       "       [5.2556788e-06, 5.4366332e-02, 5.9311861e-01, ..., 5.4858748e-29,\n",
       "        1.2212351e-33, 3.6713112e-31],\n",
       "       ...,\n",
       "       [5.6141040e-11, 2.7605513e-21, 4.2756645e-33, ..., 1.1605655e-12,\n",
       "        8.4411853e-11, 9.9829549e-01],\n",
       "       [7.0797193e-21, 2.7165223e-28, 0.0000000e+00, ..., 1.4359131e-08,\n",
       "        7.0594085e-22, 0.0000000e+00],\n",
       "       [0.0000000e+00, 0.0000000e+00, 0.0000000e+00, ..., 5.6665268e-35,\n",
       "        0.0000000e+00, 0.0000000e+00]], dtype=float32)"
      ]
     },
     "execution_count": 224,
     "metadata": {},
     "output_type": "execute_result"
    }
   ],
   "source": [
    "y_pred_valid = model.predict(XX_test)\n",
    "y_pred_valid"
   ]
  },
  {
   "cell_type": "code",
   "execution_count": 225,
   "id": "665b644d",
   "metadata": {},
   "outputs": [
    {
     "data": {
      "image/png": "[encoded data removed]",
      "text/plain": [
       "<Figure size 640x480 with 1 Axes>"
      ]
     },
     "metadata": {},
     "output_type": "display_data"
    },
    {
     "data": {
      "image/png": "[encoded data removed]",
      "text/plain": [
       "<Figure size 640x480 with 1 Axes>"
      ]
     },
     "metadata": {},
     "output_type": "display_data"
    }
   ],
   "source": [
    "# Plot the loss curve\n",
    "plt.plot(historyy.history['loss'], 'r', label='Training loss')\n",
    "plt.plot(historyy.history['val_loss'], 'b', label='Validation loss')\n",
    "plt.title('Loss Curve')\n",
    "plt.xlabel('Number of training Epochs')\n",
    "plt.ylabel('Loss (m)')\n",
    "plt.legend()\n",
    "plt.show()\n",
    "\n",
    "# Plot the accuracy curve\n",
    "plt.plot(historyy.history['accuracy'], 'r', label='Training accuracy')\n",
    "plt.plot(historyy.history['val_accuracy'], 'b', label='Validation accuracy')\n",
    "plt.title('Accuracy Curve')\n",
    "plt.xlabel('Number of training Epochs')\n",
    "plt.ylabel('Accuracy')\n",
    "plt.legend()\n",
    "plt.show()"
   ]
  },
  {
   "cell_type": "code",
   "execution_count": 226,
   "id": "1c9dd6ca",
   "metadata": {},
   "outputs": [
    {
     "name": "stdout",
     "output_type": "stream",
     "text": [
      "70/70 [==============================] - 0s 606us/step - loss: 0.2022 - accuracy: 0.9265\n",
      "Test loss: 0.20221513509750366\n",
      "Test accuracy: 0.9265434741973877\n"
     ]
    }
   ],
   "source": [
    "## evaluate the model on the test set\n",
    "loss, accuracy = model.evaluate(XX_test, yy_test)\n",
    "print('Test loss:', loss)\n",
    "print('Test accuracy:', accuracy)\n"
   ]
  },
  {
   "cell_type": "code",
   "execution_count": 227,
   "id": "5acf2d01",
   "metadata": {},
   "outputs": [
    {
     "name": "stdout",
     "output_type": "stream",
     "text": [
      "[[ 1]\n",
      " [ 2]\n",
      " [ 3]\n",
      " ...\n",
      " [25]\n",
      " [18]\n",
      " [13]]\n"
     ]
    }
   ],
   "source": [
    "# Decode the one-hot encoded data\n",
    "y_pred_valid= one_hot_encoder.inverse_transform(y_pred_valid)\n",
    "#y_pred_valid= np.argmax(y_pred_valid,axis=1)\n",
    "# Convert the decoded output data to a NumPy array format\n",
    "y_pred_valid = np.array(y_pred_valid)\n",
    "\n",
    "# Print the decoded output data\n",
    "print(y_pred_valid)"
   ]
  },
  {
   "cell_type": "code",
   "execution_count": 228,
   "id": "47333a5f",
   "metadata": {},
   "outputs": [
    {
     "data": {
      "text/plain": [
       "array([ 1,  2,  3, ..., 25, 18, 13], dtype=int64)"
      ]
     },
     "execution_count": 228,
     "metadata": {},
     "output_type": "execute_result"
    }
   ],
   "source": [
    "y_pred_valid.flatten()"
   ]
  },
  {
   "cell_type": "code",
   "execution_count": 229,
   "id": "ce3e6529",
   "metadata": {},
   "outputs": [
    {
     "data": {
      "text/plain": [
       "array([ 2,  2,  4, ..., 25, 18, 13], dtype=int64)"
      ]
     },
     "execution_count": 229,
     "metadata": {},
     "output_type": "execute_result"
    }
   ],
   "source": [
    "yy_test=one_hot_encoder.inverse_transform(yy_test)\n",
    "yy_test=yy_test.flatten()\n",
    "yy_test"
   ]
  },
  {
   "cell_type": "code",
   "execution_count": 230,
   "id": "3b4796c0",
   "metadata": {},
   "outputs": [
    {
     "data": {
      "image/png": "[encoded data removed]",
      "text/plain": [
       "<Figure size 1200x800 with 2 Axes>"
      ]
     },
     "metadata": {},
     "output_type": "display_data"
    },
    {
     "name": "stdout",
     "output_type": "stream",
     "text": [
      "Accuracy without Kalman Filter:  0.9265434880576836\n"
     ]
    }
   ],
   "source": [
    "# cm = confusion_matrix(y_valid, y_pred_valid)\n",
    "# print(cm)\n",
    "# accuracy = accuracy_score(y_valid, y_pred_valid)\n",
    "# print('Accuracy: ', accuracy)\n",
    "\n",
    "conf_mat = confusion_matrix(yy_test, y_pred_valid)\n",
    "array=np.array(conf_mat)\n",
    "df_cm = pd.DataFrame(array, index = [str(i)+\"m\" for i in range(1,26)],\n",
    "                  columns = [str(i)+\"m\" for i in range(1,26)])\n",
    "\n",
    "plt.figure(figsize = (12,8))\n",
    "\n",
    "# import seaborn as sns\n",
    "# sns.heatmap(df_cm, annot=True)\n",
    "\n",
    "a=sns.heatmap(df_cm, annot=True, fmt='d')\n",
    "a.set_xlabel('Predicted distance label in m', fontsize=15)\n",
    "a.set_ylabel('Trude distance label in m', fontsize=15)\n",
    "plt.title('Confusion Matrix Without using Kalman Filter', fontsize=16)\n",
    "plt.show()\n",
    "accuracy = accuracy_score(yy_test, y_pred_valid)\n",
    "print('Accuracy without Kalman Filter: ', accuracy)"
   ]
  },
  {
   "cell_type": "code",
   "execution_count": 231,
   "id": "bd6dfccc",
   "metadata": {},
   "outputs": [
    {
     "name": "stdout",
     "output_type": "stream",
     "text": [
      "              precision    recall  f1-score   support\n",
      "\n",
      "          1m       0.97      0.97      0.97        87\n",
      "          2m       0.96      0.95      0.96        81\n",
      "          3m       0.75      0.77      0.76        95\n",
      "          4m       0.65      0.71      0.68        78\n",
      "          5m       0.99      0.88      0.93        90\n",
      "          6m       0.96      0.99      0.97        94\n",
      "          7m       0.86      0.90      0.88        83\n",
      "          8m       0.90      0.85      0.88        88\n",
      "          9m       0.98      0.99      0.98        90\n",
      "         10m       0.91      0.76      0.83       103\n",
      "         11m       0.77      0.82      0.79       101\n",
      "         12m       0.97      0.99      0.98        79\n",
      "         13m       0.87      0.98      0.92        88\n",
      "         14m       0.98      0.97      0.97        96\n",
      "         15m       1.00      0.99      0.99        94\n",
      "         16m       1.00      1.00      1.00        81\n",
      "         17m       0.99      1.00      0.99        91\n",
      "         18m       0.98      0.96      0.97        89\n",
      "         19m       0.89      0.96      0.92        89\n",
      "         20m       0.96      0.90      0.93        86\n",
      "         21m       1.00      0.93      0.97        76\n",
      "         22m       0.92      0.98      0.95        96\n",
      "         23m       0.98      0.98      0.98        96\n",
      "         24m       1.00      0.99      0.99        83\n",
      "         25m       1.00      1.00      1.00        85\n",
      "\n",
      "    accuracy                           0.93      2219\n",
      "   macro avg       0.93      0.93      0.93      2219\n",
      "weighted avg       0.93      0.93      0.93      2219\n",
      "\n"
     ]
    }
   ],
   "source": [
    "# Create a custom label for each class\n",
    "labels = [f\"{i + 1}m\" for i in range(25)]\n",
    "\n",
    "# Generate the classification report\n",
    "print(classification_report(yy_test, y_pred_valid, target_names=labels))"
   ]
  },
  {
   "attachments": {},
   "cell_type": "markdown",
   "id": "bcb7f810",
   "metadata": {},
   "source": [
    "**DNN Regression Approach**"
   ]
  },
  {
   "cell_type": "code",
   "execution_count": 232,
   "id": "80ea6ea6",
   "metadata": {},
   "outputs": [
    {
     "name": "stdout",
     "output_type": "stream",
     "text": [
      "Model: \"sequential_6\"\n",
      "_________________________________________________________________\n",
      " Layer (type)                Output Shape              Param #   \n",
      "=================================================================\n",
      " dense_24 (Dense)            (None, 64)                192       \n",
      "                                                                 \n",
      " dense_25 (Dense)            (None, 128)               8320      \n",
      "                                                                 \n",
      " dense_26 (Dense)            (None, 128)               16512     \n",
      "                                                                 \n",
      " dense_27 (Dense)            (None, 1)                 129       \n",
      "                                                                 \n",
      "=================================================================\n",
      "Total params: 25,153\n",
      "Trainable params: 25,153\n",
      "Non-trainable params: 0\n",
      "_________________________________________________________________\n"
     ]
    }
   ],
   "source": [
    "# importing the libraries\n",
    "from keras.models import Sequential\n",
    "from keras.layers import Dense\n",
    "from keras.layers import Dropout\n",
    "from sklearn.metrics import mean_squared_error\n",
    "from keras.optimizers import SGD\n",
    "from keras.optimizers import Adam\n",
    "\n",
    "\n",
    "optimizer = Adam(learning_rate=0.0001)\n",
    "#optimizer = SGD(learning_rate=0.01)\n",
    "\n",
    "# create DNN model\n",
    "model_reg = Sequential()\n",
    " \n",
    "# Defining the Input layer and FIRST hidden layer, both are same!\n",
    "model_reg.add(Dense(units=64, input_dim=2, activation='relu'))\n",
    " \n",
    "# Defining the Second layer of the model\n",
    "# after the first layer we don't have to specify input_dim as keras configure it automatically\n",
    "model_reg.add(Dense(units=128, kernel_initializer='normal', activation='relu'))\n",
    "#model.add(Dropout(0.2))\n",
    "\n",
    "\n",
    "model_reg.add(Dense(units=128, kernel_initializer='normal', activation='relu'))\n",
    "#model.add(Dropout(0.2))\n",
    "\n",
    "#model_reg.add(Dense(units=32, kernel_initializer='normal', activation='relu'))\n",
    "#model.add(Dropout(0.2)) \n",
    "\n",
    "#model.add(Dense(units=16, kernel_initializer='normal', activation='relu'))\n",
    "#model.add(Dropout(0.2)) \n",
    "\n",
    "# The output neuron is a single fully connected node \n",
    "# Since we will be predicting a single number\n",
    "model_reg.add(Dense(1))\n",
    " \n",
    "# Compiling the model\n",
    "model_reg.compile(loss='mean_squared_error', optimizer=optimizer,metrics=['mse'])\n",
    " \n",
    "\n",
    "model_reg.summary()"
   ]
  },
  {
   "cell_type": "code",
   "execution_count": 233,
   "id": "3ee76fa6",
   "metadata": {},
   "outputs": [
    {
     "data": {
      "text/plain": [
       "array([10, 10, 10, ...,  9,  9,  9], dtype=int64)"
      ]
     },
     "execution_count": 233,
     "metadata": {},
     "output_type": "execute_result"
    }
   ],
   "source": [
    "input_data = df.iloc[:, :2]\n",
    "output_data = df['TRUE'].values\n",
    "output_data = np.array(output_data)\n",
    "output_data"
   ]
  },
  {
   "cell_type": "code",
   "execution_count": 234,
   "id": "733175ee",
   "metadata": {},
   "outputs": [],
   "source": [
    "X_train_reg, X_test_reg, y_train_reg, y_test_reg = train_test_split(input_data, output_data, test_size=0.3, random_state=42)"
   ]
  },
  {
   "cell_type": "code",
   "execution_count": 235,
   "id": "f4d96db7",
   "metadata": {},
   "outputs": [],
   "source": [
    "X_train_reg = sc.fit_transform(X_train_reg)\n",
    "X_test_reg = sc.fit_transform(X_test_reg)"
   ]
  },
  {
   "cell_type": "code",
   "execution_count": 236,
   "id": "02edb362",
   "metadata": {},
   "outputs": [
    {
     "name": "stdout",
     "output_type": "stream",
     "text": [
      "Epoch 1/200\n",
      "81/81 [==============================] - 0s 2ms/step - loss: 216.2097 - mse: 216.2097 - val_loss: 204.8045 - val_mse: 204.8045\n",
      "Epoch 2/200\n",
      "81/81 [==============================] - 0s 1ms/step - loss: 181.8517 - mse: 181.8517 - val_loss: 145.2720 - val_mse: 145.2720\n",
      "Epoch 3/200\n",
      "81/81 [==============================] - 0s 1ms/step - loss: 101.4102 - mse: 101.4102 - val_loss: 56.9722 - val_mse: 56.9722\n",
      "Epoch 4/200\n",
      "81/81 [==============================] - 0s 1ms/step - loss: 37.0425 - mse: 37.0425 - val_loss: 26.0434 - val_mse: 26.0434\n",
      "Epoch 5/200\n",
      "81/81 [==============================] - 0s 1ms/step - loss: 21.7339 - mse: 21.7339 - val_loss: 18.3173 - val_mse: 18.3173\n",
      "Epoch 6/200\n",
      "81/81 [==============================] - 0s 1ms/step - loss: 15.2126 - mse: 15.2126 - val_loss: 12.8684 - val_mse: 12.8684\n",
      "Epoch 7/200\n",
      "81/81 [==============================] - 0s 1ms/step - loss: 10.5623 - mse: 10.5623 - val_loss: 8.9740 - val_mse: 8.9740\n",
      "Epoch 8/200\n",
      "81/81 [==============================] - 0s 1ms/step - loss: 7.3226 - mse: 7.3226 - val_loss: 6.2727 - val_mse: 6.2727\n",
      "Epoch 9/200\n",
      "81/81 [==============================] - 0s 1ms/step - loss: 5.1260 - mse: 5.1260 - val_loss: 4.4144 - val_mse: 4.4144\n",
      "Epoch 10/200\n",
      "81/81 [==============================] - 0s 1ms/step - loss: 3.6410 - mse: 3.6410 - val_loss: 3.1640 - val_mse: 3.1640\n",
      "Epoch 11/200\n",
      "81/81 [==============================] - 0s 1ms/step - loss: 2.6371 - mse: 2.6371 - val_loss: 2.3184 - val_mse: 2.3184\n",
      "Epoch 12/200\n",
      "81/81 [==============================] - 0s 1ms/step - loss: 1.9451 - mse: 1.9451 - val_loss: 1.7017 - val_mse: 1.7017\n",
      "Epoch 13/200\n",
      "81/81 [==============================] - 0s 1ms/step - loss: 1.4452 - mse: 1.4452 - val_loss: 1.2680 - val_mse: 1.2680\n",
      "Epoch 14/200\n",
      "81/81 [==============================] - 0s 1ms/step - loss: 1.0779 - mse: 1.0779 - val_loss: 0.9462 - val_mse: 0.9462\n",
      "Epoch 15/200\n",
      "81/81 [==============================] - 0s 1ms/step - loss: 0.8100 - mse: 0.8100 - val_loss: 0.7130 - val_mse: 0.7130\n",
      "Epoch 16/200\n",
      "81/81 [==============================] - 0s 1ms/step - loss: 0.6147 - mse: 0.6147 - val_loss: 0.5433 - val_mse: 0.5433\n",
      "Epoch 17/200\n",
      "81/81 [==============================] - 0s 1ms/step - loss: 0.4741 - mse: 0.4741 - val_loss: 0.4282 - val_mse: 0.4282\n",
      "Epoch 18/200\n",
      "81/81 [==============================] - 0s 1ms/step - loss: 0.3765 - mse: 0.3765 - val_loss: 0.3473 - val_mse: 0.3473\n",
      "Epoch 19/200\n",
      "81/81 [==============================] - 0s 1ms/step - loss: 0.3077 - mse: 0.3077 - val_loss: 0.2903 - val_mse: 0.2903\n",
      "Epoch 20/200\n",
      "81/81 [==============================] - 0s 1ms/step - loss: 0.2600 - mse: 0.2600 - val_loss: 0.2519 - val_mse: 0.2519\n",
      "Epoch 21/200\n",
      "81/81 [==============================] - 0s 1ms/step - loss: 0.2253 - mse: 0.2253 - val_loss: 0.2203 - val_mse: 0.2203\n",
      "Epoch 22/200\n",
      "81/81 [==============================] - 0s 1ms/step - loss: 0.2017 - mse: 0.2017 - val_loss: 0.1950 - val_mse: 0.1950\n",
      "Epoch 23/200\n",
      "81/81 [==============================] - 0s 1ms/step - loss: 0.1835 - mse: 0.1835 - val_loss: 0.1803 - val_mse: 0.1803\n",
      "Epoch 24/200\n",
      "81/81 [==============================] - 0s 1ms/step - loss: 0.1680 - mse: 0.1680 - val_loss: 0.1682 - val_mse: 0.1682\n",
      "Epoch 25/200\n",
      "81/81 [==============================] - 0s 1ms/step - loss: 0.1555 - mse: 0.1555 - val_loss: 0.1591 - val_mse: 0.1591\n",
      "Epoch 26/200\n",
      "81/81 [==============================] - 0s 1ms/step - loss: 0.1462 - mse: 0.1462 - val_loss: 0.1473 - val_mse: 0.1473\n",
      "Epoch 27/200\n",
      "81/81 [==============================] - 0s 1ms/step - loss: 0.1373 - mse: 0.1373 - val_loss: 0.1442 - val_mse: 0.1442\n",
      "Epoch 28/200\n",
      "81/81 [==============================] - 0s 1ms/step - loss: 0.1301 - mse: 0.1301 - val_loss: 0.1324 - val_mse: 0.1324\n",
      "Epoch 29/200\n",
      "81/81 [==============================] - 0s 1ms/step - loss: 0.1238 - mse: 0.1238 - val_loss: 0.1297 - val_mse: 0.1297\n",
      "Epoch 30/200\n",
      "81/81 [==============================] - 0s 1ms/step - loss: 0.1180 - mse: 0.1180 - val_loss: 0.1241 - val_mse: 0.1241\n",
      "Epoch 31/200\n",
      "81/81 [==============================] - 0s 1ms/step - loss: 0.1136 - mse: 0.1136 - val_loss: 0.1199 - val_mse: 0.1199\n",
      "Epoch 32/200\n",
      "81/81 [==============================] - 0s 1ms/step - loss: 0.1092 - mse: 0.1092 - val_loss: 0.1235 - val_mse: 0.1235\n",
      "Epoch 33/200\n",
      "81/81 [==============================] - 0s 1ms/step - loss: 0.1048 - mse: 0.1048 - val_loss: 0.1151 - val_mse: 0.1151\n",
      "Epoch 34/200\n",
      "81/81 [==============================] - 0s 1ms/step - loss: 0.1019 - mse: 0.1019 - val_loss: 0.1066 - val_mse: 0.1066\n",
      "Epoch 35/200\n",
      "81/81 [==============================] - 0s 1ms/step - loss: 0.0979 - mse: 0.0979 - val_loss: 0.1026 - val_mse: 0.1026\n",
      "Epoch 36/200\n",
      "81/81 [==============================] - 0s 1ms/step - loss: 0.0945 - mse: 0.0945 - val_loss: 0.0997 - val_mse: 0.0997\n",
      "Epoch 37/200\n",
      "81/81 [==============================] - 0s 1ms/step - loss: 0.0921 - mse: 0.0921 - val_loss: 0.1034 - val_mse: 0.1034\n",
      "Epoch 38/200\n",
      "81/81 [==============================] - 0s 1ms/step - loss: 0.0902 - mse: 0.0902 - val_loss: 0.0988 - val_mse: 0.0988\n",
      "Epoch 39/200\n",
      "81/81 [==============================] - 0s 1ms/step - loss: 0.0877 - mse: 0.0877 - val_loss: 0.0958 - val_mse: 0.0958\n",
      "Epoch 40/200\n",
      "81/81 [==============================] - 0s 1ms/step - loss: 0.0864 - mse: 0.0864 - val_loss: 0.0919 - val_mse: 0.0919\n",
      "Epoch 41/200\n",
      "81/81 [==============================] - 0s 1ms/step - loss: 0.0839 - mse: 0.0839 - val_loss: 0.0946 - val_mse: 0.0946\n",
      "Epoch 42/200\n",
      "81/81 [==============================] - 0s 1ms/step - loss: 0.0826 - mse: 0.0826 - val_loss: 0.0848 - val_mse: 0.0848\n",
      "Epoch 43/200\n",
      "81/81 [==============================] - 0s 1ms/step - loss: 0.0812 - mse: 0.0812 - val_loss: 0.0926 - val_mse: 0.0926\n",
      "Epoch 44/200\n",
      "81/81 [==============================] - 0s 1ms/step - loss: 0.0793 - mse: 0.0793 - val_loss: 0.0871 - val_mse: 0.0871\n",
      "Epoch 45/200\n",
      "81/81 [==============================] - 0s 1ms/step - loss: 0.0774 - mse: 0.0774 - val_loss: 0.0935 - val_mse: 0.0935\n"
     ]
    }
   ],
   "source": [
    "from keras.callbacks import EarlyStopping\n",
    "\n",
    "early_stopping = EarlyStopping(monitor='val_loss', patience=3)\n",
    "callbacks_list=[early_stopping]\n",
    "n_epochs=200\n",
    "history_reg = model_reg.fit(X_train_reg, y_train_reg, epochs=n_epochs, batch_size=64, validation_data=(X_test_reg, y_test_reg),callbacks=callbacks_list)"
   ]
  },
  {
   "cell_type": "code",
   "execution_count": 237,
   "id": "fe97debc",
   "metadata": {},
   "outputs": [
    {
     "name": "stdout",
     "output_type": "stream",
     "text": [
      "70/70 [==============================] - 0s 520us/step - loss: 0.0935 - mse: 0.0935\n",
      "Test loss: 0.20221513509750366\n"
     ]
    }
   ],
   "source": [
    "## evaluate the model on the test set\n",
    "loss_reg= model_reg.evaluate(X_test_reg, y_test_reg)\n",
    "print('Test loss:', loss)"
   ]
  },
  {
   "cell_type": "code",
   "execution_count": 238,
   "id": "6af046f1",
   "metadata": {},
   "outputs": [
    {
     "name": "stdout",
     "output_type": "stream",
     "text": [
      "70/70 [==============================] - 0s 433us/step\n"
     ]
    },
    {
     "data": {
      "text/plain": [
       "array([[ 1.7724088],\n",
       "       [ 1.6865277],\n",
       "       [ 3.447186 ],\n",
       "       ...,\n",
       "       [25.0012   ],\n",
       "       [18.00559  ],\n",
       "       [12.888357 ]], dtype=float32)"
      ]
     },
     "execution_count": 238,
     "metadata": {},
     "output_type": "execute_result"
    }
   ],
   "source": [
    "# Generating Predictions on testing data\n",
    "Predictions=model_reg.predict(X_test_reg)\n",
    "Predictions"
   ]
  },
  {
   "cell_type": "code",
   "execution_count": 239,
   "id": "a8cb88ef",
   "metadata": {},
   "outputs": [
    {
     "name": "stdout",
     "output_type": "stream",
     "text": [
      "Mean Squared Error (MSE) on test data: 0.09\n"
     ]
    }
   ],
   "source": [
    "from sklearn.metrics import mean_squared_error\n",
    "mse = mean_squared_error(y_test_reg, Predictions)\n",
    "print('Mean Squared Error (MSE) on test data: {:.2f}'.format(mse))"
   ]
  },
  {
   "cell_type": "code",
   "execution_count": 240,
   "id": "bd7a5fc1",
   "metadata": {},
   "outputs": [
    {
     "name": "stdout",
     "output_type": "stream",
     "text": [
      "Root Mean Squared Error (RMSE) on new data in m: 0.31\n"
     ]
    }
   ],
   "source": [
    "from math import sqrt\n",
    "rmse=sqrt(mean_squared_error(y_test_reg, Predictions)) \n",
    "print('Root Mean Squared Error (RMSE) on new data in m: {:.2f}'.format(rmse))\n"
   ]
  },
  {
   "cell_type": "code",
   "execution_count": 241,
   "id": "963860bc",
   "metadata": {},
   "outputs": [
    {
     "name": "stdout",
     "output_type": "stream",
     "text": [
      "Mean Absolute Percentage Error (MAPE) on new data in percentage is : 3.62\n"
     ]
    }
   ],
   "source": [
    "from sklearn.metrics import mean_absolute_percentage_error\n",
    "print('Mean Absolute Percentage Error (MAPE) on new data in percentage is : {:.2f}'.format(mean_absolute_percentage_error(y_test_reg, Predictions)*100))"
   ]
  },
  {
   "attachments": {},
   "cell_type": "markdown",
   "id": "942ae722",
   "metadata": {},
   "source": [
    "**Without Kalman Filter for comparision**"
   ]
  },
  {
   "cell_type": "code",
   "execution_count": 242,
   "id": "8c5fb7de",
   "metadata": {},
   "outputs": [
    {
     "data": {
      "text/plain": [
       "array([[-0.67683293, -0.34459926],\n",
       "       [-0.03727987, -0.30733135],\n",
       "       [-0.67683293, -0.25959034],\n",
       "       ...,\n",
       "       [ 0.85809442, -0.60053235],\n",
       "       [ 0.85809442, -0.568569  ],\n",
       "       [ 0.7301838 , -0.55795989]])"
      ]
     },
     "execution_count": 242,
     "metadata": {},
     "output_type": "execute_result"
    }
   ],
   "source": [
    "X_valid"
   ]
  },
  {
   "cell_type": "code",
   "execution_count": 243,
   "id": "9413e0f6",
   "metadata": {},
   "outputs": [
    {
     "data": {
      "text/plain": [
       "array([10, 10, 10, ...,  9,  9,  9], dtype=int64)"
      ]
     },
     "execution_count": 243,
     "metadata": {},
     "output_type": "execute_result"
    }
   ],
   "source": [
    "y_valid"
   ]
  },
  {
   "cell_type": "code",
   "execution_count": 244,
   "id": "7b383894",
   "metadata": {},
   "outputs": [],
   "source": [
    "XX_train_reg, XX_test_reg, yy_train_reg, yy_test_reg = train_test_split(X_valid, y_valid, test_size=0.3, random_state=42)"
   ]
  },
  {
   "cell_type": "code",
   "execution_count": 245,
   "id": "a43361b4",
   "metadata": {},
   "outputs": [
    {
     "name": "stdout",
     "output_type": "stream",
     "text": [
      "Epoch 1/200\n",
      "81/81 [==============================] - 0s 1ms/step - loss: 33.7222 - mse: 33.7222 - val_loss: 1.5881 - val_mse: 1.5881\n",
      "Epoch 2/200\n",
      "81/81 [==============================] - 0s 1ms/step - loss: 1.2312 - mse: 1.2312 - val_loss: 1.0515 - val_mse: 1.0515\n",
      "Epoch 3/200\n",
      "81/81 [==============================] - 0s 1ms/step - loss: 0.8701 - mse: 0.8701 - val_loss: 0.7791 - val_mse: 0.7791\n",
      "Epoch 4/200\n",
      "81/81 [==============================] - 0s 1ms/step - loss: 0.6551 - mse: 0.6551 - val_loss: 0.6117 - val_mse: 0.6117\n",
      "Epoch 5/200\n",
      "81/81 [==============================] - 0s 1ms/step - loss: 0.5225 - mse: 0.5225 - val_loss: 0.4999 - val_mse: 0.4999\n",
      "Epoch 6/200\n",
      "81/81 [==============================] - 0s 1ms/step - loss: 0.4361 - mse: 0.4361 - val_loss: 0.4303 - val_mse: 0.4303\n",
      "Epoch 7/200\n",
      "81/81 [==============================] - 0s 1ms/step - loss: 0.3806 - mse: 0.3806 - val_loss: 0.3809 - val_mse: 0.3809\n",
      "Epoch 8/200\n",
      "81/81 [==============================] - 0s 1ms/step - loss: 0.3413 - mse: 0.3413 - val_loss: 0.3481 - val_mse: 0.3481\n",
      "Epoch 9/200\n",
      "81/81 [==============================] - 0s 1ms/step - loss: 0.3152 - mse: 0.3152 - val_loss: 0.3246 - val_mse: 0.3246\n",
      "Epoch 10/200\n",
      "81/81 [==============================] - 0s 1ms/step - loss: 0.2949 - mse: 0.2949 - val_loss: 0.3079 - val_mse: 0.3079\n",
      "Epoch 11/200\n",
      "81/81 [==============================] - 0s 1ms/step - loss: 0.2801 - mse: 0.2801 - val_loss: 0.2938 - val_mse: 0.2938\n",
      "Epoch 12/200\n",
      "81/81 [==============================] - 0s 1ms/step - loss: 0.2666 - mse: 0.2666 - val_loss: 0.2787 - val_mse: 0.2787\n",
      "Epoch 13/200\n",
      "81/81 [==============================] - 0s 1ms/step - loss: 0.2563 - mse: 0.2563 - val_loss: 0.2706 - val_mse: 0.2706\n",
      "Epoch 14/200\n",
      "81/81 [==============================] - 0s 1ms/step - loss: 0.2467 - mse: 0.2467 - val_loss: 0.2613 - val_mse: 0.2613\n",
      "Epoch 15/200\n",
      "81/81 [==============================] - 0s 1ms/step - loss: 0.2388 - mse: 0.2388 - val_loss: 0.2562 - val_mse: 0.2562\n",
      "Epoch 16/200\n",
      "81/81 [==============================] - 0s 1ms/step - loss: 0.2314 - mse: 0.2314 - val_loss: 0.2459 - val_mse: 0.2459\n",
      "Epoch 17/200\n",
      "81/81 [==============================] - 0s 1ms/step - loss: 0.2257 - mse: 0.2257 - val_loss: 0.2409 - val_mse: 0.2409\n",
      "Epoch 18/200\n",
      "81/81 [==============================] - 0s 1ms/step - loss: 0.2199 - mse: 0.2199 - val_loss: 0.2346 - val_mse: 0.2346\n",
      "Epoch 19/200\n",
      "81/81 [==============================] - 0s 1ms/step - loss: 0.2151 - mse: 0.2151 - val_loss: 0.2317 - val_mse: 0.2317\n",
      "Epoch 20/200\n",
      "81/81 [==============================] - 0s 1ms/step - loss: 0.2113 - mse: 0.2113 - val_loss: 0.2266 - val_mse: 0.2266\n",
      "Epoch 21/200\n",
      "81/81 [==============================] - 0s 1ms/step - loss: 0.2082 - mse: 0.2082 - val_loss: 0.2236 - val_mse: 0.2236\n",
      "Epoch 22/200\n",
      "81/81 [==============================] - 0s 1ms/step - loss: 0.2043 - mse: 0.2043 - val_loss: 0.2216 - val_mse: 0.2216\n",
      "Epoch 23/200\n",
      "81/81 [==============================] - 0s 1ms/step - loss: 0.2013 - mse: 0.2013 - val_loss: 0.2192 - val_mse: 0.2192\n",
      "Epoch 24/200\n",
      "81/81 [==============================] - 0s 1ms/step - loss: 0.2000 - mse: 0.2000 - val_loss: 0.2133 - val_mse: 0.2133\n",
      "Epoch 25/200\n",
      "81/81 [==============================] - 0s 1ms/step - loss: 0.1966 - mse: 0.1966 - val_loss: 0.2147 - val_mse: 0.2147\n",
      "Epoch 26/200\n",
      "81/81 [==============================] - 0s 1ms/step - loss: 0.1950 - mse: 0.1950 - val_loss: 0.2088 - val_mse: 0.2088\n",
      "Epoch 27/200\n",
      "81/81 [==============================] - 0s 1ms/step - loss: 0.1937 - mse: 0.1937 - val_loss: 0.2086 - val_mse: 0.2086\n",
      "Epoch 28/200\n",
      "81/81 [==============================] - 0s 1ms/step - loss: 0.1929 - mse: 0.1929 - val_loss: 0.2136 - val_mse: 0.2136\n",
      "Epoch 29/200\n",
      "81/81 [==============================] - 0s 1ms/step - loss: 0.1907 - mse: 0.1907 - val_loss: 0.2053 - val_mse: 0.2053\n",
      "Epoch 30/200\n",
      "81/81 [==============================] - 0s 1ms/step - loss: 0.1892 - mse: 0.1892 - val_loss: 0.2039 - val_mse: 0.2039\n",
      "Epoch 31/200\n",
      "81/81 [==============================] - 0s 1ms/step - loss: 0.1872 - mse: 0.1872 - val_loss: 0.2025 - val_mse: 0.2025\n",
      "Epoch 32/200\n",
      "81/81 [==============================] - 0s 1ms/step - loss: 0.1857 - mse: 0.1857 - val_loss: 0.2002 - val_mse: 0.2002\n",
      "Epoch 33/200\n",
      "81/81 [==============================] - 0s 1ms/step - loss: 0.1861 - mse: 0.1861 - val_loss: 0.1993 - val_mse: 0.1993\n",
      "Epoch 34/200\n",
      "81/81 [==============================] - 0s 1ms/step - loss: 0.1853 - mse: 0.1853 - val_loss: 0.1966 - val_mse: 0.1966\n",
      "Epoch 35/200\n",
      "81/81 [==============================] - 0s 1ms/step - loss: 0.1826 - mse: 0.1826 - val_loss: 0.1958 - val_mse: 0.1958\n",
      "Epoch 36/200\n",
      "81/81 [==============================] - 0s 1ms/step - loss: 0.1822 - mse: 0.1822 - val_loss: 0.1944 - val_mse: 0.1944\n",
      "Epoch 37/200\n",
      "81/81 [==============================] - 0s 1ms/step - loss: 0.1812 - mse: 0.1812 - val_loss: 0.1925 - val_mse: 0.1925\n",
      "Epoch 38/200\n",
      "81/81 [==============================] - 0s 1ms/step - loss: 0.1812 - mse: 0.1812 - val_loss: 0.2008 - val_mse: 0.2008\n",
      "Epoch 39/200\n",
      "81/81 [==============================] - 0s 1ms/step - loss: 0.1792 - mse: 0.1792 - val_loss: 0.1909 - val_mse: 0.1909\n",
      "Epoch 40/200\n",
      "81/81 [==============================] - 0s 1ms/step - loss: 0.1793 - mse: 0.1793 - val_loss: 0.1899 - val_mse: 0.1899\n",
      "Epoch 41/200\n",
      "81/81 [==============================] - 0s 1ms/step - loss: 0.1780 - mse: 0.1780 - val_loss: 0.1893 - val_mse: 0.1893\n",
      "Epoch 42/200\n",
      "81/81 [==============================] - 0s 1ms/step - loss: 0.1759 - mse: 0.1759 - val_loss: 0.1874 - val_mse: 0.1874\n",
      "Epoch 43/200\n",
      "81/81 [==============================] - 0s 1ms/step - loss: 0.1762 - mse: 0.1762 - val_loss: 0.1885 - val_mse: 0.1885\n",
      "Epoch 44/200\n",
      "81/81 [==============================] - 0s 1ms/step - loss: 0.1749 - mse: 0.1749 - val_loss: 0.1861 - val_mse: 0.1861\n",
      "Epoch 45/200\n",
      "81/81 [==============================] - 0s 1ms/step - loss: 0.1748 - mse: 0.1748 - val_loss: 0.1847 - val_mse: 0.1847\n",
      "Epoch 46/200\n",
      "81/81 [==============================] - 0s 1ms/step - loss: 0.1729 - mse: 0.1729 - val_loss: 0.1923 - val_mse: 0.1923\n",
      "Epoch 47/200\n",
      "81/81 [==============================] - 0s 1ms/step - loss: 0.1744 - mse: 0.1744 - val_loss: 0.1824 - val_mse: 0.1824\n",
      "Epoch 48/200\n",
      "81/81 [==============================] - 0s 1ms/step - loss: 0.1715 - mse: 0.1715 - val_loss: 0.1821 - val_mse: 0.1821\n",
      "Epoch 49/200\n",
      "81/81 [==============================] - 0s 1ms/step - loss: 0.1713 - mse: 0.1713 - val_loss: 0.1851 - val_mse: 0.1851\n",
      "Epoch 50/200\n",
      "81/81 [==============================] - 0s 1ms/step - loss: 0.1709 - mse: 0.1709 - val_loss: 0.1826 - val_mse: 0.1826\n",
      "Epoch 51/200\n",
      "81/81 [==============================] - 0s 1ms/step - loss: 0.1695 - mse: 0.1695 - val_loss: 0.1854 - val_mse: 0.1854\n"
     ]
    }
   ],
   "source": [
    "early_stopping = EarlyStopping(monitor='val_loss', patience=3)\n",
    "callbacks_list=[early_stopping]\n",
    "n_epochs=200\n",
    "historyy_reg = model_reg.fit(XX_train_reg, yy_train_reg, epochs=n_epochs, batch_size=64, validation_data=(XX_test_reg, yy_test_reg),callbacks=callbacks_list)"
   ]
  },
  {
   "cell_type": "code",
   "execution_count": 246,
   "id": "9cf92180",
   "metadata": {},
   "outputs": [
    {
     "name": "stdout",
     "output_type": "stream",
     "text": [
      "70/70 [==============================] - 0s 477us/step\n"
     ]
    },
    {
     "data": {
      "text/plain": [
       "array([[ 1.8611037],\n",
       "       [ 2.053839 ],\n",
       "       [ 3.287555 ],\n",
       "       ...,\n",
       "       [24.033377 ],\n",
       "       [17.996061 ],\n",
       "       [12.338092 ]], dtype=float32)"
      ]
     },
     "execution_count": 246,
     "metadata": {},
     "output_type": "execute_result"
    }
   ],
   "source": [
    "#Generating Predictions on testing data\n",
    "PPredictions=model_reg.predict(XX_test_reg)\n",
    "PPredictions"
   ]
  },
  {
   "cell_type": "code",
   "execution_count": 247,
   "id": "cd96227e",
   "metadata": {},
   "outputs": [
    {
     "name": "stdout",
     "output_type": "stream",
     "text": [
      "Mean Squared Error (MSE) on test data: 0.19\n"
     ]
    }
   ],
   "source": [
    "msee = mean_squared_error(yy_test_reg, PPredictions)\n",
    "print('Mean Squared Error (MSE) on test data: {:.2f}'.format(msee))\n"
   ]
  },
  {
   "cell_type": "code",
   "execution_count": 248,
   "id": "f56ed681",
   "metadata": {},
   "outputs": [
    {
     "name": "stdout",
     "output_type": "stream",
     "text": [
      "Root Mean Squared Error (RMSE) on new data in m: 0.43\n"
     ]
    }
   ],
   "source": [
    "from math import sqrt\n",
    "rmsee=sqrt(mean_squared_error(yy_test_reg, PPredictions)) \n",
    "print('Root Mean Squared Error (RMSE) on new data in m: {:.2f}'.format(rmsee))\n"
   ]
  },
  {
   "cell_type": "code",
   "execution_count": 249,
   "id": "4a6e383f",
   "metadata": {},
   "outputs": [
    {
     "name": "stdout",
     "output_type": "stream",
     "text": [
      "Mean Absolute Percentage Error (MAPE) on new data in percentage is : 3.96\n"
     ]
    }
   ],
   "source": [
    "from sklearn.metrics import mean_absolute_percentage_error\n",
    "print('Mean Absolute Percentage Error (MAPE) on new data in percentage is : {:.2f}'.format(mean_absolute_percentage_error(yy_test_reg, PPredictions)*100))"
   ]
  },
  {
   "cell_type": "code",
   "execution_count": null,
   "id": "d6d41e7d",
   "metadata": {},
   "outputs": [],
   "source": []
  }
 ],
 "metadata": {
  "kernelspec": {
   "display_name": "Python 3 (ipykernel)",
   "language": "python",
   "name": "python3"
  },
  "language_info": {
   "codemirror_mode": {
    "name": "ipython",
    "version": 3
   },
   "file_extension": ".py",
   "mimetype": "text/x-python",
   "name": "python",
   "nbconvert_exporter": "python",
   "pygments_lexer": "ipython3",
   "version": "3.9.13"
  }
 },
 "nbformat": 4,
 "nbformat_minor": 5
}
