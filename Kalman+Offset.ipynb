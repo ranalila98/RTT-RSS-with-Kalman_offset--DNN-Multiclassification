{
 "cells": [
  {
   "cell_type": "markdown",
   "id": "9b1e72fc",
   "metadata": {},
   "source": [
    "**1. Importing Necessary libraries**"
   ]
  },
  {
   "cell_type": "code",
   "execution_count": 1,
   "id": "6721f396",
   "metadata": {},
   "outputs": [],
   "source": [
    "import pandas as pd\n",
    "import os\n",
    "import glob\n",
    "import numpy as np\n",
    "import math\n",
    "import matplotlib.pyplot as plt\n",
    "from matplotlib.pyplot import figure"
   ]
  },
  {
   "cell_type": "code",
   "execution_count": 2,
   "id": "82ad020b",
   "metadata": {},
   "outputs": [
    {
     "data": {
      "text/html": [
       "<div>\n",
       "<style scoped>\n",
       "    .dataframe tbody tr th:only-of-type {\n",
       "        vertical-align: middle;\n",
       "    }\n",
       "\n",
       "    .dataframe tbody tr th {\n",
       "        vertical-align: top;\n",
       "    }\n",
       "\n",
       "    .dataframe thead th {\n",
       "        text-align: right;\n",
       "    }\n",
       "</style>\n",
       "<table border=\"1\" class=\"dataframe\">\n",
       "  <thead>\n",
       "    <tr style=\"text-align: right;\">\n",
       "      <th></th>\n",
       "      <th>RTT</th>\n",
       "      <th>RSS</th>\n",
       "      <th>TRUE</th>\n",
       "    </tr>\n",
       "  </thead>\n",
       "  <tbody>\n",
       "    <tr>\n",
       "      <th>0</th>\n",
       "      <td>9.718131</td>\n",
       "      <td>-72.000000</td>\n",
       "      <td>10</td>\n",
       "    </tr>\n",
       "    <tr>\n",
       "      <th>1</th>\n",
       "      <td>9.862571</td>\n",
       "      <td>-69.494567</td>\n",
       "      <td>10</td>\n",
       "    </tr>\n",
       "    <tr>\n",
       "      <th>2</th>\n",
       "      <td>10.050465</td>\n",
       "      <td>-70.335750</td>\n",
       "      <td>10</td>\n",
       "    </tr>\n",
       "    <tr>\n",
       "      <th>3</th>\n",
       "      <td>10.057071</td>\n",
       "      <td>-70.504328</td>\n",
       "      <td>10</td>\n",
       "    </tr>\n",
       "    <tr>\n",
       "      <th>4</th>\n",
       "      <td>10.097482</td>\n",
       "      <td>-69.785318</td>\n",
       "      <td>10</td>\n",
       "    </tr>\n",
       "    <tr>\n",
       "      <th>...</th>\n",
       "      <td>...</td>\n",
       "      <td>...</td>\n",
       "      <td>...</td>\n",
       "    </tr>\n",
       "    <tr>\n",
       "      <th>291</th>\n",
       "      <td>8.964837</td>\n",
       "      <td>-61.387418</td>\n",
       "      <td>9</td>\n",
       "    </tr>\n",
       "    <tr>\n",
       "      <th>292</th>\n",
       "      <td>8.958309</td>\n",
       "      <td>-61.276177</td>\n",
       "      <td>9</td>\n",
       "    </tr>\n",
       "    <tr>\n",
       "      <th>293</th>\n",
       "      <td>8.918245</td>\n",
       "      <td>-61.173856</td>\n",
       "      <td>9</td>\n",
       "    </tr>\n",
       "    <tr>\n",
       "      <th>294</th>\n",
       "      <td>8.960933</td>\n",
       "      <td>-61.079739</td>\n",
       "      <td>9</td>\n",
       "    </tr>\n",
       "    <tr>\n",
       "      <th>295</th>\n",
       "      <td>9.014245</td>\n",
       "      <td>-61.073345</td>\n",
       "      <td>9</td>\n",
       "    </tr>\n",
       "  </tbody>\n",
       "</table>\n",
       "<p>7394 rows × 3 columns</p>\n",
       "</div>"
      ],
      "text/plain": [
       "           RTT        RSS  TRUE\n",
       "0     9.718131 -72.000000    10\n",
       "1     9.862571 -69.494567    10\n",
       "2    10.050465 -70.335750    10\n",
       "3    10.057071 -70.504328    10\n",
       "4    10.097482 -69.785318    10\n",
       "..         ...        ...   ...\n",
       "291   8.964837 -61.387418     9\n",
       "292   8.958309 -61.276177     9\n",
       "293   8.918245 -61.173856     9\n",
       "294   8.960933 -61.079739     9\n",
       "295   9.014245 -61.073345     9\n",
       "\n",
       "[7394 rows x 3 columns]"
      ]
     },
     "execution_count": 2,
     "metadata": {},
     "output_type": "execute_result"
    }
   ],
   "source": [
    "#combining no of csv file into one file with name combine_csv\n",
    "#os.chdir('C:\\Users\\LILA\\Desktop\\RTT-RSS with Kalman_offset\\Kalman_offset')\n",
    "os.chdir('C:/Users/LILA/Desktop/RTT-RSS with Kalman_offset/Kalman_offset')\n",
    "#os.chdir('C:/Users/LILA/Desktop/RTT-RSS with Kalman_offset/Offset new')\n",
    "extension='csv'\n",
    "\n",
    "all_filenames=[i for i in glob.glob('*.{}'.format(extension))]\n",
    "\n",
    "combined_csv=pd.concat([pd.read_csv(f) for f in all_filenames])\n",
    "df=combined_csv\n",
    "#df.drop(['Error_before_offset','Error_after_offset','stdev','Est_Range'],axis=1,inplace=True)\n",
    "df"
   ]
  },
  {
   "cell_type": "markdown",
   "id": "0f8d5c93",
   "metadata": {},
   "source": [
    "**2. Extracting input and output data from Dataframe**"
   ]
  },
  {
   "cell_type": "code",
   "execution_count": 3,
   "id": "7ee52a9d",
   "metadata": {},
   "outputs": [
    {
     "data": {
      "text/html": [
       "<div>\n",
       "<style scoped>\n",
       "    .dataframe tbody tr th:only-of-type {\n",
       "        vertical-align: middle;\n",
       "    }\n",
       "\n",
       "    .dataframe tbody tr th {\n",
       "        vertical-align: top;\n",
       "    }\n",
       "\n",
       "    .dataframe thead th {\n",
       "        text-align: right;\n",
       "    }\n",
       "</style>\n",
       "<table border=\"1\" class=\"dataframe\">\n",
       "  <thead>\n",
       "    <tr style=\"text-align: right;\">\n",
       "      <th></th>\n",
       "      <th>RTT</th>\n",
       "      <th>RSS</th>\n",
       "    </tr>\n",
       "  </thead>\n",
       "  <tbody>\n",
       "    <tr>\n",
       "      <th>0</th>\n",
       "      <td>9.718131</td>\n",
       "      <td>-72.000000</td>\n",
       "    </tr>\n",
       "    <tr>\n",
       "      <th>1</th>\n",
       "      <td>9.862571</td>\n",
       "      <td>-69.494567</td>\n",
       "    </tr>\n",
       "    <tr>\n",
       "      <th>2</th>\n",
       "      <td>10.050465</td>\n",
       "      <td>-70.335750</td>\n",
       "    </tr>\n",
       "    <tr>\n",
       "      <th>3</th>\n",
       "      <td>10.057071</td>\n",
       "      <td>-70.504328</td>\n",
       "    </tr>\n",
       "    <tr>\n",
       "      <th>4</th>\n",
       "      <td>10.097482</td>\n",
       "      <td>-69.785318</td>\n",
       "    </tr>\n",
       "    <tr>\n",
       "      <th>...</th>\n",
       "      <td>...</td>\n",
       "      <td>...</td>\n",
       "    </tr>\n",
       "    <tr>\n",
       "      <th>291</th>\n",
       "      <td>8.964837</td>\n",
       "      <td>-61.387418</td>\n",
       "    </tr>\n",
       "    <tr>\n",
       "      <th>292</th>\n",
       "      <td>8.958309</td>\n",
       "      <td>-61.276177</td>\n",
       "    </tr>\n",
       "    <tr>\n",
       "      <th>293</th>\n",
       "      <td>8.918245</td>\n",
       "      <td>-61.173856</td>\n",
       "    </tr>\n",
       "    <tr>\n",
       "      <th>294</th>\n",
       "      <td>8.960933</td>\n",
       "      <td>-61.079739</td>\n",
       "    </tr>\n",
       "    <tr>\n",
       "      <th>295</th>\n",
       "      <td>9.014245</td>\n",
       "      <td>-61.073345</td>\n",
       "    </tr>\n",
       "  </tbody>\n",
       "</table>\n",
       "<p>7394 rows × 2 columns</p>\n",
       "</div>"
      ],
      "text/plain": [
       "           RTT        RSS\n",
       "0     9.718131 -72.000000\n",
       "1     9.862571 -69.494567\n",
       "2    10.050465 -70.335750\n",
       "3    10.057071 -70.504328\n",
       "4    10.097482 -69.785318\n",
       "..         ...        ...\n",
       "291   8.964837 -61.387418\n",
       "292   8.958309 -61.276177\n",
       "293   8.918245 -61.173856\n",
       "294   8.960933 -61.079739\n",
       "295   9.014245 -61.073345\n",
       "\n",
       "[7394 rows x 2 columns]"
      ]
     },
     "execution_count": 3,
     "metadata": {},
     "output_type": "execute_result"
    }
   ],
   "source": [
    "input_data = df.iloc[:, :2]\n",
    "output_data = df['TRUE'].values\n",
    "#output_data = df['True_Range'].values\n",
    "output_data = np.array(output_data)\n",
    "input_data"
   ]
  },
  {
   "cell_type": "code",
   "execution_count": 4,
   "id": "e5df4cb5",
   "metadata": {},
   "outputs": [
    {
     "data": {
      "text/plain": [
       "array([[  9.71813087, -72.        ],\n",
       "       [  9.86257107, -69.49456676],\n",
       "       [ 10.05046483, -70.33574986],\n",
       "       ...,\n",
       "       [  8.91824468, -61.17385598],\n",
       "       [  8.96093334, -61.0797385 ],\n",
       "       [  9.01424539, -61.07334523]])"
      ]
     },
     "execution_count": 4,
     "metadata": {},
     "output_type": "execute_result"
    }
   ],
   "source": [
    "input_data = input_data.values #conversting dataframe format to array format\n",
    "#input_data = input_data.reshape(-1,1)\n",
    "X=input_data\n",
    "X"
   ]
  },
  {
   "cell_type": "code",
   "execution_count": 5,
   "id": "37432f87",
   "metadata": {},
   "outputs": [
    {
     "data": {
      "text/plain": [
       "array([10, 10, 10, ...,  9,  9,  9], dtype=int64)"
      ]
     },
     "execution_count": 5,
     "metadata": {},
     "output_type": "execute_result"
    }
   ],
   "source": [
    "output_data"
   ]
  },
  {
   "cell_type": "markdown",
   "id": "05f022f6",
   "metadata": {},
   "source": [
    "**3. Creating Multiple class using Onehot Encoder of output**"
   ]
  },
  {
   "cell_type": "code",
   "execution_count": 6,
   "id": "534b1e19",
   "metadata": {},
   "outputs": [],
   "source": [
    "\n",
    "from sklearn.preprocessing import OneHotEncoder\n",
    "# Create a one-hot encoder object\n",
    "one_hot_encoder = OneHotEncoder()\n",
    "\n",
    "# Fit and transform the one-hot encoder on your output data\n",
    "output_data = np.array(output_data)\n",
    "encoded_output = one_hot_encoder.fit_transform(output_data.reshape(-1,1))\n",
    "# Convert the encoded output data to a NumPy array format\n",
    "#encoded_output = np.array(encoded_output)\n",
    "encoded_output = encoded_output.toarray()\n",
    "y=encoded_output\n"
   ]
  },
  {
   "cell_type": "code",
   "execution_count": 7,
   "id": "80b9bc5e",
   "metadata": {},
   "outputs": [],
   "source": [
    "#output_data=output_data.values"
   ]
  },
  {
   "cell_type": "code",
   "execution_count": 8,
   "id": "fa3246ab",
   "metadata": {},
   "outputs": [
    {
     "data": {
      "text/plain": [
       "array([[  9.71813087, -72.        ],\n",
       "       [  9.86257107, -69.49456676],\n",
       "       [ 10.05046483, -70.33574986],\n",
       "       ...,\n",
       "       [  8.91824468, -61.17385598],\n",
       "       [  8.96093334, -61.0797385 ],\n",
       "       [  9.01424539, -61.07334523]])"
      ]
     },
     "execution_count": 8,
     "metadata": {},
     "output_type": "execute_result"
    }
   ],
   "source": [
    "input_data"
   ]
  },
  {
   "cell_type": "markdown",
   "id": "d69b03cc",
   "metadata": {},
   "source": [
    "**4. Importing necessary libraries and create the DNN model**"
   ]
  },
  {
   "cell_type": "code",
   "execution_count": 9,
   "id": "42e5d1ff",
   "metadata": {},
   "outputs": [
    {
     "name": "stdout",
     "output_type": "stream",
     "text": [
      "Model: \"sequential\"\n",
      "_________________________________________________________________\n",
      " Layer (type)                Output Shape              Param #   \n",
      "=================================================================\n",
      " dense (Dense)               (None, 64)                192       \n",
      "                                                                 \n",
      " dense_1 (Dense)             (None, 128)               8320      \n",
      "                                                                 \n",
      " dense_2 (Dense)             (None, 128)               16512     \n",
      "                                                                 \n",
      " dense_3 (Dense)             (None, 64)                8256      \n",
      "                                                                 \n",
      " dense_4 (Dense)             (None, 25)                1625      \n",
      "                                                                 \n",
      "=================================================================\n",
      "Total params: 34,905\n",
      "Trainable params: 34,905\n",
      "Non-trainable params: 0\n",
      "_________________________________________________________________\n"
     ]
    }
   ],
   "source": [
    "from keras.models import Sequential\n",
    "from keras.layers import Dense\n",
    "from tensorflow import keras\n",
    "from keras.optimizers import Adam\n",
    "from keras.layers import Dropout\n",
    "\n",
    "optimizer = Adam(learning_rate=0.0001)\n",
    "\n",
    "# Initialize the model\n",
    "model = Sequential()\n",
    "\n",
    "# Add the first hidden layer with 64 neurons and input shape as the shape of the input data\n",
    "model.add(Dense(64, activation='relu', input_shape=(2,)))\n",
    "\n",
    "# Add the second hidden layer with 128 neurons\n",
    "model.add(Dense(128, activation='relu'))\n",
    "#model.add(Dropout(0.3))\n",
    "\n",
    "# Add the third hidden layer with 128 neurons\n",
    "model.add(Dense(128, activation='relu'))\n",
    "#model.add(Dropout(0.2))\n",
    "\n",
    "# Add the fourth hidden layer with 32 neurons\n",
    "model.add(Dense(64, activation='relu'))\n",
    "# model.add(Dropout(0.2))\n",
    "\n",
    "# Add the output layer with 25 neurons for the 25 categories, and use softmax activation for multiclass classification\n",
    "model.add(Dense(25, activation='softmax'))\n",
    "\n",
    "# Compile the model, using categorical_crossentropy loss for multiclass classification, and 'adam' optimizer\n",
    "#model.compile(loss='categorical_crossentropy', optimizer='adam', metrics=['accuracy'])\n",
    "model.compile(loss='categorical_crossentropy', optimizer=optimizer, metrics=['accuracy'])\n",
    "model.summary()"
   ]
  },
  {
   "cell_type": "code",
   "execution_count": 10,
   "id": "4afd74d8",
   "metadata": {},
   "outputs": [],
   "source": [
    "from sklearn.model_selection import train_test_split\n",
    "\n",
    "# assuming your data is in X and y variables\n",
    "#X_train_val, X_test, y_train_val, y_test = train_test_split(X, y, test_size=0.2, random_state=42)\n",
    "#X_train, X_val, y_train, y_val = train_test_split(X_train_val, y_train_val, test_size=0.25, random_state=42)\n",
    "X_train, X_test, y_train, y_test = train_test_split(input_data, encoded_output, test_size=0.3, random_state=42)"
   ]
  },
  {
   "cell_type": "code",
   "execution_count": 11,
   "id": "95ebf308",
   "metadata": {},
   "outputs": [
    {
     "data": {
      "text/plain": [
       "array([[ 22.01320001, -78.39659914],\n",
       "       [  7.89807215, -62.70303998],\n",
       "       [  7.91988335, -62.64872476],\n",
       "       ...,\n",
       "       [  3.01765946, -59.98608869],\n",
       "       [ 12.20174644, -62.02017815],\n",
       "       [  9.23302068, -60.63309277]])"
      ]
     },
     "execution_count": 11,
     "metadata": {},
     "output_type": "execute_result"
    }
   ],
   "source": [
    "X_train"
   ]
  },
  {
   "cell_type": "markdown",
   "id": "5eaa3039",
   "metadata": {},
   "source": [
    "**5. Standarizing the data- Preprocessing**"
   ]
  },
  {
   "cell_type": "code",
   "execution_count": 12,
   "id": "e5ced5cb",
   "metadata": {},
   "outputs": [
    {
     "data": {
      "text/plain": [
       "(5175, 2)"
      ]
     },
     "execution_count": 12,
     "metadata": {},
     "output_type": "execute_result"
    }
   ],
   "source": [
    "from sklearn.preprocessing import StandardScaler\n",
    "sc = StandardScaler() \n",
    "X_train = sc.fit_transform(X_train)\n",
    "X_test = sc.fit_transform(X_test)\n",
    "#X_val = sc.fit_transform(X_val)\n",
    "X_train.shape"
   ]
  },
  {
   "cell_type": "code",
   "execution_count": 13,
   "id": "166d7c7e",
   "metadata": {},
   "outputs": [
    {
     "data": {
      "text/plain": [
       "array([[ 1.2437804 , -1.53346284],\n",
       "       [-0.705526  ,  0.52470931],\n",
       "       [-0.70251386,  0.53183262],\n",
       "       ...,\n",
       "       [-1.37951349,  0.88103087],\n",
       "       [-0.11118637,  0.61426498],\n",
       "       [-0.52116892,  0.79617786]])"
      ]
     },
     "execution_count": 13,
     "metadata": {},
     "output_type": "execute_result"
    }
   ],
   "source": [
    "X_train"
   ]
  },
  {
   "cell_type": "code",
   "execution_count": 14,
   "id": "c8c29d35",
   "metadata": {},
   "outputs": [
    {
     "data": {
      "text/plain": [
       "array([[0., 0., 0., ..., 0., 0., 0.],\n",
       "       [0., 0., 0., ..., 0., 0., 0.],\n",
       "       [0., 0., 0., ..., 0., 0., 0.],\n",
       "       ...,\n",
       "       [0., 0., 1., ..., 0., 0., 0.],\n",
       "       [0., 0., 0., ..., 0., 0., 0.],\n",
       "       [0., 0., 0., ..., 0., 0., 0.]])"
      ]
     },
     "execution_count": 14,
     "metadata": {},
     "output_type": "execute_result"
    }
   ],
   "source": [
    "y_train"
   ]
  },
  {
   "cell_type": "code",
   "execution_count": 15,
   "id": "1a0458f9",
   "metadata": {},
   "outputs": [
    {
     "data": {
      "text/plain": [
       "array([[0., 1., 0., ..., 0., 0., 0.],\n",
       "       [0., 1., 0., ..., 0., 0., 0.],\n",
       "       [0., 0., 0., ..., 0., 0., 0.],\n",
       "       ...,\n",
       "       [0., 0., 0., ..., 0., 0., 1.],\n",
       "       [0., 0., 0., ..., 0., 0., 0.],\n",
       "       [0., 0., 0., ..., 0., 0., 0.]])"
      ]
     },
     "execution_count": 15,
     "metadata": {},
     "output_type": "execute_result"
    }
   ],
   "source": [
    "y_test"
   ]
  },
  {
   "cell_type": "code",
   "execution_count": 16,
   "id": "9de4d0fb",
   "metadata": {},
   "outputs": [
    {
     "name": "stdout",
     "output_type": "stream",
     "text": [
      "Epoch 1/500\n",
      "162/162 [==============================] - 2s 2ms/step - loss: 3.0878 - accuracy: 0.1662 - val_loss: 2.9138 - val_accuracy: 0.2041\n",
      "Epoch 2/500\n",
      "162/162 [==============================] - 0s 1ms/step - loss: 2.6224 - accuracy: 0.2176 - val_loss: 2.3139 - val_accuracy: 0.2776\n",
      "Epoch 3/500\n",
      "162/162 [==============================] - 0s 1ms/step - loss: 2.0083 - accuracy: 0.2999 - val_loss: 1.7574 - val_accuracy: 0.3497\n",
      "Epoch 4/500\n",
      "162/162 [==============================] - 0s 1ms/step - loss: 1.5438 - accuracy: 0.4877 - val_loss: 1.3674 - val_accuracy: 0.5723\n",
      "Epoch 5/500\n",
      "162/162 [==============================] - 0s 1ms/step - loss: 1.2122 - accuracy: 0.6653 - val_loss: 1.0844 - val_accuracy: 0.6692\n",
      "Epoch 6/500\n",
      "162/162 [==============================] - 0s 1ms/step - loss: 0.9805 - accuracy: 0.7480 - val_loss: 0.8834 - val_accuracy: 0.7733\n",
      "Epoch 7/500\n",
      "162/162 [==============================] - 0s 978us/step - loss: 0.8130 - accuracy: 0.7965 - val_loss: 0.7411 - val_accuracy: 0.8053\n",
      "Epoch 8/500\n",
      "162/162 [==============================] - 0s 2ms/step - loss: 0.6921 - accuracy: 0.8249 - val_loss: 0.6383 - val_accuracy: 0.8342\n",
      "Epoch 9/500\n",
      "162/162 [==============================] - 0s 1ms/step - loss: 0.6011 - accuracy: 0.8379 - val_loss: 0.5600 - val_accuracy: 0.8513\n",
      "Epoch 10/500\n",
      "162/162 [==============================] - 0s 1ms/step - loss: 0.5318 - accuracy: 0.8541 - val_loss: 0.4907 - val_accuracy: 0.8702\n",
      "Epoch 11/500\n",
      "162/162 [==============================] - 0s 1ms/step - loss: 0.4739 - accuracy: 0.8614 - val_loss: 0.4349 - val_accuracy: 0.8770\n",
      "Epoch 12/500\n",
      "162/162 [==============================] - 0s 990us/step - loss: 0.4320 - accuracy: 0.8705 - val_loss: 0.4015 - val_accuracy: 0.8945\n",
      "Epoch 13/500\n",
      "162/162 [==============================] - 0s 1ms/step - loss: 0.3980 - accuracy: 0.8804 - val_loss: 0.3722 - val_accuracy: 0.8765\n",
      "Epoch 14/500\n",
      "162/162 [==============================] - 0s 978us/step - loss: 0.3720 - accuracy: 0.8844 - val_loss: 0.3500 - val_accuracy: 0.8986\n",
      "Epoch 15/500\n",
      "162/162 [==============================] - 0s 989us/step - loss: 0.3485 - accuracy: 0.8953 - val_loss: 0.3272 - val_accuracy: 0.9130\n",
      "Epoch 16/500\n",
      "162/162 [==============================] - 0s 997us/step - loss: 0.3268 - accuracy: 0.9038 - val_loss: 0.3081 - val_accuracy: 0.8828\n",
      "Epoch 17/500\n",
      "162/162 [==============================] - 0s 978us/step - loss: 0.3094 - accuracy: 0.9140 - val_loss: 0.2890 - val_accuracy: 0.9279\n",
      "Epoch 18/500\n",
      "162/162 [==============================] - 0s 966us/step - loss: 0.2938 - accuracy: 0.9103 - val_loss: 0.2702 - val_accuracy: 0.9157\n",
      "Epoch 19/500\n",
      "162/162 [==============================] - 0s 1ms/step - loss: 0.2772 - accuracy: 0.9188 - val_loss: 0.2565 - val_accuracy: 0.9085\n",
      "Epoch 20/500\n",
      "162/162 [==============================] - 0s 1ms/step - loss: 0.2646 - accuracy: 0.9271 - val_loss: 0.2474 - val_accuracy: 0.9369\n",
      "Epoch 21/500\n",
      "162/162 [==============================] - 0s 1ms/step - loss: 0.2545 - accuracy: 0.9283 - val_loss: 0.2357 - val_accuracy: 0.9369\n",
      "Epoch 22/500\n",
      "162/162 [==============================] - 0s 993us/step - loss: 0.2412 - accuracy: 0.9300 - val_loss: 0.2381 - val_accuracy: 0.9311\n",
      "Epoch 23/500\n",
      "162/162 [==============================] - 0s 1ms/step - loss: 0.2352 - accuracy: 0.9378 - val_loss: 0.2120 - val_accuracy: 0.9437\n",
      "Epoch 24/500\n",
      "162/162 [==============================] - 0s 966us/step - loss: 0.2196 - accuracy: 0.9455 - val_loss: 0.2024 - val_accuracy: 0.9437\n",
      "Epoch 25/500\n",
      "162/162 [==============================] - 0s 966us/step - loss: 0.2130 - accuracy: 0.9465 - val_loss: 0.1919 - val_accuracy: 0.9491\n",
      "Epoch 26/500\n",
      "162/162 [==============================] - 0s 990us/step - loss: 0.2022 - accuracy: 0.9490 - val_loss: 0.1862 - val_accuracy: 0.9441\n",
      "Epoch 27/500\n",
      "162/162 [==============================] - 0s 1ms/step - loss: 0.1946 - accuracy: 0.9525 - val_loss: 0.1785 - val_accuracy: 0.9464\n",
      "Epoch 28/500\n",
      "162/162 [==============================] - 0s 978us/step - loss: 0.1844 - accuracy: 0.9567 - val_loss: 0.1686 - val_accuracy: 0.9626\n",
      "Epoch 29/500\n",
      "162/162 [==============================] - 0s 992us/step - loss: 0.1770 - accuracy: 0.9585 - val_loss: 0.1664 - val_accuracy: 0.9630\n",
      "Epoch 30/500\n",
      "162/162 [==============================] - 0s 976us/step - loss: 0.1718 - accuracy: 0.9600 - val_loss: 0.1616 - val_accuracy: 0.9549\n",
      "Epoch 31/500\n",
      "162/162 [==============================] - 0s 995us/step - loss: 0.1642 - accuracy: 0.9602 - val_loss: 0.1480 - val_accuracy: 0.9676\n",
      "Epoch 32/500\n",
      "162/162 [==============================] - 0s 984us/step - loss: 0.1544 - accuracy: 0.9671 - val_loss: 0.1461 - val_accuracy: 0.9685\n",
      "Epoch 33/500\n",
      "162/162 [==============================] - 0s 977us/step - loss: 0.1490 - accuracy: 0.9666 - val_loss: 0.1342 - val_accuracy: 0.9685\n",
      "Epoch 34/500\n",
      "162/162 [==============================] - 0s 984us/step - loss: 0.1430 - accuracy: 0.9681 - val_loss: 0.1276 - val_accuracy: 0.9730\n",
      "Epoch 35/500\n",
      "162/162 [==============================] - 0s 962us/step - loss: 0.1373 - accuracy: 0.9708 - val_loss: 0.1300 - val_accuracy: 0.9698\n",
      "Epoch 36/500\n",
      "162/162 [==============================] - 0s 972us/step - loss: 0.1315 - accuracy: 0.9699 - val_loss: 0.1243 - val_accuracy: 0.9730\n",
      "Epoch 37/500\n",
      "162/162 [==============================] - 0s 978us/step - loss: 0.1274 - accuracy: 0.9699 - val_loss: 0.1257 - val_accuracy: 0.9648\n",
      "Epoch 38/500\n",
      "162/162 [==============================] - 0s 984us/step - loss: 0.1206 - accuracy: 0.9737 - val_loss: 0.1087 - val_accuracy: 0.9784\n",
      "Epoch 39/500\n",
      "162/162 [==============================] - 0s 992us/step - loss: 0.1188 - accuracy: 0.9737 - val_loss: 0.1159 - val_accuracy: 0.9730\n",
      "Epoch 40/500\n",
      "162/162 [==============================] - 0s 1ms/step - loss: 0.1145 - accuracy: 0.9772 - val_loss: 0.1048 - val_accuracy: 0.9766\n",
      "Epoch 41/500\n",
      "162/162 [==============================] - 0s 1ms/step - loss: 0.1090 - accuracy: 0.9770 - val_loss: 0.1004 - val_accuracy: 0.9770\n",
      "Epoch 42/500\n",
      "162/162 [==============================] - 0s 1ms/step - loss: 0.1046 - accuracy: 0.9782 - val_loss: 0.1010 - val_accuracy: 0.9802\n",
      "Epoch 43/500\n",
      "162/162 [==============================] - 0s 1ms/step - loss: 0.1010 - accuracy: 0.9776 - val_loss: 0.0956 - val_accuracy: 0.9793\n",
      "Epoch 44/500\n",
      "162/162 [==============================] - 0s 1ms/step - loss: 0.0976 - accuracy: 0.9791 - val_loss: 0.0881 - val_accuracy: 0.9784\n",
      "Epoch 45/500\n",
      "162/162 [==============================] - 0s 1ms/step - loss: 0.0973 - accuracy: 0.9776 - val_loss: 0.0856 - val_accuracy: 0.9842\n",
      "Epoch 46/500\n",
      "162/162 [==============================] - 0s 1ms/step - loss: 0.0903 - accuracy: 0.9818 - val_loss: 0.0818 - val_accuracy: 0.9847\n",
      "Epoch 47/500\n",
      "162/162 [==============================] - 0s 1ms/step - loss: 0.0867 - accuracy: 0.9818 - val_loss: 0.0787 - val_accuracy: 0.9878\n",
      "Epoch 48/500\n",
      "162/162 [==============================] - 0s 1ms/step - loss: 0.0849 - accuracy: 0.9836 - val_loss: 0.0755 - val_accuracy: 0.9847\n",
      "Epoch 49/500\n",
      "162/162 [==============================] - 0s 1ms/step - loss: 0.0819 - accuracy: 0.9834 - val_loss: 0.0746 - val_accuracy: 0.9851\n",
      "Epoch 50/500\n",
      "162/162 [==============================] - 0s 1ms/step - loss: 0.0777 - accuracy: 0.9855 - val_loss: 0.0685 - val_accuracy: 0.9896\n",
      "Epoch 51/500\n",
      "162/162 [==============================] - 0s 1ms/step - loss: 0.0755 - accuracy: 0.9853 - val_loss: 0.0661 - val_accuracy: 0.9878\n",
      "Epoch 52/500\n",
      "162/162 [==============================] - 0s 989us/step - loss: 0.0731 - accuracy: 0.9853 - val_loss: 0.0652 - val_accuracy: 0.9892\n",
      "Epoch 53/500\n",
      "162/162 [==============================] - 0s 1ms/step - loss: 0.0700 - accuracy: 0.9872 - val_loss: 0.0675 - val_accuracy: 0.9860\n",
      "Epoch 54/500\n",
      "162/162 [==============================] - 0s 1ms/step - loss: 0.0678 - accuracy: 0.9878 - val_loss: 0.0623 - val_accuracy: 0.9887\n",
      "Epoch 55/500\n",
      "162/162 [==============================] - 0s 1ms/step - loss: 0.0639 - accuracy: 0.9890 - val_loss: 0.0729 - val_accuracy: 0.9824\n",
      "Epoch 56/500\n",
      "162/162 [==============================] - 0s 1ms/step - loss: 0.0634 - accuracy: 0.9869 - val_loss: 0.0524 - val_accuracy: 0.9910\n",
      "Epoch 57/500\n",
      "162/162 [==============================] - 0s 1ms/step - loss: 0.0599 - accuracy: 0.9894 - val_loss: 0.0534 - val_accuracy: 0.9914\n",
      "Epoch 58/500\n",
      "162/162 [==============================] - 0s 1ms/step - loss: 0.0579 - accuracy: 0.9890 - val_loss: 0.0526 - val_accuracy: 0.9914\n",
      "Epoch 59/500\n",
      "162/162 [==============================] - 0s 1ms/step - loss: 0.0548 - accuracy: 0.9911 - val_loss: 0.0507 - val_accuracy: 0.9919\n",
      "Epoch 60/500\n",
      "162/162 [==============================] - 0s 1ms/step - loss: 0.0535 - accuracy: 0.9909 - val_loss: 0.0471 - val_accuracy: 0.9905\n",
      "Epoch 61/500\n",
      "162/162 [==============================] - 0s 1ms/step - loss: 0.0516 - accuracy: 0.9905 - val_loss: 0.0528 - val_accuracy: 0.9883\n",
      "Epoch 62/500\n",
      "162/162 [==============================] - 0s 1ms/step - loss: 0.0505 - accuracy: 0.9911 - val_loss: 0.0483 - val_accuracy: 0.9896\n",
      "Epoch 63/500\n",
      "162/162 [==============================] - 0s 1ms/step - loss: 0.0489 - accuracy: 0.9915 - val_loss: 0.0536 - val_accuracy: 0.9878\n"
     ]
    }
   ],
   "source": [
    "early_stopping = keras.callbacks.EarlyStopping(patience=3, monitor='val_loss')\n",
    "history = model.fit(X_train, y_train, validation_data=(X_test, y_test), epochs=500, callbacks=[early_stopping])"
   ]
  },
  {
   "cell_type": "code",
   "execution_count": 17,
   "id": "9305d142",
   "metadata": {},
   "outputs": [
    {
     "name": "stdout",
     "output_type": "stream",
     "text": [
      "70/70 [==============================] - 0s 520us/step - loss: 0.0536 - accuracy: 0.9878\n",
      "Test loss: 0.05362936854362488\n",
      "Test accuracy: 0.9878323674201965\n"
     ]
    }
   ],
   "source": [
    "## evaluate the model on the test set\n",
    "loss, accuracy = model.evaluate(X_test, y_test)\n",
    "print('Test loss:', loss)\n",
    "print('Test accuracy:', accuracy)"
   ]
  },
  {
   "cell_type": "code",
   "execution_count": 18,
   "id": "9e0e85b5",
   "metadata": {},
   "outputs": [
    {
     "data": {
      "image/png": "[encoded data removed]",
      "text/plain": [
       "<Figure size 640x480 with 1 Axes>"
      ]
     },
     "metadata": {},
     "output_type": "display_data"
    },
    {
     "data": {
      "image/png": "[encoded data removed]",
      "text/plain": [
       "<Figure size 640x480 with 1 Axes>"
      ]
     },
     "metadata": {},
     "output_type": "display_data"
    }
   ],
   "source": [
    "# Plot the loss curve\n",
    "plt.plot(history.history['loss'], 'r', label='Training loss')\n",
    "plt.plot(history.history['val_loss'], 'b', label='Validation loss' )\n",
    "plt.title('Loss Curve')\n",
    "plt.xlabel('Number of training Epochs')\n",
    "plt.ylabel('Loss (m)')\n",
    "plt.legend()\n",
    "plt.show()\n",
    "\n",
    "# Plot the accuracy curve\n",
    "plt.plot(history.history['accuracy'], 'r', label='Training accuracy')\n",
    "plt.plot(history.history['val_accuracy'], 'b', label='Validation accuracy')\n",
    "plt.title('Accuracy Curve')\n",
    "plt.xlabel('Number of training Epochs')\n",
    "plt.ylabel('Accuracy')\n",
    "plt.legend()\n",
    "plt.show()"
   ]
  },
  {
   "cell_type": "code",
   "execution_count": 19,
   "id": "447c957f",
   "metadata": {},
   "outputs": [
    {
     "name": "stdout",
     "output_type": "stream",
     "text": [
      "70/70 [==============================] - 0s 477us/step\n"
     ]
    }
   ],
   "source": [
    "y_pred = model.predict(X_test)"
   ]
  },
  {
   "cell_type": "code",
   "execution_count": 20,
   "id": "4a15bbad",
   "metadata": {},
   "outputs": [
    {
     "data": {
      "text/plain": [
       "array([[2.7941696e-02, 9.7204506e-01, 1.5161682e-07, ..., 2.4854197e-27,\n",
       "        4.3444691e-31, 8.3384811e-31],\n",
       "       [1.7862930e-03, 9.9818307e-01, 2.0797668e-06, ..., 8.1883531e-28,\n",
       "        1.1125638e-31, 2.1968795e-30],\n",
       "       [4.1439350e-09, 1.1777637e-02, 1.0115342e-02, ..., 9.0244186e-23,\n",
       "        2.7733001e-28, 4.3359733e-26],\n",
       "       ...,\n",
       "       [7.3694506e-36, 0.0000000e+00, 1.4024704e-30, ..., 3.8996584e-26,\n",
       "        9.7975451e-31, 9.9965036e-01],\n",
       "       [4.5648447e-21, 4.6987828e-29, 5.5244459e-31, ..., 2.2280918e-07,\n",
       "        4.9246763e-14, 3.0150413e-19],\n",
       "       [6.3127683e-33, 1.6199569e-38, 0.0000000e+00, ..., 1.6206875e-29,\n",
       "        7.2233301e-35, 0.0000000e+00]], dtype=float32)"
      ]
     },
     "execution_count": 20,
     "metadata": {},
     "output_type": "execute_result"
    }
   ],
   "source": [
    "y_pred"
   ]
  },
  {
   "cell_type": "code",
   "execution_count": 21,
   "id": "3c1480b4",
   "metadata": {},
   "outputs": [
    {
     "data": {
      "text/plain": [
       "(2219, 25)"
      ]
     },
     "execution_count": 21,
     "metadata": {},
     "output_type": "execute_result"
    }
   ],
   "source": [
    "y_pred.shape"
   ]
  },
  {
   "cell_type": "code",
   "execution_count": 22,
   "id": "201c8d5d",
   "metadata": {},
   "outputs": [
    {
     "name": "stdout",
     "output_type": "stream",
     "text": [
      "[ 1  1  3 ... 24 17 12]\n"
     ]
    }
   ],
   "source": [
    "# Decode the one-hot encoded data\n",
    "#y_pred= one_hot_encoder.inverse_transform(y_pred)\n",
    "y_pred= np.argmax(y_pred, axis=1)\n",
    "# Convert the decoded output data to a NumPy array format\n",
    "y_pred = np.array(y_pred)\n",
    "\n",
    "# Print the decoded output data\n",
    "print(y_pred)"
   ]
  },
  {
   "cell_type": "code",
   "execution_count": 23,
   "id": "5844e0f8",
   "metadata": {},
   "outputs": [
    {
     "data": {
      "text/plain": [
       "array([ 1,  1,  3, ..., 24, 17, 12], dtype=int64)"
      ]
     },
     "execution_count": 23,
     "metadata": {},
     "output_type": "execute_result"
    }
   ],
   "source": [
    "y_pred=y_pred.flatten()\n",
    "y_pred"
   ]
  },
  {
   "cell_type": "code",
   "execution_count": 24,
   "id": "ae597927",
   "metadata": {},
   "outputs": [
    {
     "data": {
      "text/plain": [
       "array([[0., 1., 0., ..., 0., 0., 0.],\n",
       "       [0., 1., 0., ..., 0., 0., 0.],\n",
       "       [0., 0., 0., ..., 0., 0., 0.],\n",
       "       ...,\n",
       "       [0., 0., 0., ..., 0., 0., 1.],\n",
       "       [0., 0., 0., ..., 0., 0., 0.],\n",
       "       [0., 0., 0., ..., 0., 0., 0.]])"
      ]
     },
     "execution_count": 24,
     "metadata": {},
     "output_type": "execute_result"
    }
   ],
   "source": [
    "y_test"
   ]
  },
  {
   "cell_type": "code",
   "execution_count": 25,
   "id": "2edb1d4f",
   "metadata": {},
   "outputs": [
    {
     "name": "stdout",
     "output_type": "stream",
     "text": [
      "[ 1  1  3 ... 24 17 12]\n"
     ]
    }
   ],
   "source": [
    "# Decode the one-hot encoded data\n",
    "#y_test= one_hot_encoder.inverse_transform(y_test)\n",
    "y_test=np.argmax(y_test, axis=1)\n",
    "# Convert the decoded output data to a NumPy array format\n",
    "y_test = np.array(y_test)\n",
    "\n",
    "# Print the decoded output data\n",
    "print(y_test)"
   ]
  },
  {
   "cell_type": "code",
   "execution_count": 26,
   "id": "dfef252b",
   "metadata": {},
   "outputs": [
    {
     "data": {
      "text/plain": [
       "array([ 1,  1,  3, ..., 24, 17, 12], dtype=int64)"
      ]
     },
     "execution_count": 26,
     "metadata": {},
     "output_type": "execute_result"
    }
   ],
   "source": [
    "y_test = y_test.flatten()\n",
    "y_test"
   ]
  },
  {
   "cell_type": "code",
   "execution_count": 28,
   "id": "f13bdb19",
   "metadata": {},
   "outputs": [
    {
     "name": "stdout",
     "output_type": "stream",
     "text": [
      "Collecting seaborn\n",
      "  Downloading seaborn-0.12.2-py3-none-any.whl (293 kB)\n",
      "     ---------------------------------------- 0.0/293.3 kB ? eta -:--:--\n",
      "     -------------------------------------  286.7/293.3 kB 8.9 MB/s eta 0:00:01\n",
      "     -------------------------------------- 293.3/293.3 kB 6.0 MB/s eta 0:00:00\n",
      "Requirement already satisfied: matplotlib!=3.6.1,>=3.1 in c:\\users\\lila\\appdata\\local\\programs\\python\\python310\\lib\\site-packages (from seaborn) (3.7.1)\n",
      "Requirement already satisfied: pandas>=0.25 in c:\\users\\lila\\appdata\\local\\programs\\python\\python310\\lib\\site-packages (from seaborn) (1.5.3)\n",
      "Requirement already satisfied: numpy!=1.24.0,>=1.17 in c:\\users\\lila\\appdata\\local\\programs\\python\\python310\\lib\\site-packages (from seaborn) (1.24.2)\n",
      "Requirement already satisfied: pillow>=6.2.0 in c:\\users\\lila\\appdata\\local\\programs\\python\\python310\\lib\\site-packages (from matplotlib!=3.6.1,>=3.1->seaborn) (9.4.0)\n",
      "Requirement already satisfied: pyparsing>=2.3.1 in c:\\users\\lila\\appdata\\local\\programs\\python\\python310\\lib\\site-packages (from matplotlib!=3.6.1,>=3.1->seaborn) (3.0.9)\n",
      "Requirement already satisfied: contourpy>=1.0.1 in c:\\users\\lila\\appdata\\local\\programs\\python\\python310\\lib\\site-packages (from matplotlib!=3.6.1,>=3.1->seaborn) (1.0.7)\n",
      "Requirement already satisfied: kiwisolver>=1.0.1 in c:\\users\\lila\\appdata\\local\\programs\\python\\python310\\lib\\site-packages (from matplotlib!=3.6.1,>=3.1->seaborn) (1.4.4)\n",
      "Requirement already satisfied: fonttools>=4.22.0 in c:\\users\\lila\\appdata\\local\\programs\\python\\python310\\lib\\site-packages (from matplotlib!=3.6.1,>=3.1->seaborn) (4.39.0)\n",
      "Requirement already satisfied: cycler>=0.10 in c:\\users\\lila\\appdata\\local\\programs\\python\\python310\\lib\\site-packages (from matplotlib!=3.6.1,>=3.1->seaborn) (0.11.0)\n",
      "Requirement already satisfied: python-dateutil>=2.7 in c:\\users\\lila\\appdata\\local\\programs\\python\\python310\\lib\\site-packages (from matplotlib!=3.6.1,>=3.1->seaborn) (2.8.2)\n",
      "Requirement already satisfied: packaging>=20.0 in c:\\users\\lila\\appdata\\local\\programs\\python\\python310\\lib\\site-packages (from matplotlib!=3.6.1,>=3.1->seaborn) (23.0)\n",
      "Requirement already satisfied: pytz>=2020.1 in c:\\users\\lila\\appdata\\local\\programs\\python\\python310\\lib\\site-packages (from pandas>=0.25->seaborn) (2022.7.1)\n",
      "Requirement already satisfied: six>=1.5 in c:\\users\\lila\\appdata\\local\\programs\\python\\python310\\lib\\site-packages (from python-dateutil>=2.7->matplotlib!=3.6.1,>=3.1->seaborn) (1.16.0)\n",
      "Installing collected packages: seaborn\n",
      "Successfully installed seaborn-0.12.2\n",
      "Note: you may need to restart the kernel to use updated packages.\n"
     ]
    }
   ],
   "source": [
    "pip install seaborn"
   ]
  },
  {
   "cell_type": "markdown",
   "id": "c2ffd617",
   "metadata": {},
   "source": [
    "**6. Confusion Matrix and Classification Report**"
   ]
  },
  {
   "cell_type": "code",
   "execution_count": 29,
   "id": "c7a24aa2",
   "metadata": {},
   "outputs": [
    {
     "data": {
      "image/png": "[encoded data removed]",
      "text/plain": [
       "<Figure size 1200x800 with 2 Axes>"
      ]
     },
     "metadata": {},
     "output_type": "display_data"
    },
    {
     "name": "stdout",
     "output_type": "stream",
     "text": [
      "Accuracy of Model with Calibrated data:  0.9878323569175305\n"
     ]
    }
   ],
   "source": [
    "from sklearn.metrics import confusion_matrix, accuracy_score, mean_squared_error, classification_report\n",
    "import seaborn as sns\n",
    "\n",
    "# Calculate the confusion matrix\n",
    "conf_mat = confusion_matrix(y_test, y_pred)\n",
    "array=np.array(conf_mat)\n",
    "df_cm = pd.DataFrame(array, index = [str(i)+\"m\" for i in range(1,26)],\n",
    "                  columns = [str(i)+\"m\" for i in range(1,26)])\n",
    "\n",
    "plt.figure(figsize = (12,8))\n",
    "\n",
    "# import seaborn as sns\n",
    "# sns.heatmap(df_cm, annot=True)\n",
    "\n",
    "a=sns.heatmap(df_cm, annot=True, fmt='d')\n",
    "a.set_xlabel('Predicted distance label in m', fontsize=15)\n",
    "a.set_ylabel('Trude distance label in m', fontsize=15)\n",
    "plt.title('Confusion Matrix', fontsize=16)\n",
    "plt.show()\n",
    "accuracy = accuracy_score(y_test, y_pred)\n",
    "print('Accuracy of Model with Calibrated data: ', accuracy)"
   ]
  },
  {
   "cell_type": "code",
   "execution_count": 30,
   "id": "68999199",
   "metadata": {},
   "outputs": [
    {
     "name": "stdout",
     "output_type": "stream",
     "text": [
      "              precision    recall  f1-score   support\n",
      "\n",
      "          1m       0.98      1.00      0.99        87\n",
      "          2m       1.00      0.98      0.99        81\n",
      "          3m       1.00      1.00      1.00        95\n",
      "          4m       0.96      1.00      0.98        78\n",
      "          5m       1.00      0.97      0.98        90\n",
      "          6m       1.00      1.00      1.00        94\n",
      "          7m       0.98      1.00      0.99        83\n",
      "          8m       1.00      0.98      0.99        88\n",
      "          9m       1.00      1.00      1.00        90\n",
      "         10m       1.00      0.99      1.00       103\n",
      "         11m       0.99      1.00      1.00       101\n",
      "         12m       1.00      1.00      1.00        79\n",
      "         13m       1.00      1.00      1.00        88\n",
      "         14m       1.00      0.99      0.99        96\n",
      "         15m       0.99      1.00      0.99        94\n",
      "         16m       1.00      1.00      1.00        81\n",
      "         17m       0.99      1.00      0.99        91\n",
      "         18m       1.00      0.99      0.99        89\n",
      "         19m       1.00      0.99      0.99        89\n",
      "         20m       1.00      0.91      0.95        86\n",
      "         21m       0.89      0.99      0.94        76\n",
      "         22m       0.99      1.00      0.99        96\n",
      "         23m       0.99      0.94      0.96        96\n",
      "         24m       0.93      0.99      0.96        83\n",
      "         25m       1.00      1.00      1.00        85\n",
      "\n",
      "    accuracy                           0.99      2219\n",
      "   macro avg       0.99      0.99      0.99      2219\n",
      "weighted avg       0.99      0.99      0.99      2219\n",
      "\n"
     ]
    }
   ],
   "source": [
    "# Create a custom label for each class\n",
    "labels = [f\"{i + 1}m\" for i in range(25)]\n",
    "\n",
    "# Generate the classification report\n",
    "print(classification_report(y_test, y_pred, target_names=labels))\n"
   ]
  },
  {
   "cell_type": "code",
   "execution_count": 31,
   "id": "3817bd00",
   "metadata": {},
   "outputs": [],
   "source": [
    "model.save('model.h5')"
   ]
  },
  {
   "cell_type": "code",
   "execution_count": 32,
   "id": "111d8a60",
   "metadata": {},
   "outputs": [],
   "source": [
    "from tensorflow.keras.models import load_model\n",
    "\n",
    "trained_model = load_model('model.h5')"
   ]
  },
  {
   "cell_type": "markdown",
   "id": "6b322222",
   "metadata": {},
   "source": [
    "Precision: number of true positives divided by the number of true positives and false positives\n",
    "\n",
    "Recall: number of true positives divided by the number of true positives and false negatives\n",
    "\n",
    "F1-score: the harmonic mean of precision and recall\n",
    "\n",
    "Support: number of samples in the corresponding class.\n",
    "\n"
   ]
  }
 ],
 "metadata": {
  "kernelspec": {
   "display_name": "Python 3 (ipykernel)",
   "language": "python",
   "name": "python3"
  },
  "language_info": {
   "codemirror_mode": {
    "name": "ipython",
    "version": 3
   },
   "file_extension": ".py",
   "mimetype": "text/x-python",
   "name": "python",
   "nbconvert_exporter": "python",
   "pygments_lexer": "ipython3",
   "version": "3.10.10"
  }
 },
 "nbformat": 4,
 "nbformat_minor": 5
}
