{
 "cells": [
  {
   "cell_type": "markdown",
   "id": "95cf24a2",
   "metadata": {},
   "source": [
    "**1. Importing Necessary libraries and  Made a class of Kalman Filter**"
   ]
  },
  {
   "cell_type": "code",
   "execution_count": null,
   "id": "63a7d223",
   "metadata": {},
   "outputs": [],
   "source": [
    "import csv\n",
    "import math\n",
    "import pandas as pd\n",
    "from numpy import genfromtxt\n",
    "import numpy as np\n",
    "import matplotlib.pyplot as plt\n",
    "import math\n",
    "\n",
    "class KalmanFilter:\n",
    "\n",
    "    cov = float('nan')\n",
    "    x = float('nan')\n",
    "\n",
    "    def __init__(self, R, Q):\n",
    "        \"\"\"\n",
    "        Constructor\n",
    "        :param R: Process Noise\n",
    "        :param Q: Measurement Noise\n",
    "        \"\"\"\n",
    "        self.A = 1\n",
    "        self.B = 0\n",
    "        self.C = 1\n",
    "\n",
    "        self.R = R\n",
    "        self.Q = Q\n",
    "\n",
    "    def filter(self, measurement):\n",
    "        \"\"\"\n",
    "        Filters a measurement\n",
    "        :param measurement: The measurement value to be filtered\n",
    "        :return: The filtered value\n",
    "        \"\"\"\n",
    "        u = 0\n",
    "        if math.isnan(self.x):\n",
    "            self.x = (1 / self.C) * measurement\n",
    "            self.cov = (1 / self.C) * self.Q * (1 / self.C)\n",
    "        else:\n",
    "            predX = (self.A * self.x) + (self.B * u)\n",
    "            predCov = ((self.A * self.cov) * self.A) + self.R\n",
    "\n",
    "            # Kalman Gain\n",
    "            K = predCov * self.C * (1 / ((self.C * predCov * self.C) + self.Q));\n",
    "\n",
    "            # Correction\n",
    "            self.x = predX + K * (measurement - (self.C * predX));\n",
    "            self.cov = predCov - (K * self.C * predCov);\n",
    "\n",
    "        return self.x\n",
    "\n",
    "    def last_measurement(self):\n",
    "        \"\"\"\n",
    "        Returns the last measurement fed into the filter\n",
    "        :return: The last measurement fed into the filter\n",
    "        \"\"\"\n",
    "        return self.x\n",
    "\n",
    "    def set_measurement_noise(self, noise):\n",
    "        \"\"\"\n",
    "        Sets measurement noise\n",
    "        :param noise: The new measurement noise\n",
    "        \"\"\"\n",
    "        self.Q = noise\n",
    "\n",
    "    def set_process_noise(self, noise):\n",
    "        \"\"\"\n",
    "        Sets process noise\n",
    "        :param noise: The new process noise\n",
    "        \"\"\"\n",
    "        self.R = noise\n"
   ]
  },
  {
   "cell_type": "markdown",
   "id": "09f055ba",
   "metadata": {},
   "source": [
    "**2. Combining datasets and preprocessing**"
   ]
  },
  {
   "cell_type": "markdown",
   "id": "07c0a8eb",
   "metadata": {},
   "source": [
    "The os.listdir() function is used to list all the files in the data_folder. The if file_name.endswith('.csv') condition ensures that only CSV files are processed. The os.path.join() function is used to construct the full file path to each CSV file, and the pd.read_csv() function is used to read the CSV file into a DataFrame"
   ]
  },
  {
   "cell_type": "code",
   "execution_count": 91,
   "id": "97b5fb0e",
   "metadata": {},
   "outputs": [],
   "source": [
    "import os\n",
    "\n",
    "actual_dist=1 #varies with 1m to 25 m\n",
    "\n",
    "# Set the path to the folder containing the dataset\n",
    "data_folder = 'C:/Users/LILA/RTT-RSS with Kalman/raw_dataset'\n",
    "\n",
    "# Loop through each CSV file in the folder and read it into a DataFrame\n",
    "for file_name in os.listdir(data_folder):\n",
    "    if file_name.endswith(str(actual_dist)+'m.csv'):\n",
    "        file_path = os.path.join(data_folder, file_name)\n",
    "        df = pd.read_csv(file_path)\n",
    "df.drop(['#<Time(ms)>','<Ch-MHz>','<Burst#>','<AP-SSID>','<RTT AP?>','<Successes#>'],axis=1,inplace=True)\n",
    "df.rename(columns={'<True Range(m)>': 'True_Range', '<Est. Range(m)>': 'Est_Range','<RSSI(dBm)>': 'RSSI','<Std dev(m)>': 'stdev','<Successes#>': 'successes'}, inplace=True)\n",
    "Est=df.Est_Range\n",
    "R_RTT=Est.var()\n",
    "data1_RTT=Est.to_list()"
   ]
  },
  {
   "cell_type": "code",
   "execution_count": 92,
   "id": "963f609d",
   "metadata": {},
   "outputs": [
    {
     "data": {
      "text/plain": [
       "(299,)"
      ]
     },
     "execution_count": 92,
     "metadata": {},
     "output_type": "execute_result"
    }
   ],
   "source": [
    "test = KalmanFilter(0.09,R_RTT)\n",
    "testData =data1_RTT\n",
    "data=[] # for storing all data\n",
    "for x in testData:\n",
    "    #data2= test.filter(x)\n",
    "    #print (\"Filtered Data:\",data2)\n",
    "    data.append(test.filter(x)) \n",
    "output=list(map(float,data))    #making it in the list\n",
    "output_RTT=np.array(output)\n",
    "#print(output)\n",
    "#print(data)\n",
    "output_RTT.shape"
   ]
  },
  {
   "cell_type": "code",
   "execution_count": 93,
   "id": "e3689a2e",
   "metadata": {},
   "outputs": [],
   "source": [
    "RSSI=df.RSSI\n",
    "R_RSSI=RSSI.var()\n",
    "data1_RSS=RSSI.to_list()\n",
    "#data2=np.array(data1) #converting list to array\n",
    "#data2"
   ]
  },
  {
   "cell_type": "code",
   "execution_count": 94,
   "id": "be7cbed6",
   "metadata": {},
   "outputs": [
    {
     "data": {
      "text/plain": [
       "(299,)"
      ]
     },
     "execution_count": 94,
     "metadata": {},
     "output_type": "execute_result"
    }
   ],
   "source": [
    "test = KalmanFilter(0.09,R_RSSI)\n",
    "testData =data1_RSS\n",
    "data=[] # for storing all data\n",
    "for x in testData:\n",
    "    data2= test.filter(x)\n",
    "    #print (\"Filtered Data:\",data2)\n",
    "    data.append(test.filter(x)) \n",
    "output=list(map(float,data))    #making it in the list\n",
    "output_RSS=np.array(output)\n",
    "#print(output_RSS)\n",
    "output_RSS.shape"
   ]
  },
  {
   "cell_type": "code",
   "execution_count": 95,
   "id": "dee533b7",
   "metadata": {},
   "outputs": [
    {
     "name": "stdout",
     "output_type": "stream",
     "text": [
      "File saved to Kalman_1m.csv!\n"
     ]
    }
   ],
   "source": [
    "# Define the column names for the DataFrame\n",
    "columns = ['RTT', 'RSS']\n",
    "\n",
    "# Create the DataFrame from the two separate lists\n",
    "df_final = pd.DataFrame({'RTT': output_RTT, 'RSS': output_RSS})\n",
    "\n",
    "# Specify the file name and path where you want to save the file\n",
    "file_path = 'Kalman_'+str(actual_dist)+'m.csv'\n",
    "\n",
    "# Save the DataFrame to a CSV file using the to_csv() method\n",
    "df_final.to_csv(file_path, index=False)\n",
    "\n",
    "print(f'File saved to {file_path}!')\n"
   ]
  },
  {
   "cell_type": "code",
   "execution_count": null,
   "id": "4fb2a496",
   "metadata": {},
   "outputs": [],
   "source": []
  },
  {
   "cell_type": "code",
   "execution_count": null,
   "id": "fc7c2292",
   "metadata": {},
   "outputs": [],
   "source": []
  },
  {
   "cell_type": "code",
   "execution_count": null,
   "id": "8a73c542",
   "metadata": {},
   "outputs": [],
   "source": []
  }
 ],
 "metadata": {
  "kernelspec": {
   "display_name": "Python 3 (ipykernel)",
   "language": "python",
   "name": "python3"
  },
  "language_info": {
   "codemirror_mode": {
    "name": "ipython",
    "version": 3
   },
   "file_extension": ".py",
   "mimetype": "text/x-python",
   "name": "python",
   "nbconvert_exporter": "python",
   "pygments_lexer": "ipython3",
   "version": "3.9.13"
  }
 },
 "nbformat": 4,
 "nbformat_minor": 5
}
