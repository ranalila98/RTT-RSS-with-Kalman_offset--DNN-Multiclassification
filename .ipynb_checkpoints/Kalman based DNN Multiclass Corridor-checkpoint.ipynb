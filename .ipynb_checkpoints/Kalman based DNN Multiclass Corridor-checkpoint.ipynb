{
 "cells": [
  {
   "cell_type": "markdown",
   "id": "9b1e72fc",
   "metadata": {},
   "source": [
    "**1. Importing Necessary libraries**"
   ]
  },
  {
   "cell_type": "code",
   "execution_count": 847,
   "id": "6721f396",
   "metadata": {},
   "outputs": [],
   "source": [
    "import pandas as pd\n",
    "import os\n",
    "import glob\n",
    "import numpy as np\n",
    "import math\n",
    "import matplotlib.pyplot as plt\n",
    "from matplotlib.pyplot import figure"
   ]
  },
  {
   "cell_type": "code",
   "execution_count": 848,
   "id": "82ad020b",
   "metadata": {},
   "outputs": [
    {
     "data": {
      "text/html": [
       "<div>\n",
       "<style scoped>\n",
       "    .dataframe tbody tr th:only-of-type {\n",
       "        vertical-align: middle;\n",
       "    }\n",
       "\n",
       "    .dataframe tbody tr th {\n",
       "        vertical-align: top;\n",
       "    }\n",
       "\n",
       "    .dataframe thead th {\n",
       "        text-align: right;\n",
       "    }\n",
       "</style>\n",
       "<table border=\"1\" class=\"dataframe\">\n",
       "  <thead>\n",
       "    <tr style=\"text-align: right;\">\n",
       "      <th></th>\n",
       "      <th>RTT</th>\n",
       "      <th>RSS</th>\n",
       "      <th>TRUE</th>\n",
       "    </tr>\n",
       "  </thead>\n",
       "  <tbody>\n",
       "    <tr>\n",
       "      <th>0</th>\n",
       "      <td>10.178000</td>\n",
       "      <td>-72.000000</td>\n",
       "      <td>10</td>\n",
       "    </tr>\n",
       "    <tr>\n",
       "      <th>1</th>\n",
       "      <td>10.360263</td>\n",
       "      <td>-69.452356</td>\n",
       "      <td>10</td>\n",
       "    </tr>\n",
       "    <tr>\n",
       "      <th>2</th>\n",
       "      <td>10.636054</td>\n",
       "      <td>-70.354644</td>\n",
       "      <td>10</td>\n",
       "    </tr>\n",
       "    <tr>\n",
       "      <th>3</th>\n",
       "      <td>10.570638</td>\n",
       "      <td>-70.536722</td>\n",
       "      <td>10</td>\n",
       "    </tr>\n",
       "    <tr>\n",
       "      <th>4</th>\n",
       "      <td>10.617671</td>\n",
       "      <td>-69.677324</td>\n",
       "      <td>10</td>\n",
       "    </tr>\n",
       "    <tr>\n",
       "      <th>...</th>\n",
       "      <td>...</td>\n",
       "      <td>...</td>\n",
       "      <td>...</td>\n",
       "    </tr>\n",
       "    <tr>\n",
       "      <th>294</th>\n",
       "      <td>8.656509</td>\n",
       "      <td>-61.145544</td>\n",
       "      <td>9</td>\n",
       "    </tr>\n",
       "    <tr>\n",
       "      <th>295</th>\n",
       "      <td>8.582618</td>\n",
       "      <td>-60.891032</td>\n",
       "      <td>9</td>\n",
       "    </tr>\n",
       "    <tr>\n",
       "      <th>296</th>\n",
       "      <td>8.481225</td>\n",
       "      <td>-60.693066</td>\n",
       "      <td>9</td>\n",
       "    </tr>\n",
       "    <tr>\n",
       "      <th>297</th>\n",
       "      <td>8.589575</td>\n",
       "      <td>-60.539083</td>\n",
       "      <td>9</td>\n",
       "    </tr>\n",
       "    <tr>\n",
       "      <th>298</th>\n",
       "      <td>8.679001</td>\n",
       "      <td>-60.641488</td>\n",
       "      <td>9</td>\n",
       "    </tr>\n",
       "  </tbody>\n",
       "</table>\n",
       "<p>7475 rows × 3 columns</p>\n",
       "</div>"
      ],
      "text/plain": [
       "           RTT        RSS  TRUE\n",
       "0    10.178000 -72.000000    10\n",
       "1    10.360263 -69.452356    10\n",
       "2    10.636054 -70.354644    10\n",
       "3    10.570638 -70.536722    10\n",
       "4    10.617671 -69.677324    10\n",
       "..         ...        ...   ...\n",
       "294   8.656509 -61.145544     9\n",
       "295   8.582618 -60.891032     9\n",
       "296   8.481225 -60.693066     9\n",
       "297   8.589575 -60.539083     9\n",
       "298   8.679001 -60.641488     9\n",
       "\n",
       "[7475 rows x 3 columns]"
      ]
     },
     "execution_count": 848,
     "metadata": {},
     "output_type": "execute_result"
    }
   ],
   "source": [
    "#combining no of csv file into one file with name combine_csv\n",
    "os.chdir('C:/Users/LILA/RTT-RSS with Kalman/Kalman_dataset')\n",
    "extension='csv'\n",
    "\n",
    "all_filenames=[i for i in glob.glob('*.{}'.format(extension))]\n",
    "\n",
    "combined_csv=pd.concat([pd.read_csv(f) for f in all_filenames])\n",
    "df=combined_csv\n",
    "df"
   ]
  },
  {
   "cell_type": "markdown",
   "id": "0f8d5c93",
   "metadata": {},
   "source": [
    "**2. Extracting input and output data from Dataframe**"
   ]
  },
  {
   "cell_type": "code",
   "execution_count": 850,
   "id": "7ee52a9d",
   "metadata": {},
   "outputs": [
    {
     "data": {
      "text/plain": [
       "(7475,)"
      ]
     },
     "execution_count": 850,
     "metadata": {},
     "output_type": "execute_result"
    }
   ],
   "source": [
    "input_data = df.iloc[:, :2]\n",
    "output_data = df['TRUE'].values\n",
    "output_data = np.array(output_data)\n",
    "output_data.shape"
   ]
  },
  {
   "cell_type": "code",
   "execution_count": 851,
   "id": "e5df4cb5",
   "metadata": {},
   "outputs": [],
   "source": [
    "input_data = input_data.values #conversting dataframe format to array format\n",
    "#input_data = input_data.reshape(-1,1)\n",
    "X=input_data"
   ]
  },
  {
   "cell_type": "code",
   "execution_count": 852,
   "id": "37432f87",
   "metadata": {},
   "outputs": [
    {
     "data": {
      "text/plain": [
       "array([10, 10, 10, ...,  9,  9,  9], dtype=int64)"
      ]
     },
     "execution_count": 852,
     "metadata": {},
     "output_type": "execute_result"
    }
   ],
   "source": [
    "output_data"
   ]
  },
  {
   "cell_type": "markdown",
   "id": "05f022f6",
   "metadata": {},
   "source": [
    "**3. Creating Multiple class using Onehot Encoder of output**"
   ]
  },
  {
   "cell_type": "code",
   "execution_count": 853,
   "id": "534b1e19",
   "metadata": {},
   "outputs": [],
   "source": [
    "\n",
    "from sklearn.preprocessing import OneHotEncoder\n",
    "# Create a one-hot encoder object\n",
    "one_hot_encoder = OneHotEncoder()\n",
    "\n",
    "# Fit and transform the one-hot encoder on your output data\n",
    "output_data = np.array(output_data)\n",
    "encoded_output = one_hot_encoder.fit_transform(output_data.reshape(-1,1))\n",
    "# Convert the encoded output data to a NumPy array format\n",
    "#encoded_output = np.array(encoded_output)\n",
    "encoded_output = encoded_output.toarray()\n",
    "y=encoded_output\n"
   ]
  },
  {
   "cell_type": "code",
   "execution_count": 854,
   "id": "80b9bc5e",
   "metadata": {},
   "outputs": [],
   "source": [
    "#output_data=output_data.values"
   ]
  },
  {
   "cell_type": "code",
   "execution_count": 855,
   "id": "fa3246ab",
   "metadata": {},
   "outputs": [
    {
     "data": {
      "text/plain": [
       "array([[ 10.178     , -72.        ],\n",
       "       [ 10.36026262, -69.4523562 ],\n",
       "       [ 10.63605396, -70.35464373],\n",
       "       ...,\n",
       "       [  8.48122498, -60.69306579],\n",
       "       [  8.58957452, -60.53908327],\n",
       "       [  8.67900098, -60.64148786]])"
      ]
     },
     "execution_count": 855,
     "metadata": {},
     "output_type": "execute_result"
    }
   ],
   "source": [
    "input_data"
   ]
  },
  {
   "cell_type": "markdown",
   "id": "d69b03cc",
   "metadata": {},
   "source": [
    "**4. Importing necessary libraries and create the DNN model**"
   ]
  },
  {
   "cell_type": "code",
   "execution_count": 856,
   "id": "42e5d1ff",
   "metadata": {},
   "outputs": [
    {
     "name": "stdout",
     "output_type": "stream",
     "text": [
      "Model: \"sequential_40\"\n",
      "_________________________________________________________________\n",
      " Layer (type)                Output Shape              Param #   \n",
      "=================================================================\n",
      " dense_162 (Dense)           (None, 64)                192       \n",
      "                                                                 \n",
      " dense_163 (Dense)           (None, 128)               8320      \n",
      "                                                                 \n",
      " dense_164 (Dense)           (None, 128)               16512     \n",
      "                                                                 \n",
      " dense_165 (Dense)           (None, 25)                3225      \n",
      "                                                                 \n",
      "=================================================================\n",
      "Total params: 28,249\n",
      "Trainable params: 28,249\n",
      "Non-trainable params: 0\n",
      "_________________________________________________________________\n"
     ]
    }
   ],
   "source": [
    "from keras.models import Sequential\n",
    "from keras.layers import Dense\n",
    "from tensorflow import keras\n",
    "from keras.optimizers import Adam\n",
    "from keras.layers import Dropout\n",
    "\n",
    "optimizer = Adam(learning_rate=0.0001)\n",
    "\n",
    "# Initialize the model\n",
    "model = Sequential()\n",
    "\n",
    "# Add the first hidden layer with 64 neurons and input shape as the shape of the input data\n",
    "model.add(Dense(64, activation='relu', input_shape=(2,)))\n",
    "\n",
    "# Add the second hidden layer with 128 neurons\n",
    "model.add(Dense(128, activation='relu'))\n",
    "#model.add(Dropout(0.2))\n",
    "\n",
    "# Add the third hidden layer with 128 neurons\n",
    "model.add(Dense(128, activation='relu'))\n",
    "#model.add(Dropout(0.2))\n",
    "\n",
    "# Add the fourth hidden layer with 32 neurons\n",
    "#model.add(Dense(32, activation='relu'))\n",
    "#model.add(Dropout(0.2))\n",
    "\n",
    "# Add the output layer with 25 neurons for the 25 categories, and use softmax activation for multiclass classification\n",
    "model.add(Dense(25, activation='softmax'))\n",
    "\n",
    "# Compile the model, using categorical_crossentropy loss for multiclass classification, and 'adam' optimizer\n",
    "#model.compile(loss='categorical_crossentropy', optimizer='adam', metrics=['accuracy'])\n",
    "model.compile(loss='categorical_crossentropy', optimizer=optimizer, metrics=['accuracy'])\n",
    "model.summary()"
   ]
  },
  {
   "cell_type": "code",
   "execution_count": 859,
   "id": "4afd74d8",
   "metadata": {},
   "outputs": [],
   "source": [
    "from sklearn.model_selection import train_test_split\n",
    "\n",
    "# assuming your data is in X and y variables\n",
    "#X_train_val, X_test, y_train_val, y_test = train_test_split(X, y, test_size=0.2, random_state=42)\n",
    "#X_train, X_val, y_train, y_val = train_test_split(X_train_val, y_train_val, test_size=0.25, random_state=42)\n",
    "X_train, X_test, y_train, y_test = train_test_split(input_data, encoded_output, test_size=0.3, random_state=42)"
   ]
  },
  {
   "cell_type": "code",
   "execution_count": 860,
   "id": "95ebf308",
   "metadata": {},
   "outputs": [
    {
     "data": {
      "text/plain": [
       "array([[  7.3642279 , -63.08039836],\n",
       "       [ 21.24101288, -75.98516483],\n",
       "       [ 10.04987885, -66.07227497],\n",
       "       ...,\n",
       "       [  3.24345294, -57.46241233],\n",
       "       [ 12.2118802 , -62.00890965],\n",
       "       [  8.82291793, -57.5280721 ]])"
      ]
     },
     "execution_count": 860,
     "metadata": {},
     "output_type": "execute_result"
    }
   ],
   "source": [
    "X_train"
   ]
  },
  {
   "cell_type": "markdown",
   "id": "5eaa3039",
   "metadata": {},
   "source": [
    "**5. Standarizing the data- Preprocessing**"
   ]
  },
  {
   "cell_type": "code",
   "execution_count": 862,
   "id": "e5ced5cb",
   "metadata": {},
   "outputs": [
    {
     "data": {
      "text/plain": [
       "(5232, 2)"
      ]
     },
     "execution_count": 862,
     "metadata": {},
     "output_type": "execute_result"
    }
   ],
   "source": [
    "from sklearn.preprocessing import StandardScaler\n",
    "sc = StandardScaler() \n",
    "X_train = sc.fit_transform(X_train)\n",
    "X_test = sc.fit_transform(X_test)\n",
    "#X_val = sc.fit_transform(X_val)\n",
    "X_train.shape"
   ]
  },
  {
   "cell_type": "code",
   "execution_count": 863,
   "id": "166d7c7e",
   "metadata": {},
   "outputs": [
    {
     "data": {
      "text/plain": [
       "array([[-0.7519525 ,  0.48758676],\n",
       "       [ 1.13358961, -1.21409061],\n",
       "       [-0.38703311,  0.09306519],\n",
       "       ...,\n",
       "       [-1.31187288,  1.22839829],\n",
       "       [-0.09326588,  0.62887782],\n",
       "       [-0.55374942,  1.21974011]])"
      ]
     },
     "execution_count": 863,
     "metadata": {},
     "output_type": "execute_result"
    }
   ],
   "source": [
    "X_train"
   ]
  },
  {
   "cell_type": "code",
   "execution_count": 864,
   "id": "c8c29d35",
   "metadata": {},
   "outputs": [
    {
     "data": {
      "text/plain": [
       "array([[0., 0., 0., ..., 0., 0., 0.],\n",
       "       [0., 0., 0., ..., 0., 0., 0.],\n",
       "       [0., 0., 0., ..., 0., 0., 0.],\n",
       "       ...,\n",
       "       [0., 0., 1., ..., 0., 0., 0.],\n",
       "       [0., 0., 0., ..., 0., 0., 0.],\n",
       "       [0., 0., 0., ..., 0., 0., 0.]])"
      ]
     },
     "execution_count": 864,
     "metadata": {},
     "output_type": "execute_result"
    }
   ],
   "source": [
    "y_train"
   ]
  },
  {
   "cell_type": "code",
   "execution_count": 865,
   "id": "af4d2146",
   "metadata": {},
   "outputs": [
    {
     "data": {
      "text/plain": [
       "array([[0., 0., 0., ..., 0., 0., 0.],\n",
       "       [0., 0., 0., ..., 0., 0., 0.],\n",
       "       [0., 0., 1., ..., 0., 0., 0.],\n",
       "       ...,\n",
       "       [0., 0., 0., ..., 0., 0., 0.],\n",
       "       [0., 0., 0., ..., 0., 0., 0.],\n",
       "       [0., 0., 0., ..., 0., 0., 0.]])"
      ]
     },
     "execution_count": 865,
     "metadata": {},
     "output_type": "execute_result"
    }
   ],
   "source": [
    "y_test"
   ]
  },
  {
   "cell_type": "code",
   "execution_count": 866,
   "id": "9de4d0fb",
   "metadata": {},
   "outputs": [
    {
     "name": "stdout",
     "output_type": "stream",
     "text": [
      "Epoch 1/500\n",
      "164/164 [==============================] - 1s 2ms/step - loss: 3.1114 - accuracy: 0.1439 - val_loss: 2.9742 - val_accuracy: 0.1828\n",
      "Epoch 2/500\n",
      "164/164 [==============================] - 0s 2ms/step - loss: 2.7701 - accuracy: 0.2152 - val_loss: 2.5474 - val_accuracy: 0.2604\n",
      "Epoch 3/500\n",
      "164/164 [==============================] - 0s 1ms/step - loss: 2.2944 - accuracy: 0.2857 - val_loss: 2.0765 - val_accuracy: 0.3522\n",
      "Epoch 4/500\n",
      "164/164 [==============================] - 0s 1ms/step - loss: 1.8584 - accuracy: 0.3802 - val_loss: 1.7202 - val_accuracy: 0.4204\n",
      "Epoch 5/500\n",
      "164/164 [==============================] - 0s 1ms/step - loss: 1.5626 - accuracy: 0.4568 - val_loss: 1.4747 - val_accuracy: 0.5140\n",
      "Epoch 6/500\n",
      "164/164 [==============================] - 0s 1ms/step - loss: 1.3565 - accuracy: 0.5698 - val_loss: 1.2823 - val_accuracy: 0.6206\n",
      "Epoch 7/500\n",
      "164/164 [==============================] - 0s 1ms/step - loss: 1.1974 - accuracy: 0.6510 - val_loss: 1.1359 - val_accuracy: 0.7142\n",
      "Epoch 8/500\n",
      "164/164 [==============================] - 0s 970us/step - loss: 1.0643 - accuracy: 0.7127 - val_loss: 1.0109 - val_accuracy: 0.7530\n",
      "Epoch 9/500\n",
      "164/164 [==============================] - 0s 959us/step - loss: 0.9564 - accuracy: 0.7431 - val_loss: 0.9122 - val_accuracy: 0.7392\n",
      "Epoch 10/500\n",
      "164/164 [==============================] - 0s 1ms/step - loss: 0.8679 - accuracy: 0.7641 - val_loss: 0.8274 - val_accuracy: 0.7878\n",
      "Epoch 11/500\n",
      "164/164 [==============================] - 0s 1ms/step - loss: 0.7959 - accuracy: 0.7836 - val_loss: 0.7696 - val_accuracy: 0.7936\n",
      "Epoch 12/500\n",
      "164/164 [==============================] - 0s 1ms/step - loss: 0.7386 - accuracy: 0.7890 - val_loss: 0.7134 - val_accuracy: 0.8016\n",
      "Epoch 13/500\n",
      "164/164 [==============================] - 0s 1ms/step - loss: 0.6926 - accuracy: 0.7930 - val_loss: 0.6684 - val_accuracy: 0.8092\n",
      "Epoch 14/500\n",
      "164/164 [==============================] - 0s 968us/step - loss: 0.6516 - accuracy: 0.8005 - val_loss: 0.6358 - val_accuracy: 0.8074\n",
      "Epoch 15/500\n",
      "164/164 [==============================] - 0s 1ms/step - loss: 0.6201 - accuracy: 0.8075 - val_loss: 0.6062 - val_accuracy: 0.8230\n",
      "Epoch 16/500\n",
      "164/164 [==============================] - 0s 986us/step - loss: 0.5918 - accuracy: 0.8062 - val_loss: 0.5767 - val_accuracy: 0.8172\n",
      "Epoch 17/500\n",
      "164/164 [==============================] - 0s 920us/step - loss: 0.5687 - accuracy: 0.8135 - val_loss: 0.5569 - val_accuracy: 0.8208\n",
      "Epoch 18/500\n",
      "164/164 [==============================] - 0s 1ms/step - loss: 0.5439 - accuracy: 0.8182 - val_loss: 0.5402 - val_accuracy: 0.8226\n",
      "Epoch 19/500\n",
      "164/164 [==============================] - 0s 986us/step - loss: 0.5277 - accuracy: 0.8242 - val_loss: 0.5255 - val_accuracy: 0.8310\n",
      "Epoch 20/500\n",
      "164/164 [==============================] - 0s 1ms/step - loss: 0.5101 - accuracy: 0.8307 - val_loss: 0.5059 - val_accuracy: 0.8315\n",
      "Epoch 21/500\n",
      "164/164 [==============================] - 0s 1ms/step - loss: 0.4948 - accuracy: 0.8255 - val_loss: 0.4984 - val_accuracy: 0.8364\n",
      "Epoch 22/500\n",
      "164/164 [==============================] - 0s 926us/step - loss: 0.4819 - accuracy: 0.8354 - val_loss: 0.4799 - val_accuracy: 0.8373\n",
      "Epoch 23/500\n",
      "164/164 [==============================] - 0s 976us/step - loss: 0.4672 - accuracy: 0.8360 - val_loss: 0.4685 - val_accuracy: 0.8426\n",
      "Epoch 24/500\n",
      "164/164 [==============================] - 0s 1ms/step - loss: 0.4538 - accuracy: 0.8452 - val_loss: 0.4623 - val_accuracy: 0.8453\n",
      "Epoch 25/500\n",
      "164/164 [==============================] - 0s 932us/step - loss: 0.4435 - accuracy: 0.8484 - val_loss: 0.4553 - val_accuracy: 0.8538\n",
      "Epoch 26/500\n",
      "164/164 [==============================] - 0s 990us/step - loss: 0.4323 - accuracy: 0.8521 - val_loss: 0.4371 - val_accuracy: 0.8533\n",
      "Epoch 27/500\n",
      "164/164 [==============================] - 0s 951us/step - loss: 0.4209 - accuracy: 0.8574 - val_loss: 0.4322 - val_accuracy: 0.8457\n",
      "Epoch 28/500\n",
      "164/164 [==============================] - 0s 947us/step - loss: 0.4133 - accuracy: 0.8588 - val_loss: 0.4168 - val_accuracy: 0.8573\n",
      "Epoch 29/500\n",
      "164/164 [==============================] - 0s 999us/step - loss: 0.4030 - accuracy: 0.8622 - val_loss: 0.4122 - val_accuracy: 0.8560\n",
      "Epoch 30/500\n",
      "164/164 [==============================] - 0s 1ms/step - loss: 0.3949 - accuracy: 0.8675 - val_loss: 0.3965 - val_accuracy: 0.8729\n",
      "Epoch 31/500\n",
      "164/164 [==============================] - 0s 949us/step - loss: 0.3861 - accuracy: 0.8683 - val_loss: 0.3974 - val_accuracy: 0.8551\n",
      "Epoch 32/500\n",
      "164/164 [==============================] - 0s 1000us/step - loss: 0.3791 - accuracy: 0.8700 - val_loss: 0.3888 - val_accuracy: 0.8649\n",
      "Epoch 33/500\n",
      "164/164 [==============================] - 0s 985us/step - loss: 0.3700 - accuracy: 0.8718 - val_loss: 0.3819 - val_accuracy: 0.8765\n",
      "Epoch 34/500\n",
      "164/164 [==============================] - 0s 959us/step - loss: 0.3636 - accuracy: 0.8781 - val_loss: 0.3817 - val_accuracy: 0.8756\n",
      "Epoch 35/500\n",
      "164/164 [==============================] - 0s 837us/step - loss: 0.3568 - accuracy: 0.8761 - val_loss: 0.3744 - val_accuracy: 0.8618\n",
      "Epoch 36/500\n",
      "164/164 [==============================] - 0s 1ms/step - loss: 0.3504 - accuracy: 0.8821 - val_loss: 0.3627 - val_accuracy: 0.8774\n",
      "Epoch 37/500\n",
      "164/164 [==============================] - 0s 920us/step - loss: 0.3451 - accuracy: 0.8847 - val_loss: 0.3498 - val_accuracy: 0.8850\n",
      "Epoch 38/500\n",
      "164/164 [==============================] - 0s 1ms/step - loss: 0.3398 - accuracy: 0.8844 - val_loss: 0.3568 - val_accuracy: 0.8859\n",
      "Epoch 39/500\n",
      "164/164 [==============================] - 0s 998us/step - loss: 0.3329 - accuracy: 0.8869 - val_loss: 0.3427 - val_accuracy: 0.8885\n",
      "Epoch 40/500\n",
      "164/164 [==============================] - 0s 961us/step - loss: 0.3289 - accuracy: 0.8870 - val_loss: 0.3429 - val_accuracy: 0.8752\n",
      "Epoch 41/500\n",
      "164/164 [==============================] - 0s 966us/step - loss: 0.3223 - accuracy: 0.8914 - val_loss: 0.3319 - val_accuracy: 0.8975\n",
      "Epoch 42/500\n",
      "164/164 [==============================] - 0s 902us/step - loss: 0.3183 - accuracy: 0.8912 - val_loss: 0.3284 - val_accuracy: 0.8957\n",
      "Epoch 43/500\n",
      "164/164 [==============================] - 0s 1ms/step - loss: 0.3141 - accuracy: 0.8932 - val_loss: 0.3278 - val_accuracy: 0.8859\n",
      "Epoch 44/500\n",
      "164/164 [==============================] - 0s 1ms/step - loss: 0.3087 - accuracy: 0.8972 - val_loss: 0.3208 - val_accuracy: 0.8961\n",
      "Epoch 45/500\n",
      "164/164 [==============================] - 0s 1ms/step - loss: 0.3038 - accuracy: 0.8955 - val_loss: 0.3268 - val_accuracy: 0.8966\n",
      "Epoch 46/500\n",
      "164/164 [==============================] - 0s 1ms/step - loss: 0.3019 - accuracy: 0.8958 - val_loss: 0.3134 - val_accuracy: 0.8984\n",
      "Epoch 47/500\n",
      "164/164 [==============================] - 0s 1ms/step - loss: 0.2963 - accuracy: 0.8970 - val_loss: 0.3140 - val_accuracy: 0.8957\n",
      "Epoch 48/500\n",
      "164/164 [==============================] - 0s 1ms/step - loss: 0.2916 - accuracy: 0.9004 - val_loss: 0.3064 - val_accuracy: 0.8979\n",
      "Epoch 49/500\n",
      "164/164 [==============================] - 0s 1ms/step - loss: 0.2879 - accuracy: 0.9019 - val_loss: 0.3022 - val_accuracy: 0.9010\n",
      "Epoch 50/500\n",
      "164/164 [==============================] - 0s 1ms/step - loss: 0.2853 - accuracy: 0.8987 - val_loss: 0.3037 - val_accuracy: 0.8979\n",
      "Epoch 51/500\n",
      "164/164 [==============================] - 0s 1ms/step - loss: 0.2811 - accuracy: 0.9037 - val_loss: 0.3021 - val_accuracy: 0.9019\n",
      "Epoch 52/500\n",
      "164/164 [==============================] - 0s 1ms/step - loss: 0.2782 - accuracy: 0.9029 - val_loss: 0.2945 - val_accuracy: 0.9024\n",
      "Epoch 53/500\n",
      "164/164 [==============================] - 0s 1ms/step - loss: 0.2754 - accuracy: 0.9054 - val_loss: 0.2943 - val_accuracy: 0.9037\n",
      "Epoch 54/500\n",
      "164/164 [==============================] - 0s 1ms/step - loss: 0.2716 - accuracy: 0.9065 - val_loss: 0.2847 - val_accuracy: 0.9050\n",
      "Epoch 55/500\n",
      "164/164 [==============================] - 0s 1ms/step - loss: 0.2689 - accuracy: 0.9056 - val_loss: 0.2845 - val_accuracy: 0.9059\n",
      "Epoch 56/500\n",
      "164/164 [==============================] - 0s 1ms/step - loss: 0.2663 - accuracy: 0.9065 - val_loss: 0.2814 - val_accuracy: 0.9108\n",
      "Epoch 57/500\n"
     ]
    },
    {
     "name": "stdout",
     "output_type": "stream",
     "text": [
      "164/164 [==============================] - 0s 1ms/step - loss: 0.2625 - accuracy: 0.9115 - val_loss: 0.2764 - val_accuracy: 0.9117\n",
      "Epoch 58/500\n",
      "164/164 [==============================] - 0s 1ms/step - loss: 0.2599 - accuracy: 0.9063 - val_loss: 0.2743 - val_accuracy: 0.9108\n",
      "Epoch 59/500\n",
      "164/164 [==============================] - 0s 967us/step - loss: 0.2564 - accuracy: 0.9130 - val_loss: 0.2734 - val_accuracy: 0.9153\n",
      "Epoch 60/500\n",
      "164/164 [==============================] - 0s 968us/step - loss: 0.2558 - accuracy: 0.9111 - val_loss: 0.2709 - val_accuracy: 0.9144\n",
      "Epoch 61/500\n",
      "164/164 [==============================] - 0s 945us/step - loss: 0.2510 - accuracy: 0.9121 - val_loss: 0.2688 - val_accuracy: 0.9091\n",
      "Epoch 62/500\n",
      "164/164 [==============================] - 0s 1ms/step - loss: 0.2499 - accuracy: 0.9148 - val_loss: 0.2748 - val_accuracy: 0.9144\n",
      "Epoch 63/500\n",
      "164/164 [==============================] - 0s 922us/step - loss: 0.2472 - accuracy: 0.9170 - val_loss: 0.2644 - val_accuracy: 0.9126\n",
      "Epoch 64/500\n",
      "164/164 [==============================] - 0s 920us/step - loss: 0.2450 - accuracy: 0.9132 - val_loss: 0.2611 - val_accuracy: 0.9242\n",
      "Epoch 65/500\n",
      "164/164 [==============================] - 0s 1ms/step - loss: 0.2420 - accuracy: 0.9184 - val_loss: 0.2700 - val_accuracy: 0.9238\n",
      "Epoch 66/500\n",
      "164/164 [==============================] - 0s 1ms/step - loss: 0.2391 - accuracy: 0.9144 - val_loss: 0.2582 - val_accuracy: 0.9296\n",
      "Epoch 67/500\n",
      "164/164 [==============================] - 0s 983us/step - loss: 0.2398 - accuracy: 0.9199 - val_loss: 0.2635 - val_accuracy: 0.9180\n",
      "Epoch 68/500\n",
      "164/164 [==============================] - 0s 942us/step - loss: 0.2363 - accuracy: 0.9213 - val_loss: 0.2530 - val_accuracy: 0.9229\n",
      "Epoch 69/500\n",
      "164/164 [==============================] - 0s 1ms/step - loss: 0.2351 - accuracy: 0.9184 - val_loss: 0.2533 - val_accuracy: 0.9340\n",
      "Epoch 70/500\n",
      "164/164 [==============================] - 0s 868us/step - loss: 0.2328 - accuracy: 0.9197 - val_loss: 0.2548 - val_accuracy: 0.9238\n",
      "Epoch 71/500\n",
      "164/164 [==============================] - 0s 968us/step - loss: 0.2310 - accuracy: 0.9178 - val_loss: 0.2554 - val_accuracy: 0.9175\n",
      "Epoch 72/500\n",
      "164/164 [==============================] - 0s 948us/step - loss: 0.2281 - accuracy: 0.9234 - val_loss: 0.2462 - val_accuracy: 0.9318\n",
      "Epoch 73/500\n",
      "164/164 [==============================] - 0s 1ms/step - loss: 0.2267 - accuracy: 0.9213 - val_loss: 0.2470 - val_accuracy: 0.9202\n",
      "Epoch 74/500\n",
      "164/164 [==============================] - 0s 969us/step - loss: 0.2256 - accuracy: 0.9270 - val_loss: 0.2525 - val_accuracy: 0.9322\n",
      "Epoch 75/500\n",
      "164/164 [==============================] - 0s 1ms/step - loss: 0.2232 - accuracy: 0.9268 - val_loss: 0.2423 - val_accuracy: 0.9349\n",
      "Epoch 76/500\n",
      "164/164 [==============================] - 0s 964us/step - loss: 0.2229 - accuracy: 0.9247 - val_loss: 0.2347 - val_accuracy: 0.9300\n",
      "Epoch 77/500\n",
      "164/164 [==============================] - 0s 1ms/step - loss: 0.2191 - accuracy: 0.9247 - val_loss: 0.2410 - val_accuracy: 0.9354\n",
      "Epoch 78/500\n",
      "164/164 [==============================] - 0s 921us/step - loss: 0.2182 - accuracy: 0.9295 - val_loss: 0.2365 - val_accuracy: 0.9358\n",
      "Epoch 79/500\n",
      "164/164 [==============================] - 0s 1ms/step - loss: 0.2150 - accuracy: 0.9299 - val_loss: 0.2355 - val_accuracy: 0.9380\n",
      "Epoch 80/500\n",
      "164/164 [==============================] - 0s 1ms/step - loss: 0.2149 - accuracy: 0.9274 - val_loss: 0.2420 - val_accuracy: 0.9336\n",
      "Epoch 81/500\n",
      "164/164 [==============================] - 0s 998us/step - loss: 0.2132 - accuracy: 0.9285 - val_loss: 0.2378 - val_accuracy: 0.9331\n"
     ]
    }
   ],
   "source": [
    "early_stopping = EarlyStopping(patience=5, monitor='val_loss')\n",
    "\n",
    "history = model.fit(X_train, y_train, validation_data=(X_test, y_test), epochs=500, callbacks=[early_stopping])"
   ]
  },
  {
   "cell_type": "code",
   "execution_count": 867,
   "id": "9305d142",
   "metadata": {},
   "outputs": [
    {
     "name": "stdout",
     "output_type": "stream",
     "text": [
      "71/71 [==============================] - 0s 654us/step - loss: 0.2378 - accuracy: 0.9331\n",
      "Test loss: 0.23778660595417023\n",
      "Test accuracy: 0.9331252574920654\n"
     ]
    }
   ],
   "source": [
    "## evaluate the model on the test set\n",
    "loss, accuracy = model.evaluate(X_test, y_test)\n",
    "print('Test loss:', loss)\n",
    "print('Test accuracy:', accuracy)"
   ]
  },
  {
   "cell_type": "code",
   "execution_count": 868,
   "id": "9e0e85b5",
   "metadata": {},
   "outputs": [
    {
     "data": {
      "image/png": "[encoded data removed]",
      "text/plain": [
       "<Figure size 640x480 with 1 Axes>"
      ]
     },
     "metadata": {},
     "output_type": "display_data"
    },
    {
     "data": {
      "image/png": "[encoded data removed]",
      "text/plain": [
       "<Figure size 640x480 with 1 Axes>"
      ]
     },
     "metadata": {},
     "output_type": "display_data"
    }
   ],
   "source": [
    "# Plot the loss curve\n",
    "plt.plot(history.history['loss'], 'r', label='Training loss')\n",
    "plt.plot(history.history['val_loss'], 'b', label='Validation loss' )\n",
    "plt.legend()\n",
    "plt.show()\n",
    "\n",
    "# Plot the accuracy curve\n",
    "plt.plot(history.history['accuracy'], 'r', label='Training accuracy')\n",
    "plt.plot(history.history['val_accuracy'], 'b', label='Validation accuracy')\n",
    "plt.legend()\n",
    "plt.show()"
   ]
  },
  {
   "cell_type": "code",
   "execution_count": 869,
   "id": "447c957f",
   "metadata": {},
   "outputs": [
    {
     "name": "stdout",
     "output_type": "stream",
     "text": [
      "71/71 [==============================] - 0s 499us/step\n"
     ]
    }
   ],
   "source": [
    "y_pred = model.predict(X_test)"
   ]
  },
  {
   "cell_type": "code",
   "execution_count": 870,
   "id": "4a15bbad",
   "metadata": {},
   "outputs": [
    {
     "data": {
      "text/plain": [
       "array([[8.2272153e-20, 3.9842665e-21, 3.4712028e-29, ..., 2.2965114e-09,\n",
       "        2.6277073e-15, 6.2409348e-35],\n",
       "       [9.8163453e-23, 2.0183827e-22, 2.3620545e-20, ..., 7.0186217e-20,\n",
       "        2.9027439e-25, 7.3679657e-38],\n",
       "       [3.6559458e-10, 2.8223722e-04, 7.4961120e-01, ..., 6.2358592e-26,\n",
       "        8.2840911e-24, 2.9974396e-31],\n",
       "       ...,\n",
       "       [2.0712762e-18, 2.5079236e-21, 9.2972724e-26, ..., 2.6440300e-13,\n",
       "        5.0708199e-15, 3.2652069e-03],\n",
       "       [6.0283691e-18, 3.8517310e-21, 1.6678216e-26, ..., 2.9226122e-10,\n",
       "        4.9490646e-12, 7.1176318e-03],\n",
       "       [2.3682409e-20, 3.3112720e-22, 3.5508454e-25, ..., 1.2110716e-18,\n",
       "        1.3970683e-21, 4.5271955e-12]], dtype=float32)"
      ]
     },
     "execution_count": 870,
     "metadata": {},
     "output_type": "execute_result"
    }
   ],
   "source": [
    "y_pred"
   ]
  },
  {
   "cell_type": "code",
   "execution_count": 871,
   "id": "3c1480b4",
   "metadata": {},
   "outputs": [
    {
     "data": {
      "text/plain": [
       "(2243, 25)"
      ]
     },
     "execution_count": 871,
     "metadata": {},
     "output_type": "execute_result"
    }
   ],
   "source": [
    "y_pred.shape"
   ]
  },
  {
   "cell_type": "code",
   "execution_count": 872,
   "id": "201c8d5d",
   "metadata": {},
   "outputs": [
    {
     "name": "stdout",
     "output_type": "stream",
     "text": [
      "[13 10  2 ... 21 21 19]\n"
     ]
    }
   ],
   "source": [
    "# Decode the one-hot encoded data\n",
    "#y_pred= one_hot_encoder.inverse_transform(y_pred)\n",
    "y_pred= np.argmax(y_pred, axis=1)\n",
    "# Convert the decoded output data to a NumPy array format\n",
    "y_pred = np.array(y_pred)\n",
    "\n",
    "# Print the decoded output data\n",
    "print(y_pred)"
   ]
  },
  {
   "cell_type": "code",
   "execution_count": 873,
   "id": "5844e0f8",
   "metadata": {},
   "outputs": [
    {
     "data": {
      "text/plain": [
       "array([13, 10,  2, ..., 21, 21, 19], dtype=int64)"
      ]
     },
     "execution_count": 873,
     "metadata": {},
     "output_type": "execute_result"
    }
   ],
   "source": [
    "y_pred=y_pred.flatten()\n",
    "y_pred"
   ]
  },
  {
   "cell_type": "code",
   "execution_count": 874,
   "id": "ae597927",
   "metadata": {},
   "outputs": [
    {
     "data": {
      "text/plain": [
       "array([[0., 0., 0., ..., 0., 0., 0.],\n",
       "       [0., 0., 0., ..., 0., 0., 0.],\n",
       "       [0., 0., 1., ..., 0., 0., 0.],\n",
       "       ...,\n",
       "       [0., 0., 0., ..., 0., 0., 0.],\n",
       "       [0., 0., 0., ..., 0., 0., 0.],\n",
       "       [0., 0., 0., ..., 0., 0., 0.]])"
      ]
     },
     "execution_count": 874,
     "metadata": {},
     "output_type": "execute_result"
    }
   ],
   "source": [
    "y_test"
   ]
  },
  {
   "cell_type": "code",
   "execution_count": 875,
   "id": "2edb1d4f",
   "metadata": {},
   "outputs": [
    {
     "name": "stdout",
     "output_type": "stream",
     "text": [
      "[13 10  2 ... 20 21 19]\n"
     ]
    }
   ],
   "source": [
    "# Decode the one-hot encoded data\n",
    "#y_test= one_hot_encoder.inverse_transform(y_test)\n",
    "y_test=np.argmax(y_test, axis=1)\n",
    "# Convert the decoded output data to a NumPy array format\n",
    "y_test = np.array(y_test)\n",
    "\n",
    "# Print the decoded output data\n",
    "print(y_test)"
   ]
  },
  {
   "cell_type": "code",
   "execution_count": 876,
   "id": "dfef252b",
   "metadata": {},
   "outputs": [
    {
     "data": {
      "text/plain": [
       "array([13, 10,  2, ..., 20, 21, 19], dtype=int64)"
      ]
     },
     "execution_count": 876,
     "metadata": {},
     "output_type": "execute_result"
    }
   ],
   "source": [
    "y_test = y_test.flatten()\n",
    "y_test"
   ]
  },
  {
   "cell_type": "markdown",
   "id": "c2ffd617",
   "metadata": {},
   "source": [
    "**6. Confusion Matrix and Classification Report**"
   ]
  },
  {
   "cell_type": "code",
   "execution_count": 878,
   "id": "c7a24aa2",
   "metadata": {},
   "outputs": [
    {
     "data": {
      "image/png": "[encoded data removed]",
      "text/plain": [
       "<Figure size 1200x800 with 2 Axes>"
      ]
     },
     "metadata": {},
     "output_type": "display_data"
    },
    {
     "name": "stdout",
     "output_type": "stream",
     "text": [
      "Accuracy of Model with Kalman Filter:  0.9331252786446723\n"
     ]
    }
   ],
   "source": [
    "from sklearn.metrics import confusion_matrix, accuracy_score, mean_squared_error, classification_report\n",
    "import seaborn as sns\n",
    "\n",
    "# Calculate the confusion matrix\n",
    "conf_mat = confusion_matrix(y_test, y_pred)\n",
    "array=np.array(conf_mat)\n",
    "df_cm = pd.DataFrame(array, index = [str(i)+\"m\" for i in range(1,26)],\n",
    "                  columns = [str(i)+\"m\" for i in range(1,26)])\n",
    "\n",
    "plt.figure(figsize = (12,8))\n",
    "\n",
    "# import seaborn as sns\n",
    "# sns.heatmap(df_cm, annot=True)\n",
    "\n",
    "a=sns.heatmap(df_cm, annot=True, fmt='d')\n",
    "a.set_xlabel('Predicted distance label in m', fontsize=15)\n",
    "a.set_ylabel('Trude distance label in m', fontsize=15)\n",
    "plt.title('Confusion Matrix', fontsize=16)\n",
    "plt.show()\n",
    "accuracy = accuracy_score(y_test, y_pred)\n",
    "print('Accuracy of Model with Kalman Filter: ', accuracy)"
   ]
  },
  {
   "cell_type": "code",
   "execution_count": 880,
   "id": "68999199",
   "metadata": {},
   "outputs": [
    {
     "name": "stdout",
     "output_type": "stream",
     "text": [
      "              precision    recall  f1-score   support\n",
      "\n",
      "          1m       0.98      0.98      0.98        99\n",
      "          2m       0.98      0.91      0.95        94\n",
      "          3m       0.80      0.89      0.84        94\n",
      "          4m       0.86      0.74      0.79        80\n",
      "          5m       0.94      1.00      0.97        90\n",
      "          6m       1.00      1.00      1.00        85\n",
      "          7m       0.85      0.99      0.91        74\n",
      "          8m       0.99      0.85      0.92        89\n",
      "          9m       1.00      1.00      1.00        92\n",
      "         10m       1.00      0.77      0.87       102\n",
      "         11m       0.79      0.94      0.86       101\n",
      "         12m       1.00      1.00      1.00        84\n",
      "         13m       0.93      0.92      0.93        92\n",
      "         14m       0.94      0.98      0.96        97\n",
      "         15m       0.97      0.97      0.97        97\n",
      "         16m       0.99      0.99      0.99        80\n",
      "         17m       1.00      0.99      0.99        88\n",
      "         18m       0.99      0.98      0.98        99\n",
      "         19m       0.95      0.95      0.95        86\n",
      "         20m       0.98      0.95      0.96        84\n",
      "         21m       0.79      0.82      0.81        74\n",
      "         22m       0.90      0.90      0.90        87\n",
      "         23m       0.95      0.84      0.89        93\n",
      "         24m       0.85      0.95      0.90        86\n",
      "         25m       0.98      0.99      0.98        96\n",
      "\n",
      "    accuracy                           0.93      2243\n",
      "   macro avg       0.94      0.93      0.93      2243\n",
      "weighted avg       0.94      0.93      0.93      2243\n",
      "\n"
     ]
    }
   ],
   "source": [
    "# Create a custom label for each class\n",
    "labels = [f\"{i + 1}m\" for i in range(25)]\n",
    "\n",
    "# Generate the classification report\n",
    "print(classification_report(y_test, y_pred, target_names=labels))\n",
    "\n",
    "\n"
   ]
  },
  {
   "cell_type": "markdown",
   "id": "6b322222",
   "metadata": {},
   "source": [
    "Precision: number of true positives divided by the number of true positives and false positives\n",
    "\n",
    "Recall: number of true positives divided by the number of true positives and false negatives\n",
    "\n",
    "F1-score: the harmonic mean of precision and recall\n",
    "\n",
    "Support: number of samples in the corresponding class.\n",
    "\n"
   ]
  },
  {
   "cell_type": "markdown",
   "id": "1ccd42f3",
   "metadata": {},
   "source": [
    " **7.Predicting without Kalman Filter data**\n",
    " "
   ]
  },
  {
   "cell_type": "code",
   "execution_count": 883,
   "id": "67e9e7c6",
   "metadata": {},
   "outputs": [
    {
     "data": {
      "text/html": [
       "<div>\n",
       "<style scoped>\n",
       "    .dataframe tbody tr th:only-of-type {\n",
       "        vertical-align: middle;\n",
       "    }\n",
       "\n",
       "    .dataframe tbody tr th {\n",
       "        vertical-align: top;\n",
       "    }\n",
       "\n",
       "    .dataframe thead th {\n",
       "        text-align: right;\n",
       "    }\n",
       "</style>\n",
       "<table border=\"1\" class=\"dataframe\">\n",
       "  <thead>\n",
       "    <tr style=\"text-align: right;\">\n",
       "      <th></th>\n",
       "      <th>#&lt;Time(ms)&gt;</th>\n",
       "      <th>&lt;True Range(m)&gt;</th>\n",
       "      <th>&lt;Est. Range(m)&gt;</th>\n",
       "      <th>&lt;Std dev(m)&gt;</th>\n",
       "      <th>&lt;Successes#&gt;</th>\n",
       "      <th>&lt;Burst#&gt;</th>\n",
       "      <th>&lt;RSSI(dBm)&gt;</th>\n",
       "      <th>&lt;Ch-MHz&gt;</th>\n",
       "      <th>&lt;AP-SSID&gt;</th>\n",
       "      <th>&lt;RTT AP?&gt;</th>\n",
       "    </tr>\n",
       "  </thead>\n",
       "  <tbody>\n",
       "    <tr>\n",
       "      <th>0</th>\n",
       "      <td>14011119</td>\n",
       "      <td>10</td>\n",
       "      <td>10.178</td>\n",
       "      <td>0.674</td>\n",
       "      <td>7</td>\n",
       "      <td>8</td>\n",
       "      <td>-72</td>\n",
       "      <td>5180</td>\n",
       "      <td>GoogleWiFi_AP03</td>\n",
       "      <td>1</td>\n",
       "    </tr>\n",
       "    <tr>\n",
       "      <th>1</th>\n",
       "      <td>14011501</td>\n",
       "      <td>10</td>\n",
       "      <td>10.452</td>\n",
       "      <td>0.142</td>\n",
       "      <td>7</td>\n",
       "      <td>8</td>\n",
       "      <td>-67</td>\n",
       "      <td>5180</td>\n",
       "      <td>GoogleWiFi_AP03</td>\n",
       "      <td>1</td>\n",
       "    </tr>\n",
       "    <tr>\n",
       "      <th>2</th>\n",
       "      <td>14011877</td>\n",
       "      <td>10</td>\n",
       "      <td>10.803</td>\n",
       "      <td>0.077</td>\n",
       "      <td>7</td>\n",
       "      <td>8</td>\n",
       "      <td>-72</td>\n",
       "      <td>5180</td>\n",
       "      <td>GoogleWiFi_AP03</td>\n",
       "      <td>1</td>\n",
       "    </tr>\n",
       "    <tr>\n",
       "      <th>3</th>\n",
       "      <td>14012262</td>\n",
       "      <td>10</td>\n",
       "      <td>10.530</td>\n",
       "      <td>0.194</td>\n",
       "      <td>7</td>\n",
       "      <td>8</td>\n",
       "      <td>-71</td>\n",
       "      <td>5180</td>\n",
       "      <td>GoogleWiFi_AP03</td>\n",
       "      <td>1</td>\n",
       "    </tr>\n",
       "    <tr>\n",
       "      <th>4</th>\n",
       "      <td>14012646</td>\n",
       "      <td>10</td>\n",
       "      <td>10.647</td>\n",
       "      <td>0.083</td>\n",
       "      <td>7</td>\n",
       "      <td>8</td>\n",
       "      <td>-67</td>\n",
       "      <td>5180</td>\n",
       "      <td>GoogleWiFi_AP03</td>\n",
       "      <td>1</td>\n",
       "    </tr>\n",
       "    <tr>\n",
       "      <th>...</th>\n",
       "      <td>...</td>\n",
       "      <td>...</td>\n",
       "      <td>...</td>\n",
       "      <td>...</td>\n",
       "      <td>...</td>\n",
       "      <td>...</td>\n",
       "      <td>...</td>\n",
       "      <td>...</td>\n",
       "      <td>...</td>\n",
       "      <td>...</td>\n",
       "    </tr>\n",
       "    <tr>\n",
       "      <th>294</th>\n",
       "      <td>13946465</td>\n",
       "      <td>9</td>\n",
       "      <td>8.655</td>\n",
       "      <td>0.125</td>\n",
       "      <td>7</td>\n",
       "      <td>8</td>\n",
       "      <td>-60</td>\n",
       "      <td>5180</td>\n",
       "      <td>GoogleWiFi_AP03</td>\n",
       "      <td>1</td>\n",
       "    </tr>\n",
       "    <tr>\n",
       "      <th>295</th>\n",
       "      <td>13946848</td>\n",
       "      <td>9</td>\n",
       "      <td>8.538</td>\n",
       "      <td>0.173</td>\n",
       "      <td>7</td>\n",
       "      <td>8</td>\n",
       "      <td>-60</td>\n",
       "      <td>5180</td>\n",
       "      <td>GoogleWiFi_AP03</td>\n",
       "      <td>1</td>\n",
       "    </tr>\n",
       "    <tr>\n",
       "      <th>296</th>\n",
       "      <td>13947235</td>\n",
       "      <td>9</td>\n",
       "      <td>8.420</td>\n",
       "      <td>0.182</td>\n",
       "      <td>7</td>\n",
       "      <td>8</td>\n",
       "      <td>-60</td>\n",
       "      <td>5180</td>\n",
       "      <td>GoogleWiFi_AP03</td>\n",
       "      <td>1</td>\n",
       "    </tr>\n",
       "    <tr>\n",
       "      <th>297</th>\n",
       "      <td>13947621</td>\n",
       "      <td>9</td>\n",
       "      <td>8.655</td>\n",
       "      <td>0.112</td>\n",
       "      <td>7</td>\n",
       "      <td>8</td>\n",
       "      <td>-60</td>\n",
       "      <td>5180</td>\n",
       "      <td>GoogleWiFi_AP03</td>\n",
       "      <td>1</td>\n",
       "    </tr>\n",
       "    <tr>\n",
       "      <th>298</th>\n",
       "      <td>13948008</td>\n",
       "      <td>9</td>\n",
       "      <td>8.733</td>\n",
       "      <td>0.111</td>\n",
       "      <td>7</td>\n",
       "      <td>8</td>\n",
       "      <td>-61</td>\n",
       "      <td>5180</td>\n",
       "      <td>GoogleWiFi_AP03</td>\n",
       "      <td>1</td>\n",
       "    </tr>\n",
       "  </tbody>\n",
       "</table>\n",
       "<p>7475 rows × 10 columns</p>\n",
       "</div>"
      ],
      "text/plain": [
       "     #<Time(ms)>  <True Range(m)>  <Est. Range(m)>  <Std dev(m)>  \\\n",
       "0       14011119               10           10.178         0.674   \n",
       "1       14011501               10           10.452         0.142   \n",
       "2       14011877               10           10.803         0.077   \n",
       "3       14012262               10           10.530         0.194   \n",
       "4       14012646               10           10.647         0.083   \n",
       "..           ...              ...              ...           ...   \n",
       "294     13946465                9            8.655         0.125   \n",
       "295     13946848                9            8.538         0.173   \n",
       "296     13947235                9            8.420         0.182   \n",
       "297     13947621                9            8.655         0.112   \n",
       "298     13948008                9            8.733         0.111   \n",
       "\n",
       "     <Successes#>  <Burst#>  <RSSI(dBm)>  <Ch-MHz>        <AP-SSID>  <RTT AP?>  \n",
       "0               7         8          -72      5180  GoogleWiFi_AP03          1  \n",
       "1               7         8          -67      5180  GoogleWiFi_AP03          1  \n",
       "2               7         8          -72      5180  GoogleWiFi_AP03          1  \n",
       "3               7         8          -71      5180  GoogleWiFi_AP03          1  \n",
       "4               7         8          -67      5180  GoogleWiFi_AP03          1  \n",
       "..            ...       ...          ...       ...              ...        ...  \n",
       "294             7         8          -60      5180  GoogleWiFi_AP03          1  \n",
       "295             7         8          -60      5180  GoogleWiFi_AP03          1  \n",
       "296             7         8          -60      5180  GoogleWiFi_AP03          1  \n",
       "297             7         8          -60      5180  GoogleWiFi_AP03          1  \n",
       "298             7         8          -61      5180  GoogleWiFi_AP03          1  \n",
       "\n",
       "[7475 rows x 10 columns]"
      ]
     },
     "execution_count": 883,
     "metadata": {},
     "output_type": "execute_result"
    }
   ],
   "source": [
    "os.chdir('C:/Users/LILA/RTT-RSS with Kalman/raw_dataset')\n",
    "extension='csv'\n",
    "\n",
    "all_filenames=[i for i in glob.glob('*.{}'.format(extension))]\n",
    "\n",
    "combined_csv=pd.concat([pd.read_csv(f) for f in all_filenames])\n",
    "dfff=combined_csv\n",
    "dfff"
   ]
  },
  {
   "cell_type": "code",
   "execution_count": 884,
   "id": "aa078baa",
   "metadata": {},
   "outputs": [],
   "source": [
    "dfff.drop(['#<Time(ms)>','<Ch-MHz>','<Burst#>','<AP-SSID>','<Successes#>','<Std dev(m)>','<RTT AP?>'],axis=1,inplace=True)"
   ]
  },
  {
   "cell_type": "code",
   "execution_count": 885,
   "id": "3d639888",
   "metadata": {},
   "outputs": [
    {
     "data": {
      "text/html": [
       "<div>\n",
       "<style scoped>\n",
       "    .dataframe tbody tr th:only-of-type {\n",
       "        vertical-align: middle;\n",
       "    }\n",
       "\n",
       "    .dataframe tbody tr th {\n",
       "        vertical-align: top;\n",
       "    }\n",
       "\n",
       "    .dataframe thead th {\n",
       "        text-align: right;\n",
       "    }\n",
       "</style>\n",
       "<table border=\"1\" class=\"dataframe\">\n",
       "  <thead>\n",
       "    <tr style=\"text-align: right;\">\n",
       "      <th></th>\n",
       "      <th>True_Range</th>\n",
       "      <th>Est_Range</th>\n",
       "      <th>RSSI</th>\n",
       "    </tr>\n",
       "  </thead>\n",
       "  <tbody>\n",
       "    <tr>\n",
       "      <th>0</th>\n",
       "      <td>10</td>\n",
       "      <td>10.178</td>\n",
       "      <td>-72</td>\n",
       "    </tr>\n",
       "    <tr>\n",
       "      <th>1</th>\n",
       "      <td>10</td>\n",
       "      <td>10.452</td>\n",
       "      <td>-67</td>\n",
       "    </tr>\n",
       "    <tr>\n",
       "      <th>2</th>\n",
       "      <td>10</td>\n",
       "      <td>10.803</td>\n",
       "      <td>-72</td>\n",
       "    </tr>\n",
       "    <tr>\n",
       "      <th>3</th>\n",
       "      <td>10</td>\n",
       "      <td>10.530</td>\n",
       "      <td>-71</td>\n",
       "    </tr>\n",
       "    <tr>\n",
       "      <th>4</th>\n",
       "      <td>10</td>\n",
       "      <td>10.647</td>\n",
       "      <td>-67</td>\n",
       "    </tr>\n",
       "    <tr>\n",
       "      <th>...</th>\n",
       "      <td>...</td>\n",
       "      <td>...</td>\n",
       "      <td>...</td>\n",
       "    </tr>\n",
       "    <tr>\n",
       "      <th>294</th>\n",
       "      <td>9</td>\n",
       "      <td>8.655</td>\n",
       "      <td>-60</td>\n",
       "    </tr>\n",
       "    <tr>\n",
       "      <th>295</th>\n",
       "      <td>9</td>\n",
       "      <td>8.538</td>\n",
       "      <td>-60</td>\n",
       "    </tr>\n",
       "    <tr>\n",
       "      <th>296</th>\n",
       "      <td>9</td>\n",
       "      <td>8.420</td>\n",
       "      <td>-60</td>\n",
       "    </tr>\n",
       "    <tr>\n",
       "      <th>297</th>\n",
       "      <td>9</td>\n",
       "      <td>8.655</td>\n",
       "      <td>-60</td>\n",
       "    </tr>\n",
       "    <tr>\n",
       "      <th>298</th>\n",
       "      <td>9</td>\n",
       "      <td>8.733</td>\n",
       "      <td>-61</td>\n",
       "    </tr>\n",
       "  </tbody>\n",
       "</table>\n",
       "<p>7475 rows × 3 columns</p>\n",
       "</div>"
      ],
      "text/plain": [
       "     True_Range  Est_Range  RSSI\n",
       "0            10     10.178   -72\n",
       "1            10     10.452   -67\n",
       "2            10     10.803   -72\n",
       "3            10     10.530   -71\n",
       "4            10     10.647   -67\n",
       "..          ...        ...   ...\n",
       "294           9      8.655   -60\n",
       "295           9      8.538   -60\n",
       "296           9      8.420   -60\n",
       "297           9      8.655   -60\n",
       "298           9      8.733   -61\n",
       "\n",
       "[7475 rows x 3 columns]"
      ]
     },
     "execution_count": 885,
     "metadata": {},
     "output_type": "execute_result"
    }
   ],
   "source": [
    "dfff.rename(columns={'<True Range(m)>': 'True_Range', '<Est. Range(m)>': 'Est_Range','<RSSI(dBm)>': 'RSSI'}, inplace=True)\n",
    "dfff"
   ]
  },
  {
   "cell_type": "code",
   "execution_count": 886,
   "id": "8971cbda",
   "metadata": {},
   "outputs": [
    {
     "data": {
      "text/plain": [
       "array([[ 10.178, -72.   ],\n",
       "       [ 10.452, -67.   ],\n",
       "       [ 10.803, -72.   ],\n",
       "       ...,\n",
       "       [  8.42 , -60.   ],\n",
       "       [  8.655, -60.   ],\n",
       "       [  8.733, -61.   ]])"
      ]
     },
     "execution_count": 886,
     "metadata": {},
     "output_type": "execute_result"
    }
   ],
   "source": [
    "X_valid = dfff.iloc[:,-2:].values\n",
    "y_valid = dfff['True_Range'].values\n",
    "X_valid"
   ]
  },
  {
   "cell_type": "code",
   "execution_count": 887,
   "id": "00e2354c",
   "metadata": {},
   "outputs": [],
   "source": [
    "X_valid = sc.fit_transform(X_valid)"
   ]
  },
  {
   "cell_type": "code",
   "execution_count": 888,
   "id": "bb1c6dee",
   "metadata": {},
   "outputs": [
    {
     "name": "stdout",
     "output_type": "stream",
     "text": [
      "234/234 [==============================] - 0s 516us/step\n"
     ]
    },
    {
     "data": {
      "text/plain": [
       "array([[1.19645342e-23, 3.18674120e-23, 1.10271827e-20, ...,\n",
       "        3.22580971e-21, 1.04330491e-26, 1.63853633e-38],\n",
       "       [5.81657251e-20, 1.04425187e-19, 1.17687303e-19, ...,\n",
       "        2.68939605e-16, 5.70815934e-21, 1.33815681e-36],\n",
       "       [8.02681748e-24, 8.95189810e-24, 4.90655024e-22, ...,\n",
       "        1.29534545e-20, 2.94538290e-26, 4.68779374e-38],\n",
       "       ...,\n",
       "       [2.11129318e-08, 1.82042248e-09, 4.05038916e-15, ...,\n",
       "        3.15714294e-15, 6.88161383e-16, 1.12138089e-30],\n",
       "       [1.55448951e-08, 7.87333254e-10, 5.56872917e-16, ...,\n",
       "        5.92352121e-15, 1.04743597e-15, 6.88444206e-31],\n",
       "       [3.79708376e-10, 6.21077009e-11, 1.68926311e-15, ...,\n",
       "        4.48584710e-15, 1.97699038e-16, 1.00739713e-31]], dtype=float32)"
      ]
     },
     "execution_count": 888,
     "metadata": {},
     "output_type": "execute_result"
    }
   ],
   "source": [
    "y_pred_valid = model.predict(X_valid)\n",
    "y_pred_valid"
   ]
  },
  {
   "cell_type": "code",
   "execution_count": 889,
   "id": "5acf2d01",
   "metadata": {},
   "outputs": [
    {
     "name": "stdout",
     "output_type": "stream",
     "text": [
      "[[11]\n",
      " [10]\n",
      " [11]\n",
      " ...\n",
      " [ 9]\n",
      " [ 9]\n",
      " [ 9]]\n"
     ]
    }
   ],
   "source": [
    "# Decode the one-hot encoded data\n",
    "y_pred_valid= one_hot_encoder.inverse_transform(y_pred_valid)\n",
    "#y_pred_valid= np.argmax(y_pred_valid,axis=1)\n",
    "# Convert the decoded output data to a NumPy array format\n",
    "y_pred_valid = np.array(y_pred_valid)\n",
    "\n",
    "# Print the decoded output data\n",
    "print(y_pred_valid)"
   ]
  },
  {
   "cell_type": "code",
   "execution_count": 890,
   "id": "47333a5f",
   "metadata": {},
   "outputs": [
    {
     "data": {
      "text/plain": [
       "array([11, 10, 11, ...,  9,  9,  9], dtype=int64)"
      ]
     },
     "execution_count": 890,
     "metadata": {},
     "output_type": "execute_result"
    }
   ],
   "source": [
    "y_pred_valid.flatten()"
   ]
  },
  {
   "cell_type": "code",
   "execution_count": 891,
   "id": "ce3e6529",
   "metadata": {},
   "outputs": [
    {
     "data": {
      "text/plain": [
       "array([10, 10, 10, ...,  9,  9,  9], dtype=int64)"
      ]
     },
     "execution_count": 891,
     "metadata": {},
     "output_type": "execute_result"
    }
   ],
   "source": [
    "y_valid"
   ]
  },
  {
   "cell_type": "code",
   "execution_count": 892,
   "id": "3b4796c0",
   "metadata": {},
   "outputs": [
    {
     "data": {
      "image/png": "[encoded data removed]",
      "text/plain": [
       "<Figure size 1200x800 with 2 Axes>"
      ]
     },
     "metadata": {},
     "output_type": "display_data"
    },
    {
     "name": "stdout",
     "output_type": "stream",
     "text": [
      "Accuracy without Kalman Filter:  0.8223411371237458\n"
     ]
    }
   ],
   "source": [
    "# cm = confusion_matrix(y_valid, y_pred_valid)\n",
    "# print(cm)\n",
    "# accuracy = accuracy_score(y_valid, y_pred_valid)\n",
    "# print('Accuracy: ', accuracy)\n",
    "\n",
    "conf_mat = confusion_matrix(y_valid, y_pred_valid)\n",
    "array=np.array(conf_mat)\n",
    "df_cm = pd.DataFrame(array, index = [str(i)+\"m\" for i in range(1,26)],\n",
    "                  columns = [str(i)+\"m\" for i in range(1,26)])\n",
    "\n",
    "plt.figure(figsize = (12,8))\n",
    "\n",
    "# import seaborn as sns\n",
    "# sns.heatmap(df_cm, annot=True)\n",
    "\n",
    "a=sns.heatmap(df_cm, annot=True, fmt='d')\n",
    "a.set_xlabel('Predicted distance label in m', fontsize=15)\n",
    "a.set_ylabel('Trude distance label in m', fontsize=15)\n",
    "plt.title('Confusion Matrix', fontsize=16)\n",
    "plt.show()\n",
    "accuracy = accuracy_score(y_valid, y_pred_valid)\n",
    "print('Accuracy without Kalman Filter: ', accuracy)"
   ]
  },
  {
   "cell_type": "code",
   "execution_count": 893,
   "id": "bd6dfccc",
   "metadata": {},
   "outputs": [
    {
     "name": "stdout",
     "output_type": "stream",
     "text": [
      "              precision    recall  f1-score   support\n",
      "\n",
      "          1m       0.94      0.96      0.95       299\n",
      "          2m       0.83      0.91      0.87       299\n",
      "          3m       0.81      0.61      0.70       299\n",
      "          4m       0.60      0.58      0.59       299\n",
      "          5m       0.66      0.82      0.73       299\n",
      "          6m       0.96      0.79      0.87       299\n",
      "          7m       0.80      0.87      0.83       299\n",
      "          8m       0.75      0.70      0.72       299\n",
      "          9m       0.86      0.90      0.88       299\n",
      "         10m       0.75      0.63      0.68       299\n",
      "         11m       0.65      0.64      0.64       299\n",
      "         12m       0.87      0.99      0.92       299\n",
      "         13m       0.80      0.85      0.82       299\n",
      "         14m       0.90      0.92      0.91       299\n",
      "         15m       0.97      0.92      0.95       299\n",
      "         16m       0.94      0.95      0.95       299\n",
      "         17m       0.84      0.94      0.88       299\n",
      "         18m       0.84      0.81      0.82       299\n",
      "         19m       0.78      0.79      0.79       299\n",
      "         20m       0.85      0.91      0.88       299\n",
      "         21m       0.69      0.81      0.74       299\n",
      "         22m       0.96      0.72      0.82       299\n",
      "         23m       0.77      0.92      0.84       299\n",
      "         24m       0.90      0.72      0.80       299\n",
      "         25m       0.99      0.90      0.94       299\n",
      "\n",
      "    accuracy                           0.82      7475\n",
      "   macro avg       0.83      0.82      0.82      7475\n",
      "weighted avg       0.83      0.82      0.82      7475\n",
      "\n"
     ]
    }
   ],
   "source": [
    "# Create a custom label for each class\n",
    "labels = [f\"{i + 1}m\" for i in range(25)]\n",
    "\n",
    "# Generate the classification report\n",
    "print(classification_report(y_valid, y_pred_valid, target_names=labels))"
   ]
  },
  {
   "cell_type": "code",
   "execution_count": null,
   "id": "80ea6ea6",
   "metadata": {},
   "outputs": [],
   "source": []
  },
  {
   "cell_type": "code",
   "execution_count": null,
   "id": "3ee76fa6",
   "metadata": {},
   "outputs": [],
   "source": []
  }
 ],
 "metadata": {
  "kernelspec": {
   "display_name": "Python 3 (ipykernel)",
   "language": "python",
   "name": "python3"
  },
  "language_info": {
   "codemirror_mode": {
    "name": "ipython",
    "version": 3
   },
   "file_extension": ".py",
   "mimetype": "text/x-python",
   "name": "python",
   "nbconvert_exporter": "python",
   "pygments_lexer": "ipython3",
   "version": "3.9.13"
  }
 },
 "nbformat": 4,
 "nbformat_minor": 5
}
