{
 "cells": [
  {
   "cell_type": "markdown",
   "id": "9b1e72fc",
   "metadata": {},
   "source": [
    "**1. Importing Necessary libraries**"
   ]
  },
  {
   "cell_type": "code",
   "execution_count": 11,
   "id": "6721f396",
   "metadata": {},
   "outputs": [],
   "source": [
    "import pandas as pd\n",
    "import os\n",
    "import glob\n",
    "import numpy as np\n",
    "import math\n",
    "import matplotlib.pyplot as plt\n",
    "from matplotlib.pyplot import figure"
   ]
  },
  {
   "cell_type": "code",
   "execution_count": 12,
   "id": "82ad020b",
   "metadata": {},
   "outputs": [
    {
     "data": {
      "text/html": [
       "<div>\n",
       "<style scoped>\n",
       "    .dataframe tbody tr th:only-of-type {\n",
       "        vertical-align: middle;\n",
       "    }\n",
       "\n",
       "    .dataframe tbody tr th {\n",
       "        vertical-align: top;\n",
       "    }\n",
       "\n",
       "    .dataframe thead th {\n",
       "        text-align: right;\n",
       "    }\n",
       "</style>\n",
       "<table border=\"1\" class=\"dataframe\">\n",
       "  <thead>\n",
       "    <tr style=\"text-align: right;\">\n",
       "      <th></th>\n",
       "      <th>#&lt;Time(ms)&gt;</th>\n",
       "      <th>&lt;True Range(m)&gt;</th>\n",
       "      <th>&lt;Est. Range(m)&gt;</th>\n",
       "      <th>&lt;Std dev(m)&gt;</th>\n",
       "      <th>&lt;Successes#&gt;</th>\n",
       "      <th>&lt;Burst#&gt;</th>\n",
       "      <th>&lt;RSSI(dBm)&gt;</th>\n",
       "      <th>&lt;Ch-MHz&gt;</th>\n",
       "      <th>&lt;AP-SSID&gt;</th>\n",
       "      <th>&lt;RTT AP?&gt;</th>\n",
       "    </tr>\n",
       "  </thead>\n",
       "  <tbody>\n",
       "    <tr>\n",
       "      <th>0</th>\n",
       "      <td>14011119</td>\n",
       "      <td>10</td>\n",
       "      <td>10.178</td>\n",
       "      <td>0.674</td>\n",
       "      <td>7</td>\n",
       "      <td>8</td>\n",
       "      <td>-72</td>\n",
       "      <td>5180</td>\n",
       "      <td>GoogleWiFi_AP03</td>\n",
       "      <td>1</td>\n",
       "    </tr>\n",
       "    <tr>\n",
       "      <th>1</th>\n",
       "      <td>14011501</td>\n",
       "      <td>10</td>\n",
       "      <td>10.452</td>\n",
       "      <td>0.142</td>\n",
       "      <td>7</td>\n",
       "      <td>8</td>\n",
       "      <td>-67</td>\n",
       "      <td>5180</td>\n",
       "      <td>GoogleWiFi_AP03</td>\n",
       "      <td>1</td>\n",
       "    </tr>\n",
       "    <tr>\n",
       "      <th>2</th>\n",
       "      <td>14011877</td>\n",
       "      <td>10</td>\n",
       "      <td>10.803</td>\n",
       "      <td>0.077</td>\n",
       "      <td>7</td>\n",
       "      <td>8</td>\n",
       "      <td>-72</td>\n",
       "      <td>5180</td>\n",
       "      <td>GoogleWiFi_AP03</td>\n",
       "      <td>1</td>\n",
       "    </tr>\n",
       "    <tr>\n",
       "      <th>3</th>\n",
       "      <td>14012262</td>\n",
       "      <td>10</td>\n",
       "      <td>10.530</td>\n",
       "      <td>0.194</td>\n",
       "      <td>7</td>\n",
       "      <td>8</td>\n",
       "      <td>-71</td>\n",
       "      <td>5180</td>\n",
       "      <td>GoogleWiFi_AP03</td>\n",
       "      <td>1</td>\n",
       "    </tr>\n",
       "    <tr>\n",
       "      <th>4</th>\n",
       "      <td>14012646</td>\n",
       "      <td>10</td>\n",
       "      <td>10.647</td>\n",
       "      <td>0.083</td>\n",
       "      <td>7</td>\n",
       "      <td>8</td>\n",
       "      <td>-67</td>\n",
       "      <td>5180</td>\n",
       "      <td>GoogleWiFi_AP03</td>\n",
       "      <td>1</td>\n",
       "    </tr>\n",
       "    <tr>\n",
       "      <th>...</th>\n",
       "      <td>...</td>\n",
       "      <td>...</td>\n",
       "      <td>...</td>\n",
       "      <td>...</td>\n",
       "      <td>...</td>\n",
       "      <td>...</td>\n",
       "      <td>...</td>\n",
       "      <td>...</td>\n",
       "      <td>...</td>\n",
       "      <td>...</td>\n",
       "    </tr>\n",
       "    <tr>\n",
       "      <th>294</th>\n",
       "      <td>13946465</td>\n",
       "      <td>9</td>\n",
       "      <td>8.655</td>\n",
       "      <td>0.125</td>\n",
       "      <td>7</td>\n",
       "      <td>8</td>\n",
       "      <td>-60</td>\n",
       "      <td>5180</td>\n",
       "      <td>GoogleWiFi_AP03</td>\n",
       "      <td>1</td>\n",
       "    </tr>\n",
       "    <tr>\n",
       "      <th>295</th>\n",
       "      <td>13946848</td>\n",
       "      <td>9</td>\n",
       "      <td>8.538</td>\n",
       "      <td>0.173</td>\n",
       "      <td>7</td>\n",
       "      <td>8</td>\n",
       "      <td>-60</td>\n",
       "      <td>5180</td>\n",
       "      <td>GoogleWiFi_AP03</td>\n",
       "      <td>1</td>\n",
       "    </tr>\n",
       "    <tr>\n",
       "      <th>296</th>\n",
       "      <td>13947235</td>\n",
       "      <td>9</td>\n",
       "      <td>8.420</td>\n",
       "      <td>0.182</td>\n",
       "      <td>7</td>\n",
       "      <td>8</td>\n",
       "      <td>-60</td>\n",
       "      <td>5180</td>\n",
       "      <td>GoogleWiFi_AP03</td>\n",
       "      <td>1</td>\n",
       "    </tr>\n",
       "    <tr>\n",
       "      <th>297</th>\n",
       "      <td>13947621</td>\n",
       "      <td>9</td>\n",
       "      <td>8.655</td>\n",
       "      <td>0.112</td>\n",
       "      <td>7</td>\n",
       "      <td>8</td>\n",
       "      <td>-60</td>\n",
       "      <td>5180</td>\n",
       "      <td>GoogleWiFi_AP03</td>\n",
       "      <td>1</td>\n",
       "    </tr>\n",
       "    <tr>\n",
       "      <th>298</th>\n",
       "      <td>13948008</td>\n",
       "      <td>9</td>\n",
       "      <td>8.733</td>\n",
       "      <td>0.111</td>\n",
       "      <td>7</td>\n",
       "      <td>8</td>\n",
       "      <td>-61</td>\n",
       "      <td>5180</td>\n",
       "      <td>GoogleWiFi_AP03</td>\n",
       "      <td>1</td>\n",
       "    </tr>\n",
       "  </tbody>\n",
       "</table>\n",
       "<p>7472 rows × 10 columns</p>\n",
       "</div>"
      ],
      "text/plain": [
       "     #<Time(ms)>  <True Range(m)>  <Est. Range(m)>  <Std dev(m)>  \\\n",
       "0       14011119               10           10.178         0.674   \n",
       "1       14011501               10           10.452         0.142   \n",
       "2       14011877               10           10.803         0.077   \n",
       "3       14012262               10           10.530         0.194   \n",
       "4       14012646               10           10.647         0.083   \n",
       "..           ...              ...              ...           ...   \n",
       "294     13946465                9            8.655         0.125   \n",
       "295     13946848                9            8.538         0.173   \n",
       "296     13947235                9            8.420         0.182   \n",
       "297     13947621                9            8.655         0.112   \n",
       "298     13948008                9            8.733         0.111   \n",
       "\n",
       "     <Successes#>  <Burst#>  <RSSI(dBm)>  <Ch-MHz>        <AP-SSID>  <RTT AP?>  \n",
       "0               7         8          -72      5180  GoogleWiFi_AP03          1  \n",
       "1               7         8          -67      5180  GoogleWiFi_AP03          1  \n",
       "2               7         8          -72      5180  GoogleWiFi_AP03          1  \n",
       "3               7         8          -71      5180  GoogleWiFi_AP03          1  \n",
       "4               7         8          -67      5180  GoogleWiFi_AP03          1  \n",
       "..            ...       ...          ...       ...              ...        ...  \n",
       "294             7         8          -60      5180  GoogleWiFi_AP03          1  \n",
       "295             7         8          -60      5180  GoogleWiFi_AP03          1  \n",
       "296             7         8          -60      5180  GoogleWiFi_AP03          1  \n",
       "297             7         8          -60      5180  GoogleWiFi_AP03          1  \n",
       "298             7         8          -61      5180  GoogleWiFi_AP03          1  \n",
       "\n",
       "[7472 rows x 10 columns]"
      ]
     },
     "execution_count": 12,
     "metadata": {},
     "output_type": "execute_result"
    }
   ],
   "source": [
    "#combining no of csv file into one file with name combine_csv\n",
    "#os.chdir('C:\\Users\\LILA\\Desktop\\RTT-RSS with Kalman_offset\\Kalman_offset')\n",
    "#os.chdir('C:/Users/LILA/Desktop/RTT-RSS with Kalman_offset/Kalman_offset')\n",
    "os.chdir(r'C:\\Users\\LILA\\Desktop\\RTT-RSS with Kalman_offset\\raw_dataset')\n",
    "extension='csv'\n",
    "\n",
    "all_filenames=[i for i in glob.glob('*.{}'.format(extension))]\n",
    "\n",
    "combined_csv=pd.concat([pd.read_csv(f) for f in all_filenames])\n",
    "df=combined_csv\n",
    "df"
   ]
  },
  {
   "cell_type": "code",
   "execution_count": 15,
   "id": "76d29fa7",
   "metadata": {},
   "outputs": [],
   "source": [
    "df.drop(['#<Time(ms)>','<Ch-MHz>','<Burst#>','<AP-SSID>','<RTT AP?>','<Successes#>','<Std dev(m)>'],axis=1,inplace=True)\n",
    "df.rename(columns={'<True Range(m)>': 'True_Range', '<Est. Range(m)>': 'Est_Range','<RSSI(dBm)>': 'RSSI','<Successes#>': 'successes'}, inplace=True)"
   ]
  },
  {
   "cell_type": "code",
   "execution_count": 16,
   "id": "98b481f2",
   "metadata": {},
   "outputs": [
    {
     "data": {
      "text/html": [
       "<div>\n",
       "<style scoped>\n",
       "    .dataframe tbody tr th:only-of-type {\n",
       "        vertical-align: middle;\n",
       "    }\n",
       "\n",
       "    .dataframe tbody tr th {\n",
       "        vertical-align: top;\n",
       "    }\n",
       "\n",
       "    .dataframe thead th {\n",
       "        text-align: right;\n",
       "    }\n",
       "</style>\n",
       "<table border=\"1\" class=\"dataframe\">\n",
       "  <thead>\n",
       "    <tr style=\"text-align: right;\">\n",
       "      <th></th>\n",
       "      <th>True_Range</th>\n",
       "      <th>Est_Range</th>\n",
       "      <th>RSSI</th>\n",
       "    </tr>\n",
       "  </thead>\n",
       "  <tbody>\n",
       "    <tr>\n",
       "      <th>0</th>\n",
       "      <td>10</td>\n",
       "      <td>10.178</td>\n",
       "      <td>-72</td>\n",
       "    </tr>\n",
       "    <tr>\n",
       "      <th>1</th>\n",
       "      <td>10</td>\n",
       "      <td>10.452</td>\n",
       "      <td>-67</td>\n",
       "    </tr>\n",
       "    <tr>\n",
       "      <th>2</th>\n",
       "      <td>10</td>\n",
       "      <td>10.803</td>\n",
       "      <td>-72</td>\n",
       "    </tr>\n",
       "    <tr>\n",
       "      <th>3</th>\n",
       "      <td>10</td>\n",
       "      <td>10.530</td>\n",
       "      <td>-71</td>\n",
       "    </tr>\n",
       "    <tr>\n",
       "      <th>4</th>\n",
       "      <td>10</td>\n",
       "      <td>10.647</td>\n",
       "      <td>-67</td>\n",
       "    </tr>\n",
       "    <tr>\n",
       "      <th>...</th>\n",
       "      <td>...</td>\n",
       "      <td>...</td>\n",
       "      <td>...</td>\n",
       "    </tr>\n",
       "    <tr>\n",
       "      <th>294</th>\n",
       "      <td>9</td>\n",
       "      <td>8.655</td>\n",
       "      <td>-60</td>\n",
       "    </tr>\n",
       "    <tr>\n",
       "      <th>295</th>\n",
       "      <td>9</td>\n",
       "      <td>8.538</td>\n",
       "      <td>-60</td>\n",
       "    </tr>\n",
       "    <tr>\n",
       "      <th>296</th>\n",
       "      <td>9</td>\n",
       "      <td>8.420</td>\n",
       "      <td>-60</td>\n",
       "    </tr>\n",
       "    <tr>\n",
       "      <th>297</th>\n",
       "      <td>9</td>\n",
       "      <td>8.655</td>\n",
       "      <td>-60</td>\n",
       "    </tr>\n",
       "    <tr>\n",
       "      <th>298</th>\n",
       "      <td>9</td>\n",
       "      <td>8.733</td>\n",
       "      <td>-61</td>\n",
       "    </tr>\n",
       "  </tbody>\n",
       "</table>\n",
       "<p>7472 rows × 3 columns</p>\n",
       "</div>"
      ],
      "text/plain": [
       "     True_Range  Est_Range  RSSI\n",
       "0            10     10.178   -72\n",
       "1            10     10.452   -67\n",
       "2            10     10.803   -72\n",
       "3            10     10.530   -71\n",
       "4            10     10.647   -67\n",
       "..          ...        ...   ...\n",
       "294           9      8.655   -60\n",
       "295           9      8.538   -60\n",
       "296           9      8.420   -60\n",
       "297           9      8.655   -60\n",
       "298           9      8.733   -61\n",
       "\n",
       "[7472 rows x 3 columns]"
      ]
     },
     "execution_count": 16,
     "metadata": {},
     "output_type": "execute_result"
    }
   ],
   "source": [
    "df"
   ]
  },
  {
   "cell_type": "markdown",
   "id": "0f8d5c93",
   "metadata": {},
   "source": [
    "**2. Extracting input and output data from Dataframe**"
   ]
  },
  {
   "cell_type": "code",
   "execution_count": 19,
   "id": "7ee52a9d",
   "metadata": {},
   "outputs": [
    {
     "data": {
      "text/html": [
       "<div>\n",
       "<style scoped>\n",
       "    .dataframe tbody tr th:only-of-type {\n",
       "        vertical-align: middle;\n",
       "    }\n",
       "\n",
       "    .dataframe tbody tr th {\n",
       "        vertical-align: top;\n",
       "    }\n",
       "\n",
       "    .dataframe thead th {\n",
       "        text-align: right;\n",
       "    }\n",
       "</style>\n",
       "<table border=\"1\" class=\"dataframe\">\n",
       "  <thead>\n",
       "    <tr style=\"text-align: right;\">\n",
       "      <th></th>\n",
       "      <th>Est_Range</th>\n",
       "      <th>RSSI</th>\n",
       "    </tr>\n",
       "  </thead>\n",
       "  <tbody>\n",
       "    <tr>\n",
       "      <th>0</th>\n",
       "      <td>10.178</td>\n",
       "      <td>-72</td>\n",
       "    </tr>\n",
       "    <tr>\n",
       "      <th>1</th>\n",
       "      <td>10.452</td>\n",
       "      <td>-67</td>\n",
       "    </tr>\n",
       "    <tr>\n",
       "      <th>2</th>\n",
       "      <td>10.803</td>\n",
       "      <td>-72</td>\n",
       "    </tr>\n",
       "    <tr>\n",
       "      <th>3</th>\n",
       "      <td>10.530</td>\n",
       "      <td>-71</td>\n",
       "    </tr>\n",
       "    <tr>\n",
       "      <th>4</th>\n",
       "      <td>10.647</td>\n",
       "      <td>-67</td>\n",
       "    </tr>\n",
       "    <tr>\n",
       "      <th>...</th>\n",
       "      <td>...</td>\n",
       "      <td>...</td>\n",
       "    </tr>\n",
       "    <tr>\n",
       "      <th>294</th>\n",
       "      <td>8.655</td>\n",
       "      <td>-60</td>\n",
       "    </tr>\n",
       "    <tr>\n",
       "      <th>295</th>\n",
       "      <td>8.538</td>\n",
       "      <td>-60</td>\n",
       "    </tr>\n",
       "    <tr>\n",
       "      <th>296</th>\n",
       "      <td>8.420</td>\n",
       "      <td>-60</td>\n",
       "    </tr>\n",
       "    <tr>\n",
       "      <th>297</th>\n",
       "      <td>8.655</td>\n",
       "      <td>-60</td>\n",
       "    </tr>\n",
       "    <tr>\n",
       "      <th>298</th>\n",
       "      <td>8.733</td>\n",
       "      <td>-61</td>\n",
       "    </tr>\n",
       "  </tbody>\n",
       "</table>\n",
       "<p>7472 rows × 2 columns</p>\n",
       "</div>"
      ],
      "text/plain": [
       "     Est_Range  RSSI\n",
       "0       10.178   -72\n",
       "1       10.452   -67\n",
       "2       10.803   -72\n",
       "3       10.530   -71\n",
       "4       10.647   -67\n",
       "..         ...   ...\n",
       "294      8.655   -60\n",
       "295      8.538   -60\n",
       "296      8.420   -60\n",
       "297      8.655   -60\n",
       "298      8.733   -61\n",
       "\n",
       "[7472 rows x 2 columns]"
      ]
     },
     "execution_count": 19,
     "metadata": {},
     "output_type": "execute_result"
    }
   ],
   "source": [
    "input_data = df.iloc[:, -2:]\n",
    "#output_data = df['TRUE'].values\n",
    "output_data = df['True_Range'].values\n",
    "output_data = np.array(output_data)\n",
    "input_data"
   ]
  },
  {
   "cell_type": "code",
   "execution_count": 20,
   "id": "e5df4cb5",
   "metadata": {},
   "outputs": [
    {
     "data": {
      "text/plain": [
       "array([[ 10.178, -72.   ],\n",
       "       [ 10.452, -67.   ],\n",
       "       [ 10.803, -72.   ],\n",
       "       ...,\n",
       "       [  8.42 , -60.   ],\n",
       "       [  8.655, -60.   ],\n",
       "       [  8.733, -61.   ]])"
      ]
     },
     "execution_count": 20,
     "metadata": {},
     "output_type": "execute_result"
    }
   ],
   "source": [
    "input_data = input_data.values #conversting dataframe format to array format\n",
    "#input_data = input_data.reshape(-1,1)\n",
    "X=input_data\n",
    "X"
   ]
  },
  {
   "cell_type": "code",
   "execution_count": 21,
   "id": "37432f87",
   "metadata": {},
   "outputs": [
    {
     "data": {
      "text/plain": [
       "array([10, 10, 10, ...,  9,  9,  9], dtype=int64)"
      ]
     },
     "execution_count": 21,
     "metadata": {},
     "output_type": "execute_result"
    }
   ],
   "source": [
    "output_data"
   ]
  },
  {
   "cell_type": "markdown",
   "id": "05f022f6",
   "metadata": {},
   "source": [
    "**3. Creating Multiple class using Onehot Encoder of output**"
   ]
  },
  {
   "cell_type": "code",
   "execution_count": 22,
   "id": "534b1e19",
   "metadata": {},
   "outputs": [],
   "source": [
    "\n",
    "from sklearn.preprocessing import OneHotEncoder\n",
    "# Create a one-hot encoder object\n",
    "one_hot_encoder = OneHotEncoder()\n",
    "\n",
    "# Fit and transform the one-hot encoder on your output data\n",
    "output_data = np.array(output_data)\n",
    "encoded_output = one_hot_encoder.fit_transform(output_data.reshape(-1,1))\n",
    "# Convert the encoded output data to a NumPy array format\n",
    "#encoded_output = np.array(encoded_output)\n",
    "encoded_output = encoded_output.toarray()\n",
    "y=encoded_output\n"
   ]
  },
  {
   "cell_type": "code",
   "execution_count": 23,
   "id": "80b9bc5e",
   "metadata": {},
   "outputs": [],
   "source": [
    "#output_data=output_data.values"
   ]
  },
  {
   "cell_type": "code",
   "execution_count": 24,
   "id": "fa3246ab",
   "metadata": {},
   "outputs": [
    {
     "data": {
      "text/plain": [
       "array([[ 10.178, -72.   ],\n",
       "       [ 10.452, -67.   ],\n",
       "       [ 10.803, -72.   ],\n",
       "       ...,\n",
       "       [  8.42 , -60.   ],\n",
       "       [  8.655, -60.   ],\n",
       "       [  8.733, -61.   ]])"
      ]
     },
     "execution_count": 24,
     "metadata": {},
     "output_type": "execute_result"
    }
   ],
   "source": [
    "input_data"
   ]
  },
  {
   "cell_type": "markdown",
   "id": "d69b03cc",
   "metadata": {},
   "source": [
    "**4. Importing necessary libraries and create the DNN model**"
   ]
  },
  {
   "cell_type": "code",
   "execution_count": 25,
   "id": "42e5d1ff",
   "metadata": {},
   "outputs": [
    {
     "name": "stdout",
     "output_type": "stream",
     "text": [
      "Model: \"sequential\"\n",
      "_________________________________________________________________\n",
      " Layer (type)                Output Shape              Param #   \n",
      "=================================================================\n",
      " dense (Dense)               (None, 64)                192       \n",
      "                                                                 \n",
      " dense_1 (Dense)             (None, 128)               8320      \n",
      "                                                                 \n",
      " dense_2 (Dense)             (None, 128)               16512     \n",
      "                                                                 \n",
      " dense_3 (Dense)             (None, 64)                8256      \n",
      "                                                                 \n",
      " dense_4 (Dense)             (None, 25)                1625      \n",
      "                                                                 \n",
      "=================================================================\n",
      "Total params: 34,905\n",
      "Trainable params: 34,905\n",
      "Non-trainable params: 0\n",
      "_________________________________________________________________\n"
     ]
    }
   ],
   "source": [
    "from keras.models import Sequential\n",
    "from keras.layers import Dense\n",
    "from tensorflow import keras\n",
    "from keras.optimizers import Adam\n",
    "from keras.layers import Dropout\n",
    "\n",
    "optimizer = Adam(learning_rate=0.0001)\n",
    "\n",
    "# Initialize the model\n",
    "model = Sequential()\n",
    "\n",
    "# Add the first hidden layer with 64 neurons and input shape as the shape of the input data\n",
    "model.add(Dense(64, activation='relu', input_shape=(2,)))\n",
    "\n",
    "# Add the second hidden layer with 128 neurons\n",
    "model.add(Dense(128, activation='relu'))\n",
    "#model.add(Dropout(0.3))\n",
    "\n",
    "# Add the third hidden layer with 128 neurons\n",
    "model.add(Dense(128, activation='relu'))\n",
    "#model.add(Dropout(0.2))\n",
    "\n",
    "# Add the fourth hidden layer with 32 neurons\n",
    "model.add(Dense(64, activation='relu'))\n",
    "# model.add(Dropout(0.2))\n",
    "\n",
    "# Add the output layer with 25 neurons for the 25 categories, and use softmax activation for multiclass classification\n",
    "model.add(Dense(25, activation='softmax'))\n",
    "\n",
    "# Compile the model, using categorical_crossentropy loss for multiclass classification, and 'adam' optimizer\n",
    "#model.compile(loss='categorical_crossentropy', optimizer='adam', metrics=['accuracy'])\n",
    "model.compile(loss='categorical_crossentropy', optimizer=optimizer, metrics=['accuracy'])\n",
    "model.summary()"
   ]
  },
  {
   "cell_type": "code",
   "execution_count": 26,
   "id": "4afd74d8",
   "metadata": {},
   "outputs": [],
   "source": [
    "from sklearn.model_selection import train_test_split\n",
    "\n",
    "# assuming your data is in X and y variables\n",
    "#X_train_val, X_test, y_train_val, y_test = train_test_split(X, y, test_size=0.2, random_state=42)\n",
    "#X_train, X_val, y_train, y_val = train_test_split(X_train_val, y_train_val, test_size=0.25, random_state=42)\n",
    "X_train, X_test, y_train, y_test = train_test_split(input_data, encoded_output, test_size=0.3, random_state=42)"
   ]
  },
  {
   "cell_type": "code",
   "execution_count": 27,
   "id": "95ebf308",
   "metadata": {},
   "outputs": [
    {
     "data": {
      "text/plain": [
       "array([[  8.772, -61.   ],\n",
       "       [ 21.116, -76.   ],\n",
       "       [ 10.061, -66.   ],\n",
       "       ...,\n",
       "       [  3.215, -60.   ],\n",
       "       [ 12.21 , -62.   ],\n",
       "       [  8.811, -57.   ]])"
      ]
     },
     "execution_count": 27,
     "metadata": {},
     "output_type": "execute_result"
    }
   ],
   "source": [
    "X_train"
   ]
  },
  {
   "cell_type": "markdown",
   "id": "5eaa3039",
   "metadata": {},
   "source": [
    "**5. Standarizing the data- Preprocessing**"
   ]
  },
  {
   "cell_type": "code",
   "execution_count": 28,
   "id": "e5ced5cb",
   "metadata": {},
   "outputs": [
    {
     "data": {
      "text/plain": [
       "(5230, 2)"
      ]
     },
     "execution_count": 28,
     "metadata": {},
     "output_type": "execute_result"
    }
   ],
   "source": [
    "from sklearn.preprocessing import StandardScaler\n",
    "sc = StandardScaler() \n",
    "X_train = sc.fit_transform(X_train)\n",
    "X_test = sc.fit_transform(X_test)\n",
    "#X_val = sc.fit_transform(X_val)\n",
    "X_train.shape"
   ]
  },
  {
   "cell_type": "code",
   "execution_count": 29,
   "id": "166d7c7e",
   "metadata": {},
   "outputs": [
    {
     "data": {
      "text/plain": [
       "array([[-0.54690047,  0.7255474 ],\n",
       "       [ 1.11779034, -1.17619645],\n",
       "       [-0.37306812,  0.09163278],\n",
       "       ...,\n",
       "       [-1.29630802,  0.85233032],\n",
       "       [-0.08325764,  0.59876447],\n",
       "       [-0.54164099,  1.23267909]])"
      ]
     },
     "execution_count": 29,
     "metadata": {},
     "output_type": "execute_result"
    }
   ],
   "source": [
    "X_train"
   ]
  },
  {
   "cell_type": "code",
   "execution_count": 30,
   "id": "c8c29d35",
   "metadata": {},
   "outputs": [
    {
     "data": {
      "text/plain": [
       "array([[0., 0., 0., ..., 0., 0., 0.],\n",
       "       [0., 0., 0., ..., 0., 0., 0.],\n",
       "       [0., 0., 0., ..., 0., 0., 0.],\n",
       "       ...,\n",
       "       [0., 0., 1., ..., 0., 0., 0.],\n",
       "       [0., 0., 0., ..., 0., 0., 0.],\n",
       "       [0., 0., 0., ..., 0., 0., 0.]])"
      ]
     },
     "execution_count": 30,
     "metadata": {},
     "output_type": "execute_result"
    }
   ],
   "source": [
    "y_train"
   ]
  },
  {
   "cell_type": "code",
   "execution_count": 31,
   "id": "1a0458f9",
   "metadata": {},
   "outputs": [
    {
     "data": {
      "text/plain": [
       "array([[0., 0., 0., ..., 0., 1., 0.],\n",
       "       [0., 0., 0., ..., 0., 0., 0.],\n",
       "       [0., 0., 0., ..., 1., 0., 0.],\n",
       "       ...,\n",
       "       [0., 0., 0., ..., 0., 0., 0.],\n",
       "       [0., 0., 0., ..., 0., 0., 0.],\n",
       "       [0., 0., 0., ..., 0., 0., 0.]])"
      ]
     },
     "execution_count": 31,
     "metadata": {},
     "output_type": "execute_result"
    }
   ],
   "source": [
    "y_test"
   ]
  },
  {
   "cell_type": "code",
   "execution_count": 32,
   "id": "9de4d0fb",
   "metadata": {},
   "outputs": [
    {
     "name": "stdout",
     "output_type": "stream",
     "text": [
      "Epoch 1/500\n",
      "164/164 [==============================] - 1s 2ms/step - loss: 3.1114 - accuracy: 0.1581 - val_loss: 2.9763 - val_accuracy: 0.1829\n",
      "Epoch 2/500\n",
      "164/164 [==============================] - 0s 1ms/step - loss: 2.7189 - accuracy: 0.1927 - val_loss: 2.4960 - val_accuracy: 0.2132\n",
      "Epoch 3/500\n",
      "164/164 [==============================] - 0s 1ms/step - loss: 2.2104 - accuracy: 0.2757 - val_loss: 2.0357 - val_accuracy: 0.3287\n",
      "Epoch 4/500\n",
      "164/164 [==============================] - 0s 1ms/step - loss: 1.7960 - accuracy: 0.3855 - val_loss: 1.7021 - val_accuracy: 0.4228\n",
      "Epoch 5/500\n",
      "164/164 [==============================] - 0s 1ms/step - loss: 1.5317 - accuracy: 0.4727 - val_loss: 1.4886 - val_accuracy: 0.4581\n",
      "Epoch 6/500\n",
      "164/164 [==============================] - 0s 1ms/step - loss: 1.3508 - accuracy: 0.5604 - val_loss: 1.3344 - val_accuracy: 0.5727\n",
      "Epoch 7/500\n",
      "164/164 [==============================] - 0s 1ms/step - loss: 1.2127 - accuracy: 0.6279 - val_loss: 1.2060 - val_accuracy: 0.6298\n",
      "Epoch 8/500\n",
      "164/164 [==============================] - 0s 1ms/step - loss: 1.0971 - accuracy: 0.6719 - val_loss: 1.1020 - val_accuracy: 0.6708\n",
      "Epoch 9/500\n",
      "164/164 [==============================] - 0s 1ms/step - loss: 1.0049 - accuracy: 0.6956 - val_loss: 1.0334 - val_accuracy: 0.6628\n",
      "Epoch 10/500\n",
      "164/164 [==============================] - 0s 1ms/step - loss: 0.9290 - accuracy: 0.7247 - val_loss: 0.9776 - val_accuracy: 0.6918\n",
      "Epoch 11/500\n",
      "164/164 [==============================] - 0s 1ms/step - loss: 0.8712 - accuracy: 0.7423 - val_loss: 0.9097 - val_accuracy: 0.7208\n",
      "Epoch 12/500\n",
      "164/164 [==============================] - 0s 1ms/step - loss: 0.8228 - accuracy: 0.7623 - val_loss: 0.8803 - val_accuracy: 0.7101\n",
      "Epoch 13/500\n",
      "164/164 [==============================] - 0s 1ms/step - loss: 0.7813 - accuracy: 0.7652 - val_loss: 0.8410 - val_accuracy: 0.7547\n",
      "Epoch 14/500\n",
      "164/164 [==============================] - 0s 1ms/step - loss: 0.7457 - accuracy: 0.7771 - val_loss: 0.8136 - val_accuracy: 0.7351\n",
      "Epoch 15/500\n",
      "164/164 [==============================] - 0s 1ms/step - loss: 0.7194 - accuracy: 0.7872 - val_loss: 0.7801 - val_accuracy: 0.7435\n",
      "Epoch 16/500\n",
      "164/164 [==============================] - 0s 1ms/step - loss: 0.6901 - accuracy: 0.7929 - val_loss: 0.7584 - val_accuracy: 0.7480\n",
      "Epoch 17/500\n",
      "164/164 [==============================] - 0s 1ms/step - loss: 0.6645 - accuracy: 0.8038 - val_loss: 0.7213 - val_accuracy: 0.7587\n",
      "Epoch 18/500\n",
      "164/164 [==============================] - 0s 1ms/step - loss: 0.6461 - accuracy: 0.8107 - val_loss: 0.7116 - val_accuracy: 0.7739\n",
      "Epoch 19/500\n",
      "164/164 [==============================] - 0s 2ms/step - loss: 0.6233 - accuracy: 0.8145 - val_loss: 0.7042 - val_accuracy: 0.7788\n",
      "Epoch 20/500\n",
      "164/164 [==============================] - 0s 1ms/step - loss: 0.6080 - accuracy: 0.8201 - val_loss: 0.6786 - val_accuracy: 0.7886\n",
      "Epoch 21/500\n",
      "164/164 [==============================] - 0s 1ms/step - loss: 0.5891 - accuracy: 0.8252 - val_loss: 0.6598 - val_accuracy: 0.7649\n",
      "Epoch 22/500\n",
      "164/164 [==============================] - 0s 1ms/step - loss: 0.5769 - accuracy: 0.8270 - val_loss: 0.6537 - val_accuracy: 0.8002\n",
      "Epoch 23/500\n",
      "164/164 [==============================] - 0s 1ms/step - loss: 0.5624 - accuracy: 0.8308 - val_loss: 0.6266 - val_accuracy: 0.8073\n",
      "Epoch 24/500\n",
      "164/164 [==============================] - 0s 1ms/step - loss: 0.5481 - accuracy: 0.8315 - val_loss: 0.6149 - val_accuracy: 0.8069\n",
      "Epoch 25/500\n",
      "164/164 [==============================] - 0s 1ms/step - loss: 0.5403 - accuracy: 0.8337 - val_loss: 0.6202 - val_accuracy: 0.8051\n",
      "Epoch 26/500\n",
      "164/164 [==============================] - 0s 1ms/step - loss: 0.5262 - accuracy: 0.8390 - val_loss: 0.5974 - val_accuracy: 0.8176\n",
      "Epoch 27/500\n",
      "164/164 [==============================] - 0s 1ms/step - loss: 0.5170 - accuracy: 0.8407 - val_loss: 0.5856 - val_accuracy: 0.8149\n",
      "Epoch 28/500\n",
      "164/164 [==============================] - 0s 1ms/step - loss: 0.5073 - accuracy: 0.8436 - val_loss: 0.5926 - val_accuracy: 0.8006\n",
      "Epoch 29/500\n",
      "164/164 [==============================] - 0s 1ms/step - loss: 0.4993 - accuracy: 0.8476 - val_loss: 0.5672 - val_accuracy: 0.8149\n",
      "Epoch 30/500\n",
      "164/164 [==============================] - 0s 1ms/step - loss: 0.4872 - accuracy: 0.8501 - val_loss: 0.5765 - val_accuracy: 0.7850\n",
      "Epoch 31/500\n",
      "164/164 [==============================] - 0s 1ms/step - loss: 0.4804 - accuracy: 0.8468 - val_loss: 0.5496 - val_accuracy: 0.8314\n",
      "Epoch 32/500\n",
      "164/164 [==============================] - 0s 1ms/step - loss: 0.4703 - accuracy: 0.8497 - val_loss: 0.5708 - val_accuracy: 0.8145\n",
      "Epoch 33/500\n",
      "164/164 [==============================] - 0s 2ms/step - loss: 0.4637 - accuracy: 0.8530 - val_loss: 0.5509 - val_accuracy: 0.7886\n",
      "Epoch 34/500\n",
      "164/164 [==============================] - 0s 1ms/step - loss: 0.4547 - accuracy: 0.8539 - val_loss: 0.5293 - val_accuracy: 0.8252\n",
      "Epoch 35/500\n",
      "164/164 [==============================] - 0s 1ms/step - loss: 0.4460 - accuracy: 0.8589 - val_loss: 0.5112 - val_accuracy: 0.8403\n",
      "Epoch 36/500\n",
      "164/164 [==============================] - 0s 1ms/step - loss: 0.4369 - accuracy: 0.8606 - val_loss: 0.5128 - val_accuracy: 0.8332\n",
      "Epoch 37/500\n",
      "164/164 [==============================] - 0s 1ms/step - loss: 0.4308 - accuracy: 0.8635 - val_loss: 0.5009 - val_accuracy: 0.8470\n",
      "Epoch 38/500\n",
      "164/164 [==============================] - 0s 1ms/step - loss: 0.4274 - accuracy: 0.8589 - val_loss: 0.5140 - val_accuracy: 0.8430\n",
      "Epoch 39/500\n",
      "164/164 [==============================] - 0s 1ms/step - loss: 0.4221 - accuracy: 0.8623 - val_loss: 0.4918 - val_accuracy: 0.8426\n",
      "Epoch 40/500\n",
      "164/164 [==============================] - 0s 1ms/step - loss: 0.4138 - accuracy: 0.8686 - val_loss: 0.5099 - val_accuracy: 0.8296\n",
      "Epoch 41/500\n",
      "164/164 [==============================] - 0s 2ms/step - loss: 0.4061 - accuracy: 0.8715 - val_loss: 0.4918 - val_accuracy: 0.8591\n",
      "Epoch 42/500\n",
      "164/164 [==============================] - 0s 2ms/step - loss: 0.4032 - accuracy: 0.8725 - val_loss: 0.4771 - val_accuracy: 0.8693\n",
      "Epoch 43/500\n",
      "164/164 [==============================] - 0s 1ms/step - loss: 0.3980 - accuracy: 0.8677 - val_loss: 0.4782 - val_accuracy: 0.8533\n",
      "Epoch 44/500\n",
      "164/164 [==============================] - 0s 2ms/step - loss: 0.3916 - accuracy: 0.8721 - val_loss: 0.4796 - val_accuracy: 0.8336\n",
      "Epoch 45/500\n",
      "164/164 [==============================] - 0s 2ms/step - loss: 0.3873 - accuracy: 0.8767 - val_loss: 0.4639 - val_accuracy: 0.8524\n",
      "Epoch 46/500\n",
      "164/164 [==============================] - 0s 2ms/step - loss: 0.3835 - accuracy: 0.8759 - val_loss: 0.4739 - val_accuracy: 0.8399\n",
      "Epoch 47/500\n",
      "164/164 [==============================] - 0s 2ms/step - loss: 0.3803 - accuracy: 0.8793 - val_loss: 0.4560 - val_accuracy: 0.8640\n",
      "Epoch 48/500\n",
      "164/164 [==============================] - 0s 2ms/step - loss: 0.3762 - accuracy: 0.8786 - val_loss: 0.4534 - val_accuracy: 0.8702\n",
      "Epoch 49/500\n",
      "164/164 [==============================] - 0s 1ms/step - loss: 0.3722 - accuracy: 0.8790 - val_loss: 0.4340 - val_accuracy: 0.8756\n",
      "Epoch 50/500\n",
      "164/164 [==============================] - 0s 1ms/step - loss: 0.3676 - accuracy: 0.8832 - val_loss: 0.4641 - val_accuracy: 0.8519\n",
      "Epoch 51/500\n",
      "164/164 [==============================] - 0s 1ms/step - loss: 0.3640 - accuracy: 0.8836 - val_loss: 0.4579 - val_accuracy: 0.8403\n",
      "Epoch 52/500\n",
      "164/164 [==============================] - 0s 1ms/step - loss: 0.3601 - accuracy: 0.8826 - val_loss: 0.4342 - val_accuracy: 0.8698\n"
     ]
    }
   ],
   "source": [
    "early_stopping = keras.callbacks.EarlyStopping(patience=3, monitor='val_loss')\n",
    "history = model.fit(X_train, y_train, validation_data=(X_test, y_test), epochs=500, callbacks=[early_stopping])"
   ]
  },
  {
   "cell_type": "code",
   "execution_count": 33,
   "id": "9305d142",
   "metadata": {},
   "outputs": [
    {
     "name": "stdout",
     "output_type": "stream",
     "text": [
      "71/71 [==============================] - 0s 640us/step - loss: 0.4342 - accuracy: 0.8698\n",
      "Test loss: 0.4341834485530853\n",
      "Test accuracy: 0.8697591423988342\n"
     ]
    }
   ],
   "source": [
    "## evaluate the model on the test set\n",
    "loss, accuracy = model.evaluate(X_test, y_test)\n",
    "print('Test loss:', loss)\n",
    "print('Test accuracy:', accuracy)"
   ]
  },
  {
   "cell_type": "code",
   "execution_count": 34,
   "id": "9e0e85b5",
   "metadata": {},
   "outputs": [
    {
     "data": {
      "image/png": "[encoded data removed]",
      "text/plain": [
       "<Figure size 640x480 with 1 Axes>"
      ]
     },
     "metadata": {},
     "output_type": "display_data"
    },
    {
     "data": {
      "image/png": "[encoded data removed]",
      "text/plain": [
       "<Figure size 640x480 with 1 Axes>"
      ]
     },
     "metadata": {},
     "output_type": "display_data"
    }
   ],
   "source": [
    "# Plot the loss curve\n",
    "plt.plot(history.history['loss'], 'r', label='Training loss')\n",
    "plt.plot(history.history['val_loss'], 'b', label='Validation loss' )\n",
    "plt.title('Loss Curve')\n",
    "plt.xlabel('Number of training Epochs')\n",
    "plt.ylabel('Loss (m)')\n",
    "plt.legend()\n",
    "plt.show()\n",
    "\n",
    "# Plot the accuracy curve\n",
    "plt.plot(history.history['accuracy'], 'r', label='Training accuracy')\n",
    "plt.plot(history.history['val_accuracy'], 'b', label='Validation accuracy')\n",
    "plt.title('Accuracy Curve')\n",
    "plt.xlabel('Number of training Epochs')\n",
    "plt.ylabel('Accuracy')\n",
    "plt.legend()\n",
    "plt.show()"
   ]
  },
  {
   "cell_type": "code",
   "execution_count": 35,
   "id": "447c957f",
   "metadata": {},
   "outputs": [
    {
     "name": "stdout",
     "output_type": "stream",
     "text": [
      "71/71 [==============================] - 0s 541us/step\n"
     ]
    }
   ],
   "source": [
    "y_pred = model.predict(X_test)"
   ]
  },
  {
   "cell_type": "code",
   "execution_count": 36,
   "id": "4a15bbad",
   "metadata": {},
   "outputs": [
    {
     "data": {
      "text/plain": [
       "array([[2.28941488e-09, 3.11003270e-21, 1.65157768e-25, ...,\n",
       "        3.70270193e-01, 6.24148786e-01, 1.80836253e-06],\n",
       "       [3.67628016e-18, 1.77436484e-19, 6.80036365e-17, ...,\n",
       "        7.99728405e-22, 9.02220677e-21, 4.21357529e-25],\n",
       "       [5.62957148e-09, 5.17306509e-20, 5.66703001e-24, ...,\n",
       "        7.75093853e-01, 1.96669787e-01, 3.38350947e-05],\n",
       "       ...,\n",
       "       [1.95418717e-14, 1.52083711e-18, 6.71515056e-22, ...,\n",
       "        9.40625267e-09, 1.95657327e-11, 4.68068720e-06],\n",
       "       [3.08871713e-11, 3.71707179e-19, 1.94043892e-22, ...,\n",
       "        2.13878448e-04, 8.09572441e-07, 1.54056670e-02],\n",
       "       [1.07177428e-17, 2.54409489e-18, 1.67655237e-13, ...,\n",
       "        1.20848227e-22, 1.00407415e-23, 3.76666630e-23]], dtype=float32)"
      ]
     },
     "execution_count": 36,
     "metadata": {},
     "output_type": "execute_result"
    }
   ],
   "source": [
    "y_pred"
   ]
  },
  {
   "cell_type": "code",
   "execution_count": 37,
   "id": "3c1480b4",
   "metadata": {},
   "outputs": [
    {
     "data": {
      "text/plain": [
       "(2242, 25)"
      ]
     },
     "execution_count": 37,
     "metadata": {},
     "output_type": "execute_result"
    }
   ],
   "source": [
    "y_pred.shape"
   ]
  },
  {
   "cell_type": "code",
   "execution_count": 38,
   "id": "201c8d5d",
   "metadata": {},
   "outputs": [
    {
     "name": "stdout",
     "output_type": "stream",
     "text": [
      "[23 10 22 ... 20 20  6]\n"
     ]
    }
   ],
   "source": [
    "# Decode the one-hot encoded data\n",
    "#y_pred= one_hot_encoder.inverse_transform(y_pred)\n",
    "y_pred= np.argmax(y_pred, axis=1)\n",
    "# Convert the decoded output data to a NumPy array format\n",
    "y_pred = np.array(y_pred)\n",
    "\n",
    "# Print the decoded output data\n",
    "print(y_pred)"
   ]
  },
  {
   "cell_type": "code",
   "execution_count": 39,
   "id": "5844e0f8",
   "metadata": {},
   "outputs": [
    {
     "data": {
      "text/plain": [
       "array([23, 10, 22, ..., 20, 20,  6], dtype=int64)"
      ]
     },
     "execution_count": 39,
     "metadata": {},
     "output_type": "execute_result"
    }
   ],
   "source": [
    "y_pred=y_pred.flatten()\n",
    "y_pred"
   ]
  },
  {
   "cell_type": "code",
   "execution_count": 40,
   "id": "ae597927",
   "metadata": {},
   "outputs": [
    {
     "data": {
      "text/plain": [
       "array([[0., 0., 0., ..., 0., 1., 0.],\n",
       "       [0., 0., 0., ..., 0., 0., 0.],\n",
       "       [0., 0., 0., ..., 1., 0., 0.],\n",
       "       ...,\n",
       "       [0., 0., 0., ..., 0., 0., 0.],\n",
       "       [0., 0., 0., ..., 0., 0., 0.],\n",
       "       [0., 0., 0., ..., 0., 0., 0.]])"
      ]
     },
     "execution_count": 40,
     "metadata": {},
     "output_type": "execute_result"
    }
   ],
   "source": [
    "y_test"
   ]
  },
  {
   "cell_type": "code",
   "execution_count": 41,
   "id": "2edb1d4f",
   "metadata": {},
   "outputs": [
    {
     "name": "stdout",
     "output_type": "stream",
     "text": [
      "[23 10 22 ... 20 21  6]\n"
     ]
    }
   ],
   "source": [
    "# Decode the one-hot encoded data\n",
    "#y_test= one_hot_encoder.inverse_transform(y_test)\n",
    "y_test=np.argmax(y_test, axis=1)\n",
    "# Convert the decoded output data to a NumPy array format\n",
    "y_test = np.array(y_test)\n",
    "\n",
    "# Print the decoded output data\n",
    "print(y_test)"
   ]
  },
  {
   "cell_type": "code",
   "execution_count": 42,
   "id": "dfef252b",
   "metadata": {},
   "outputs": [
    {
     "data": {
      "text/plain": [
       "array([23, 10, 22, ..., 20, 21,  6], dtype=int64)"
      ]
     },
     "execution_count": 42,
     "metadata": {},
     "output_type": "execute_result"
    }
   ],
   "source": [
    "y_test = y_test.flatten()\n",
    "y_test"
   ]
  },
  {
   "cell_type": "markdown",
   "id": "c2ffd617",
   "metadata": {},
   "source": [
    "**6. Confusion Matrix and Classification Report**"
   ]
  },
  {
   "cell_type": "code",
   "execution_count": 43,
   "id": "c7a24aa2",
   "metadata": {},
   "outputs": [
    {
     "data": {
      "image/png": "[encoded data removed]",
      "text/plain": [
       "<Figure size 1200x800 with 2 Axes>"
      ]
     },
     "metadata": {},
     "output_type": "display_data"
    },
    {
     "name": "stdout",
     "output_type": "stream",
     "text": [
      "Accuracy of Model with Calibrated data:  0.8697591436217663\n"
     ]
    }
   ],
   "source": [
    "from sklearn.metrics import confusion_matrix, accuracy_score, mean_squared_error, classification_report\n",
    "import seaborn as sns\n",
    "\n",
    "# Calculate the confusion matrix\n",
    "conf_mat = confusion_matrix(y_test, y_pred)\n",
    "array=np.array(conf_mat)\n",
    "df_cm = pd.DataFrame(array, index = [str(i)+\"m\" for i in range(1,26)],\n",
    "                  columns = [str(i)+\"m\" for i in range(1,26)])\n",
    "\n",
    "plt.figure(figsize = (12,8))\n",
    "\n",
    "# import seaborn as sns\n",
    "# sns.heatmap(df_cm, annot=True)\n",
    "\n",
    "a=sns.heatmap(df_cm, annot=True, fmt='d')\n",
    "a.set_xlabel('Predicted distance label in m', fontsize=15)\n",
    "a.set_ylabel('Trude distance label in m', fontsize=15)\n",
    "plt.title('Confusion Matrix', fontsize=16)\n",
    "plt.show()\n",
    "accuracy = accuracy_score(y_test, y_pred)\n",
    "print('Accuracy of Model with Calibrated data: ', accuracy)"
   ]
  },
  {
   "cell_type": "code",
   "execution_count": 44,
   "id": "68999199",
   "metadata": {},
   "outputs": [
    {
     "name": "stdout",
     "output_type": "stream",
     "text": [
      "              precision    recall  f1-score   support\n",
      "\n",
      "          1m       0.94      0.98      0.96        91\n",
      "          2m       0.95      0.90      0.92        79\n",
      "          3m       0.87      0.63      0.73        94\n",
      "          4m       0.63      0.85      0.72        80\n",
      "          5m       0.92      0.91      0.92        91\n",
      "          6m       0.98      0.95      0.97       104\n",
      "          7m       0.81      0.90      0.85        77\n",
      "          8m       0.84      0.67      0.75        88\n",
      "          9m       0.85      0.97      0.90        87\n",
      "         10m       0.76      0.73      0.74       102\n",
      "         11m       0.66      0.58      0.62       101\n",
      "         12m       0.91      0.98      0.94        84\n",
      "         13m       0.74      0.88      0.81        92\n",
      "         14m       0.90      0.93      0.91        97\n",
      "         15m       1.00      0.90      0.95        97\n",
      "         16m       0.98      1.00      0.99        80\n",
      "         17m       0.97      0.98      0.97        91\n",
      "         18m       0.99      0.93      0.96        95\n",
      "         19m       0.95      0.91      0.93        82\n",
      "         20m       0.85      0.96      0.90        82\n",
      "         21m       0.83      0.88      0.85        76\n",
      "         22m       0.95      0.86      0.90        93\n",
      "         23m       0.76      0.92      0.83       101\n",
      "         24m       0.89      0.68      0.77        95\n",
      "         25m       0.98      0.96      0.97        83\n",
      "\n",
      "    accuracy                           0.87      2242\n",
      "   macro avg       0.88      0.87      0.87      2242\n",
      "weighted avg       0.88      0.87      0.87      2242\n",
      "\n"
     ]
    }
   ],
   "source": [
    "# Create a custom label for each class\n",
    "labels = [f\"{i + 1}m\" for i in range(25)]\n",
    "\n",
    "# Generate the classification report\n",
    "print(classification_report(y_test, y_pred, target_names=labels))\n"
   ]
  },
  {
   "cell_type": "code",
   "execution_count": 1601,
   "id": "3817bd00",
   "metadata": {},
   "outputs": [],
   "source": [
    "model.save('model.h5')"
   ]
  },
  {
   "cell_type": "code",
   "execution_count": 1602,
   "id": "111d8a60",
   "metadata": {},
   "outputs": [],
   "source": [
    "from tensorflow.keras.models import load_model\n",
    "\n",
    "trained_model = load_model('model.h5')"
   ]
  },
  {
   "cell_type": "markdown",
   "id": "6b322222",
   "metadata": {},
   "source": [
    "Precision: number of true positives divided by the number of true positives and false positives\n",
    "\n",
    "Recall: number of true positives divided by the number of true positives and false negatives\n",
    "\n",
    "F1-score: the harmonic mean of precision and recall\n",
    "\n",
    "Support: number of samples in the corresponding class.\n",
    "\n"
   ]
  }
 ],
 "metadata": {
  "kernelspec": {
   "display_name": "Python 3 (ipykernel)",
   "language": "python",
   "name": "python3"
  },
  "language_info": {
   "codemirror_mode": {
    "name": "ipython",
    "version": 3
   },
   "file_extension": ".py",
   "mimetype": "text/x-python",
   "name": "python",
   "nbconvert_exporter": "python",
   "pygments_lexer": "ipython3",
   "version": "3.9.13"
  }
 },
 "nbformat": 4,
 "nbformat_minor": 5
}
