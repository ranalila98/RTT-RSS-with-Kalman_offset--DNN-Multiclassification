{
 "cells": [
  {
   "cell_type": "markdown",
   "id": "20acd3b9",
   "metadata": {},
   "source": [
    "**1. Importing Necessary libraries and  Made a class of Kalman Filter**"
   ]
  },
  {
   "cell_type": "code",
   "execution_count": 1,
   "id": "f156ff7a",
   "metadata": {},
   "outputs": [],
   "source": [
    "import csv\n",
    "import math\n",
    "import pandas as pd\n",
    "from numpy import genfromtxt\n",
    "import numpy as np\n",
    "import matplotlib.pyplot as plt\n",
    "import math\n",
    "\n",
    "class KalmanFilter:\n",
    "\n",
    "    cov = float('nan')\n",
    "    x = float('nan')\n",
    "\n",
    "    def __init__(self, R, Q):\n",
    "        \"\"\"\n",
    "        Constructor\n",
    "        :param R: Process Noise\n",
    "        :param Q: Measurement Noise\n",
    "        \"\"\"\n",
    "        self.A = 1\n",
    "        self.B = 0\n",
    "        self.C = 1\n",
    "\n",
    "        self.R = R\n",
    "        self.Q = Q\n",
    "\n",
    "    def filter(self, measurement):\n",
    "        \"\"\"\n",
    "        Filters a measurement\n",
    "        :param measurement: The measurement value to be filtered\n",
    "        :return: The filtered value\n",
    "        \"\"\"\n",
    "        u = 0\n",
    "        if math.isnan(self.x):\n",
    "            self.x = (1 / self.C) * measurement\n",
    "            self.cov = (1 / self.C) * self.Q * (1 / self.C)\n",
    "        else:\n",
    "            predX = (self.A * self.x) + (self.B * u)\n",
    "            predCov = ((self.A * self.cov) * self.A) + self.R\n",
    "\n",
    "            # Kalman Gain\n",
    "            K = predCov * self.C * (1 / ((self.C * predCov * self.C) + self.Q));\n",
    "\n",
    "            # Correction\n",
    "            self.x = predX + K * (measurement - (self.C * predX));\n",
    "            self.cov = predCov - (K * self.C * predCov);\n",
    "\n",
    "        return self.x\n",
    "\n",
    "    def last_measurement(self):\n",
    "        \"\"\"\n",
    "        Returns the last measurement fed into the filter\n",
    "        :return: The last measurement fed into the filter\n",
    "        \"\"\"\n",
    "        return self.x\n",
    "\n",
    "    def set_measurement_noise(self, noise):\n",
    "        \"\"\"\n",
    "        Sets measurement noise\n",
    "        :param noise: The new measurement noise\n",
    "        \"\"\"\n",
    "        self.Q = noise\n",
    "\n",
    "    def set_process_noise(self, noise):\n",
    "        \"\"\"\n",
    "        Sets process noise\n",
    "        :param noise: The new process noise\n",
    "        \"\"\"\n",
    "        self.R = noise\n"
   ]
  },
  {
   "cell_type": "markdown",
   "id": "ad2d228e",
   "metadata": {},
   "source": [
    "**2. Combining datasets and preprocessing**"
   ]
  },
  {
   "cell_type": "markdown",
   "id": "0d906b26",
   "metadata": {},
   "source": [
    "The os.listdir() function is used to list all the files in the data_folder. The if file_name.endswith('.csv') condition ensures that only CSV files are processed. The os.path.join() function is used to construct the full file path to each CSV file, and the pd.read_csv() function is used to read the CSV file into a DataFrame"
   ]
  },
  {
   "cell_type": "code",
   "execution_count": 2,
   "id": "ca85e498",
   "metadata": {},
   "outputs": [],
   "source": [
    "import os\n",
    "\n",
    "# actual_dist=1 #varies with 1m to 25 m\n",
    "\n",
    "# # Set the path to the folder containing the dataset\n",
    "# data_folder = 'C:/Users/LILA/RTT-RSS with Kalman/raw_dataset'\n",
    "\n",
    "# # Loop through each CSV file in the folder and read it into a DataFrame\n",
    "# for file_name in os.listdir(data_folder):\n",
    "#     if file_name.endswith(str(actual_dist)+'m.csv'):\n",
    "#         file_path = os.path.join(data_folder, file_name)\n",
    "#         df = pd.read_csv(file_path)\n",
    "# df.drop(['#<Time(ms)>','<Ch-MHz>','<Burst#>','<AP-SSID>','<RTT AP?>','<Successes#>'],axis=1,inplace=True)\n",
    "# df.rename(columns={'<True Range(m)>': 'True_Range', '<Est. Range(m)>': 'Est_Range','<RSSI(dBm)>': 'RSSI','<Std dev(m)>': 'stdev','<Successes#>': 'successes'}, inplace=True)\n",
    "# Est=df.Est_Range\n",
    "# R_RTT=Est.var()\n",
    "# data1_RTT=Est.to_list()"
   ]
  },
  {
   "cell_type": "code",
   "execution_count": 3,
   "id": "51984494",
   "metadata": {},
   "outputs": [
    {
     "data": {
      "text/html": [
       "<div>\n",
       "<style scoped>\n",
       "    .dataframe tbody tr th:only-of-type {\n",
       "        vertical-align: middle;\n",
       "    }\n",
       "\n",
       "    .dataframe tbody tr th {\n",
       "        vertical-align: top;\n",
       "    }\n",
       "\n",
       "    .dataframe thead th {\n",
       "        text-align: right;\n",
       "    }\n",
       "</style>\n",
       "<table border=\"1\" class=\"dataframe\">\n",
       "  <thead>\n",
       "    <tr style=\"text-align: right;\">\n",
       "      <th></th>\n",
       "      <th>True_Range</th>\n",
       "      <th>Est_Range</th>\n",
       "      <th>stdev</th>\n",
       "      <th>RSSI</th>\n",
       "    </tr>\n",
       "  </thead>\n",
       "  <tbody>\n",
       "    <tr>\n",
       "      <th>0</th>\n",
       "      <td>1</td>\n",
       "      <td>0.842</td>\n",
       "      <td>0.280</td>\n",
       "      <td>-45</td>\n",
       "    </tr>\n",
       "    <tr>\n",
       "      <th>1</th>\n",
       "      <td>1</td>\n",
       "      <td>0.666</td>\n",
       "      <td>0.088</td>\n",
       "      <td>-47</td>\n",
       "    </tr>\n",
       "    <tr>\n",
       "      <th>2</th>\n",
       "      <td>1</td>\n",
       "      <td>0.989</td>\n",
       "      <td>0.132</td>\n",
       "      <td>-45</td>\n",
       "    </tr>\n",
       "    <tr>\n",
       "      <th>3</th>\n",
       "      <td>1</td>\n",
       "      <td>0.901</td>\n",
       "      <td>0.098</td>\n",
       "      <td>-45</td>\n",
       "    </tr>\n",
       "    <tr>\n",
       "      <th>4</th>\n",
       "      <td>1</td>\n",
       "      <td>0.871</td>\n",
       "      <td>0.162</td>\n",
       "      <td>-46</td>\n",
       "    </tr>\n",
       "    <tr>\n",
       "      <th>...</th>\n",
       "      <td>...</td>\n",
       "      <td>...</td>\n",
       "      <td>...</td>\n",
       "      <td>...</td>\n",
       "    </tr>\n",
       "    <tr>\n",
       "      <th>294</th>\n",
       "      <td>1</td>\n",
       "      <td>0.901</td>\n",
       "      <td>0.428</td>\n",
       "      <td>-46</td>\n",
       "    </tr>\n",
       "    <tr>\n",
       "      <th>295</th>\n",
       "      <td>1</td>\n",
       "      <td>0.666</td>\n",
       "      <td>0.278</td>\n",
       "      <td>-50</td>\n",
       "    </tr>\n",
       "    <tr>\n",
       "      <th>296</th>\n",
       "      <td>1</td>\n",
       "      <td>0.696</td>\n",
       "      <td>0.256</td>\n",
       "      <td>-47</td>\n",
       "    </tr>\n",
       "    <tr>\n",
       "      <th>297</th>\n",
       "      <td>1</td>\n",
       "      <td>0.491</td>\n",
       "      <td>0.146</td>\n",
       "      <td>-45</td>\n",
       "    </tr>\n",
       "    <tr>\n",
       "      <th>298</th>\n",
       "      <td>1</td>\n",
       "      <td>0.579</td>\n",
       "      <td>0.582</td>\n",
       "      <td>-48</td>\n",
       "    </tr>\n",
       "  </tbody>\n",
       "</table>\n",
       "<p>299 rows × 4 columns</p>\n",
       "</div>"
      ],
      "text/plain": [
       "     True_Range  Est_Range  stdev  RSSI\n",
       "0             1      0.842  0.280   -45\n",
       "1             1      0.666  0.088   -47\n",
       "2             1      0.989  0.132   -45\n",
       "3             1      0.901  0.098   -45\n",
       "4             1      0.871  0.162   -46\n",
       "..          ...        ...    ...   ...\n",
       "294           1      0.901  0.428   -46\n",
       "295           1      0.666  0.278   -50\n",
       "296           1      0.696  0.256   -47\n",
       "297           1      0.491  0.146   -45\n",
       "298           1      0.579  0.582   -48\n",
       "\n",
       "[299 rows x 4 columns]"
      ]
     },
     "execution_count": 3,
     "metadata": {},
     "output_type": "execute_result"
    }
   ],
   "source": [
    "import os\n",
    "actual_dist=1#varies with 1m to 25 m\n",
    "\n",
    "# Set the path to the folder containing the dataset\n",
    "# data_folder = 'C:\\Users\\LILA\\Desktop\\RTT-RSS with Kalman_offset\\raw_dataset'\n",
    "data_folder = r'C:\\Users\\LILA\\Desktop\\RTT-RSS with Kalman_offset\\raw_dataset'\n",
    "#data_folder = 'C:/Users/LILA/RTT-RSS with Kalman/raw_dataset'\n",
    "# Loop through each CSV file in the folder and read it into a DataFrame\n",
    "for file_name in os.listdir(data_folder):\n",
    "     if file_name == (str(actual_dist)+'m.csv'): #if it found filname after defining file path break\n",
    "        file_path = os.path.join(data_folder, file_name)\n",
    "        df = pd.read_csv(file_path)\n",
    "        break\n",
    "df.drop(['#<Time(ms)>','<Ch-MHz>','<Burst#>','<AP-SSID>','<RTT AP?>','<Successes#>'],axis=1,inplace=True)\n",
    "df.rename(columns={'<True Range(m)>': 'True_Range', '<Est. Range(m)>': 'Est_Range','<RSSI(dBm)>': 'RSSI','<Std dev(m)>': 'stdev','<Successes#>': 'successes'}, inplace=True)\n",
    "Est=df.Est_Range\n",
    "R_RTT=Est.var()\n",
    "data1_RTT=Est.to_list()\n",
    "df"
   ]
  },
  {
   "cell_type": "code",
   "execution_count": 4,
   "id": "62782a1b",
   "metadata": {},
   "outputs": [
    {
     "data": {
      "text/html": [
       "<div>\n",
       "<style scoped>\n",
       "    .dataframe tbody tr th:only-of-type {\n",
       "        vertical-align: middle;\n",
       "    }\n",
       "\n",
       "    .dataframe tbody tr th {\n",
       "        vertical-align: top;\n",
       "    }\n",
       "\n",
       "    .dataframe thead th {\n",
       "        text-align: right;\n",
       "    }\n",
       "</style>\n",
       "<table border=\"1\" class=\"dataframe\">\n",
       "  <thead>\n",
       "    <tr style=\"text-align: right;\">\n",
       "      <th></th>\n",
       "      <th>True_Range</th>\n",
       "      <th>Est_Range</th>\n",
       "      <th>stdev</th>\n",
       "      <th>RSSI</th>\n",
       "    </tr>\n",
       "  </thead>\n",
       "  <tbody>\n",
       "    <tr>\n",
       "      <th>0</th>\n",
       "      <td>1</td>\n",
       "      <td>0.842</td>\n",
       "      <td>0.280</td>\n",
       "      <td>-45</td>\n",
       "    </tr>\n",
       "    <tr>\n",
       "      <th>1</th>\n",
       "      <td>1</td>\n",
       "      <td>0.666</td>\n",
       "      <td>0.088</td>\n",
       "      <td>-47</td>\n",
       "    </tr>\n",
       "    <tr>\n",
       "      <th>2</th>\n",
       "      <td>1</td>\n",
       "      <td>0.989</td>\n",
       "      <td>0.132</td>\n",
       "      <td>-45</td>\n",
       "    </tr>\n",
       "    <tr>\n",
       "      <th>3</th>\n",
       "      <td>1</td>\n",
       "      <td>0.901</td>\n",
       "      <td>0.098</td>\n",
       "      <td>-45</td>\n",
       "    </tr>\n",
       "    <tr>\n",
       "      <th>4</th>\n",
       "      <td>1</td>\n",
       "      <td>0.871</td>\n",
       "      <td>0.162</td>\n",
       "      <td>-46</td>\n",
       "    </tr>\n",
       "    <tr>\n",
       "      <th>...</th>\n",
       "      <td>...</td>\n",
       "      <td>...</td>\n",
       "      <td>...</td>\n",
       "      <td>...</td>\n",
       "    </tr>\n",
       "    <tr>\n",
       "      <th>294</th>\n",
       "      <td>1</td>\n",
       "      <td>0.901</td>\n",
       "      <td>0.428</td>\n",
       "      <td>-46</td>\n",
       "    </tr>\n",
       "    <tr>\n",
       "      <th>295</th>\n",
       "      <td>1</td>\n",
       "      <td>0.666</td>\n",
       "      <td>0.278</td>\n",
       "      <td>-50</td>\n",
       "    </tr>\n",
       "    <tr>\n",
       "      <th>296</th>\n",
       "      <td>1</td>\n",
       "      <td>0.696</td>\n",
       "      <td>0.256</td>\n",
       "      <td>-47</td>\n",
       "    </tr>\n",
       "    <tr>\n",
       "      <th>297</th>\n",
       "      <td>1</td>\n",
       "      <td>0.491</td>\n",
       "      <td>0.146</td>\n",
       "      <td>-45</td>\n",
       "    </tr>\n",
       "    <tr>\n",
       "      <th>298</th>\n",
       "      <td>1</td>\n",
       "      <td>0.579</td>\n",
       "      <td>0.582</td>\n",
       "      <td>-48</td>\n",
       "    </tr>\n",
       "  </tbody>\n",
       "</table>\n",
       "<p>296 rows × 4 columns</p>\n",
       "</div>"
      ],
      "text/plain": [
       "     True_Range  Est_Range  stdev  RSSI\n",
       "0             1      0.842  0.280   -45\n",
       "1             1      0.666  0.088   -47\n",
       "2             1      0.989  0.132   -45\n",
       "3             1      0.901  0.098   -45\n",
       "4             1      0.871  0.162   -46\n",
       "..          ...        ...    ...   ...\n",
       "294           1      0.901  0.428   -46\n",
       "295           1      0.666  0.278   -50\n",
       "296           1      0.696  0.256   -47\n",
       "297           1      0.491  0.146   -45\n",
       "298           1      0.579  0.582   -48\n",
       "\n",
       "[296 rows x 4 columns]"
      ]
     },
     "execution_count": 4,
     "metadata": {},
     "output_type": "execute_result"
    }
   ],
   "source": [
    "import numpy as np\n",
    "import pandas as pd\n",
    "\n",
    "def remove_outliers(df, col_name, threshold=3):\n",
    "    \"\"\"\n",
    "    Remove outliers from a Pandas DataFrame using the Z-score method.\n",
    "    \n",
    "    Parameters:\n",
    "        df (pandas.DataFrame): The DataFrame to remove outliers from.\n",
    "        col_name (str): The column name to remove outliers from.\n",
    "        threshold (float): The Z-score threshold for outlier detection. Default is 3.\n",
    "        \n",
    "    Returns:\n",
    "        A new DataFrame with outliers removed.\n",
    "    \"\"\"\n",
    "    # Calculate the Z-score for each value in the column\n",
    "    z_scores = np.abs((df[col_name] - df[col_name].mean()) / df[col_name].std())\n",
    "    \n",
    "    # Create a boolean mask where values with a Z-score greater than the threshold are set to False\n",
    "    mask = z_scores <= threshold\n",
    "    \n",
    "    # Return a new DataFrame with the outliers removed\n",
    "    return df[mask]\n",
    "\n",
    "# Load the original DataFrame with column name 'Est_Range'\n",
    "col_name = 'Est_Range'\n",
    "\n",
    "# Remove outliers from the 'Est_Range' column\n",
    "df = remove_outliers(df, col_name, threshold=3)\n",
    "df\n",
    "# # Save the new DataFrame to a CSV file\n",
    "#df.to_csv('new_data_file.csv', index=False)\n"
   ]
  },
  {
   "attachments": {},
   "cell_type": "markdown",
   "id": "4026fba0",
   "metadata": {},
   "source": [
    "**3. Callibrating offset value of RTT Distance**\n"
   ]
  },
  {
   "cell_type": "code",
   "execution_count": 5,
   "id": "827627ec",
   "metadata": {},
   "outputs": [],
   "source": [
    "# RTT_offset= np.mean(df.Est_Range-df.True_Range)\n",
    "# # a=np.average(df.stdev)\n",
    "# # RTT_offset=RTT_offset/a\n",
    "# print(\"Range Offset for \"+str(actual_dist)+\"m is:\",RTT_offset)"
   ]
  },
  {
   "cell_type": "code",
   "execution_count": 6,
   "id": "d07f38b5",
   "metadata": {},
   "outputs": [
    {
     "name": "stdout",
     "output_type": "stream",
     "text": [
      "Offset value:  0.4176112860074568\n"
     ]
    }
   ],
   "source": [
    "# Calculate the mean value and standard deviation of the distance measurements\n",
    "mean_distance = df['Est_Range'].mean()\n",
    "std_distance = df['stdev'].mean()\n",
    "\n",
    "# Calculate the offset value using the standard deviation\n",
    "true_range = df['True_Range'].mean()\n",
    "offset = (true_range - mean_distance) / (1 - std_distance / true_range)\n",
    "\n",
    "print(\"Offset value: \", offset)\n"
   ]
  },
  {
   "cell_type": "code",
   "execution_count": 7,
   "id": "d649b048",
   "metadata": {},
   "outputs": [
    {
     "data": {
      "text/plain": [
       "-0.26261824324324323"
      ]
     },
     "execution_count": 7,
     "metadata": {},
     "output_type": "execute_result"
    }
   ],
   "source": [
    "offset=np.mean(df.Est_Range-df.True_Range)\n",
    "offset"
   ]
  },
  {
   "cell_type": "code",
   "execution_count": 8,
   "id": "d19dd04a",
   "metadata": {},
   "outputs": [],
   "source": [
    "# RTT_offset= np.average(df.stdev)\n",
    "# print(\"Range Offset for \"+str(actual_dist)+\"m is:\",RTT_offset)"
   ]
  },
  {
   "attachments": {},
   "cell_type": "markdown",
   "id": "a7d1f137",
   "metadata": {},
   "source": [
    "**4. Updated dataset with offset values**"
   ]
  },
  {
   "cell_type": "code",
   "execution_count": 9,
   "id": "b2c85ce9",
   "metadata": {},
   "outputs": [],
   "source": [
    "# # df['Final_range']=df['Est_Range']-RTT_offset\n",
    "# pd.options.mode.chained_assignment = None #to avoid warning\n",
    "# df.loc[:, 'Final_range'] = df['Est_Range'] - RTT_offset #To avoid this warning, we can use .loc or .iloc to explicitly modify the original DataFrame\n",
    "# df['Raw_error']=df['True_Range']-df['Est_Range']\n",
    "# df['Callibrated_data_error']=df['True_Range']-df['Final_range']\n",
    "# df\n",
    "# Apply the offset to the estimated range values to get the final range values\n",
    "pd.options.mode.chained_assignment = None\n",
    "df.loc[:,'Final_range'] = df['Est_Range'] - offset\n"
   ]
  },
  {
   "cell_type": "code",
   "execution_count": 10,
   "id": "d774fcf4",
   "metadata": {},
   "outputs": [
    {
     "data": {
      "text/html": [
       "<div>\n",
       "<style scoped>\n",
       "    .dataframe tbody tr th:only-of-type {\n",
       "        vertical-align: middle;\n",
       "    }\n",
       "\n",
       "    .dataframe tbody tr th {\n",
       "        vertical-align: top;\n",
       "    }\n",
       "\n",
       "    .dataframe thead th {\n",
       "        text-align: right;\n",
       "    }\n",
       "</style>\n",
       "<table border=\"1\" class=\"dataframe\">\n",
       "  <thead>\n",
       "    <tr style=\"text-align: right;\">\n",
       "      <th></th>\n",
       "      <th>True_Range</th>\n",
       "      <th>Est_Range</th>\n",
       "      <th>stdev</th>\n",
       "      <th>RSSI</th>\n",
       "      <th>Final_range</th>\n",
       "      <th>Error_before_offset</th>\n",
       "      <th>Error_after_offset</th>\n",
       "    </tr>\n",
       "  </thead>\n",
       "  <tbody>\n",
       "    <tr>\n",
       "      <th>0</th>\n",
       "      <td>1</td>\n",
       "      <td>0.842</td>\n",
       "      <td>0.280</td>\n",
       "      <td>-45</td>\n",
       "      <td>1.104618</td>\n",
       "      <td>0.158</td>\n",
       "      <td>0.104618</td>\n",
       "    </tr>\n",
       "    <tr>\n",
       "      <th>1</th>\n",
       "      <td>1</td>\n",
       "      <td>0.666</td>\n",
       "      <td>0.088</td>\n",
       "      <td>-47</td>\n",
       "      <td>0.928618</td>\n",
       "      <td>0.334</td>\n",
       "      <td>-0.071382</td>\n",
       "    </tr>\n",
       "    <tr>\n",
       "      <th>2</th>\n",
       "      <td>1</td>\n",
       "      <td>0.989</td>\n",
       "      <td>0.132</td>\n",
       "      <td>-45</td>\n",
       "      <td>1.251618</td>\n",
       "      <td>0.011</td>\n",
       "      <td>0.251618</td>\n",
       "    </tr>\n",
       "    <tr>\n",
       "      <th>3</th>\n",
       "      <td>1</td>\n",
       "      <td>0.901</td>\n",
       "      <td>0.098</td>\n",
       "      <td>-45</td>\n",
       "      <td>1.163618</td>\n",
       "      <td>0.099</td>\n",
       "      <td>0.163618</td>\n",
       "    </tr>\n",
       "    <tr>\n",
       "      <th>4</th>\n",
       "      <td>1</td>\n",
       "      <td>0.871</td>\n",
       "      <td>0.162</td>\n",
       "      <td>-46</td>\n",
       "      <td>1.133618</td>\n",
       "      <td>0.129</td>\n",
       "      <td>0.133618</td>\n",
       "    </tr>\n",
       "    <tr>\n",
       "      <th>...</th>\n",
       "      <td>...</td>\n",
       "      <td>...</td>\n",
       "      <td>...</td>\n",
       "      <td>...</td>\n",
       "      <td>...</td>\n",
       "      <td>...</td>\n",
       "      <td>...</td>\n",
       "    </tr>\n",
       "    <tr>\n",
       "      <th>294</th>\n",
       "      <td>1</td>\n",
       "      <td>0.901</td>\n",
       "      <td>0.428</td>\n",
       "      <td>-46</td>\n",
       "      <td>1.163618</td>\n",
       "      <td>0.099</td>\n",
       "      <td>0.163618</td>\n",
       "    </tr>\n",
       "    <tr>\n",
       "      <th>295</th>\n",
       "      <td>1</td>\n",
       "      <td>0.666</td>\n",
       "      <td>0.278</td>\n",
       "      <td>-50</td>\n",
       "      <td>0.928618</td>\n",
       "      <td>0.334</td>\n",
       "      <td>-0.071382</td>\n",
       "    </tr>\n",
       "    <tr>\n",
       "      <th>296</th>\n",
       "      <td>1</td>\n",
       "      <td>0.696</td>\n",
       "      <td>0.256</td>\n",
       "      <td>-47</td>\n",
       "      <td>0.958618</td>\n",
       "      <td>0.304</td>\n",
       "      <td>-0.041382</td>\n",
       "    </tr>\n",
       "    <tr>\n",
       "      <th>297</th>\n",
       "      <td>1</td>\n",
       "      <td>0.491</td>\n",
       "      <td>0.146</td>\n",
       "      <td>-45</td>\n",
       "      <td>0.753618</td>\n",
       "      <td>0.509</td>\n",
       "      <td>-0.246382</td>\n",
       "    </tr>\n",
       "    <tr>\n",
       "      <th>298</th>\n",
       "      <td>1</td>\n",
       "      <td>0.579</td>\n",
       "      <td>0.582</td>\n",
       "      <td>-48</td>\n",
       "      <td>0.841618</td>\n",
       "      <td>0.421</td>\n",
       "      <td>-0.158382</td>\n",
       "    </tr>\n",
       "  </tbody>\n",
       "</table>\n",
       "<p>296 rows × 7 columns</p>\n",
       "</div>"
      ],
      "text/plain": [
       "     True_Range  Est_Range  stdev  RSSI  Final_range  Error_before_offset  \\\n",
       "0             1      0.842  0.280   -45     1.104618                0.158   \n",
       "1             1      0.666  0.088   -47     0.928618                0.334   \n",
       "2             1      0.989  0.132   -45     1.251618                0.011   \n",
       "3             1      0.901  0.098   -45     1.163618                0.099   \n",
       "4             1      0.871  0.162   -46     1.133618                0.129   \n",
       "..          ...        ...    ...   ...          ...                  ...   \n",
       "294           1      0.901  0.428   -46     1.163618                0.099   \n",
       "295           1      0.666  0.278   -50     0.928618                0.334   \n",
       "296           1      0.696  0.256   -47     0.958618                0.304   \n",
       "297           1      0.491  0.146   -45     0.753618                0.509   \n",
       "298           1      0.579  0.582   -48     0.841618                0.421   \n",
       "\n",
       "     Error_after_offset  \n",
       "0              0.104618  \n",
       "1             -0.071382  \n",
       "2              0.251618  \n",
       "3              0.163618  \n",
       "4              0.133618  \n",
       "..                  ...  \n",
       "294            0.163618  \n",
       "295           -0.071382  \n",
       "296           -0.041382  \n",
       "297           -0.246382  \n",
       "298           -0.158382  \n",
       "\n",
       "[296 rows x 7 columns]"
      ]
     },
     "execution_count": 10,
     "metadata": {},
     "output_type": "execute_result"
    }
   ],
   "source": [
    "\n",
    "# Calculate the error before applying the offset\n",
    "df['Error_before_offset'] = abs(df['Est_Range'] - df['True_Range'])\n",
    "\n",
    "# Calculate the error after applying the offset\n",
    "df['Error_after_offset'] = df['Final_range'] - df['True_Range']\n",
    "\n",
    "df"
   ]
  },
  {
   "cell_type": "code",
   "execution_count": 11,
   "id": "7c9ed9d4",
   "metadata": {},
   "outputs": [
    {
     "name": "stdout",
     "output_type": "stream",
     "text": [
      "-6.00120553851436e-18\n",
      "0.26480067567567567\n",
      "Mean Squared Error in meter: 0.087\n",
      "Root Mean Squared Error (RMSE) on new data in meter: 0.295\n",
      "Mean Squared Error in meter: 0.018\n",
      "Root Mean Squared Error (RMSE) on new data in meter: 0.135\n"
     ]
    }
   ],
   "source": [
    "raw_error= df['Error_before_offset']\n",
    "calibrated_error=df['Error_after_offset']\n",
    "print(np.mean(calibrated_error))\n",
    "print(np.mean(raw_error))\n",
    "\n",
    "\n",
    "from sklearn.metrics import mean_squared_error\n",
    "from math import sqrt\n",
    "\n",
    "\n",
    "mse_b = mean_squared_error(df['True_Range'], df['Est_Range'])\n",
    "print(\"Mean Squared Error in meter: {:.3f}\" .format(mse_b))\n",
    "\n",
    "rmse_b=sqrt(mean_squared_error(df['True_Range'], df['Est_Range'])) \n",
    "print('Root Mean Squared Error (RMSE) on new data in meter: {:.3f}'.format(rmse_b))\n",
    "\n",
    "\n",
    "mse_a = mean_squared_error(df['True_Range'], df['Final_range'])\n",
    "print(\"Mean Squared Error in meter: {:.3f}\" .format(mse_a))\n",
    "\n",
    "rmse_a=sqrt(mean_squared_error(df['True_Range'], df['Final_range'])) \n",
    "print('Root Mean Squared Error (RMSE) on new data in meter: {:.3f}'.format(rmse_a))\n",
    "\n",
    "\n",
    "\n"
   ]
  },
  {
   "cell_type": "code",
   "execution_count": 12,
   "id": "dc120d04",
   "metadata": {},
   "outputs": [
    {
     "name": "stdout",
     "output_type": "stream",
     "text": [
      "File saved to Offset_1m.csv!\n"
     ]
    }
   ],
   "source": [
    "# # Specify the file name and path where you want to save the file\n",
    "file_path = 'Offset_'+str(actual_dist)+'m.csv'\n",
    "\n",
    "\n",
    "# Save the DataFrame to a CSV file using the to_csv() method\n",
    "df.to_csv(file_path, index=False)\n",
    "\n",
    "print(f'File saved to {file_path}!')"
   ]
  },
  {
   "cell_type": "code",
   "execution_count": 13,
   "id": "9b7791fa",
   "metadata": {},
   "outputs": [
    {
     "data": {
      "text/plain": [
       "0.01840680631012368"
      ]
     },
     "execution_count": 13,
     "metadata": {},
     "output_type": "execute_result"
    }
   ],
   "source": [
    "Est=df.Final_range\n",
    "R_RTT=Est.var()\n",
    "data1_RTT=Est.to_list()\n",
    "R_RTT"
   ]
  },
  {
   "cell_type": "code",
   "execution_count": 14,
   "id": "c6fdede9",
   "metadata": {},
   "outputs": [
    {
     "data": {
      "image/png": "[encoded data removed]",
      "text/plain": [
       "<Figure size 960x640 with 1 Axes>"
      ]
     },
     "metadata": {},
     "output_type": "display_data"
    }
   ],
   "source": [
    "from scipy.stats import norm\n",
    "from matplotlib.pyplot import figure\n",
    "\n",
    "\n",
    "figure(figsize=(12,8), dpi=80)\n",
    "plt.hist(raw_error, bins=10, alpha=0.5, density=True, color='blue', label='Raw Data')\n",
    "plt.hist(calibrated_error, bins=10, alpha=0.5, density=True, color='red', label='Callibrated Data')\n",
    "plt.legend(loc='upper right')\n",
    "plt.xlabel('Rangine Error')\n",
    "plt.ylabel('Frequency')\n",
    "\n",
    "\n",
    "xmin, xmax = plt.xlim() \n",
    "x = np.linspace(xmin, xmax, 1000) #for gaussian plot\n",
    "plt.plot(x, norm.pdf(x, np.mean(raw_error), np.std(raw_error)), 'b-', label='Raw Data Normal Fit')\n",
    "plt.plot(x, norm.pdf(x, np.mean(calibrated_error), np.std(calibrated_error)), 'r-', label='Calibrated Data Normal Fit')\n",
    "plt.legend(loc='upper right')\n",
    "\n",
    "plt.axvline(np.mean(raw_error), color='blue', linestyle='--', label='Raw Data Mean')\n",
    "plt.axvline(np.mean(calibrated_error), color='red', linestyle='--', label='Callibrated Data Mean')\n",
    "\n",
    "\n",
    "plt.legend()\n",
    "plt.grid()\n",
    "plt.show()"
   ]
  },
  {
   "cell_type": "code",
   "execution_count": 15,
   "id": "963f609d",
   "metadata": {},
   "outputs": [
    {
     "data": {
      "text/plain": [
       "(296,)"
      ]
     },
     "execution_count": 15,
     "metadata": {},
     "output_type": "execute_result"
    }
   ],
   "source": [
    "test = KalmanFilter(0.01,R_RTT)\n",
    "testData =data1_RTT\n",
    "data=[] # for storing all data\n",
    "for x in testData:\n",
    "    #data2= test.filter(x)\n",
    "    #print (\"Filtered Data:\",data2)\n",
    "    data.append(test.filter(x)) \n",
    "output=list(map(float,data))    #making it in the list\n",
    "output_RTT=np.array(output)\n",
    "#print(output)\n",
    "#print(data)\n",
    "output_RTT.shape"
   ]
  },
  {
   "cell_type": "code",
   "execution_count": 16,
   "id": "e3689a2e",
   "metadata": {},
   "outputs": [],
   "source": [
    "RSSI=df.RSSI\n",
    "R_RSSI=RSSI.var()\n",
    "data1_RSS=RSSI.to_list()\n",
    "#data2=np.array(data1) #converting list to array\n",
    "#data2"
   ]
  },
  {
   "cell_type": "code",
   "execution_count": 17,
   "id": "be7cbed6",
   "metadata": {},
   "outputs": [
    {
     "data": {
      "text/plain": [
       "(296,)"
      ]
     },
     "execution_count": 17,
     "metadata": {},
     "output_type": "execute_result"
    }
   ],
   "source": [
    "test = KalmanFilter(0.01,R_RSSI)\n",
    "testData =data1_RSS\n",
    "data=[] # for storing all data\n",
    "for x in testData:\n",
    "    data2= test.filter(x)\n",
    "    #print (\"Filtered Data:\",data2)\n",
    "    data.append(test.filter(x)) \n",
    "output=list(map(float,data))    #making it in the list\n",
    "output_RSS=np.array(output)\n",
    "#print(output_RSS)\n",
    "output_RSS.shape"
   ]
  },
  {
   "cell_type": "code",
   "execution_count": 18,
   "id": "dee533b7",
   "metadata": {},
   "outputs": [
    {
     "name": "stdout",
     "output_type": "stream",
     "text": [
      "File saved to Kalman_1m.csv!\n"
     ]
    }
   ],
   "source": [
    "# Define the column names for the DataFrame\n",
    "columns = ['RTT', 'RSS']\n",
    "\n",
    "# Create the DataFrame from the two separate lists\n",
    "df_final = pd.DataFrame({'RTT': output_RTT, 'RSS': output_RSS})\n",
    "\n",
    "# Specify the file name and path where you want to save the file\n",
    "file_path = 'Kalman_'+str(actual_dist)+'m.csv'\n",
    "\n",
    "\n",
    "\n",
    "#df_final = df_final.assign(TRUE=actual_dist)\n",
    "df_final['TRUE']=actual_dist #for making standard format\n",
    "\n",
    "# Save the DataFrame to a CSV file using the to_csv() method\n",
    "df_final.to_csv(file_path, index=False)\n",
    "\n",
    "print(f'File saved to {file_path}!')\n"
   ]
  },
  {
   "cell_type": "code",
   "execution_count": 19,
   "id": "4fb2a496",
   "metadata": {},
   "outputs": [
    {
     "data": {
      "text/html": [
       "<div>\n",
       "<style scoped>\n",
       "    .dataframe tbody tr th:only-of-type {\n",
       "        vertical-align: middle;\n",
       "    }\n",
       "\n",
       "    .dataframe tbody tr th {\n",
       "        vertical-align: top;\n",
       "    }\n",
       "\n",
       "    .dataframe thead th {\n",
       "        text-align: right;\n",
       "    }\n",
       "</style>\n",
       "<table border=\"1\" class=\"dataframe\">\n",
       "  <thead>\n",
       "    <tr style=\"text-align: right;\">\n",
       "      <th></th>\n",
       "      <th>RTT</th>\n",
       "      <th>RSS</th>\n",
       "      <th>TRUE</th>\n",
       "    </tr>\n",
       "  </thead>\n",
       "  <tbody>\n",
       "    <tr>\n",
       "      <th>0</th>\n",
       "      <td>1.104618</td>\n",
       "      <td>-45.000000</td>\n",
       "      <td>1</td>\n",
       "    </tr>\n",
       "    <tr>\n",
       "      <th>1</th>\n",
       "      <td>0.997820</td>\n",
       "      <td>-46.014029</td>\n",
       "      <td>1</td>\n",
       "    </tr>\n",
       "    <tr>\n",
       "      <th>2</th>\n",
       "      <td>1.133577</td>\n",
       "      <td>-45.660402</td>\n",
       "      <td>1</td>\n",
       "    </tr>\n",
       "    <tr>\n",
       "      <th>3</th>\n",
       "      <td>1.149163</td>\n",
       "      <td>-45.479529</td>\n",
       "      <td>1</td>\n",
       "    </tr>\n",
       "    <tr>\n",
       "      <th>4</th>\n",
       "      <td>1.141157</td>\n",
       "      <td>-45.600357</td>\n",
       "      <td>1</td>\n",
       "    </tr>\n",
       "    <tr>\n",
       "      <th>...</th>\n",
       "      <td>...</td>\n",
       "      <td>...</td>\n",
       "      <td>...</td>\n",
       "    </tr>\n",
       "    <tr>\n",
       "      <th>291</th>\n",
       "      <td>1.088632</td>\n",
       "      <td>-46.341648</td>\n",
       "      <td>1</td>\n",
       "    </tr>\n",
       "    <tr>\n",
       "      <th>292</th>\n",
       "      <td>1.006402</td>\n",
       "      <td>-46.908916</td>\n",
       "      <td>1</td>\n",
       "    </tr>\n",
       "    <tr>\n",
       "      <th>293</th>\n",
       "      <td>0.981846</td>\n",
       "      <td>-46.923040</td>\n",
       "      <td>1</td>\n",
       "    </tr>\n",
       "    <tr>\n",
       "      <th>294</th>\n",
       "      <td>0.864561</td>\n",
       "      <td>-46.624851</td>\n",
       "      <td>1</td>\n",
       "    </tr>\n",
       "    <tr>\n",
       "      <th>295</th>\n",
       "      <td>0.852771</td>\n",
       "      <td>-46.838083</td>\n",
       "      <td>1</td>\n",
       "    </tr>\n",
       "  </tbody>\n",
       "</table>\n",
       "<p>296 rows × 3 columns</p>\n",
       "</div>"
      ],
      "text/plain": [
       "          RTT        RSS  TRUE\n",
       "0    1.104618 -45.000000     1\n",
       "1    0.997820 -46.014029     1\n",
       "2    1.133577 -45.660402     1\n",
       "3    1.149163 -45.479529     1\n",
       "4    1.141157 -45.600357     1\n",
       "..        ...        ...   ...\n",
       "291  1.088632 -46.341648     1\n",
       "292  1.006402 -46.908916     1\n",
       "293  0.981846 -46.923040     1\n",
       "294  0.864561 -46.624851     1\n",
       "295  0.852771 -46.838083     1\n",
       "\n",
       "[296 rows x 3 columns]"
      ]
     },
     "execution_count": 19,
     "metadata": {},
     "output_type": "execute_result"
    }
   ],
   "source": [
    "df_final"
   ]
  },
  {
   "cell_type": "code",
   "execution_count": 20,
   "id": "fc7c2292",
   "metadata": {},
   "outputs": [
    {
     "data": {
      "text/plain": [
       "[<matplotlib.lines.Line2D at 0x19bf2eab280>]"
      ]
     },
     "execution_count": 20,
     "metadata": {},
     "output_type": "execute_result"
    },
    {
     "data": {
      "image/png": "[encoded data removed]",
      "text/plain": [
       "<Figure size 640x480 with 1 Axes>"
      ]
     },
     "metadata": {},
     "output_type": "display_data"
    }
   ],
   "source": [
    "plt.plot(df_final['RTT'], color='b')\n",
    "plt.plot(df['Final_range'], color='r')"
   ]
  },
  {
   "cell_type": "code",
   "execution_count": 21,
   "id": "052dd01b",
   "metadata": {},
   "outputs": [
    {
     "data": {
      "text/plain": [
       "[<matplotlib.lines.Line2D at 0x19bf2d1b5e0>]"
      ]
     },
     "execution_count": 21,
     "metadata": {},
     "output_type": "execute_result"
    },
    {
     "data": {
      "image/png": "[encoded data removed]",
      "text/plain": [
       "<Figure size 640x480 with 1 Axes>"
      ]
     },
     "metadata": {},
     "output_type": "display_data"
    }
   ],
   "source": [
    "plt.plot(df_final['RSS'], color='b')\n",
    "plt.plot(df['RSSI'], color='r')"
   ]
  },
  {
   "cell_type": "code",
   "execution_count": 22,
   "id": "8a73c542",
   "metadata": {},
   "outputs": [
    {
     "name": "stdout",
     "output_type": "stream",
     "text": [
      "Mean Squared Error in meter: 0.009\n",
      "Root Mean Squared Error (RMSE) on new data in meter: 0.096\n"
     ]
    }
   ],
   "source": [
    "from sklearn.metrics import mean_squared_error\n",
    "from math import sqrt\n",
    "\n",
    "mse = mean_squared_error(df['True_Range'], df_final['RTT'])\n",
    "print(\"Mean Squared Error in meter: {:.3f}\" .format(mse))\n",
    "\n",
    "rmse=sqrt(mean_squared_error(df['True_Range'], df_final['RTT'])) \n",
    "print('Root Mean Squared Error (RMSE) on new data in meter: {:.3f}'.format(rmse))"
   ]
  },
  {
   "cell_type": "code",
   "execution_count": null,
   "id": "aea30c9e",
   "metadata": {},
   "outputs": [],
   "source": []
  },
  {
   "cell_type": "code",
   "execution_count": null,
   "id": "53d6f57f",
   "metadata": {},
   "outputs": [],
   "source": []
  },
  {
   "cell_type": "code",
   "execution_count": null,
   "id": "db87afa2",
   "metadata": {},
   "outputs": [],
   "source": []
  },
  {
   "cell_type": "code",
   "execution_count": null,
   "id": "1fb5e615",
   "metadata": {},
   "outputs": [],
   "source": []
  },
  {
   "cell_type": "code",
   "execution_count": null,
   "id": "8554c488",
   "metadata": {},
   "outputs": [],
   "source": []
  },
  {
   "cell_type": "code",
   "execution_count": null,
   "id": "940e13fa",
   "metadata": {},
   "outputs": [],
   "source": []
  },
  {
   "cell_type": "code",
   "execution_count": null,
   "id": "1bf02449",
   "metadata": {},
   "outputs": [],
   "source": []
  },
  {
   "cell_type": "code",
   "execution_count": null,
   "id": "b595c7e2",
   "metadata": {},
   "outputs": [],
   "source": []
  },
  {
   "cell_type": "code",
   "execution_count": null,
   "id": "d7e5a429",
   "metadata": {},
   "outputs": [],
   "source": []
  },
  {
   "cell_type": "code",
   "execution_count": null,
   "id": "91622b75",
   "metadata": {},
   "outputs": [],
   "source": []
  },
  {
   "cell_type": "code",
   "execution_count": null,
   "id": "c5722c71",
   "metadata": {},
   "outputs": [],
   "source": []
  },
  {
   "cell_type": "code",
   "execution_count": null,
   "id": "f38c7485",
   "metadata": {},
   "outputs": [],
   "source": []
  },
  {
   "cell_type": "code",
   "execution_count": null,
   "id": "b4c165f8",
   "metadata": {},
   "outputs": [],
   "source": []
  },
  {
   "cell_type": "code",
   "execution_count": null,
   "id": "3995f7ce",
   "metadata": {},
   "outputs": [],
   "source": []
  },
  {
   "cell_type": "code",
   "execution_count": null,
   "id": "79a82c17",
   "metadata": {},
   "outputs": [],
   "source": []
  },
  {
   "cell_type": "code",
   "execution_count": null,
   "id": "65d41002",
   "metadata": {},
   "outputs": [],
   "source": []
  }
 ],
 "metadata": {
  "kernelspec": {
   "display_name": "Python 3 (ipykernel)",
   "language": "python",
   "name": "python3"
  },
  "language_info": {
   "codemirror_mode": {
    "name": "ipython",
    "version": 3
   },
   "file_extension": ".py",
   "mimetype": "text/x-python",
   "name": "python",
   "nbconvert_exporter": "python",
   "pygments_lexer": "ipython3",
   "version": "3.10.10"
  }
 },
 "nbformat": 4,
 "nbformat_minor": 5
}
