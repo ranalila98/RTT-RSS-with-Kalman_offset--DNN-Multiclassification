{
 "cells": [
  {
   "cell_type": "markdown",
   "id": "20acd3b9",
   "metadata": {},
   "source": [
    "**1. Importing Necessary libraries and  Made a class of Kalman Filter**"
   ]
  },
  {
   "cell_type": "code",
   "execution_count": 9,
   "id": "f156ff7a",
   "metadata": {},
   "outputs": [],
   "source": [
    "import csv\n",
    "import math\n",
    "import pandas as pd\n",
    "from numpy import genfromtxt\n",
    "import numpy as np\n",
    "import matplotlib.pyplot as plt\n",
    "import math\n",
    "\n",
    "class KalmanFilter:\n",
    "\n",
    "    cov = float('nan')\n",
    "    x = float('nan')\n",
    "\n",
    "    def __init__(self, R, Q):\n",
    "        \"\"\"\n",
    "        Constructor\n",
    "        :param R: Process Noise\n",
    "        :param Q: Measurement Noise\n",
    "        \"\"\"\n",
    "        self.A = 1\n",
    "        self.B = 0\n",
    "        self.C = 1\n",
    "\n",
    "        self.R = R\n",
    "        self.Q = Q\n",
    "\n",
    "    def filter(self, measurement):\n",
    "        \"\"\"\n",
    "        Filters a measurement\n",
    "        :param measurement: The measurement value to be filtered\n",
    "        :return: The filtered value\n",
    "        \"\"\"\n",
    "        u = 0\n",
    "        if math.isnan(self.x):\n",
    "            self.x = (1 / self.C) * measurement\n",
    "            self.cov = (1 / self.C) * self.Q * (1 / self.C)\n",
    "        else:\n",
    "            predX = (self.A * self.x) + (self.B * u)\n",
    "            predCov = ((self.A * self.cov) * self.A) + self.R\n",
    "\n",
    "            # Kalman Gain\n",
    "            K = predCov * self.C * (1 / ((self.C * predCov * self.C) + self.Q));\n",
    "\n",
    "            # Correction\n",
    "            self.x = predX + K * (measurement - (self.C * predX));\n",
    "            self.cov = predCov - (K * self.C * predCov);\n",
    "\n",
    "        return self.x\n",
    "\n",
    "    def last_measurement(self):\n",
    "        \"\"\"\n",
    "        Returns the last measurement fed into the filter\n",
    "        :return: The last measurement fed into the filter\n",
    "        \"\"\"\n",
    "        return self.x\n",
    "\n",
    "    def set_measurement_noise(self, noise):\n",
    "        \"\"\"\n",
    "        Sets measurement noise\n",
    "        :param noise: The new measurement noise\n",
    "        \"\"\"\n",
    "        self.Q = noise\n",
    "\n",
    "    def set_process_noise(self, noise):\n",
    "        \"\"\"\n",
    "        Sets process noise\n",
    "        :param noise: The new process noise\n",
    "        \"\"\"\n",
    "        self.R = noise\n"
   ]
  },
  {
   "cell_type": "markdown",
   "id": "ad2d228e",
   "metadata": {},
   "source": [
    "**2. Combining datasets and preprocessing**"
   ]
  },
  {
   "cell_type": "markdown",
   "id": "0d906b26",
   "metadata": {},
   "source": [
    "The os.listdir() function is used to list all the files in the data_folder. The if file_name.endswith('.csv') condition ensures that only CSV files are processed. The os.path.join() function is used to construct the full file path to each CSV file, and the pd.read_csv() function is used to read the CSV file into a DataFrame"
   ]
  },
  {
   "cell_type": "code",
   "execution_count": 10,
   "id": "ca85e498",
   "metadata": {},
   "outputs": [],
   "source": [
    "import os\n",
    "\n",
    "# actual_dist=1 #varies with 1m to 25 m\n",
    "\n",
    "# # Set the path to the folder containing the dataset\n",
    "# data_folder = 'C:/Users/LILA/RTT-RSS with Kalman/raw_dataset'\n",
    "\n",
    "# # Loop through each CSV file in the folder and read it into a DataFrame\n",
    "# for file_name in os.listdir(data_folder):\n",
    "#     if file_name.endswith(str(actual_dist)+'m.csv'):\n",
    "#         file_path = os.path.join(data_folder, file_name)\n",
    "#         df = pd.read_csv(file_path)\n",
    "# df.drop(['#<Time(ms)>','<Ch-MHz>','<Burst#>','<AP-SSID>','<RTT AP?>','<Successes#>'],axis=1,inplace=True)\n",
    "# df.rename(columns={'<True Range(m)>': 'True_Range', '<Est. Range(m)>': 'Est_Range','<RSSI(dBm)>': 'RSSI','<Std dev(m)>': 'stdev','<Successes#>': 'successes'}, inplace=True)\n",
    "# Est=df.Est_Range\n",
    "# R_RTT=Est.var()\n",
    "# data1_RTT=Est.to_list()"
   ]
  },
  {
   "cell_type": "code",
   "execution_count": 13,
   "id": "51984494",
   "metadata": {},
   "outputs": [
    {
     "data": {
      "text/html": [
       "<div>\n",
       "<style scoped>\n",
       "    .dataframe tbody tr th:only-of-type {\n",
       "        vertical-align: middle;\n",
       "    }\n",
       "\n",
       "    .dataframe tbody tr th {\n",
       "        vertical-align: top;\n",
       "    }\n",
       "\n",
       "    .dataframe thead th {\n",
       "        text-align: right;\n",
       "    }\n",
       "</style>\n",
       "<table border=\"1\" class=\"dataframe\">\n",
       "  <thead>\n",
       "    <tr style=\"text-align: right;\">\n",
       "      <th></th>\n",
       "      <th>True_Range</th>\n",
       "      <th>Est_Range</th>\n",
       "      <th>stdev</th>\n",
       "      <th>RSSI</th>\n",
       "    </tr>\n",
       "  </thead>\n",
       "  <tbody>\n",
       "    <tr>\n",
       "      <th>0</th>\n",
       "      <td>21</td>\n",
       "      <td>21.057</td>\n",
       "      <td>0.444</td>\n",
       "      <td>-76</td>\n",
       "    </tr>\n",
       "    <tr>\n",
       "      <th>1</th>\n",
       "      <td>21</td>\n",
       "      <td>21.233</td>\n",
       "      <td>0.551</td>\n",
       "      <td>-74</td>\n",
       "    </tr>\n",
       "    <tr>\n",
       "      <th>2</th>\n",
       "      <td>21</td>\n",
       "      <td>21.291</td>\n",
       "      <td>0.875</td>\n",
       "      <td>-74</td>\n",
       "    </tr>\n",
       "    <tr>\n",
       "      <th>3</th>\n",
       "      <td>21</td>\n",
       "      <td>20.940</td>\n",
       "      <td>0.673</td>\n",
       "      <td>-72</td>\n",
       "    </tr>\n",
       "    <tr>\n",
       "      <th>4</th>\n",
       "      <td>21</td>\n",
       "      <td>21.291</td>\n",
       "      <td>0.460</td>\n",
       "      <td>-73</td>\n",
       "    </tr>\n",
       "    <tr>\n",
       "      <th>...</th>\n",
       "      <td>...</td>\n",
       "      <td>...</td>\n",
       "      <td>...</td>\n",
       "      <td>...</td>\n",
       "    </tr>\n",
       "    <tr>\n",
       "      <th>294</th>\n",
       "      <td>21</td>\n",
       "      <td>21.087</td>\n",
       "      <td>0.444</td>\n",
       "      <td>-78</td>\n",
       "    </tr>\n",
       "    <tr>\n",
       "      <th>295</th>\n",
       "      <td>21</td>\n",
       "      <td>21.028</td>\n",
       "      <td>0.576</td>\n",
       "      <td>-77</td>\n",
       "    </tr>\n",
       "    <tr>\n",
       "      <th>296</th>\n",
       "      <td>21</td>\n",
       "      <td>22.053</td>\n",
       "      <td>0.061</td>\n",
       "      <td>-79</td>\n",
       "    </tr>\n",
       "    <tr>\n",
       "      <th>297</th>\n",
       "      <td>21</td>\n",
       "      <td>20.969</td>\n",
       "      <td>0.576</td>\n",
       "      <td>-79</td>\n",
       "    </tr>\n",
       "    <tr>\n",
       "      <th>298</th>\n",
       "      <td>21</td>\n",
       "      <td>21.839</td>\n",
       "      <td>0.852</td>\n",
       "      <td>-75</td>\n",
       "    </tr>\n",
       "  </tbody>\n",
       "</table>\n",
       "<p>299 rows × 4 columns</p>\n",
       "</div>"
      ],
      "text/plain": [
       "     True_Range  Est_Range  stdev  RSSI\n",
       "0            21     21.057  0.444   -76\n",
       "1            21     21.233  0.551   -74\n",
       "2            21     21.291  0.875   -74\n",
       "3            21     20.940  0.673   -72\n",
       "4            21     21.291  0.460   -73\n",
       "..          ...        ...    ...   ...\n",
       "294          21     21.087  0.444   -78\n",
       "295          21     21.028  0.576   -77\n",
       "296          21     22.053  0.061   -79\n",
       "297          21     20.969  0.576   -79\n",
       "298          21     21.839  0.852   -75\n",
       "\n",
       "[299 rows x 4 columns]"
      ]
     },
     "execution_count": 13,
     "metadata": {},
     "output_type": "execute_result"
    }
   ],
   "source": [
    "import os\n",
    "actual_dist= 21#varies with 1m to 25 m\n",
    "\n",
    "# Set the path to the folder containing the dataset\n",
    "# data_folder = 'C:\\Users\\LILA\\Desktop\\RTT-RSS with Kalman_offset\\raw_dataset'\n",
    "data_folder = r'C:\\Users\\LILA\\Desktop\\RTT-RSS with Kalman_offset\\raw_dataset'\n",
    "#data_folder = 'C:/Users/LILA/RTT-RSS with Kalman/raw_dataset'\n",
    "# Loop through each CSV file in the folder and read it into a DataFrame\n",
    "for file_name in os.listdir(data_folder):\n",
    "     if file_name == (str(actual_dist)+'m.csv'): #if it found filname after defining file path break\n",
    "        file_path = os.path.join(data_folder, file_name)\n",
    "        df = pd.read_csv(file_path)\n",
    "        break\n",
    "df.drop(['#<Time(ms)>','<Ch-MHz>','<Burst#>','<AP-SSID>','<RTT AP?>','<Successes#>'],axis=1,inplace=True)\n",
    "df.rename(columns={'<True Range(m)>': 'True_Range', '<Est. Range(m)>': 'Est_Range','<RSSI(dBm)>': 'RSSI','<Std dev(m)>': 'stdev','<Successes#>': 'successes'}, inplace=True)\n",
    "Est=df.Est_Range\n",
    "R_RTT=Est.var()\n",
    "data1_RTT=Est.to_list()\n",
    "df\n"
   ]
  },
  {
   "cell_type": "code",
   "execution_count": 1189,
   "id": "62782a1b",
   "metadata": {},
   "outputs": [
    {
     "data": {
      "text/html": [
       "<div>\n",
       "<style scoped>\n",
       "    .dataframe tbody tr th:only-of-type {\n",
       "        vertical-align: middle;\n",
       "    }\n",
       "\n",
       "    .dataframe tbody tr th {\n",
       "        vertical-align: top;\n",
       "    }\n",
       "\n",
       "    .dataframe thead th {\n",
       "        text-align: right;\n",
       "    }\n",
       "</style>\n",
       "<table border=\"1\" class=\"dataframe\">\n",
       "  <thead>\n",
       "    <tr style=\"text-align: right;\">\n",
       "      <th></th>\n",
       "      <th>True_Range</th>\n",
       "      <th>Est_Range</th>\n",
       "      <th>stdev</th>\n",
       "      <th>RSSI</th>\n",
       "    </tr>\n",
       "  </thead>\n",
       "  <tbody>\n",
       "    <tr>\n",
       "      <th>0</th>\n",
       "      <td>21</td>\n",
       "      <td>21.057</td>\n",
       "      <td>0.444</td>\n",
       "      <td>-76</td>\n",
       "    </tr>\n",
       "    <tr>\n",
       "      <th>1</th>\n",
       "      <td>21</td>\n",
       "      <td>21.233</td>\n",
       "      <td>0.551</td>\n",
       "      <td>-74</td>\n",
       "    </tr>\n",
       "    <tr>\n",
       "      <th>2</th>\n",
       "      <td>21</td>\n",
       "      <td>21.291</td>\n",
       "      <td>0.875</td>\n",
       "      <td>-74</td>\n",
       "    </tr>\n",
       "    <tr>\n",
       "      <th>3</th>\n",
       "      <td>21</td>\n",
       "      <td>20.940</td>\n",
       "      <td>0.673</td>\n",
       "      <td>-72</td>\n",
       "    </tr>\n",
       "    <tr>\n",
       "      <th>4</th>\n",
       "      <td>21</td>\n",
       "      <td>21.291</td>\n",
       "      <td>0.460</td>\n",
       "      <td>-73</td>\n",
       "    </tr>\n",
       "    <tr>\n",
       "      <th>...</th>\n",
       "      <td>...</td>\n",
       "      <td>...</td>\n",
       "      <td>...</td>\n",
       "      <td>...</td>\n",
       "    </tr>\n",
       "    <tr>\n",
       "      <th>292</th>\n",
       "      <td>21</td>\n",
       "      <td>21.087</td>\n",
       "      <td>0.444</td>\n",
       "      <td>-78</td>\n",
       "    </tr>\n",
       "    <tr>\n",
       "      <th>293</th>\n",
       "      <td>21</td>\n",
       "      <td>21.028</td>\n",
       "      <td>0.576</td>\n",
       "      <td>-77</td>\n",
       "    </tr>\n",
       "    <tr>\n",
       "      <th>294</th>\n",
       "      <td>21</td>\n",
       "      <td>22.053</td>\n",
       "      <td>0.061</td>\n",
       "      <td>-79</td>\n",
       "    </tr>\n",
       "    <tr>\n",
       "      <th>295</th>\n",
       "      <td>21</td>\n",
       "      <td>20.969</td>\n",
       "      <td>0.576</td>\n",
       "      <td>-79</td>\n",
       "    </tr>\n",
       "    <tr>\n",
       "      <th>296</th>\n",
       "      <td>21</td>\n",
       "      <td>21.839</td>\n",
       "      <td>0.852</td>\n",
       "      <td>-75</td>\n",
       "    </tr>\n",
       "  </tbody>\n",
       "</table>\n",
       "<p>296 rows × 4 columns</p>\n",
       "</div>"
      ],
      "text/plain": [
       "     True_Range  Est_Range  stdev  RSSI\n",
       "0            21     21.057  0.444   -76\n",
       "1            21     21.233  0.551   -74\n",
       "2            21     21.291  0.875   -74\n",
       "3            21     20.940  0.673   -72\n",
       "4            21     21.291  0.460   -73\n",
       "..          ...        ...    ...   ...\n",
       "292          21     21.087  0.444   -78\n",
       "293          21     21.028  0.576   -77\n",
       "294          21     22.053  0.061   -79\n",
       "295          21     20.969  0.576   -79\n",
       "296          21     21.839  0.852   -75\n",
       "\n",
       "[296 rows x 4 columns]"
      ]
     },
     "execution_count": 1189,
     "metadata": {},
     "output_type": "execute_result"
    }
   ],
   "source": [
    "import numpy as np\n",
    "import pandas as pd\n",
    "\n",
    "def remove_outliers(df, col_name, threshold=3):\n",
    "    \"\"\"\n",
    "    Remove outliers from a Pandas DataFrame using the Z-score method.\n",
    "    \n",
    "    Parameters:\n",
    "        df (pandas.DataFrame): The DataFrame to remove outliers from.\n",
    "        col_name (str): The column name to remove outliers from.\n",
    "        threshold (float): The Z-score threshold for outlier detection. Default is 3.\n",
    "        \n",
    "    Returns:\n",
    "        A new DataFrame with outliers removed.\n",
    "    \"\"\"\n",
    "    # Calculate the Z-score for each value in the column\n",
    "    z_scores = np.abs((df[col_name] - df[col_name].mean()) / df[col_name].std())\n",
    "    \n",
    "    # Create a boolean mask where values with a Z-score greater than the threshold are set to False\n",
    "    mask = z_scores <= threshold\n",
    "    \n",
    "    # Return a new DataFrame with the outliers removed\n",
    "    return df[mask]\n",
    "\n",
    "# Load the original DataFrame with column name 'Est_Range'\n",
    "col_name = 'Est_Range'\n",
    "\n",
    "# Remove outliers from the 'Est_Range' column\n",
    "df = remove_outliers(df, col_name, threshold=3)\n",
    "df\n",
    "# # Save the new DataFrame to a CSV file\n",
    "#df.to_csv('new_data_file.csv', index=False)\n"
   ]
  },
  {
   "attachments": {},
   "cell_type": "markdown",
   "id": "4026fba0",
   "metadata": {},
   "source": [
    "**3. Callibrating offset value of RTT Distance**\n"
   ]
  },
  {
   "cell_type": "code",
   "execution_count": 1190,
   "id": "827627ec",
   "metadata": {},
   "outputs": [],
   "source": [
    "# RTT_offset= np.average(df.Est_Range-actual_dist)\n",
    "# print(\"Range Offset for \"+str(actual_dist)+\"m is:\",RTT_offset)"
   ]
  },
  {
   "cell_type": "code",
   "execution_count": 1191,
   "id": "d19dd04a",
   "metadata": {},
   "outputs": [
    {
     "name": "stdout",
     "output_type": "stream",
     "text": [
      "Range Offset for 21m is: 0.5003851351351352\n"
     ]
    }
   ],
   "source": [
    "RTT_offset= np.average(df.stdev)\n",
    "print(\"Range Offset for \"+str(actual_dist)+\"m is:\",RTT_offset)"
   ]
  },
  {
   "attachments": {},
   "cell_type": "markdown",
   "id": "a7d1f137",
   "metadata": {},
   "source": [
    "**4. Updated dataset with offset values**"
   ]
  },
  {
   "cell_type": "code",
   "execution_count": 1192,
   "id": "b2c85ce9",
   "metadata": {},
   "outputs": [
    {
     "data": {
      "text/html": [
       "<div>\n",
       "<style scoped>\n",
       "    .dataframe tbody tr th:only-of-type {\n",
       "        vertical-align: middle;\n",
       "    }\n",
       "\n",
       "    .dataframe tbody tr th {\n",
       "        vertical-align: top;\n",
       "    }\n",
       "\n",
       "    .dataframe thead th {\n",
       "        text-align: right;\n",
       "    }\n",
       "</style>\n",
       "<table border=\"1\" class=\"dataframe\">\n",
       "  <thead>\n",
       "    <tr style=\"text-align: right;\">\n",
       "      <th></th>\n",
       "      <th>True_Range</th>\n",
       "      <th>Est_Range</th>\n",
       "      <th>stdev</th>\n",
       "      <th>RSSI</th>\n",
       "      <th>Final_range</th>\n",
       "      <th>Raw_error</th>\n",
       "      <th>Callibrated_data_error</th>\n",
       "    </tr>\n",
       "  </thead>\n",
       "  <tbody>\n",
       "    <tr>\n",
       "      <th>0</th>\n",
       "      <td>21</td>\n",
       "      <td>21.057</td>\n",
       "      <td>0.444</td>\n",
       "      <td>-76</td>\n",
       "      <td>20.556615</td>\n",
       "      <td>-0.057</td>\n",
       "      <td>0.443385</td>\n",
       "    </tr>\n",
       "    <tr>\n",
       "      <th>1</th>\n",
       "      <td>21</td>\n",
       "      <td>21.233</td>\n",
       "      <td>0.551</td>\n",
       "      <td>-74</td>\n",
       "      <td>20.732615</td>\n",
       "      <td>-0.233</td>\n",
       "      <td>0.267385</td>\n",
       "    </tr>\n",
       "    <tr>\n",
       "      <th>2</th>\n",
       "      <td>21</td>\n",
       "      <td>21.291</td>\n",
       "      <td>0.875</td>\n",
       "      <td>-74</td>\n",
       "      <td>20.790615</td>\n",
       "      <td>-0.291</td>\n",
       "      <td>0.209385</td>\n",
       "    </tr>\n",
       "    <tr>\n",
       "      <th>3</th>\n",
       "      <td>21</td>\n",
       "      <td>20.940</td>\n",
       "      <td>0.673</td>\n",
       "      <td>-72</td>\n",
       "      <td>20.439615</td>\n",
       "      <td>0.060</td>\n",
       "      <td>0.560385</td>\n",
       "    </tr>\n",
       "    <tr>\n",
       "      <th>4</th>\n",
       "      <td>21</td>\n",
       "      <td>21.291</td>\n",
       "      <td>0.460</td>\n",
       "      <td>-73</td>\n",
       "      <td>20.790615</td>\n",
       "      <td>-0.291</td>\n",
       "      <td>0.209385</td>\n",
       "    </tr>\n",
       "    <tr>\n",
       "      <th>...</th>\n",
       "      <td>...</td>\n",
       "      <td>...</td>\n",
       "      <td>...</td>\n",
       "      <td>...</td>\n",
       "      <td>...</td>\n",
       "      <td>...</td>\n",
       "      <td>...</td>\n",
       "    </tr>\n",
       "    <tr>\n",
       "      <th>292</th>\n",
       "      <td>21</td>\n",
       "      <td>21.087</td>\n",
       "      <td>0.444</td>\n",
       "      <td>-78</td>\n",
       "      <td>20.586615</td>\n",
       "      <td>-0.087</td>\n",
       "      <td>0.413385</td>\n",
       "    </tr>\n",
       "    <tr>\n",
       "      <th>293</th>\n",
       "      <td>21</td>\n",
       "      <td>21.028</td>\n",
       "      <td>0.576</td>\n",
       "      <td>-77</td>\n",
       "      <td>20.527615</td>\n",
       "      <td>-0.028</td>\n",
       "      <td>0.472385</td>\n",
       "    </tr>\n",
       "    <tr>\n",
       "      <th>294</th>\n",
       "      <td>21</td>\n",
       "      <td>22.053</td>\n",
       "      <td>0.061</td>\n",
       "      <td>-79</td>\n",
       "      <td>21.552615</td>\n",
       "      <td>-1.053</td>\n",
       "      <td>-0.552615</td>\n",
       "    </tr>\n",
       "    <tr>\n",
       "      <th>295</th>\n",
       "      <td>21</td>\n",
       "      <td>20.969</td>\n",
       "      <td>0.576</td>\n",
       "      <td>-79</td>\n",
       "      <td>20.468615</td>\n",
       "      <td>0.031</td>\n",
       "      <td>0.531385</td>\n",
       "    </tr>\n",
       "    <tr>\n",
       "      <th>296</th>\n",
       "      <td>21</td>\n",
       "      <td>21.839</td>\n",
       "      <td>0.852</td>\n",
       "      <td>-75</td>\n",
       "      <td>21.338615</td>\n",
       "      <td>-0.839</td>\n",
       "      <td>-0.338615</td>\n",
       "    </tr>\n",
       "  </tbody>\n",
       "</table>\n",
       "<p>296 rows × 7 columns</p>\n",
       "</div>"
      ],
      "text/plain": [
       "     True_Range  Est_Range  stdev  RSSI  Final_range  Raw_error  \\\n",
       "0            21     21.057  0.444   -76    20.556615     -0.057   \n",
       "1            21     21.233  0.551   -74    20.732615     -0.233   \n",
       "2            21     21.291  0.875   -74    20.790615     -0.291   \n",
       "3            21     20.940  0.673   -72    20.439615      0.060   \n",
       "4            21     21.291  0.460   -73    20.790615     -0.291   \n",
       "..          ...        ...    ...   ...          ...        ...   \n",
       "292          21     21.087  0.444   -78    20.586615     -0.087   \n",
       "293          21     21.028  0.576   -77    20.527615     -0.028   \n",
       "294          21     22.053  0.061   -79    21.552615     -1.053   \n",
       "295          21     20.969  0.576   -79    20.468615      0.031   \n",
       "296          21     21.839  0.852   -75    21.338615     -0.839   \n",
       "\n",
       "     Callibrated_data_error  \n",
       "0                  0.443385  \n",
       "1                  0.267385  \n",
       "2                  0.209385  \n",
       "3                  0.560385  \n",
       "4                  0.209385  \n",
       "..                      ...  \n",
       "292                0.413385  \n",
       "293                0.472385  \n",
       "294               -0.552615  \n",
       "295                0.531385  \n",
       "296               -0.338615  \n",
       "\n",
       "[296 rows x 7 columns]"
      ]
     },
     "execution_count": 1192,
     "metadata": {},
     "output_type": "execute_result"
    }
   ],
   "source": [
    "# df['Final_range']=df['Est_Range']-RTT_offset\n",
    "pd.options.mode.chained_assignment = None #to avoid warning\n",
    "df.loc[:, 'Final_range'] = df['Est_Range'] - RTT_offset #To avoid this warning, we can use .loc or .iloc to explicitly modify the original DataFrame\n",
    "df['Raw_error']=df['True_Range']-df['Est_Range']\n",
    "df['Callibrated_data_error']=df['True_Range']-df['Final_range']\n",
    "df"
   ]
  },
  {
   "cell_type": "code",
   "execution_count": 1193,
   "id": "dc120d04",
   "metadata": {},
   "outputs": [
    {
     "name": "stdout",
     "output_type": "stream",
     "text": [
      "File saved to Offset_21m.csv!\n"
     ]
    }
   ],
   "source": [
    "# # Specify the file name and path where you want to save the file\n",
    "file_path = 'Offset_'+str(actual_dist)+'m.csv'\n",
    "\n",
    "\n",
    "# Save the DataFrame to a CSV file using the to_csv() method\n",
    "df.to_csv(file_path, index=False)\n",
    "\n",
    "print(f'File saved to {file_path}!')"
   ]
  },
  {
   "cell_type": "code",
   "execution_count": 1194,
   "id": "16b7f959",
   "metadata": {},
   "outputs": [],
   "source": [
    "raw_error= df.Raw_error\n",
    "callibrated_error=df.Callibrated_data_error"
   ]
  },
  {
   "cell_type": "code",
   "execution_count": 1195,
   "id": "c0d75020",
   "metadata": {},
   "outputs": [
    {
     "data": {
      "image/png": "[encoded data removed]",
      "text/plain": [
       "<Figure size 960x640 with 1 Axes>"
      ]
     },
     "metadata": {},
     "output_type": "display_data"
    }
   ],
   "source": [
    "from scipy.stats import norm\n",
    "from matplotlib.pyplot import figure\n",
    "\n",
    "\n",
    "figure(figsize=(12,8), dpi=80)\n",
    "plt.hist(raw_error, bins=10, alpha=0.5, density=True, color='blue', label='Raw Data')\n",
    "plt.hist(callibrated_error, bins=10, alpha=0.5, density=True, color='red', label='Callibrated Data')\n",
    "plt.legend(loc='upper right')\n",
    "plt.xlabel('Rangine Error')\n",
    "plt.ylabel('Frequency')\n",
    "\n",
    "\n",
    "xmin, xmax = plt.xlim() \n",
    "x = np.linspace(xmin, xmax, 100) #for gaussian plot\n",
    "plt.plot(x, norm.pdf(x, np.mean(raw_error), np.std(raw_error)), 'b-', label='Raw Data Normal Fit')\n",
    "plt.plot(x, norm.pdf(x, np.mean(callibrated_error), np.std(callibrated_error)), 'r-', label='Callibrated Data Normal Fit')\n",
    "plt.legend(loc='upper right')\n",
    "\n",
    "plt.axvline(np.mean(raw_error), color='blue', linestyle='--', label='Raw Data Mean')\n",
    "plt.axvline(np.mean(callibrated_error), color='red', linestyle='--', label='Callibrated Data Mean')\n",
    "\n",
    "\n",
    "plt.legend()\n",
    "plt.grid()\n",
    "plt.show()\n"
   ]
  },
  {
   "cell_type": "code",
   "execution_count": 1196,
   "id": "9b7791fa",
   "metadata": {},
   "outputs": [
    {
     "data": {
      "text/plain": [
       "0.09209393164223532"
      ]
     },
     "execution_count": 1196,
     "metadata": {},
     "output_type": "execute_result"
    }
   ],
   "source": [
    "Est=df.Final_range\n",
    "R_RTT=Est.var()\n",
    "data1_RTT=Est.to_list()\n",
    "R_RTT"
   ]
  },
  {
   "cell_type": "code",
   "execution_count": 1197,
   "id": "963f609d",
   "metadata": {},
   "outputs": [
    {
     "data": {
      "text/plain": [
       "(296,)"
      ]
     },
     "execution_count": 1197,
     "metadata": {},
     "output_type": "execute_result"
    }
   ],
   "source": [
    "test = KalmanFilter(0.01,R_RTT)\n",
    "testData =data1_RTT\n",
    "data=[] # for storing all data\n",
    "for x in testData:\n",
    "    #data2= test.filter(x)\n",
    "    #print (\"Filtered Data:\",data2)\n",
    "    data.append(test.filter(x)) \n",
    "output=list(map(float,data))    #making it in the list\n",
    "output_RTT=np.array(output)\n",
    "#print(output)\n",
    "#print(data)\n",
    "output_RTT.shape"
   ]
  },
  {
   "cell_type": "code",
   "execution_count": 1198,
   "id": "e3689a2e",
   "metadata": {},
   "outputs": [],
   "source": [
    "RSSI=df.RSSI\n",
    "R_RSSI=RSSI.var()\n",
    "data1_RSS=RSSI.to_list()\n",
    "#data2=np.array(data1) #converting list to array\n",
    "#data2"
   ]
  },
  {
   "cell_type": "code",
   "execution_count": 1199,
   "id": "be7cbed6",
   "metadata": {},
   "outputs": [
    {
     "data": {
      "text/plain": [
       "(296,)"
      ]
     },
     "execution_count": 1199,
     "metadata": {},
     "output_type": "execute_result"
    }
   ],
   "source": [
    "test = KalmanFilter(0.01,R_RSSI)\n",
    "testData =data1_RSS\n",
    "data=[] # for storing all data\n",
    "for x in testData:\n",
    "    data2= test.filter(x)\n",
    "    #print (\"Filtered Data:\",data2)\n",
    "    data.append(test.filter(x)) \n",
    "output=list(map(float,data))    #making it in the list\n",
    "output_RSS=np.array(output)\n",
    "#print(output_RSS)\n",
    "output_RSS.shape"
   ]
  },
  {
   "cell_type": "code",
   "execution_count": 1200,
   "id": "dee533b7",
   "metadata": {},
   "outputs": [
    {
     "name": "stdout",
     "output_type": "stream",
     "text": [
      "File saved to Kalman_21m.csv!\n"
     ]
    }
   ],
   "source": [
    "# Define the column names for the DataFrame\n",
    "columns = ['RTT', 'RSS']\n",
    "\n",
    "# Create the DataFrame from the two separate lists\n",
    "df_final = pd.DataFrame({'RTT': output_RTT, 'RSS': output_RSS})\n",
    "\n",
    "# Specify the file name and path where you want to save the file\n",
    "file_path = 'Kalman_'+str(actual_dist)+'m.csv'\n",
    "\n",
    "\n",
    "\n",
    "#df_final = df_final.assign(TRUE=actual_dist)\n",
    "df_final['TRUE']=actual_dist #for making standard format\n",
    "\n",
    "# Save the DataFrame to a CSV file using the to_csv() method\n",
    "df_final.to_csv(file_path, index=False)\n",
    "\n",
    "print(f'File saved to {file_path}!')\n"
   ]
  },
  {
   "cell_type": "code",
   "execution_count": 1201,
   "id": "4fb2a496",
   "metadata": {},
   "outputs": [
    {
     "data": {
      "text/html": [
       "<div>\n",
       "<style scoped>\n",
       "    .dataframe tbody tr th:only-of-type {\n",
       "        vertical-align: middle;\n",
       "    }\n",
       "\n",
       "    .dataframe tbody tr th {\n",
       "        vertical-align: top;\n",
       "    }\n",
       "\n",
       "    .dataframe thead th {\n",
       "        text-align: right;\n",
       "    }\n",
       "</style>\n",
       "<table border=\"1\" class=\"dataframe\">\n",
       "  <thead>\n",
       "    <tr style=\"text-align: right;\">\n",
       "      <th></th>\n",
       "      <th>RTT</th>\n",
       "      <th>RSS</th>\n",
       "      <th>TRUE</th>\n",
       "    </tr>\n",
       "  </thead>\n",
       "  <tbody>\n",
       "    <tr>\n",
       "      <th>0</th>\n",
       "      <td>20.556615</td>\n",
       "      <td>-76.000000</td>\n",
       "      <td>21</td>\n",
       "    </tr>\n",
       "    <tr>\n",
       "      <th>1</th>\n",
       "      <td>20.649147</td>\n",
       "      <td>-74.994334</td>\n",
       "      <td>21</td>\n",
       "    </tr>\n",
       "    <tr>\n",
       "      <th>2</th>\n",
       "      <td>20.704055</td>\n",
       "      <td>-74.656660</td>\n",
       "      <td>21</td>\n",
       "    </tr>\n",
       "    <tr>\n",
       "      <th>3</th>\n",
       "      <td>20.616295</td>\n",
       "      <td>-73.966446</td>\n",
       "      <td>21</td>\n",
       "    </tr>\n",
       "    <tr>\n",
       "      <th>4</th>\n",
       "      <td>20.669598</td>\n",
       "      <td>-73.760262</td>\n",
       "      <td>21</td>\n",
       "    </tr>\n",
       "    <tr>\n",
       "      <th>...</th>\n",
       "      <td>...</td>\n",
       "      <td>...</td>\n",
       "      <td>...</td>\n",
       "    </tr>\n",
       "    <tr>\n",
       "      <th>291</th>\n",
       "      <td>20.712997</td>\n",
       "      <td>-77.532595</td>\n",
       "      <td>21</td>\n",
       "    </tr>\n",
       "    <tr>\n",
       "      <th>292</th>\n",
       "      <td>20.661151</td>\n",
       "      <td>-77.478691</td>\n",
       "      <td>21</td>\n",
       "    </tr>\n",
       "    <tr>\n",
       "      <th>293</th>\n",
       "      <td>20.910469</td>\n",
       "      <td>-77.632663</td>\n",
       "      <td>21</td>\n",
       "    </tr>\n",
       "    <tr>\n",
       "      <th>294</th>\n",
       "      <td>20.786894</td>\n",
       "      <td>-77.771052</td>\n",
       "      <td>21</td>\n",
       "    </tr>\n",
       "    <tr>\n",
       "      <th>295</th>\n",
       "      <td>20.941195</td>\n",
       "      <td>-77.490593</td>\n",
       "      <td>21</td>\n",
       "    </tr>\n",
       "  </tbody>\n",
       "</table>\n",
       "<p>296 rows × 3 columns</p>\n",
       "</div>"
      ],
      "text/plain": [
       "           RTT        RSS  TRUE\n",
       "0    20.556615 -76.000000    21\n",
       "1    20.649147 -74.994334    21\n",
       "2    20.704055 -74.656660    21\n",
       "3    20.616295 -73.966446    21\n",
       "4    20.669598 -73.760262    21\n",
       "..         ...        ...   ...\n",
       "291  20.712997 -77.532595    21\n",
       "292  20.661151 -77.478691    21\n",
       "293  20.910469 -77.632663    21\n",
       "294  20.786894 -77.771052    21\n",
       "295  20.941195 -77.490593    21\n",
       "\n",
       "[296 rows x 3 columns]"
      ]
     },
     "execution_count": 1201,
     "metadata": {},
     "output_type": "execute_result"
    }
   ],
   "source": [
    "df_final"
   ]
  },
  {
   "cell_type": "code",
   "execution_count": 1202,
   "id": "fc7c2292",
   "metadata": {},
   "outputs": [
    {
     "data": {
      "text/plain": [
       "[<matplotlib.lines.Line2D at 0x1f74e5ed520>]"
      ]
     },
     "execution_count": 1202,
     "metadata": {},
     "output_type": "execute_result"
    },
    {
     "data": {
      "image/png": "[encoded data removed]",
      "text/plain": [
       "<Figure size 640x480 with 1 Axes>"
      ]
     },
     "metadata": {},
     "output_type": "display_data"
    }
   ],
   "source": [
    "plt.plot(df_final['RTT'], color='b')\n",
    "plt.plot(df['Final_range'], color='r')"
   ]
  },
  {
   "cell_type": "code",
   "execution_count": 1203,
   "id": "052dd01b",
   "metadata": {},
   "outputs": [
    {
     "data": {
      "text/plain": [
       "[<matplotlib.lines.Line2D at 0x1f74e64c370>]"
      ]
     },
     "execution_count": 1203,
     "metadata": {},
     "output_type": "execute_result"
    },
    {
     "data": {
      "image/png": "[encoded data removed]",
      "text/plain": [
       "<Figure size 640x480 with 1 Axes>"
      ]
     },
     "metadata": {},
     "output_type": "display_data"
    }
   ],
   "source": [
    "plt.plot(df_final['RSS'], color='b')\n",
    "plt.plot(df['RSSI'], color='r')"
   ]
  },
  {
   "cell_type": "code",
   "execution_count": 1204,
   "id": "8a73c542",
   "metadata": {},
   "outputs": [
    {
     "name": "stdout",
     "output_type": "stream",
     "text": [
      "Mean Squared Error in meter: 0.070\n",
      "Root Mean Squared Error (RMSE) on new data in meter: 0.265\n"
     ]
    },
    {
     "ename": "",
     "evalue": "",
     "output_type": "error",
     "traceback": [
      "\u001b[1;31mThe Kernel crashed while executing code in the the current cell or a previous cell. Please review the code in the cell(s) to identify a possible cause of the failure. Click <a href='https://aka.ms/vscodeJupyterKernelCrash'>here</a> for more info. View Jupyter <a href='command:jupyter.viewOutput'>log</a> for further details."
     ]
    }
   ],
   "source": [
    "from sklearn.metrics import mean_squared_error\n",
    "from math import sqrt\n",
    "\n",
    "mse = mean_squared_error(df['True_Range'], df_final['RTT'])\n",
    "print(\"Mean Squared Error in meter: {:.3f}\" .format(mse))\n",
    "\n",
    "rmse=sqrt(mean_squared_error(df['True_Range'], df_final['RTT'])) \n",
    "print('Root Mean Squared Error (RMSE) on new data in meter: {:.3f}'.format(rmse))"
   ]
  },
  {
   "cell_type": "code",
   "execution_count": null,
   "id": "344174d8",
   "metadata": {},
   "outputs": [],
   "source": []
  },
  {
   "cell_type": "code",
   "execution_count": null,
   "id": "aea30c9e",
   "metadata": {},
   "outputs": [],
   "source": []
  },
  {
   "cell_type": "code",
   "execution_count": null,
   "id": "53d6f57f",
   "metadata": {},
   "outputs": [],
   "source": []
  },
  {
   "cell_type": "code",
   "execution_count": null,
   "id": "db87afa2",
   "metadata": {},
   "outputs": [],
   "source": []
  },
  {
   "cell_type": "code",
   "execution_count": null,
   "id": "1fb5e615",
   "metadata": {},
   "outputs": [],
   "source": []
  },
  {
   "cell_type": "code",
   "execution_count": null,
   "id": "8554c488",
   "metadata": {},
   "outputs": [],
   "source": []
  },
  {
   "cell_type": "code",
   "execution_count": null,
   "id": "940e13fa",
   "metadata": {},
   "outputs": [],
   "source": []
  },
  {
   "cell_type": "code",
   "execution_count": null,
   "id": "1bf02449",
   "metadata": {},
   "outputs": [],
   "source": []
  },
  {
   "cell_type": "code",
   "execution_count": null,
   "id": "b595c7e2",
   "metadata": {},
   "outputs": [],
   "source": []
  },
  {
   "cell_type": "code",
   "execution_count": null,
   "id": "d7e5a429",
   "metadata": {},
   "outputs": [],
   "source": []
  },
  {
   "cell_type": "code",
   "execution_count": null,
   "id": "91622b75",
   "metadata": {},
   "outputs": [],
   "source": []
  },
  {
   "cell_type": "code",
   "execution_count": null,
   "id": "c5722c71",
   "metadata": {},
   "outputs": [],
   "source": []
  },
  {
   "cell_type": "code",
   "execution_count": null,
   "id": "f38c7485",
   "metadata": {},
   "outputs": [],
   "source": []
  },
  {
   "cell_type": "code",
   "execution_count": null,
   "id": "b4c165f8",
   "metadata": {},
   "outputs": [],
   "source": []
  },
  {
   "cell_type": "code",
   "execution_count": null,
   "id": "3995f7ce",
   "metadata": {},
   "outputs": [],
   "source": []
  },
  {
   "cell_type": "code",
   "execution_count": null,
   "id": "79a82c17",
   "metadata": {},
   "outputs": [],
   "source": []
  },
  {
   "cell_type": "code",
   "execution_count": null,
   "id": "65d41002",
   "metadata": {},
   "outputs": [],
   "source": []
  }
 ],
 "metadata": {
  "kernelspec": {
   "display_name": "Python 3 (ipykernel)",
   "language": "python",
   "name": "python3"
  },
  "language_info": {
   "codemirror_mode": {
    "name": "ipython",
    "version": 3
   },
   "file_extension": ".py",
   "mimetype": "text/x-python",
   "name": "python",
   "nbconvert_exporter": "python",
   "pygments_lexer": "ipython3",
   "version": "3.9.13"
  }
 },
 "nbformat": 4,
 "nbformat_minor": 5
}
